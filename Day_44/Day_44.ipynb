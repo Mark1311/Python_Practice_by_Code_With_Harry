{
 "cells": [
  {
   "cell_type": "markdown",
   "id": "f450058f-c47c-4277-ae43-b493837d4448",
   "metadata": {},
   "source": [
    "# How importing in python works"
   ]
  },
  {
   "cell_type": "markdown",
   "id": "8a6e95e2-ea0e-4b3f-b032-94d28f708e43",
   "metadata": {},
   "source": [
    "Importing in Python is the process of loading code from a Python module into the current script. This allows you to use the functions and variables defined in the module in your current script, as well as any additional modules that the imported module may depend on.\n",
    "\n",
    "To import a module in Python, you use the import statement followed by the name of the module. For example, to import the math module, which contains a variety of mathematical functions, you would use the following statement:\n"
   ]
  },
  {
   "cell_type": "code",
   "execution_count": 1,
   "id": "bd52b042-3ed1-48f0-93c4-8a90dbb06952",
   "metadata": {},
   "outputs": [],
   "source": [
    "import math"
   ]
  },
  {
   "cell_type": "code",
   "execution_count": 2,
   "id": "4de8290c-2556-4051-89d2-eaea832bdc6f",
   "metadata": {},
   "outputs": [
    {
     "name": "stdout",
     "output_type": "stream",
     "text": [
      "3.0\n"
     ]
    }
   ],
   "source": [
    "result = math.sqrt(9)\n",
    "print(result)  # Output: 3.0"
   ]
  },
  {
   "cell_type": "markdown",
   "id": "33778707-8d97-4eed-8481-b38a65eaaac7",
   "metadata": {},
   "source": [
    "# import from keyword\n"
   ]
  },
  {
   "cell_type": "code",
   "execution_count": 3,
   "id": "9bc4bce3-6721-4624-8728-c932d6d9b217",
   "metadata": {},
   "outputs": [
    {
     "name": "stdout",
     "output_type": "stream",
     "text": [
      "3.0\n"
     ]
    }
   ],
   "source": [
    "from math import sqrt\n",
    "\n",
    "result = sqrt(9)\n",
    "print(result)  # Output: 3.0"
   ]
  },
  {
   "cell_type": "code",
   "execution_count": 5,
   "id": "1546f2ab-c886-4035-bb33-22bc4db89e8e",
   "metadata": {},
   "outputs": [
    {
     "name": "stdout",
     "output_type": "stream",
     "text": [
      "3.0\n",
      "3.141592653589793\n"
     ]
    }
   ],
   "source": [
    "from math import sqrt, pi\n",
    "\n",
    "result = sqrt(9)\n",
    "print(result)  # Output: 3.0\n",
    "print(pi)  # Output: 3.141592653589793"
   ]
  },
  {
   "cell_type": "markdown",
   "id": "f3b6c1ef-d03f-47e5-9e8a-82c7224861f3",
   "metadata": {},
   "source": [
    "# importing everything"
   ]
  },
  {
   "cell_type": "code",
   "execution_count": 9,
   "id": "cce6a8b6-331d-443f-8e09-0c283a34878a",
   "metadata": {},
   "outputs": [
    {
     "name": "stdout",
     "output_type": "stream",
     "text": [
      "3.0\n",
      "3.141592653589793\n"
     ]
    }
   ],
   "source": [
    "from math import *\n",
    "\n",
    "result = sqrt(9)\n",
    "print(result)  # Output: 3.0\n",
    "\n",
    "print(pi)  # Output: 3.141592653589793"
   ]
  },
  {
   "cell_type": "code",
   "execution_count": 7,
   "id": "5d853339-421d-4003-acbe-e47cd379a46a",
   "metadata": {},
   "outputs": [
    {
     "name": "stdout",
     "output_type": "stream",
     "text": [
      "3.0\n",
      "3.141592653589793\n"
     ]
    }
   ],
   "source": [
    "import math as m\n",
    "\n",
    "result = m.sqrt(9)\n",
    "print(result)  # Output: 3.0\n",
    "print(m.pi)  # Output: 3.141592653589793"
   ]
  },
  {
   "cell_type": "markdown",
   "id": "c05e4cbb-2319-4763-94f8-0a1a8ac5bfa6",
   "metadata": {},
   "source": [
    "# The dir function"
   ]
  },
  {
   "cell_type": "code",
   "execution_count": 8,
   "id": "fd54b381-1264-49bf-bb9c-bf21f29f8ba1",
   "metadata": {},
   "outputs": [
    {
     "name": "stdout",
     "output_type": "stream",
     "text": [
      "['__doc__', '__loader__', '__name__', '__package__', '__spec__', 'acos', 'acosh', 'asin', 'asinh', 'atan', 'atan2', 'atanh', 'cbrt', 'ceil', 'comb', 'copysign', 'cos', 'cosh', 'degrees', 'dist', 'e', 'erf', 'erfc', 'exp', 'exp2', 'expm1', 'fabs', 'factorial', 'floor', 'fmod', 'frexp', 'fsum', 'gamma', 'gcd', 'hypot', 'inf', 'isclose', 'isfinite', 'isinf', 'isnan', 'isqrt', 'lcm', 'ldexp', 'lgamma', 'log', 'log10', 'log1p', 'log2', 'modf', 'nan', 'nextafter', 'perm', 'pi', 'pow', 'prod', 'radians', 'remainder', 'sin', 'sinh', 'sqrt', 'tan', 'tanh', 'tau', 'trunc', 'ulp']\n"
     ]
    }
   ],
   "source": [
    "import math\n",
    "\n",
    "print(dir(math))"
   ]
  },
  {
   "cell_type": "markdown",
   "id": "23988edf-fe4a-4884-b3e2-d2afdb2e6b0b",
   "metadata": {},
   "source": [
    "# Code"
   ]
  },
  {
   "cell_type": "code",
   "execution_count": 12,
   "id": "61dc68f2-75cd-4b7d-9e8f-8d533182d852",
   "metadata": {},
   "outputs": [
    {
     "name": "stdout",
     "output_type": "stream",
     "text": [
      "9.42477796076938\n"
     ]
    }
   ],
   "source": [
    "import math as math_builtin_python\n",
    "\n",
    "result = math_builtin_python.sqrt(9) * math_builtin_python.pi\n",
    "print(result)  # Output: 3.0"
   ]
  },
  {
   "cell_type": "code",
   "execution_count": 13,
   "id": "f55b62c8-111a-4b84-b822-5ecb257e410e",
   "metadata": {},
   "outputs": [
    {
     "name": "stdout",
     "output_type": "stream",
     "text": [
      "nan <class 'float'>\n"
     ]
    }
   ],
   "source": [
    "print(math.nan, type(math.nan))"
   ]
  }
 ],
 "metadata": {
  "kernelspec": {
   "display_name": "Python 3 (ipykernel)",
   "language": "python",
   "name": "python3"
  },
  "language_info": {
   "codemirror_mode": {
    "name": "ipython",
    "version": 3
   },
   "file_extension": ".py",
   "mimetype": "text/x-python",
   "name": "python",
   "nbconvert_exporter": "python",
   "pygments_lexer": "ipython3",
   "version": "3.11.4"
  }
 },
 "nbformat": 4,
 "nbformat_minor": 5
}
