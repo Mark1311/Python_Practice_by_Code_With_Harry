{
 "cells": [
  {
   "cell_type": "markdown",
   "id": "19539606-f19b-4a77-9a0f-7c4b9b0b3e1e",
   "metadata": {},
   "source": [
    "# Manipulating Tuples"
   ]
  },
  {
   "cell_type": "markdown",
   "id": "ab8e92f7-88dc-4d57-be22-caa96b218a94",
   "metadata": {},
   "source": [
    "Tuples are immutable, hence if you want to add, remove or change tuple items, then first you must convert the tuple to a list. Then perform operation on that list and convert it back to tuple."
   ]
  },
  {
   "cell_type": "code",
   "execution_count": 8,
   "id": "f5dc2803-5750-48e0-9a0f-41971ca7a556",
   "metadata": {},
   "outputs": [
    {
     "name": "stdout",
     "output_type": "stream",
     "text": [
      "['Spain', 'Italy', 'India', 'England', 'Germany', 'Russia']\n",
      "['Spain', 'Italy', 'India', 'Germany', 'Russia']\n",
      "['Spain', 'Italy', 'Finland', 'Germany', 'Russia']\n",
      "('Spain', 'Italy', 'Finland', 'Germany', 'Russia')\n"
     ]
    }
   ],
   "source": [
    "countries = (\"Spain\", \"Italy\", \"India\", \"England\", \"Germany\")\n",
    "temp = list(countries)\n",
    "temp.append(\"Russia\")       #add item\n",
    "print(temp)\n",
    "temp.pop(3)                 #remove item\n",
    "print(temp)\n",
    "temp[2] = \"Finland\"         #change item\n",
    "print(temp)\n",
    "countries = tuple(temp)\n",
    "print(countries)"
   ]
  },
  {
   "cell_type": "code",
   "execution_count": 7,
   "id": "ea82bd52-f25b-4362-98ea-e13e1e4818d9",
   "metadata": {},
   "outputs": [
    {
     "name": "stdout",
     "output_type": "stream",
     "text": [
      "('Pakistan', 'Afghanistan', 'Bangladesh', 'ShriLanka', 'Vietnam', 'India', 'China')\n"
     ]
    }
   ],
   "source": [
    "countries = (\"Pakistan\", \"Afghanistan\", \"Bangladesh\", \"ShriLanka\")\n",
    "countries2 = (\"Vietnam\", \"India\", \"China\")\n",
    "southEastAsia = countries + countries2\n",
    "print(southEastAsia)"
   ]
  },
  {
   "cell_type": "markdown",
   "id": "db01fe55-ca51-4e65-81ed-f92ef40ca548",
   "metadata": {},
   "source": [
    "# Tuple methods"
   ]
  },
  {
   "cell_type": "markdown",
   "id": "17c80e3d-b61c-43ad-a7e0-0e3c089d9062",
   "metadata": {},
   "source": [
    "As tuple is immutable type of collection of elements it have limited built in methods.They are explained below\n",
    "\n"
   ]
  },
  {
   "cell_type": "markdown",
   "id": "174a3324-9665-4dbc-8833-be39e2bf96ae",
   "metadata": {},
   "source": [
    "# count() Method"
   ]
  },
  {
   "cell_type": "markdown",
   "id": "3f061442-e4e8-4774-b6fb-2d28e600bc9e",
   "metadata": {},
   "source": [
    "## Syntax"
   ]
  },
  {
   "cell_type": "markdown",
   "id": "18afbcc4-ccdb-48ed-a5a3-0074295104d1",
   "metadata": {},
   "source": [
    " tuple.count(element)"
   ]
  },
  {
   "cell_type": "markdown",
   "id": "fa95fcd7-39f5-4d36-ad69-59ac0f3f3d8a",
   "metadata": {},
   "source": [
    "The count() method of Tuple returns the number of times the given element appears in the tuple."
   ]
  },
  {
   "cell_type": "code",
   "execution_count": 9,
   "id": "f34fb995-96fc-4f9c-82df-0d39196f7238",
   "metadata": {},
   "outputs": [
    {
     "name": "stdout",
     "output_type": "stream",
     "text": [
      "Count of 3 in Tuple1 is: 3\n"
     ]
    }
   ],
   "source": [
    "Tuple1 = (0, 1, 2, 3, 2, 3, 1, 3, 2)\n",
    "res = Tuple1.count(3)\n",
    "print('Count of 3 in Tuple1 is:', res)"
   ]
  },
  {
   "cell_type": "markdown",
   "id": "ff9d08b1-1d72-4117-9eb7-57a58aacc6d5",
   "metadata": {},
   "source": [
    "# index() method"
   ]
  },
  {
   "cell_type": "markdown",
   "id": "343e4c08-b99b-4b38-b936-c456ac6d8920",
   "metadata": {},
   "source": [
    "The Index() method returns the first occurrence of the given element from the tuple."
   ]
  },
  {
   "cell_type": "markdown",
   "id": "46ff2a67-9945-4d33-bd60-8dd65202742b",
   "metadata": {},
   "source": [
    "Syntax\n",
    "\n",
    "tuple.index(element, start, end)"
   ]
  },
  {
   "cell_type": "code",
   "execution_count": 10,
   "id": "538956ef-2c4f-4abc-bfbe-566141387a06",
   "metadata": {},
   "outputs": [
    {
     "name": "stdout",
     "output_type": "stream",
     "text": [
      "First occurrence of 3 is 3\n"
     ]
    }
   ],
   "source": [
    "Tuple = (0, 1, 2, 3, 2, 3, 1, 3, 2)\n",
    "res = Tuple.index(3)\n",
    "print('First occurrence of 3 is', res)"
   ]
  }
 ],
 "metadata": {
  "kernelspec": {
   "display_name": "Python 3 (ipykernel)",
   "language": "python",
   "name": "python3"
  },
  "language_info": {
   "codemirror_mode": {
    "name": "ipython",
    "version": 3
   },
   "file_extension": ".py",
   "mimetype": "text/x-python",
   "name": "python",
   "nbconvert_exporter": "python",
   "pygments_lexer": "ipython3",
   "version": "3.11.4"
  }
 },
 "nbformat": 4,
 "nbformat_minor": 5
}
