{
 "cells": [
  {
   "cell_type": "markdown",
   "id": "dd542d51-0868-421c-bda1-400a9663de17",
   "metadata": {},
   "source": [
    "# While Loop"
   ]
  },
  {
   "cell_type": "code",
   "execution_count": 1,
   "id": "c6842003-0520-4af7-b312-50832a4b04d3",
   "metadata": {},
   "outputs": [
    {
     "name": "stdout",
     "output_type": "stream",
     "text": [
      "5\n",
      "4\n",
      "3\n",
      "2\n",
      "1\n"
     ]
    }
   ],
   "source": [
    "count = 5\n",
    "while (count > 0):\n",
    "  print(count)\n",
    "  count = count - 1"
   ]
  },
  {
   "cell_type": "markdown",
   "id": "d85dd146-14b7-4ac9-92ec-795e94ff2bba",
   "metadata": {},
   "source": [
    "# else with While Loop"
   ]
  },
  {
   "cell_type": "code",
   "execution_count": null,
   "id": "d9e6f1f9-d6be-47f3-ad79-8206d43df046",
   "metadata": {},
   "outputs": [],
   "source": [
    "x = 5\n",
    "while (x > 0):\n",
    "    print(x)\n",
    "    x = x - 1\n",
    "else:\n",
    "    print('counter is 0')"
   ]
  },
  {
   "cell_type": "markdown",
   "id": "57824201-3b10-47a1-b12f-81bb011029f9",
   "metadata": {},
   "source": [
    "# Do-While loop in python"
   ]
  },
  {
   "cell_type": "markdown",
   "id": "a7f54397-9536-4052-91d9-a4840cd9076a",
   "metadata": {},
   "source": [
    "do..while is a loop in which a set of instructions will execute at least once (irrespective of the condition) and then the repetition of loop's body will depend on the condition passed at the end of the while loop. It is also known as an exit-controlled loop."
   ]
  },
  {
   "cell_type": "markdown",
   "id": "69d9afd0-3e5b-43fe-8f45-b05c21383671",
   "metadata": {},
   "source": [
    "### How to emulate do while loop in python?"
   ]
  },
  {
   "cell_type": "markdown",
   "id": "f2aee2cc-51b4-4d67-aacd-c42282653e5d",
   "metadata": {},
   "source": [
    "To create a do while loop in Python, you need to modify the while loop a bit in order to get similar behavior to a do while loop.\n",
    "\n",
    "The most common technique to emulate a do-while loop in Python is to use an infinite while loop with a break statement wrapped in an if statement that checks a given condition and breaks the iteration if that condition becomes true:"
   ]
  },
  {
   "cell_type": "markdown",
   "id": "c803ac15-3b7a-4080-9071-dfab4ccb8bdf",
   "metadata": {},
   "source": [
    "##### while True:\n",
    "  number = int(input(\"Enter a positive number: \"))\n",
    "  print(number)\n",
    "  if not number > 0:\n",
    "    break"
   ]
  },
  {
   "cell_type": "code",
   "execution_count": 3,
   "id": "fb1dc8ab-317d-4ae5-a9f9-71526ca965a9",
   "metadata": {},
   "outputs": [
    {
     "name": "stdin",
     "output_type": "stream",
     "text": [
      "Enter the number:  85\n"
     ]
    },
    {
     "name": "stdout",
     "output_type": "stream",
     "text": [
      "85\n",
      "Done with the loop\n"
     ]
    }
   ],
   "source": [
    "i = int(input(\"Enter the number: \"))\n",
    "print(i)\n",
    "while(i<=38):\n",
    "  i = int(input(\"Enter the number: \"))\n",
    "  print(i)\n",
    "\n",
    "print(\"Done with the loop\")\n"
   ]
  },
  {
   "cell_type": "markdown",
   "id": "a27d62b7-0311-4785-a22f-6121b43b4268",
   "metadata": {},
   "source": [
    "# Syntax"
   ]
  },
  {
   "cell_type": "code",
   "execution_count": 8,
   "id": "cb7b0b14-c42a-45fe-9ffc-8bd6f2913714",
   "metadata": {},
   "outputs": [],
   "source": [
    "# do {\n",
    "  # loop body;\n",
    "# }while(condition);"
   ]
  },
  {
   "cell_type": "code",
   "execution_count": 9,
   "id": "7e8c0f8d-48fd-4f06-b324-b8e847bc3ccb",
   "metadata": {},
   "outputs": [
    {
     "name": "stdout",
     "output_type": "stream",
     "text": [
      "5\n",
      "4\n",
      "3\n",
      "2\n",
      "1\n",
      "I am inside else\n"
     ]
    }
   ],
   "source": [
    "count = 5\n",
    "while (count > 0):\n",
    "  print(count)\n",
    "  count = count - 1\n",
    "else:\n",
    "  print(\"I am inside else\")"
   ]
  }
 ],
 "metadata": {
  "kernelspec": {
   "display_name": "Python 3 (ipykernel)",
   "language": "python",
   "name": "python3"
  },
  "language_info": {
   "codemirror_mode": {
    "name": "ipython",
    "version": 3
   },
   "file_extension": ".py",
   "mimetype": "text/x-python",
   "name": "python",
   "nbconvert_exporter": "python",
   "pygments_lexer": "ipython3",
   "version": "3.11.4"
  }
 },
 "nbformat": 4,
 "nbformat_minor": 5
}
