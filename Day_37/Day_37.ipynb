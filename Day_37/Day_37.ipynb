{
 "cells": [
  {
   "cell_type": "markdown",
   "id": "d65e45c2-f8f8-4e6c-99f7-444fb25095b7",
   "metadata": {},
   "source": [
    "# Finally Clause"
   ]
  },
  {
   "cell_type": "markdown",
   "id": "be872123-2c92-4959-b637-2a2df93483e7",
   "metadata": {},
   "source": [
    "The finally code block is also a part of exception handling. When we handle exception using the try and except block, we can include a finally block at the end. The finally block is always executed, so it is generally used for doing the concluding tasks like closing file resources or closing database connection or may be ending the program execution with a delightful message."
   ]
  },
  {
   "cell_type": "markdown",
   "id": "2f72bf05-8d16-4659-bfb8-61196d805032",
   "metadata": {},
   "source": [
    "# Syntax"
   ]
  },
  {
   "cell_type": "raw",
   "id": "141f0ab3-ff56-4b3c-b1fb-f144b2739cef",
   "metadata": {},
   "source": [
    "try:\n",
    "   #statements which could generate \n",
    "   #exception\n",
    "except:\n",
    "   #solution of generated exception\n",
    "finally:\n",
    "    #block of code which is going to \n",
    "    #execute in any situation"
   ]
  },
  {
   "cell_type": "code",
   "execution_count": 1,
   "id": "30d3e7d8-e984-49b1-8cce-b169b7f50ab6",
   "metadata": {},
   "outputs": [
    {
     "name": "stdin",
     "output_type": "stream",
     "text": [
      "Enter an integer:  85\n"
     ]
    },
    {
     "name": "stdout",
     "output_type": "stream",
     "text": [
      "Integer Accepted.\n",
      "This block is always executed.\n"
     ]
    }
   ],
   "source": [
    "try:\n",
    "    num = int(input(\"Enter an integer: \"))\n",
    "except ValueError:\n",
    "    print(\"Number entered is not an integer.\")\n",
    "else:\n",
    "    print(\"Integer Accepted.\")\n",
    "finally:\n",
    "    print(\"This block is always executed.\")"
   ]
  },
  {
   "cell_type": "markdown",
   "id": "8dce550a-f318-4ea9-995e-be4251abc504",
   "metadata": {},
   "source": [
    "# Code"
   ]
  },
  {
   "cell_type": "code",
   "execution_count": 4,
   "id": "263b78de-d017-4014-aa5d-4feb66575976",
   "metadata": {},
   "outputs": [
    {
     "name": "stdin",
     "output_type": "stream",
     "text": [
      "Enter the index:  85\n"
     ]
    },
    {
     "name": "stdout",
     "output_type": "stream",
     "text": [
      "Some error occurred\n",
      "I am always executed\n",
      "0\n"
     ]
    }
   ],
   "source": [
    "def func1():\n",
    "  try:\n",
    "    l = [1, 5, 6, 7]\n",
    "    i = int(input(\"Enter the index: \"))\n",
    "    print(l[i])\n",
    "    return 1\n",
    "  except:\n",
    "    print(\"Some error occurred\")\n",
    "    return 0\n",
    "\n",
    "  finally:\n",
    "    print(\"I am always executed\")\n",
    "  # print(\"I am always executed\")\n",
    "\n",
    "x = func1()\n",
    "print(x)"
   ]
  }
 ],
 "metadata": {
  "kernelspec": {
   "display_name": "Python 3 (ipykernel)",
   "language": "python",
   "name": "python3"
  },
  "language_info": {
   "codemirror_mode": {
    "name": "ipython",
    "version": 3
   },
   "file_extension": ".py",
   "mimetype": "text/x-python",
   "name": "python",
   "nbconvert_exporter": "python",
   "pygments_lexer": "ipython3",
   "version": "3.11.4"
  }
 },
 "nbformat": 4,
 "nbformat_minor": 5
}
