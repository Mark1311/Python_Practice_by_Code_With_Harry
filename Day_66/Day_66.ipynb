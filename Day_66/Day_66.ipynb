{
 "cells": [
  {
   "cell_type": "markdown",
   "id": "ece933de-e7dd-4cfe-9e57-41d7b656f8f0",
   "metadata": {},
   "source": [
    "# Instance vs class variables"
   ]
  },
  {
   "cell_type": "markdown",
   "id": "6d5cad3b-4ce7-42d5-82f8-377ddaf00a00",
   "metadata": {},
   "source": [
    "In Python, variables can be defined at the class level or at the instance level. Understanding the difference between these types of variables is crucial for writing efficient and maintainable code."
   ]
  },
  {
   "cell_type": "markdown",
   "id": "bb40fda3-3c5e-4109-b1cc-69e0cce77e95",
   "metadata": {},
   "source": [
    "# Class Variables\n",
    "\n",
    "Class variables are defined at the class level and are shared among all instances of the class. They are defined outside of any method and are usually used to store information that is common to all instances of the class. For example, a class variable can be used to store the number of instances of a class that have been created."
   ]
  },
  {
   "cell_type": "code",
   "execution_count": 1,
   "id": "0b52cab1-5115-4060-87fd-a7be239346c8",
   "metadata": {},
   "outputs": [
    {
     "name": "stdout",
     "output_type": "stream",
     "text": [
      "2\n",
      "2\n"
     ]
    }
   ],
   "source": [
    "class MyClass:\n",
    "    class_variable = 0\n",
    "    \n",
    "    def __init__(self):\n",
    "        MyClass.class_variable += 1\n",
    "        \n",
    "    def print_class_variable(self):\n",
    "        print(MyClass.class_variable)\n",
    "        \n",
    "\n",
    "obj1 = MyClass()\n",
    "obj2 = MyClass()\n",
    "\n",
    "obj1.print_class_variable() # Output: 2\n",
    "obj2.print_class_variable() # Output: 2"
   ]
  },
  {
   "cell_type": "markdown",
   "id": "b965b781-77b4-4d9d-b587-43fbd7000bab",
   "metadata": {},
   "source": [
    "In the example above, the class_variable is shared among all instances of the class MyClass. When we create new instances of MyClass, the value of class_variable is incremented. When we call the print_class_variable method on obj1 and obj2, we get the same value of class_variable."
   ]
  },
  {
   "cell_type": "markdown",
   "id": "e08de5e1-adfa-4dc4-ab25-dde4ac0aea2e",
   "metadata": {},
   "source": [
    "# Instance Variables\n",
    "\n",
    "Instance variables are defined at the instance level and are unique to each instance of the class. They are defined inside the init method and are usually used to store information that is specific to each instance of the class. For example, an instance variable can be used to store the name of an employee in a class that represents an employee.\n"
   ]
  },
  {
   "cell_type": "code",
   "execution_count": 2,
   "id": "91984340-6343-4363-84b6-4e4186aa0569",
   "metadata": {},
   "outputs": [
    {
     "name": "stdout",
     "output_type": "stream",
     "text": [
      "John\n",
      "Jane\n"
     ]
    }
   ],
   "source": [
    "class MyClass:\n",
    "    def __init__(self, name):\n",
    "        self.name = name\n",
    "        \n",
    "    def print_name(self):\n",
    "        print(self.name)\n",
    "obj1 = MyClass(\"John\")\n",
    "obj2 = MyClass(\"Jane\")\n",
    "obj1.print_name() # Output: John\n",
    "obj2.print_name() # Output: Jane"
   ]
  },
  {
   "cell_type": "markdown",
   "id": "d839094a-4595-4959-897f-5c0e1f30b224",
   "metadata": {},
   "source": [
    "In the example above, each instance of the class MyClass has its own value for the name variable. When we call the print_name method on obj1 and obj2, we get different values for name."
   ]
  },
  {
   "cell_type": "markdown",
   "id": "a63bc06a-c9e3-4433-b4a7-7c8d6dbf7741",
   "metadata": {},
   "source": [
    "# code"
   ]
  },
  {
   "cell_type": "code",
   "execution_count": 3,
   "id": "a9a14df0-ee89-466d-8bed-17b99e41dfd7",
   "metadata": {},
   "outputs": [
    {
     "name": "stdout",
     "output_type": "stream",
     "text": [
      "The name of the Employee is Harry and the raise amount in 1 sized Apple India is 0.3\n",
      "Google\n",
      "The name of the Employee is Rohan and the raise amount in 2 sized Nestle is 0.02\n"
     ]
    }
   ],
   "source": [
    "class Employee:\n",
    "  companyName = \"Apple\"\n",
    "  noOfEmployees = 0\n",
    "  def __init__(self, name):\n",
    "    self.name = name\n",
    "    self.raise_amount = 0.02\n",
    "    Employee.noOfEmployees +=1\n",
    "  def showDetails(self):\n",
    "    print(f\"The name of the Employee is {self.name} and the raise amount in {self.noOfEmployees} sized {self.companyName} is {self.raise_amount}\")\n",
    "\n",
    "# Employee.showDetails(emp1)\n",
    "emp1 = Employee(\"Harry\")\n",
    "emp1.raise_amount = 0.3\n",
    "emp1.companyName = \"Apple India\" \n",
    "emp1.showDetails()\n",
    "Employee.companyName = \"Google\"\n",
    "print(Employee.companyName)\n",
    "\n",
    "emp2 = Employee(\"Rohan\")\n",
    "emp2.companyName = \"Nestle\"\n",
    "emp2.showDetails()\n"
   ]
  }
 ],
 "metadata": {
  "kernelspec": {
   "display_name": "Python 3 (ipykernel)",
   "language": "python",
   "name": "python3"
  },
  "language_info": {
   "codemirror_mode": {
    "name": "ipython",
    "version": 3
   },
   "file_extension": ".py",
   "mimetype": "text/x-python",
   "name": "python",
   "nbconvert_exporter": "python",
   "pygments_lexer": "ipython3",
   "version": "3.11.4"
  }
 },
 "nbformat": 4,
 "nbformat_minor": 5
}
