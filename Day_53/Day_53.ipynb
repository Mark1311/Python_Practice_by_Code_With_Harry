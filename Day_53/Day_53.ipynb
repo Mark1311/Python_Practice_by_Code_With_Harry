{
 "cells": [
  {
   "cell_type": "markdown",
   "id": "69be1ca6-6a09-41ba-95a4-f5d0dbb71ff8",
   "metadata": {},
   "source": [
    "# Map, Filter and Reduce Function"
   ]
  },
  {
   "cell_type": "markdown",
   "id": "2ddf1e65-a720-4099-a3db-a0525c1a0fa1",
   "metadata": {},
   "source": [
    "## Map() Function"
   ]
  },
  {
   "cell_type": "markdown",
   "id": "5c481453-b056-4bf9-90ea-ae6f9e462d47",
   "metadata": {},
   "source": [
    "The map function applies a function to each element in a sequence and returns a new sequence containing the transformed elements. The map function has the following syntax:"
   ]
  },
  {
   "cell_type": "markdown",
   "id": "a06262d9-e414-4946-915e-728efac7e54f",
   "metadata": {},
   "source": [
    "### Syntax"
   ]
  },
  {
   "cell_type": "raw",
   "id": "8c311c7a-bc71-435b-8f82-6fead92fc278",
   "metadata": {},
   "source": [
    "map(function, iterable)"
   ]
  },
  {
   "cell_type": "markdown",
   "id": "fc015a60-b207-4631-b640-32bed1870c88",
   "metadata": {},
   "source": [
    "The function argument is a function that is applied to each element in the iterable argument. The iterable argument can be a list, tuple, or any other iterable object.\n"
   ]
  },
  {
   "cell_type": "code",
   "execution_count": 1,
   "id": "8452b300-f99a-4120-9692-c2f577538c2f",
   "metadata": {},
   "outputs": [
    {
     "name": "stdout",
     "output_type": "stream",
     "text": [
      "[2, 4, 6, 8, 10]\n"
     ]
    }
   ],
   "source": [
    "# List of numbers\n",
    "numbers = [1, 2, 3, 4, 5]\n",
    "# Double each number using the map function\n",
    "doubled = map(lambda x: x * 2, numbers)\n",
    "# Print the doubled numbers\n",
    "print(list(doubled))"
   ]
  },
  {
   "cell_type": "markdown",
   "id": "092e0073-4262-443d-8a30-4d384b832164",
   "metadata": {},
   "source": [
    "In the above example, the lambda function lambda x: x * 2 is used to double each element in the numbers list. The map function applies the lambda function to each element in the list and returns a new list containing the doubled numbers."
   ]
  },
  {
   "cell_type": "markdown",
   "id": "bd906166-8c3d-44a3-8eee-cbbbc08fbd59",
   "metadata": {},
   "source": [
    "# filter() Function"
   ]
  },
  {
   "cell_type": "markdown",
   "id": "7c3fa08c-7a3b-4791-baf9-599c6e77bbc3",
   "metadata": {},
   "source": [
    "The filter function filters a sequence of elements based on a given predicate (a function that returns a boolean value) and returns a new sequence containing only the elements that meet the predicate. The filter function has the following syntax:\n"
   ]
  },
  {
   "cell_type": "markdown",
   "id": "7acdd20b-36f7-4f09-82ed-b8ecec54d2d8",
   "metadata": {},
   "source": [
    "### Syntax"
   ]
  },
  {
   "cell_type": "raw",
   "id": "c4529ebc-b90b-4e68-982f-3396b238f78d",
   "metadata": {},
   "source": [
    "filter(predicate, iterable)"
   ]
  },
  {
   "cell_type": "markdown",
   "id": "38da7127-93cd-4c07-aa70-829131728a37",
   "metadata": {},
   "source": [
    "The predicate argument is a function that returns a boolean value and is applied to each element in the iterable argument. The iterable argument can be a list, tuple, or any other iterable object."
   ]
  },
  {
   "cell_type": "code",
   "execution_count": 3,
   "id": "cdf92c7e-7ee3-4676-9b03-b8e7a405fd5c",
   "metadata": {},
   "outputs": [
    {
     "name": "stdout",
     "output_type": "stream",
     "text": [
      "[2, 4]\n"
     ]
    }
   ],
   "source": [
    "# List of numbers\n",
    "numbers = [1, 2, 3, 4, 5]\n",
    "\n",
    "# Get only the even numbers using the filter function\n",
    "evens = filter(lambda x: x % 2 == 0, numbers)\n",
    "\n",
    "# Print the even numbers\n",
    "print(list(evens))"
   ]
  },
  {
   "cell_type": "markdown",
   "id": "f3cec004-3b19-495b-a32e-ef5c5d025af9",
   "metadata": {},
   "source": [
    "In the above example, the lambda function lambda x: x % 2 == 0 is used to filter the numbers list and return only the even numbers. The filter function applies the lambda function to each element in the list and returns a new list containing only the even numbers."
   ]
  },
  {
   "cell_type": "markdown",
   "id": "24f69219-d85b-4e8d-b891-97d263724e6e",
   "metadata": {},
   "source": [
    "# reduce() Function"
   ]
  },
  {
   "cell_type": "markdown",
   "id": "caf55cde-1bd6-4db2-ad00-3b138ef2382b",
   "metadata": {},
   "source": [
    "The reduce function is a higher-order function that applies a function to a sequence and returns a single value. It is a part of the functools module in Python and has the following syntax:"
   ]
  },
  {
   "cell_type": "markdown",
   "id": "e2ad5d0f-5105-4327-a7fd-bcf3ce8ae861",
   "metadata": {},
   "source": [
    "### Syntax"
   ]
  },
  {
   "cell_type": "raw",
   "id": "e972e416-396a-4850-aeed-f8ebd373e7cd",
   "metadata": {},
   "source": [
    "reduce(function, iterable)"
   ]
  },
  {
   "cell_type": "markdown",
   "id": "4c8fcdf0-4e0a-4269-9981-8e650f39f6e1",
   "metadata": {},
   "source": [
    "The function argument is a function that takes in two arguments and returns a single value. The iterable argument is a sequence of elements, such as a list or tuple.\n",
    "\n",
    "The reduce function applies the function to the first two elements in the iterable and then applies the function to the result and the next element, and so on. The reduce function returns the final result."
   ]
  },
  {
   "cell_type": "code",
   "execution_count": 4,
   "id": "9326b7e9-9d60-4094-905e-58cff5a573e9",
   "metadata": {},
   "outputs": [
    {
     "name": "stdout",
     "output_type": "stream",
     "text": [
      "15\n"
     ]
    }
   ],
   "source": [
    "from functools import reduce\n",
    "\n",
    "# List of numbers\n",
    "numbers = [1, 2, 3, 4, 5]\n",
    "\n",
    "# Calculate the sum of the numbers using the reduce function\n",
    "sum = reduce(lambda x, y: x + y, numbers)\n",
    "\n",
    "# Print the sum\n",
    "print(sum)"
   ]
  },
  {
   "cell_type": "markdown",
   "id": "ef1e2635-ca16-44ab-9c59-31a0a2343552",
   "metadata": {},
   "source": [
    "In the above example, the reduce function applies the lambda function lambda x, y: x + y to the elements in the numbers list. The lambda function adds the two arguments x and y and returns the result. The reduce function applies the lambda function to the first two elements in the list (1 and 2), then applies the function to the result (3) and the next element (3), and so on. The final result is the sum of all the elements in the list, which is 15.\n",
    "\n",
    "It is important to note that the reduce function requires the functools module to be imported in order to use it."
   ]
  },
  {
   "cell_type": "markdown",
   "id": "d0897e0b-187e-4f05-9fec-6b42b07c7bd2",
   "metadata": {},
   "source": [
    "# Code"
   ]
  },
  {
   "cell_type": "code",
   "execution_count": 17,
   "id": "00993a13-73e1-4b41-9152-bc08b9b65491",
   "metadata": {},
   "outputs": [
    {
     "name": "stdout",
     "output_type": "stream",
     "text": [
      "8\n"
     ]
    }
   ],
   "source": [
    "# MAP \n",
    "\n",
    "def cube(x):\n",
    "   return x * x * x\n",
    "    \n",
    "print(cube(2))"
   ]
  },
  {
   "cell_type": "code",
   "execution_count": 20,
   "id": "7c99c898-531e-4ba3-a949-b3a716bb4d46",
   "metadata": {},
   "outputs": [
    {
     "name": "stdout",
     "output_type": "stream",
     "text": [
      "[1, 8, 64, 216, 64, 27]\n"
     ]
    }
   ],
   "source": [
    "newl = []\n",
    "l = [1, 2, 4, 6, 4, 3]\n",
    "\n",
    "for item in l:\n",
    "  newl.append(cube(item))\n",
    "print(newl)"
   ]
  },
  {
   "cell_type": "code",
   "execution_count": 21,
   "id": "84a28b4e-4def-4087-bfc2-affab77d13ef",
   "metadata": {},
   "outputs": [],
   "source": [
    "newl = list(map(lambda x: x*x*x, l))"
   ]
  },
  {
   "cell_type": "code",
   "execution_count": 22,
   "id": "ae7a479a-96c2-4624-b72e-fe2c4ed3c3e1",
   "metadata": {},
   "outputs": [
    {
     "name": "stdout",
     "output_type": "stream",
     "text": [
      "[4, 6, 4, 3]\n"
     ]
    }
   ],
   "source": [
    "# FILTER\n",
    "def filter_function(a):\n",
    "  return a>2\n",
    "\n",
    "newnewl = list(filter(filter_function, l))\n",
    "print(newnewl)"
   ]
  },
  {
   "cell_type": "code",
   "execution_count": 24,
   "id": "5bee6c29-4789-4fb9-b0b7-5f9e2397ec24",
   "metadata": {},
   "outputs": [
    {
     "name": "stdout",
     "output_type": "stream",
     "text": [
      "15\n"
     ]
    }
   ],
   "source": [
    "# Reduce\n",
    "\n",
    "from functools import reduce\n",
    "\n",
    "numbers = [1, 2, 3, 4, 5] \n",
    "\n",
    "def mysum(x, y):\n",
    "  return x + y\n",
    "  \n",
    "sum = reduce(mysum, numbers)\n",
    "print(sum)"
   ]
  }
 ],
 "metadata": {
  "kernelspec": {
   "display_name": "Python 3 (ipykernel)",
   "language": "python",
   "name": "python3"
  },
  "language_info": {
   "codemirror_mode": {
    "name": "ipython",
    "version": 3
   },
   "file_extension": ".py",
   "mimetype": "text/x-python",
   "name": "python",
   "nbconvert_exporter": "python",
   "pygments_lexer": "ipython3",
   "version": "3.11.4"
  }
 },
 "nbformat": 4,
 "nbformat_minor": 5
}
