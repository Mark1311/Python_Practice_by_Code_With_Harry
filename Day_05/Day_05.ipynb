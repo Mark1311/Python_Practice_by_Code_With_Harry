{
 "cells": [
  {
   "cell_type": "markdown",
   "id": "7247ab16-8e4c-43e9-abf9-a0467aba847b",
   "metadata": {},
   "source": [
    "# Comments, Escape sequence & Print in Python."
   ]
  },
  {
   "cell_type": "markdown",
   "id": "4e2ac8db-d720-4578-884d-dcb67cace8df",
   "metadata": {},
   "source": [
    "## Python Comments"
   ]
  },
  {
   "cell_type": "markdown",
   "id": "08dadc68-5367-416a-a080-c99cad5d328d",
   "metadata": {},
   "source": [
    "A comment is a part of the coding file that the programmer does not want to execute, rather the programmer uses it to either explain a block of code or to avoid the execution of a specific part of code while testing."
   ]
  },
  {
   "cell_type": "markdown",
   "id": "2b840093-3c56-4c30-8670-ee3cd6e95828",
   "metadata": {},
   "source": [
    "# Single-Line Comments:-"
   ]
  },
  {
   "cell_type": "code",
   "execution_count": 20,
   "id": "1bf057b7-185b-4bcb-85df-4e4da48d8ce2",
   "metadata": {},
   "outputs": [
    {
     "name": "stdout",
     "output_type": "stream",
     "text": [
      "This is a print statement.\n"
     ]
    }
   ],
   "source": [
    "#This is a 'Single-Line Comment'\n",
    "print(\"This is a print statement.\")"
   ]
  },
  {
   "cell_type": "code",
   "execution_count": 6,
   "id": "3c42fef8-3a45-45fa-b89f-1b6f0098e640",
   "metadata": {},
   "outputs": [
    {
     "name": "stdout",
     "output_type": "stream",
     "text": [
      "Hello World !!!\n"
     ]
    }
   ],
   "source": [
    "print(\"Hello World !!!\") #Printing Hello World"
   ]
  },
  {
   "cell_type": "code",
   "execution_count": 7,
   "id": "8aba02fd-4569-4e2c-bc70-7c994aa6d7c0",
   "metadata": {},
   "outputs": [
    {
     "name": "stdout",
     "output_type": "stream",
     "text": [
      "Python Program\n"
     ]
    }
   ],
   "source": [
    "print(\"Python Program\")\n",
    "#print(\"Python Program\")"
   ]
  },
  {
   "cell_type": "markdown",
   "id": "55a7b238-deb4-4104-bbf0-41aacb9a29b6",
   "metadata": {},
   "source": [
    "# Multi-Line Comments:-"
   ]
  },
  {
   "cell_type": "markdown",
   "id": "a3de8989-7901-448b-bf5b-ce5aafc699d5",
   "metadata": {},
   "source": [
    "To write multi-line comments you can use ‘#’ at each line or you can use the multiline string."
   ]
  },
  {
   "cell_type": "code",
   "execution_count": 24,
   "id": "dc1c1678-f254-4cfa-a262-853933a8865c",
   "metadata": {},
   "outputs": [
    {
     "name": "stdout",
     "output_type": "stream",
     "text": [
      "p is greater than 5.\n"
     ]
    }
   ],
   "source": [
    "#It will execute a block of code if a specified condition is true.\n",
    "#If the condition is false then it will execute another block of code.\n",
    "\n",
    "p = 7\n",
    "if (p > 5):\n",
    "    print(\"p is greater than 5.\")\n",
    "else:\n",
    "    print(\"p is not greater than 5.\")"
   ]
  },
  {
   "cell_type": "code",
   "execution_count": 25,
   "id": "93f63f40-5796-4854-86e3-b628123222b4",
   "metadata": {},
   "outputs": [
    {
     "name": "stdout",
     "output_type": "stream",
     "text": [
      "p is greater than 5.\n"
     ]
    }
   ],
   "source": [
    "\"\"\"This is an if-else statement.\n",
    "It will execute a block of code if a specified condition is true.\n",
    "If the condition is false then it will execute another block of code.\"\"\"\n",
    "\n",
    "p = 7\n",
    "if (p > 5):\n",
    "    print(\"p is greater than 5.\")\n",
    "else:\n",
    "    print(\"p is not greater than 5.\")"
   ]
  },
  {
   "cell_type": "markdown",
   "id": "e6ffc7a6-69d4-41b9-acfd-ecdf117f736b",
   "metadata": {},
   "source": [
    "# Escape Sequence Characters."
   ]
  },
  {
   "cell_type": "markdown",
   "id": "a9bf3586-c3fb-4c4e-9c81-7bb0c6d7e547",
   "metadata": {},
   "source": [
    "* To insert characters that cannot be directly used in a string, we use an escape sequence character.\n",
    "\n",
    "* An escape sequence character is a backslash \\ followed by the character you want to insert.\n",
    "\n",
    "* An example of a character that cannot be directly used in a string is a double quote inside a string that is surrounded by double quotes:"
   ]
  },
  {
   "cell_type": "code",
   "execution_count": 28,
   "id": "0d9fa00b-3a7c-4dca-8dcf-c6f1e4c70fb0",
   "metadata": {},
   "outputs": [
    {
     "name": "stdout",
     "output_type": "stream",
     "text": [
      "This will \" execute\n"
     ]
    }
   ],
   "source": [
    "# print(\"This doesnt \"execute\")\n",
    "print(\"This will \\\" execute\")"
   ]
  },
  {
   "cell_type": "markdown",
   "id": "89164b94-d3e1-47e8-b639-d5b9550f3ffc",
   "metadata": {},
   "source": [
    "## More on Print statement"
   ]
  },
  {
   "cell_type": "raw",
   "id": "0c0dbe55-a063-4739-bf00-bb729b915bb5",
   "metadata": {},
   "source": [
    "print(object(s), sep=separator, end=end, file=file, flush=flush)"
   ]
  },
  {
   "cell_type": "markdown",
   "id": "bdaad96e-7af3-4c0a-8274-a8e97077194a",
   "metadata": {},
   "source": [
    "## Other Parameters of Print Statement"
   ]
  },
  {
   "cell_type": "markdown",
   "id": "cee02f8a-db87-46ce-b348-691822905187",
   "metadata": {},
   "source": [
    "* object(s): Any object, and as many as you like. Will be converted to string before printed\n",
    "* sep='separator': Specify how to separate the objects, if there is more than one. Default is ' '\n",
    "* end='end': Specify what to print at the end. Default is '\\n' (line feed)\n",
    "* file: An object with a write method. Default is sys.stdout"
   ]
  }
 ],
 "metadata": {
  "kernelspec": {
   "display_name": "Python 3 (ipykernel)",
   "language": "python",
   "name": "python3"
  },
  "language_info": {
   "codemirror_mode": {
    "name": "ipython",
    "version": 3
   },
   "file_extension": ".py",
   "mimetype": "text/x-python",
   "name": "python",
   "nbconvert_exporter": "python",
   "pygments_lexer": "ipython3",
   "version": "3.11.4"
  }
 },
 "nbformat": 4,
 "nbformat_minor": 5
}
