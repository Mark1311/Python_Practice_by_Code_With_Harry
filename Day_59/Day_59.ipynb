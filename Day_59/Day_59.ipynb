{
 "cells": [
  {
   "cell_type": "markdown",
   "id": "e67142b3-2e31-41e3-9422-3515bb88fea7",
   "metadata": {},
   "source": [
    "# Python Decorators"
   ]
  },
  {
   "cell_type": "markdown",
   "id": "43a47eee-04c0-402f-a664-7d91a2d3a263",
   "metadata": {},
   "source": [
    "Python decorators are a powerful and versatile tool that allow you to modify the behavior of functions and methods. They are a way to extend the functionality of a function or method without modifying its source code.\n",
    "\n",
    "A decorator is a function that takes another function as an argument and returns a new function that modifies the behavior of the original function. The new function is often referred to as a \"decorated\" function. The basic syntax for using a decorator is the following:"
   ]
  },
  {
   "cell_type": "raw",
   "id": "22ddd579-bc43-4fdb-a976-5270fc53bd80",
   "metadata": {},
   "source": [
    "@decorator_function\n",
    "def my_function():\n",
    "    pass\n",
    "\n",
    "# The @decorator_function notation is just a shorthand for the following code:"
   ]
  },
  {
   "cell_type": "raw",
   "id": "10ed26de-166e-4824-a164-5b294b0d0657",
   "metadata": {},
   "source": [
    "def my_function():\n",
    "    pass\n",
    "    \n",
    "my_function = decorator_function(my_function)"
   ]
  },
  {
   "cell_type": "markdown",
   "id": "548e7123-c833-445b-b4c7-5c51dda07c42",
   "metadata": {},
   "source": [
    "Decorators are often used to add functionality to functions and methods, such as logging, memoization, and access control."
   ]
  },
  {
   "cell_type": "markdown",
   "id": "10a69855-e42f-42f2-9259-16ddb4ceacbd",
   "metadata": {},
   "source": [
    "# Practical use case:-"
   ]
  },
  {
   "cell_type": "markdown",
   "id": "2f02dd4f-d27d-439e-8aa1-6f5187226fd1",
   "metadata": {},
   "source": [
    "One common use of decorators is to add logging to a function. For example, you could use a decorator to log the arguments and return value of a function each time it is called:"
   ]
  },
  {
   "cell_type": "code",
   "execution_count": 4,
   "id": "d0bee999-b4d7-426f-b224-38b3157c150e",
   "metadata": {},
   "outputs": [],
   "source": [
    "import logging\n",
    "def log_function_call(func):\n",
    "    def decorated(*args, **kwargs):\n",
    "        logging.info(f\"Calling {func.__name__} with args={args}, kwargs={kwargs}\")\n",
    "        result = func(*args, **kwargs)\n",
    "        logging.info(f\"{func.__name__} returned {result}\")\n",
    "        return result\n",
    "    return decorated\n",
    "@log_function_call\n",
    "def my_function(a, b):\n",
    "    return a + b"
   ]
  },
  {
   "cell_type": "markdown",
   "id": "ce452ba4-fe55-445a-8fb1-ac16f94a564f",
   "metadata": {},
   "source": [
    "In this example, the log_function_call decorator takes a function as an argument and returns a new function that logs the function call before and after the original function is called."
   ]
  },
  {
   "cell_type": "markdown",
   "id": "99cc5008-61ba-4721-9630-69ad2aa49452",
   "metadata": {},
   "source": [
    "# Code"
   ]
  },
  {
   "cell_type": "code",
   "execution_count": 6,
   "id": "8f25bfa1-65b2-4815-b20a-b28ed6bc248f",
   "metadata": {},
   "outputs": [
    {
     "name": "stdout",
     "output_type": "stream",
     "text": [
      "Good Morning\n",
      "Hello world\n",
      "Thanks for using this function\n",
      "Good Morning\n",
      "3\n",
      "Thanks for using this function\n"
     ]
    }
   ],
   "source": [
    "def greet(fx):\n",
    "  def mfx(*args, **kwargs):\n",
    "    print(\"Good Morning\")\n",
    "    fx(*args, **kwargs)\n",
    "    print(\"Thanks for using this function\")\n",
    "  return mfx\n",
    "\n",
    "@greet\n",
    "def hello():\n",
    "  print(\"Hello world\")\n",
    "\n",
    "@greet\n",
    "def add(a, b):\n",
    "  print(a+b)\n",
    "  \n",
    "# greet(hello)()\n",
    "hello()\n",
    "# greet(add)(1, 2)\n",
    "add(1, 2)\n"
   ]
  }
 ],
 "metadata": {
  "kernelspec": {
   "display_name": "Python 3 (ipykernel)",
   "language": "python",
   "name": "python3"
  },
  "language_info": {
   "codemirror_mode": {
    "name": "ipython",
    "version": 3
   },
   "file_extension": ".py",
   "mimetype": "text/x-python",
   "name": "python",
   "nbconvert_exporter": "python",
   "pygments_lexer": "ipython3",
   "version": "3.11.4"
  }
 },
 "nbformat": 4,
 "nbformat_minor": 5
}
