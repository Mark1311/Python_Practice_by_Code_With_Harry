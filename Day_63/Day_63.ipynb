{
 "cells": [
  {
   "cell_type": "markdown",
   "id": "11d2ffa5-dde8-4e33-bfb4-3908c36fcb65",
   "metadata": {},
   "source": [
    "# Exercise - 5 Solution"
   ]
  },
  {
   "cell_type": "markdown",
   "id": "9eab9bd8-2b8d-403d-9905-cb2d0c4d8866",
   "metadata": {},
   "source": [
    "### Snake Water Gun"
   ]
  },
  {
   "cell_type": "markdown",
   "id": "f273f3d0-50cd-41d1-a205-1a23f2c4a62e",
   "metadata": {},
   "source": [
    "Snake, Water and Gun is a variation of the children's game \"rock-paper-scissors\" where players use hand gestures to represent a snake, water, or a gun. The gun beats the snake, the water beats the gun, and the snake beats the water. Write a python program to create a Snake Water Gun game in Python using if-else statements. Do not create any fancy GUI. Use proper functions to check for win."
   ]
  },
  {
   "cell_type": "code",
   "execution_count": 2,
   "id": "1bbfb573-e679-4286-9bc7-956cb3e1217c",
   "metadata": {},
   "outputs": [
    {
     "name": "stdin",
     "output_type": "stream",
     "text": [
      "0 for Snake, 1 for water and 2 for Gun:\n",
      " 8\n"
     ]
    },
    {
     "name": "stdout",
     "output_type": "stream",
     "text": [
      "You:  8\n",
      "Computer:  1\n",
      "You Won\n"
     ]
    }
   ],
   "source": [
    "import random\n",
    "\n",
    "def check(comp, user):\n",
    "  if comp ==user:\n",
    "    return 0\n",
    "    \n",
    "  if(comp == 0 and user ==1):\n",
    "    return -1\n",
    "    \n",
    "  if(comp == 1 and user ==2):\n",
    "    return -1\n",
    "    \n",
    "  if(comp == 2 and user == 0):\n",
    "    return -1\n",
    "\n",
    "  return 1\n",
    "    \n",
    "  \n",
    "comp = random.randint(0, 2)\n",
    "user = int(input(\"0 for Snake, 1 for water and 2 for Gun:\\n\"))\n",
    "\n",
    "score = check(comp, user)\n",
    "\n",
    "print(\"You: \", user)\n",
    "print(\"Computer: \", comp)\n",
    "\n",
    "if(score == 0):\n",
    "  print(\"Its a draw\")\n",
    "elif (score == -1):\n",
    "  print(\"You Lose\")\n",
    "else:\n",
    "  print(\"You Won\")"
   ]
  },
  {
   "cell_type": "code",
   "execution_count": null,
   "id": "5ec1cabc-5136-4729-9634-e0a18072ce29",
   "metadata": {},
   "outputs": [],
   "source": []
  }
 ],
 "metadata": {
  "kernelspec": {
   "display_name": "Python 3 (ipykernel)",
   "language": "python",
   "name": "python3"
  },
  "language_info": {
   "codemirror_mode": {
    "name": "ipython",
    "version": 3
   },
   "file_extension": ".py",
   "mimetype": "text/x-python",
   "name": "python",
   "nbconvert_exporter": "python",
   "pygments_lexer": "ipython3",
   "version": "3.11.4"
  }
 },
 "nbformat": 4,
 "nbformat_minor": 5
}
