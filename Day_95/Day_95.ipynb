{
 "cells": [
  {
   "cell_type": "markdown",
   "id": "3bc81a20-ae70-4d79-bb0d-70fd6c00f328",
   "metadata": {},
   "source": [
    "# Regular Expressions in Python\n",
    "\n",
    "Regular expressions, or \"regex\" for short, are a powerful tool for working with strings and text data in Python. They allow you to match and manipulate strings based on patterns, making it easy to perform complex string operations with just a few lines of code.\n"
   ]
  },
  {
   "cell_type": "raw",
   "id": "eff241e7-c489-459e-a262-1798cc52458d",
   "metadata": {},
   "source": [
    "Metacharacters in regular expressions\n",
    "\n",
    "[]  Represent a character class\n",
    "^   Matches the beginning\n",
    "$   Matches the end\n",
    ".   Matches any character except newline\n",
    "?   Matches zero or one occurrence.\n",
    "|   Means OR (Matches with any of the characters separated by it.\n",
    "*   Any number of occurrences (including 0 occurrences)\n",
    "+   One or more occurrences\n",
    "{}  Indicate number of occurrences of a preceding RE to match.\n",
    "()  Enclose a group of REs"
   ]
  },
  {
   "cell_type": "markdown",
   "id": "e8fb08fe-87d8-4fd3-af31-000abf28cff4",
   "metadata": {},
   "source": [
    "# Importing re Package\n",
    "\n",
    "In Python, regular expressions are supported by the re module. The basic syntax for working with regular expressions in Python is as follows:\n"
   ]
  },
  {
   "cell_type": "code",
   "execution_count": null,
   "id": "35697b93-acf2-4803-8814-b98e40a785f3",
   "metadata": {},
   "outputs": [],
   "source": [
    "import re"
   ]
  },
  {
   "cell_type": "markdown",
   "id": "a1134575-978d-4a01-88ce-ae5d4ffa3583",
   "metadata": {},
   "source": [
    "#### Searching for a pattern in re using re.search() Method.\n",
    "    \n",
    "re.search() method either returns None (if the pattern doesn’t match), or a re.MatchObject that contains information about the matching part of the string. This method stops after the first match, so this is best suited for testing a regular expression more than extracting data. We can use re.search method like this to search for a pattern in regular expression:\n"
   ]
  },
  {
   "cell_type": "code",
   "execution_count": null,
   "id": "df300bc5-5db3-46df-a699-d87bc2f48c2a",
   "metadata": {},
   "outputs": [],
   "source": [
    "# Define a regular expression pattern\n",
    "pattern = r\"expression\"\n",
    "# Match the pattern against a string\n",
    "text = \"Hello, world!\"\n",
    "match = re.search(pattern, text)\n",
    "if match:\n",
    "    print(\"Match found!\")\n",
    "else:\n",
    "    print(\"Match not found.\")\n"
   ]
  },
  {
   "cell_type": "markdown",
   "id": "151f07f4-f929-4c55-b9ee-74cbc5c9ff69",
   "metadata": {},
   "source": [
    "#### Searching for a pattern in re using re.findall() Method.\n",
    "    \n",
    "You can also use the re.findall function to find all occurrences of the pattern in a string:\n"
   ]
  },
  {
   "cell_type": "code",
   "execution_count": null,
   "id": "a70d4046-92a4-4ee8-b41b-5fd385887a9f",
   "metadata": {},
   "outputs": [],
   "source": [
    "import re\n",
    "pattern = r\"expression\"\n",
    "text = \"The cat is in the hat.\"\n",
    "matches = re.findall(pattern, text)\n",
    "print(matches)"
   ]
  },
  {
   "cell_type": "markdown",
   "id": "799adc5a-ca0f-4cf8-aa4f-fb1806b15709",
   "metadata": {},
   "source": [
    "\n",
    "### Replacing a pattern\n",
    "\n",
    "The following example shows how to replace a pattern in a string:\n"
   ]
  },
  {
   "cell_type": "code",
   "execution_count": null,
   "id": "b7fdef5e-b899-40a3-b998-712b7d76c4f0",
   "metadata": {},
   "outputs": [],
   "source": [
    "import re\n",
    "pattern = r\"[a-z]+at\"\n",
    "text = \"The cat is in the hat.\"\n",
    "matches = re.findall(pattern, text)\n",
    "print(matches)\n",
    "# Output: ['cat', 'hat']\n",
    "new_text = re.sub(pattern, \"dog\", text)\n",
    "print(new_text)"
   ]
  },
  {
   "cell_type": "markdown",
   "id": "a299e3cf-24ad-4efe-a4f4-35f4f9ded1f3",
   "metadata": {},
   "source": [
    "\n",
    "#### Extracting information from a string\n",
    "\n",
    "The following example shows how to extract information from a string using regular expressions:\n"
   ]
  },
  {
   "cell_type": "code",
   "execution_count": null,
   "id": "911100ff-6771-4052-ac63-16c518ce98e5",
   "metadata": {},
   "outputs": [],
   "source": [
    "import re\n",
    "text = \"The email address is example@example.com.\"\n",
    "pattern = r\"\\w+@\\w+\\.\\w+\"\n",
    "match = re.search(pattern, text)\n",
    "if match:\n",
    "    email = match.group()\n",
    "    print(email)"
   ]
  },
  {
   "cell_type": "markdown",
   "id": "70eee237-cc7e-4171-8edc-64c39196118c",
   "metadata": {},
   "source": [
    "#### Conclusion\n",
    "\n",
    "Regular expressions are a powerful tool for working with strings and text data in Python. Whether you're matching patterns, replacing text, or extracting information, regular expressions make it easy to perform complex string operations with just a few lines of code. With a little bit of practice, you'll be able to use regular expressions to solve all sorts of string-related problems in Python."
   ]
  },
  {
   "cell_type": "markdown",
   "id": "d365dfe4-f4e6-4859-8c82-9a1a4bc6371b",
   "metadata": {},
   "source": [
    "# Code"
   ]
  },
  {
   "cell_type": "code",
   "execution_count": 1,
   "id": "800f0f58-f2a0-4e26-99ca-9b5b58bfb999",
   "metadata": {},
   "outputs": [
    {
     "name": "stdout",
     "output_type": "stream",
     "text": [
      "None\n"
     ]
    }
   ],
   "source": [
    "import re\n",
    "\n",
    "pattern = r\"[A-Z]+yclodne\"\n",
    "text = '''Cyclone Dumazile was a strong tropical cyclone in the South-West Indian Ocean that affected Madagascar and Réunion in early March 2018. Dumazile originated from a cyclone Dyclone low-pressure area that formed near Agaléga on 27 February. It became a tropical disturbance on 2 March, and was named the next day after attaining tropical storm status. Dumazile reached its peak intensity on 5 March, with 10-minute sustained winds of 165 km/h (105 mph), 1-minute sustained winds of 205 km/h (125 mph), and a central atmospheric pressure of 945 hPa (27.91 inHg). As it tracked southeastwards, Dumazile weakened steadily over the next couple of days due to wind shear, and became a post-tropical cyclone on 7 March\n",
    "\n",
    "'''\n",
    "\n",
    "match = re.search(pattern, text)\n",
    "print(match)\n",
    "\n",
    "# matches = re.finditer(pattern, text)\n",
    "# for match in matches:\n",
    "#   print(match.span()) \n",
    "#   print(text[match.span()[0]: match.span()[1]])"
   ]
  }
 ],
 "metadata": {
  "kernelspec": {
   "display_name": "Python 3 (ipykernel)",
   "language": "python",
   "name": "python3"
  },
  "language_info": {
   "codemirror_mode": {
    "name": "ipython",
    "version": 3
   },
   "file_extension": ".py",
   "mimetype": "text/x-python",
   "name": "python",
   "nbconvert_exporter": "python",
   "pygments_lexer": "ipython3",
   "version": "3.11.4"
  }
 },
 "nbformat": 4,
 "nbformat_minor": 5
}
