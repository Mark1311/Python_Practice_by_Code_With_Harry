{
 "cells": [
  {
   "cell_type": "markdown",
   "id": "8b8f49c5-6d8b-4c53-af12-ff7b518ccfba",
   "metadata": {},
   "source": [
    "# Python Functions"
   ]
  },
  {
   "cell_type": "markdown",
   "id": "864840b2-19c7-4806-a8c2-50c21c4c05ff",
   "metadata": {},
   "source": [
    "A function is a block of code that performs a specific task whenever it is called. In bigger programs, where we have large amounts of code, it is advisable to create or use existing functions that make the program flow organized and neat.\n",
    "\n",
    "There are two types of functions:\n",
    "\n",
    "* Built-in functions\n",
    "* User-defined functions"
   ]
  },
  {
   "cell_type": "markdown",
   "id": "13e005a3-41ea-453d-9beb-8a3a70b0ac53",
   "metadata": {},
   "source": [
    "## Built-in functions:"
   ]
  },
  {
   "cell_type": "markdown",
   "id": "77776e02-91a2-47f6-bae7-78f4a8d989d9",
   "metadata": {},
   "source": [
    "These functions are defined and pre-coded in python. Some examples of built-in functions are as follows:\n",
    "\n",
    "min(), max(), len(), sum(), type(), range(), dict(), list(), tuple(), set(), print(), etc."
   ]
  },
  {
   "cell_type": "markdown",
   "id": "1acbff7c-f641-4577-aaff-9ce953f46484",
   "metadata": {},
   "source": [
    "## User-defined functions:"
   ]
  },
  {
   "cell_type": "markdown",
   "id": "80c44c07-48a1-4015-96f7-b64d5c718232",
   "metadata": {},
   "source": [
    "We can create functions to perform specific tasks as per our needs. Such functions are called user-defined functions."
   ]
  },
  {
   "cell_type": "markdown",
   "id": "5f0155d9-1d31-46fc-a25d-3b353b734db9",
   "metadata": {},
   "source": [
    "## Syntax"
   ]
  },
  {
   "cell_type": "raw",
   "id": "05118961-1a96-4c8c-b85f-04f3ac4067c1",
   "metadata": {},
   "source": [
    "def function_name(parameters):\n",
    "  pass\n",
    "  # Code and Statements"
   ]
  },
  {
   "cell_type": "markdown",
   "id": "d1b27808-9d2c-40e4-9d8b-c1f4555e9436",
   "metadata": {},
   "source": [
    "* Create a function using the def keyword, followed by a function name, followed by a paranthesis (()) and a colon(:).\n",
    "* Any parameters and arguments should be placed within the parentheses.\n",
    "* Rules to naming function are similar to that of naming variables.\n",
    "* Any statements and other code within the function should be indented."
   ]
  },
  {
   "cell_type": "markdown",
   "id": "09ec55ac-8c0f-423a-9739-35962b404bfe",
   "metadata": {},
   "source": [
    "# Calling a function:"
   ]
  },
  {
   "cell_type": "markdown",
   "id": "82f94258-8c3d-47c4-a4e0-573250305bef",
   "metadata": {},
   "source": [
    "We call a function by giving the function name, followed by parameters (if any) in the parenthesis.\n",
    "\n"
   ]
  },
  {
   "cell_type": "markdown",
   "id": "29c29e85-0759-4e2b-a335-80cdef619315",
   "metadata": {},
   "source": [
    "# Code"
   ]
  },
  {
   "cell_type": "code",
   "execution_count": 4,
   "id": "6155be9c-1d95-4a84-a15a-534b5ef7e87b",
   "metadata": {},
   "outputs": [
    {
     "name": "stdout",
     "output_type": "stream",
     "text": [
      "7.219512195121951\n"
     ]
    }
   ],
   "source": [
    "a = 9\n",
    "b = 8\n",
    "\n",
    "def calculateGmean(a, b):\n",
    "  mean = (a*b)/(a+b)\n",
    "  print(mean)\n",
    "\n",
    "calculateGmean(c, d)    "
   ]
  },
  {
   "cell_type": "code",
   "execution_count": 5,
   "id": "5aaffbc9-bf8c-4704-ad74-089b76f9609f",
   "metadata": {},
   "outputs": [
    {
     "name": "stdout",
     "output_type": "stream",
     "text": [
      "Second number is greater or equal\n"
     ]
    }
   ],
   "source": [
    "def isGreater(a, b):\n",
    "  if(a>b):\n",
    "    print(\"First number is greater\")\n",
    "  else:\n",
    "    print(\"Second number is greater or equal\")\n",
    "isGreater(c, d)"
   ]
  },
  {
   "cell_type": "code",
   "execution_count": 6,
   "id": "8b774bfc-09fc-4eb2-a9fc-61cb711ca56a",
   "metadata": {},
   "outputs": [],
   "source": [
    "# Empty Function\n",
    "\n",
    "def isLesser(a, b):\n",
    "  pass"
   ]
  }
 ],
 "metadata": {
  "kernelspec": {
   "display_name": "Python 3 (ipykernel)",
   "language": "python",
   "name": "python3"
  },
  "language_info": {
   "codemirror_mode": {
    "name": "ipython",
    "version": 3
   },
   "file_extension": ".py",
   "mimetype": "text/x-python",
   "name": "python",
   "nbconvert_exporter": "python",
   "pygments_lexer": "ipython3",
   "version": "3.11.4"
  }
 },
 "nbformat": 4,
 "nbformat_minor": 5
}
