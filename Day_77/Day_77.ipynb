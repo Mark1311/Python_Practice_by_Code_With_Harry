{
 "cells": [
  {
   "cell_type": "markdown",
   "id": "678f3880-c8bf-43ed-b11b-78c91f4c3f30",
   "metadata": {},
   "source": [
    "# Operator Overloading in Python: An Introduction"
   ]
  },
  {
   "cell_type": "markdown",
   "id": "4482e4a4-6e6a-4c19-adf1-6bee3b2b0e33",
   "metadata": {},
   "source": [
    "Operator Overloading is a feature in Python that allows developers to redefine the behavior of mathematical and comparison operators for custom data types. This means that you can use the standard mathematical operators (+, -, *, /, etc.) and comparison operators (>, <, ==, etc.) in your own classes, just as you would for built-in data types like int, float, and str.\n"
   ]
  },
  {
   "cell_type": "markdown",
   "id": "652a8166-e490-49aa-9c2d-1a17d44a3e9a",
   "metadata": {},
   "source": [
    "# Why do we need operator overloading?\n",
    "\n",
    "Operator overloading allows you to create more readable and intuitive code. For instance, consider a custom class that represents a point in 2D space. You could define a method called 'add' to add two points together, but using the + operator makes the code more concise and readable:\n"
   ]
  },
  {
   "cell_type": "raw",
   "id": "1663c53e-2b62-49aa-9bc2-2738a68bf110",
   "metadata": {},
   "source": [
    "p1 = Point(1, 2)\n",
    "p2 = Point(3, 4)\n",
    "p3 = p1 + p2\n",
    "print(p3.x, p3.y) # prints 4, 6"
   ]
  },
  {
   "cell_type": "markdown",
   "id": "7da9cced-f84b-4579-8918-e1019ef0dc42",
   "metadata": {},
   "source": [
    "\n",
    "# How to overload an operator in Python?\n",
    "\n",
    "You can overload an operator in Python by defining special methods in your class. These methods are identified by their names, which start and end with double underscores (__). Here are some of the most commonly overloaded operators and their corresponding special methods:\n"
   ]
  },
  {
   "cell_type": "raw",
   "id": "bf8a26e9-c1bf-40c7-b2b3-e4b62cce50b5",
   "metadata": {},
   "source": [
    "+ : __add__\n",
    "- : __sub__\n",
    "* : __mul__\n",
    "/ : __truediv__\n",
    "< : __lt__\n",
    "> : __gt__\n",
    "== : __eq__"
   ]
  },
  {
   "cell_type": "markdown",
   "id": "dbc10e7e-4873-4e0f-b28b-21cdcd839bee",
   "metadata": {},
   "source": [
    "For example, if you want to overload the + operator to add two instances of a custom class, you would define the add method:\n"
   ]
  },
  {
   "cell_type": "code",
   "execution_count": 3,
   "id": "b0ea110e-a4d1-4659-b885-5868d326a8b0",
   "metadata": {},
   "outputs": [],
   "source": [
    "class Point:\n",
    "    def __init__(self, x, y):\n",
    "        self.x = x\n",
    "        self.y = y\n",
    "    def __add__(self, other):\n",
    "        return Point(self.x + other.x, self.y + other.y)"
   ]
  },
  {
   "cell_type": "markdown",
   "id": "b5cb8210-b1b8-4591-b590-16b07eb6bb7e",
   "metadata": {},
   "source": [
    "\n",
    "It's important to note that operator overloading is not limited to the built-in operators, you can overload any user-defined operator as well.\n"
   ]
  },
  {
   "cell_type": "markdown",
   "id": "f6043572-cc61-4577-b267-619651d0a2c3",
   "metadata": {},
   "source": [
    "# Code"
   ]
  },
  {
   "cell_type": "code",
   "execution_count": 4,
   "id": "a390f6c3-36d2-4510-bc12-9d4f65023b23",
   "metadata": {},
   "outputs": [
    {
     "name": "stdout",
     "output_type": "stream",
     "text": [
      "3i + 5j + 6k\n",
      "1i + 2j + 9k\n",
      "4i + 7j + 15k\n",
      "<class '__main__.Vector'>\n"
     ]
    }
   ],
   "source": [
    "class Vector:\n",
    "  def __init__(self, i, j, k):\n",
    "    self.i = i\n",
    "    self.j = j\n",
    "    self.k = k\n",
    "\n",
    "  def __str__(self):\n",
    "    return f\"{self.i}i + {self.j}j + {self.k}k\"\n",
    "\n",
    "  def __add__(self, x):\n",
    "    return Vector(self.i + x.i,  self.j+x.j, self.k+x.k) \n",
    "v1 = Vector(3, 5, 6)\n",
    "print(v1)\n",
    "\n",
    "v2 = Vector(1, 2, 9)\n",
    "print(v2)\n",
    "\n",
    "print(v1 + v2)\n",
    "print(type(v1 + v2))"
   ]
  }
 ],
 "metadata": {
  "kernelspec": {
   "display_name": "Python 3 (ipykernel)",
   "language": "python",
   "name": "python3"
  },
  "language_info": {
   "codemirror_mode": {
    "name": "ipython",
    "version": 3
   },
   "file_extension": ".py",
   "mimetype": "text/x-python",
   "name": "python",
   "nbconvert_exporter": "python",
   "pygments_lexer": "ipython3",
   "version": "3.11.4"
  }
 },
 "nbformat": 4,
 "nbformat_minor": 5
}
