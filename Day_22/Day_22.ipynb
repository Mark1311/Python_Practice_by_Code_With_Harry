{
 "cells": [
  {
   "cell_type": "markdown",
   "id": "4196a6bd-8938-49a6-a1a6-820349dbb1b4",
   "metadata": {},
   "source": [
    "# Python Lists"
   ]
  },
  {
   "cell_type": "markdown",
   "id": "1ff4de85-efd5-4ece-a7b4-ec81ae3b3660",
   "metadata": {},
   "source": [
    "* Lists are ordered collection of data items.\n",
    "* They store multiple items in a single variable.\n",
    "* List items are separated by commas and enclosed within square brackets [].\n",
    "* Lists are changeable meaning we can alter them after creation."
   ]
  },
  {
   "cell_type": "code",
   "execution_count": 1,
   "id": "61d8dcb8-8ac6-4fcd-89af-68a0dc0142a6",
   "metadata": {},
   "outputs": [
    {
     "name": "stdout",
     "output_type": "stream",
     "text": [
      "[1, 2, 2, 3, 5, 4, 6]\n",
      "['Red', 'Green', 'Blue']\n"
     ]
    }
   ],
   "source": [
    "lst1 = [1,2,2,3,5,4,6]\n",
    "lst2 = [\"Red\", \"Green\", \"Blue\"]\n",
    "print(lst1)\n",
    "print(lst2)"
   ]
  },
  {
   "cell_type": "code",
   "execution_count": 2,
   "id": "f95981d0-b09c-4299-8e5f-887079d401b5",
   "metadata": {},
   "outputs": [
    {
     "name": "stdout",
     "output_type": "stream",
     "text": [
      "['Abhijeet', 18, 'FYBScIT', 9.8]\n"
     ]
    }
   ],
   "source": [
    "details = [\"Abhijeet\", 18, \"FYBScIT\", 9.8]\n",
    "print(details)"
   ]
  },
  {
   "cell_type": "markdown",
   "id": "3fc26ffc-f0ed-4d71-ac23-c15f35a0fd6e",
   "metadata": {},
   "source": [
    "# List Index"
   ]
  },
  {
   "cell_type": "markdown",
   "id": "93122bfa-4bb7-45b0-affc-be61f42093d0",
   "metadata": {},
   "source": [
    "Accessing list items"
   ]
  },
  {
   "cell_type": "raw",
   "id": "fc6eb94d-7e39-46a4-ae22-d167fa97c9af",
   "metadata": {},
   "source": [
    "colors = [\"Red\", \"Green\", \"Blue\", \"Yellow\", \"Green\"]\n",
    "#          [0]      [1]     [2]      [3]      [4]"
   ]
  },
  {
   "cell_type": "markdown",
   "id": "692883b5-3585-467f-b362-55207ba7beea",
   "metadata": {},
   "source": [
    "# Positive Indexing:"
   ]
  },
  {
   "cell_type": "code",
   "execution_count": 4,
   "id": "845c9a7d-c0d9-4d20-8745-3e4b66008e5f",
   "metadata": {},
   "outputs": [
    {
     "name": "stdout",
     "output_type": "stream",
     "text": [
      "Blue\n",
      "Green\n",
      "Red\n"
     ]
    }
   ],
   "source": [
    "colors = [\"Red\", \"Green\", \"Blue\", \"Yellow\", \"Green\"]\n",
    "#          [0]      [1]     [2]      [3]      [4]\n",
    "print(colors[2])\n",
    "print(colors[4])\n",
    "print(colors[0])"
   ]
  },
  {
   "cell_type": "markdown",
   "id": "16848037-3ab8-421c-86ae-15a1a716710f",
   "metadata": {},
   "source": [
    "# Negative Indexing:"
   ]
  },
  {
   "cell_type": "code",
   "execution_count": 5,
   "id": "df6671e6-3b78-4280-9a71-e47746c8c7fd",
   "metadata": {},
   "outputs": [
    {
     "name": "stdout",
     "output_type": "stream",
     "text": [
      "Green\n",
      "Blue\n",
      "Red\n"
     ]
    }
   ],
   "source": [
    "colors = [\"Red\", \"Green\", \"Blue\", \"Yellow\", \"Green\"]\n",
    "#          [-5]    [-4]    [-3]     [-2]      [-1]\n",
    "print(colors[-1])\n",
    "print(colors[-3])\n",
    "print(colors[-5])"
   ]
  },
  {
   "cell_type": "markdown",
   "id": "6ba3d963-6f5c-4e94-9dab-b7a9a8386e45",
   "metadata": {},
   "source": [
    "# Check whether an item in present in the list?"
   ]
  },
  {
   "cell_type": "code",
   "execution_count": 6,
   "id": "22753b90-ce18-46ff-b253-e103a33d7249",
   "metadata": {},
   "outputs": [
    {
     "name": "stdout",
     "output_type": "stream",
     "text": [
      "Yellow is present.\n"
     ]
    }
   ],
   "source": [
    "colors = [\"Red\", \"Green\", \"Blue\", \"Yellow\", \"Green\"]\n",
    "if \"Yellow\" in colors:\n",
    "    print(\"Yellow is present.\")\n",
    "else:\n",
    "    print(\"Yellow is absent.\")"
   ]
  },
  {
   "cell_type": "code",
   "execution_count": 7,
   "id": "82452078-c8a2-4c9f-adb5-5f4e5739f9df",
   "metadata": {},
   "outputs": [
    {
     "name": "stdout",
     "output_type": "stream",
     "text": [
      "Orange is absent.\n"
     ]
    }
   ],
   "source": [
    "colors = [\"Red\", \"Green\", \"Blue\", \"Yellow\", \"Green\"]\n",
    "if \"Orange\" in colors:\n",
    "    print(\"Orange is present.\")\n",
    "else:\n",
    "    print(\"Orange is absent.\")"
   ]
  },
  {
   "cell_type": "markdown",
   "id": "1c515f9a-3a9a-4d96-8a4d-67953a13a089",
   "metadata": {},
   "source": [
    "# Range of Index:"
   ]
  },
  {
   "cell_type": "markdown",
   "id": "0929812a-526c-4fab-952f-4ac5f633f8a8",
   "metadata": {},
   "source": [
    "# Syntax"
   ]
  },
  {
   "cell_type": "raw",
   "id": "09b84754-6f2c-4047-824d-6b4939f7edd9",
   "metadata": {},
   "source": [
    "listName[start : end : jumpIndex]"
   ]
  },
  {
   "cell_type": "code",
   "execution_count": 8,
   "id": "0be38c5e-040c-4b7c-a77e-979564b96645",
   "metadata": {},
   "outputs": [
    {
     "name": "stdout",
     "output_type": "stream",
     "text": [
      "['mouse', 'pig', 'horse', 'donkey']\n",
      "['bat', 'mouse', 'pig', 'horse', 'donkey']\n"
     ]
    }
   ],
   "source": [
    "animals = [\"cat\", \"dog\", \"bat\", \"mouse\", \"pig\", \"horse\", \"donkey\", \"goat\", \"cow\"]\n",
    "print(animals[3:7])\t#using positive indexes\n",
    "print(animals[-7:-2])\t#using negative indexes'"
   ]
  },
  {
   "cell_type": "code",
   "execution_count": 9,
   "id": "825bc59e-9f60-4e39-ab2c-d7c3c16250b7",
   "metadata": {},
   "outputs": [
    {
     "name": "stdout",
     "output_type": "stream",
     "text": [
      "['pig', 'horse', 'donkey', 'goat', 'cow']\n",
      "['horse', 'donkey', 'goat', 'cow']\n"
     ]
    }
   ],
   "source": [
    "animals = [\"cat\", \"dog\", \"bat\", \"mouse\", \"pig\", \"horse\", \"donkey\", \"goat\", \"cow\"]\n",
    "print(animals[4:])\t#using positive indexes\n",
    "print(animals[-4:])\t#using negative indexes"
   ]
  },
  {
   "cell_type": "code",
   "execution_count": 11,
   "id": "ad5a33af-6180-4041-ae82-5dae344d7a2d",
   "metadata": {},
   "outputs": [
    {
     "name": "stdout",
     "output_type": "stream",
     "text": [
      "['cat', 'bat', 'pig', 'donkey', 'cow']\n",
      "['dog', 'mouse', 'horse', 'goat']\n"
     ]
    }
   ],
   "source": [
    "animals = [\"cat\", \"dog\", \"bat\", \"mouse\", \"pig\", \"horse\", \"donkey\", \"goat\", \"cow\"]\n",
    "print(animals[::2])\t\t#using positive indexes\n",
    "print(animals[-8:-1:2])\t#using negative indexes"
   ]
  },
  {
   "cell_type": "code",
   "execution_count": 12,
   "id": "37bd36d2-e3ef-432f-b17c-04c9a56ad736",
   "metadata": {},
   "outputs": [
    {
     "name": "stdout",
     "output_type": "stream",
     "text": [
      "['dog', 'pig', 'goat']\n"
     ]
    }
   ],
   "source": [
    "animals = [\"cat\", \"dog\", \"bat\", \"mouse\", \"pig\", \"horse\", \"donkey\", \"goat\", \"cow\"]\n",
    "print(animals[1:8:3])"
   ]
  },
  {
   "cell_type": "markdown",
   "id": "da86c332-a7aa-48cf-a8f8-e985a167e2d6",
   "metadata": {},
   "source": [
    "# List Comprehension"
   ]
  },
  {
   "cell_type": "markdown",
   "id": "78f969ba-ea50-45f5-8da2-9d2c8addc3f7",
   "metadata": {},
   "source": [
    "List comprehensions are used for creating new lists from other iterables like lists, tuples, dictionaries, sets, and even in arrays and strings."
   ]
  },
  {
   "cell_type": "markdown",
   "id": "aee25d58-b941-44fb-bc78-483fe228b903",
   "metadata": {},
   "source": [
    "# Syntax"
   ]
  },
  {
   "cell_type": "markdown",
   "id": "31ed93c2-51e5-4f4d-92f0-2c0dca4af968",
   "metadata": {},
   "source": [
    "List = [Expression(item) for item in iterable if Condition]\n",
    "\n",
    "Expression: It is the item which is being iterated.\n",
    "\n",
    "Iterable: It can be list, tuples, dictionaries, sets, and even in arrays and strings.\n",
    "\n",
    "Condition: Condition checks if the item should be added to the new list or not."
   ]
  },
  {
   "cell_type": "markdown",
   "id": "315a82c2-e447-4a02-8da4-5aed2834f8f6",
   "metadata": {},
   "source": [
    "## Example 1: Accepts items with the small letter “o” in the new list"
   ]
  },
  {
   "cell_type": "code",
   "execution_count": 13,
   "id": "d9d93045-804d-4312-8664-9c65fd0e1c4d",
   "metadata": {},
   "outputs": [
    {
     "name": "stdout",
     "output_type": "stream",
     "text": [
      "['Milo', 'Bruno', 'Rosa']\n"
     ]
    }
   ],
   "source": [
    "names = [\"Milo\", \"Sarah\", \"Bruno\", \"Anastasia\", \"Rosa\"]\n",
    "namesWith_O = [item for item in names if \"o\" in item]\n",
    "print(namesWith_O)"
   ]
  },
  {
   "cell_type": "markdown",
   "id": "a1b51835-b7cc-4a9a-a68e-cfa8353143c9",
   "metadata": {},
   "source": [
    "## Example 2: Accepts items which have more than 4 letters"
   ]
  },
  {
   "cell_type": "code",
   "execution_count": 14,
   "id": "f276f13c-f14c-478b-99b8-aa727da6e1d8",
   "metadata": {},
   "outputs": [
    {
     "name": "stdout",
     "output_type": "stream",
     "text": [
      "['Sarah', 'Bruno', 'Anastasia']\n"
     ]
    }
   ],
   "source": [
    "names = [\"Milo\", \"Sarah\", \"Bruno\", \"Anastasia\", \"Rosa\"]\n",
    "namesWith_O = [item for item in names if (len(item) > 4)]\n",
    "print(namesWith_O)"
   ]
  },
  {
   "cell_type": "markdown",
   "id": "32f0e9fe-2981-4dd0-bbfc-411b3713aaaf",
   "metadata": {},
   "source": [
    "# Code"
   ]
  },
  {
   "cell_type": "code",
   "execution_count": 15,
   "id": "55a34e8e-5bc6-4bc2-80c2-20db31846fdd",
   "metadata": {},
   "outputs": [
    {
     "name": "stdout",
     "output_type": "stream",
     "text": [
      "[3, 5, 6, 'Harry', True, 6, 7, 2, 32, 345, 23]\n",
      "<class 'list'>\n",
      "3\n",
      "5\n",
      "6\n",
      "Harry\n",
      "True\n",
      "6\n"
     ]
    }
   ],
   "source": [
    "marks = [3, 5, 6, \"Harry\", True, 6, 7 , 2, 32, 345, 23]\n",
    "print(marks)\n",
    "print(type(marks))\n",
    "print(marks[0])\n",
    "print(marks[1])\n",
    "print(marks[2])\n",
    "print(marks[3])\n",
    "print(marks[4])\n",
    "print(marks[5])"
   ]
  },
  {
   "cell_type": "code",
   "execution_count": 17,
   "id": "9721440a-ecd2-4191-a48a-f625b0a690ab",
   "metadata": {},
   "outputs": [
    {
     "name": "stdout",
     "output_type": "stream",
     "text": [
      "32\n",
      "32\n",
      "6\n",
      "6\n"
     ]
    }
   ],
   "source": [
    "marks = [3, 5, 6, \"Harry\", True, 6, 7 , 2, 32, 345, 23]\n",
    "\n",
    "print(marks[-3]) # Negative index\n",
    "print(marks[len(marks)-3]) # Positive index\n",
    "print(marks[5-3]) # Positive index\n",
    "print(marks[2]) # Positive index"
   ]
  },
  {
   "cell_type": "code",
   "execution_count": 20,
   "id": "f823561f-336c-4962-867b-7e716f6688b8",
   "metadata": {},
   "outputs": [
    {
     "name": "stdout",
     "output_type": "stream",
     "text": [
      "No\n"
     ]
    }
   ],
   "source": [
    "marks = [3, 5, 6, \"Harry\", True, 6, 7 , 2, 32, 345, 23]\n",
    "if \"6\" in marks:\n",
    "  print(\"Yes\")\n",
    "else:\n",
    "  print(\"No\")"
   ]
  },
  {
   "cell_type": "code",
   "execution_count": 21,
   "id": "59956c8a-2ef1-4788-9fa0-c3cf564b9df0",
   "metadata": {},
   "outputs": [
    {
     "name": "stdout",
     "output_type": "stream",
     "text": [
      "Yes\n"
     ]
    }
   ],
   "source": [
    "if \"Ha\" in \"Harry\":\n",
    "  print(\"Yes\")"
   ]
  },
  {
   "cell_type": "code",
   "execution_count": 22,
   "id": "f6c455ae-3428-453c-9a22-d7835c20d306",
   "metadata": {},
   "outputs": [
    {
     "name": "stdout",
     "output_type": "stream",
     "text": [
      "[3, 5, 6, 'Harry', True, 6, 7]\n",
      "[5, 6, 'Harry', True, 6, 7, 2, 32]\n",
      "[5, True, 2]\n"
     ]
    }
   ],
   "source": [
    "print(marks[0:7])\n",
    "print(marks[1:9])\n",
    "print(marks[1:9:3])"
   ]
  },
  {
   "cell_type": "code",
   "execution_count": 23,
   "id": "30a3a169-5bde-4a22-8ae4-8b3a93235d3b",
   "metadata": {},
   "outputs": [
    {
     "name": "stdout",
     "output_type": "stream",
     "text": [
      "[0, 1, 4, 9, 16, 25, 36, 49, 64, 81]\n",
      "[0, 4, 16, 36, 64]\n"
     ]
    }
   ],
   "source": [
    "lst = [i*i for i in range(10)]\n",
    "print(lst)\n",
    "lst = [i*i for i in range(10) if i%2==0]\n",
    "print(lst)"
   ]
  }
 ],
 "metadata": {
  "kernelspec": {
   "display_name": "Python 3 (ipykernel)",
   "language": "python",
   "name": "python3"
  },
  "language_info": {
   "codemirror_mode": {
    "name": "ipython",
    "version": 3
   },
   "file_extension": ".py",
   "mimetype": "text/x-python",
   "name": "python",
   "nbconvert_exporter": "python",
   "pygments_lexer": "ipython3",
   "version": "3.11.4"
  }
 },
 "nbformat": 4,
 "nbformat_minor": 5
}
