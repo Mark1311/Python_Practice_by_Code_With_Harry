{
 "cells": [
  {
   "cell_type": "markdown",
   "id": "a357b3d8-1efc-461e-b1a5-b7c5e02f909c",
   "metadata": {},
   "source": [
    "# The Walrus Operator in Python"
   ]
  },
  {
   "cell_type": "markdown",
   "id": "6d4ac7db-d1fb-4a4f-93bb-58408b6cbd20",
   "metadata": {},
   "source": [
    "The Walrus Operator is a new addition to Python 3.8 and allows you to assign a value to a variable within an expression. This can be useful when you need to use a value multiple times in a loop, but don't want to repeat the calculation.\n",
    "\n",
    "The Walrus Operator is represented by the := syntax and can be used in a variety of contexts including while loops and if statements.\n"
   ]
  },
  {
   "cell_type": "code",
   "execution_count": 2,
   "id": "22e3f259-481e-417b-9a31-32913c022320",
   "metadata": {},
   "outputs": [
    {
     "name": "stdout",
     "output_type": "stream",
     "text": [
      "5\n",
      "4\n",
      "3\n",
      "2\n",
      "1\n"
     ]
    }
   ],
   "source": [
    "numbers = [1, 2, 3, 4, 5]\n",
    "while (n := len(numbers)) > 0:\n",
    "    print(numbers.pop())"
   ]
  },
  {
   "cell_type": "markdown",
   "id": "a171ea23-c253-465d-aa74-acc620cda52c",
   "metadata": {},
   "source": [
    "In this example, the length of the numbers list is assigned to the variable n using the Walrus Operator. The value of n is then used in the condition of the while loop, so that the loop will continue to execute until the numbers list is empty.\n"
   ]
  },
  {
   "cell_type": "code",
   "execution_count": 3,
   "id": "3f0f7b08-67a6-4888-a734-58a8f78f87f2",
   "metadata": {},
   "outputs": [
    {
     "name": "stdin",
     "output_type": "stream",
     "text": [
      "Enter a name:  \n"
     ]
    },
    {
     "name": "stdout",
     "output_type": "stream",
     "text": [
      "Name not found.\n"
     ]
    }
   ],
   "source": [
    "#Another example of using the Walrus Operator in an if statement:\n",
    "\n",
    "names = [\"John\", \"Jane\", \"Jim\"]\n",
    "if (name := input(\"Enter a name: \")) in names:\n",
    "    print(f\"Hello, {name}!\")\n",
    "else:\n",
    "    print(\"Name not found.\")"
   ]
  },
  {
   "cell_type": "markdown",
   "id": "acd385aa-719d-4301-9b9b-607af19db875",
   "metadata": {},
   "source": [
    "# Code"
   ]
  },
  {
   "cell_type": "markdown",
   "id": "112bb9a4-7355-4b23-aef4-1af9d6ce890c",
   "metadata": {},
   "source": [
    "# walrus operator :="
   ]
  },
  {
   "cell_type": "code",
   "execution_count": 5,
   "id": "d0b33436-3d9b-4abd-8376-69196e278cb8",
   "metadata": {},
   "outputs": [
    {
     "name": "stdin",
     "output_type": "stream",
     "text": [
      "What food do you like?:  8\n",
      "What food do you like?:  5\n",
      "What food do you like?:  2\n",
      "What food do you like?:  5\n",
      "What food do you like?:  5\n",
      "What food do you like?:  522\n",
      "What food do you like?:  852\n",
      "What food do you like?:  552\n",
      "What food do you like?:  852\n",
      "What food do you like?:  quit\n"
     ]
    }
   ],
   "source": [
    "foods = list()\n",
    "while True:\n",
    "  food = input(\"What food do you like?: \")\n",
    "  if food == \"quit\":\n",
    "      break\n",
    "  foods.append(food)"
   ]
  },
  {
   "cell_type": "code",
   "execution_count": null,
   "id": "b993eb98-ac7b-42c8-b2da-42f5e1431ef7",
   "metadata": {},
   "outputs": [],
   "source": [
    "foods = list()\n",
    "while (food := input(\"What food do you like?: \")) != \"quit\":\n",
    "    foods.append(food)"
   ]
  },
  {
   "cell_type": "code",
   "execution_count": 4,
   "id": "a733794a-cc7f-4786-929f-b00bfd931224",
   "metadata": {},
   "outputs": [
    {
     "name": "stdout",
     "output_type": "stream",
     "text": [
      "False\n",
      "True\n"
     ]
    }
   ],
   "source": [
    "happy = False\n",
    "print(happy)\n",
    "\n",
    "print(happy := True)\n"
   ]
  }
 ],
 "metadata": {
  "kernelspec": {
   "display_name": "Python 3 (ipykernel)",
   "language": "python",
   "name": "python3"
  },
  "language_info": {
   "codemirror_mode": {
    "name": "ipython",
    "version": 3
   },
   "file_extension": ".py",
   "mimetype": "text/x-python",
   "name": "python",
   "nbconvert_exporter": "python",
   "pygments_lexer": "ipython3",
   "version": "3.11.4"
  }
 },
 "nbformat": 4,
 "nbformat_minor": 5
}
