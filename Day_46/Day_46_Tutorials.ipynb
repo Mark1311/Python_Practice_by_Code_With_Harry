{
 "cells": [
  {
   "cell_type": "markdown",
   "id": "50512f3b-9b8e-4d4b-b3b0-10721154a6a3",
   "metadata": {},
   "source": [
    "# os Module in Python"
   ]
  },
  {
   "cell_type": "markdown",
   "id": "0f18cddb-6e14-44b1-a7e4-44ea682e90fe",
   "metadata": {},
   "source": [
    "The os module in Python is a built-in library that provides functions for interacting with the operating system. It allows you to perform a wide variety of tasks, such as reading and writing files, interacting with the file system, and running system commands.\n",
    "\n",
    "Here are some common tasks you can perform with the os module:\n",
    "\n",
    "Reading and writing files The os module provides functions for opening, reading, and writing files. For example, to open a file for reading, you can use the open function:"
   ]
  },
  {
   "cell_type": "code",
   "execution_count": 2,
   "id": "ef6a5fc4-0b2a-476a-a79c-ed3a7ca3321d",
   "metadata": {},
   "outputs": [],
   "source": [
    "import os\n",
    "\n",
    "# Open the file in read-only mode\n",
    "f = os.open(\"myfile.txt\", os.O_RDONLY)\n",
    "\n",
    "# Read the contents of the file\n",
    "contents = os.read(f, 1024)\n",
    "\n",
    "# Close the file\n",
    "os.close(f)"
   ]
  },
  {
   "cell_type": "raw",
   "id": "6de48a42-0958-4aeb-a311-25839036aa86",
   "metadata": {},
   "source": [
    "To open a file for writing, you can use the os.O_WRONLY flag:"
   ]
  },
  {
   "cell_type": "code",
   "execution_count": 3,
   "id": "a3df7533-7be9-4e77-a5eb-bb11041ce03c",
   "metadata": {},
   "outputs": [],
   "source": [
    "import os\n",
    "\n",
    "# Open the file in write-only mode\n",
    "f = os.open(\"myfile.txt\", os.O_WRONLY)\n",
    "\n",
    "# Write to the file\n",
    "os.write(f, b\"Hello, world!\")\n",
    "\n",
    "# Close the file\n",
    "os.close(f)"
   ]
  },
  {
   "cell_type": "markdown",
   "id": "8eea33fa-77c1-42f3-ad34-b70ae94ffb98",
   "metadata": {},
   "source": [
    "# Interacting with the file system\n"
   ]
  },
  {
   "cell_type": "markdown",
   "id": "4fef0ae2-d4ac-42c0-889c-ea4a29c67f12",
   "metadata": {},
   "source": [
    "The os module also provides functions for interacting with the file system. For example, you can use the os.listdir function to get a list of the files in a directory:"
   ]
  },
  {
   "cell_type": "code",
   "execution_count": 5,
   "id": "ad6d81e6-ce09-4d20-8e1c-3ceb1a09d84e",
   "metadata": {},
   "outputs": [
    {
     "name": "stdout",
     "output_type": "stream",
     "text": [
      "['.ipynb_checkpoints', 'data', 'Day_1 to 10', 'Day_11.ipynb', 'Day_12.ipynb', 'Day_13.ipynb', 'Day_14.ipynb', 'Day_15.ipynb', 'Day_16.ipynb', 'Day_17.ipynb', 'Day_18.ipynb', 'Day_19.ipynb', 'Day_20.ipynb', 'Day_21.ipynb', 'Day_22.ipynb', 'Day_23.ipynb', 'Day_24.ipynb', 'Day_25.ipynb', 'Day_26.ipynb', 'Day_27.ipynb', 'Day_28.ipynb', 'Day_29.ipynb', 'Day_30.ipynb', 'Day_31.ipynb', 'Day_32.ipynb', 'Day_33.ipynb', 'Day_34.ipynb', 'Day_35.ipynb', 'Day_36.ipynb', 'Day_37.ipynb', 'Day_38.ipynb', 'Day_39.ipynb', 'Day_40.ipynb', 'Day_41.ipynb', 'Day_42.ipynb', 'Day_43.ipynb', 'Day_44.ipynb', 'Day_45_A.ipynb', 'Day_45_B.ipynb', 'Day_46_Main.ipynb', 'Day_46_oslist.ipynb', 'Day_46_rena.ipynb', 'Day_46_Tutorials.ipynb', 'Day_47.ipynb', 'Day_48.ipynb', 'Day_49.ipynb', 'Day_49_Main.ipynb', 'Day_50.ipynb', 'myfile.txt']\n"
     ]
    }
   ],
   "source": [
    "import os\n",
    "\n",
    "# Get a list of the files in the current directory\n",
    "files = os.listdir(\".\")\n",
    "print(files)  # Output: ['myfile.txt', 'otherfile.txt']"
   ]
  },
  {
   "cell_type": "raw",
   "id": "5acb8a6b-6685-418b-ac90-1adbfeac2d94",
   "metadata": {},
   "source": [
    "You can also use the os.mkdir function to create a new directory:"
   ]
  },
  {
   "cell_type": "code",
   "execution_count": 6,
   "id": "6203b68e-98ed-4245-8634-1696d9a33a57",
   "metadata": {},
   "outputs": [],
   "source": [
    "import os\n",
    "\n",
    "# Create a new directory\n",
    "os.mkdir(\"newdir\")"
   ]
  },
  {
   "cell_type": "markdown",
   "id": "4b77a1b4-c510-4caf-81e3-363bac67cfcd",
   "metadata": {},
   "source": [
    "# Running system commands\n"
   ]
  },
  {
   "cell_type": "markdown",
   "id": "f0dcbbe5-8dba-4045-a589-e366557e03ac",
   "metadata": {},
   "source": [
    "Finally, the os module provides functions for running system commands. For example, you can use the os.system function to run a command and get the output:"
   ]
  },
  {
   "cell_type": "code",
   "execution_count": 13,
   "id": "65186ea1-0c9c-4d57-8e82-8d5594350652",
   "metadata": {},
   "outputs": [
    {
     "name": "stdout",
     "output_type": "stream",
     "text": [
      "1\n"
     ]
    }
   ],
   "source": [
    "import os\n",
    "\n",
    "# Run the \"ls\" command and print the output\n",
    "output = os.system(\"ls\")\n",
    "print(output)  # Output: ['myfile.txt', 'otherfile.txt']"
   ]
  },
  {
   "cell_type": "code",
   "execution_count": 14,
   "id": "397f44f4-61de-40c8-9416-18794ed5a589",
   "metadata": {},
   "outputs": [
    {
     "name": "stdout",
     "output_type": "stream",
     "text": [
      "\n"
     ]
    },
    {
     "data": {
      "text/plain": [
       "1"
      ]
     },
     "execution_count": 14,
     "metadata": {},
     "output_type": "execute_result"
    }
   ],
   "source": [
    "import os\n",
    "\n",
    "# Run the \"ls\" command and get the output as a file-like object\n",
    "f = os.popen(\"ls\")\n",
    "\n",
    "# Read the contents of the output\n",
    "output = f.read()\n",
    "print(output)  # Output: ['myfile.txt', 'otherfile.txt']\n",
    "\n",
    "# Close the file-like object\n",
    "f.close()"
   ]
  }
 ],
 "metadata": {
  "kernelspec": {
   "display_name": "Python 3 (ipykernel)",
   "language": "python",
   "name": "python3"
  },
  "language_info": {
   "codemirror_mode": {
    "name": "ipython",
    "version": 3
   },
   "file_extension": ".py",
   "mimetype": "text/x-python",
   "name": "python",
   "nbconvert_exporter": "python",
   "pygments_lexer": "ipython3",
   "version": "3.11.4"
  }
 },
 "nbformat": 4,
 "nbformat_minor": 5
}
