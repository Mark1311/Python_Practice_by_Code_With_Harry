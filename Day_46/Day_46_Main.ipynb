{
 "cells": [
  {
   "cell_type": "code",
   "execution_count": 3,
   "id": "b3c95a97-015a-4d36-93e6-3955d8647329",
   "metadata": {},
   "outputs": [],
   "source": [
    "import os\n",
    "\n",
    "# if(not os.path.exists(\"data\")):\n",
    "#    os.mkdir(\"data\")\n",
    "\n",
    "# for i in range(0, 100):\n",
    "#     os.mkdir(f\"data/Day{i+1}\") "
   ]
  },
  {
   "cell_type": "code",
   "execution_count": null,
   "id": "4bba702c-2b85-407a-838d-b614ed32f3e8",
   "metadata": {},
   "outputs": [],
   "source": []
  }
 ],
 "metadata": {
  "kernelspec": {
   "display_name": "Python 3 (ipykernel)",
   "language": "python",
   "name": "python3"
  },
  "language_info": {
   "codemirror_mode": {
    "name": "ipython",
    "version": 3
   },
   "file_extension": ".py",
   "mimetype": "text/x-python",
   "name": "python",
   "nbconvert_exporter": "python",
   "pygments_lexer": "ipython3",
   "version": "3.11.4"
  }
 },
 "nbformat": 4,
 "nbformat_minor": 5
}
