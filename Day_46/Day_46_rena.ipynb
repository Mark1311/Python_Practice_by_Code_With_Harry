{
 "cells": [
  {
   "cell_type": "code",
   "execution_count": null,
   "id": "b31b566f-82df-4eb5-92e3-431a21ab5f7f",
   "metadata": {},
   "outputs": [],
   "source": [
    "import os\n",
    " \n",
    "\n",
    "# for i in range(0, 100):\n",
    "#     os.rename(f\"data/Tutorial{i+1}\", f\"data/Tutorial {i+1}\")\n",
    "    \n"
   ]
  }
 ],
 "metadata": {
  "kernelspec": {
   "display_name": "Python 3 (ipykernel)",
   "language": "python",
   "name": "python3"
  },
  "language_info": {
   "codemirror_mode": {
    "name": "ipython",
    "version": 3
   },
   "file_extension": ".py",
   "mimetype": "text/x-python",
   "name": "python",
   "nbconvert_exporter": "python",
   "pygments_lexer": "ipython3",
   "version": "3.11.4"
  }
 },
 "nbformat": 4,
 "nbformat_minor": 5
}
