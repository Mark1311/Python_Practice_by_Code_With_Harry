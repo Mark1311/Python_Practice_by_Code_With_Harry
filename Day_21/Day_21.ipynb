{
 "cells": [
  {
   "cell_type": "markdown",
   "id": "fa5e1ad6-99d8-4f1b-aced-ca03df210198",
   "metadata": {},
   "source": [
    "# Function Arguments and return statement"
   ]
  },
  {
   "cell_type": "markdown",
   "id": "05f933d9-66ca-45f5-b2af-602e33f45731",
   "metadata": {},
   "source": [
    "There are four types of arguments that we can provide in a function:\n",
    "\n",
    "* Default Arguments\n",
    "* Keyword Arguments\n",
    "* Variable length Arguments\n",
    "* Required Arguments"
   ]
  },
  {
   "cell_type": "markdown",
   "id": "22fe06b6-67bd-4d4a-83f8-774278b6a0dd",
   "metadata": {},
   "source": [
    "# Default arguments:"
   ]
  },
  {
   "cell_type": "code",
   "execution_count": 2,
   "id": "551ad36c-f767-4b4a-8317-7ddced220a03",
   "metadata": {},
   "outputs": [
    {
     "name": "stdout",
     "output_type": "stream",
     "text": [
      "Hello, Amy Jhon Whatson\n"
     ]
    }
   ],
   "source": [
    "def name(fname, mname = \"Jhon\", lname = \"Whatson\"):\n",
    "    print(\"Hello,\", fname, mname, lname)\n",
    "\n",
    "name(\"Amy\")"
   ]
  },
  {
   "cell_type": "markdown",
   "id": "44018bee-b21a-4ed2-bb79-d176d61e8f3e",
   "metadata": {},
   "source": [
    "# Keyword arguments:"
   ]
  },
  {
   "cell_type": "code",
   "execution_count": 3,
   "id": "3259ff66-54bb-4ffe-b341-225f57c0d297",
   "metadata": {},
   "outputs": [
    {
     "name": "stdout",
     "output_type": "stream",
     "text": [
      "Hello, Jade Peter Wesker\n"
     ]
    }
   ],
   "source": [
    "def name(fname, mname, lname):\n",
    "    print(\"Hello,\", fname, mname, lname)\n",
    "name(mname = \"Peter\", lname = \"Wesker\", fname = \"Jade\")"
   ]
  },
  {
   "cell_type": "markdown",
   "id": "e7392154-9941-4812-9e87-4816fd2161c4",
   "metadata": {},
   "source": [
    "# Required arguments:"
   ]
  },
  {
   "cell_type": "markdown",
   "id": "c39f7e7d-a569-46d5-b819-507e8ca0f7b6",
   "metadata": {},
   "source": [
    "Example 1: when number of arguments passed does not match to the actual function definition."
   ]
  },
  {
   "cell_type": "raw",
   "id": "34046ba4-bcc1-4042-a381-4f86e11d217f",
   "metadata": {},
   "source": [
    "def name(fname, mname, lname):\n",
    "    print(\"Hello,\", fname, mname, lname)\n",
    "\n",
    "name(\"Peter\", \"Quill\")"
   ]
  },
  {
   "cell_type": "markdown",
   "id": "0e4f7f47-4e60-4de8-aa22-fe2d8d17ac7b",
   "metadata": {},
   "source": [
    "Example 2: when number of arguments passed matches to the actual function definition."
   ]
  },
  {
   "cell_type": "code",
   "execution_count": 8,
   "id": "4a25b15c-d855-434e-9d58-1e1903d42305",
   "metadata": {},
   "outputs": [
    {
     "name": "stdout",
     "output_type": "stream",
     "text": [
      "Hello, Peter Ego Quill\n"
     ]
    }
   ],
   "source": [
    "def name(fname, mname, lname):\n",
    "    print(\"Hello,\", fname, mname, lname)\n",
    "\n",
    "name(\"Peter\", \"Ego\", \"Quill\")"
   ]
  },
  {
   "cell_type": "markdown",
   "id": "75401c6f-c462-457c-b1e6-e2ee28623825",
   "metadata": {},
   "source": [
    "# Variable-length arguments:"
   ]
  },
  {
   "cell_type": "code",
   "execution_count": 9,
   "id": "a83ab35f-de05-4c42-92dc-cf62803abc56",
   "metadata": {},
   "outputs": [
    {
     "name": "stdout",
     "output_type": "stream",
     "text": [
      "Hello, James Buchanan Barnes\n"
     ]
    }
   ],
   "source": [
    "def name(*name):\n",
    "    print(\"Hello,\", name[0], name[1], name[2])\n",
    "\n",
    "name(\"James\", \"Buchanan\", \"Barnes\")"
   ]
  },
  {
   "cell_type": "markdown",
   "id": "2c676aa8-20f2-4ee2-bd5c-96d9df76430f",
   "metadata": {},
   "source": [
    "# Keyword Arbitrary Arguments:"
   ]
  },
  {
   "cell_type": "code",
   "execution_count": 10,
   "id": "2644426c-0071-49a0-8518-9c642fbf00a8",
   "metadata": {},
   "outputs": [
    {
     "name": "stdout",
     "output_type": "stream",
     "text": [
      "Hello, James Buchanan Barnes\n"
     ]
    }
   ],
   "source": [
    "def name(**name):\n",
    "    print(\"Hello,\", name[\"fname\"], name[\"mname\"], name[\"lname\"])\n",
    "\n",
    "name(mname = \"Buchanan\", lname = \"Barnes\", fname = \"James\")"
   ]
  },
  {
   "cell_type": "markdown",
   "id": "4d1b7582-f10a-4bf8-a8a0-ed3cc019dfc9",
   "metadata": {},
   "source": [
    "# return Statement"
   ]
  },
  {
   "cell_type": "code",
   "execution_count": 11,
   "id": "8a0abd77-0f8d-4723-ab65-9e48767465c8",
   "metadata": {},
   "outputs": [
    {
     "name": "stdout",
     "output_type": "stream",
     "text": [
      "Hello, James Buchanan Barnes\n"
     ]
    }
   ],
   "source": [
    "def name(fname, mname, lname):\n",
    "    return \"Hello, \" + fname + \" \" + mname + \" \" + lname\n",
    "\n",
    "print(name(\"James\", \"Buchanan\", \"Barnes\"))"
   ]
  },
  {
   "cell_type": "markdown",
   "id": "f9237ce4-fd4f-4629-a7cb-4be184d89a27",
   "metadata": {},
   "source": [
    "# Code"
   ]
  },
  {
   "cell_type": "code",
   "execution_count": 13,
   "id": "f2d68b24-8dc0-4e95-805f-0ce854276167",
   "metadata": {},
   "outputs": [
    {
     "name": "stdout",
     "output_type": "stream",
     "text": [
      "The average is  5.5\n",
      "The average is  7.0\n"
     ]
    }
   ],
   "source": [
    "def average(a, b, c=1):\n",
    "  print(\"The average is \", (a + b + c) / 2)\n",
    "\n",
    "\n",
    "average(4, 6)\n",
    "average(4, b=9)"
   ]
  },
  {
   "cell_type": "code",
   "execution_count": 19,
   "id": "a4216a93-0915-459c-9712-9ca5eca2262b",
   "metadata": {},
   "outputs": [
    {
     "name": "stdout",
     "output_type": "stream",
     "text": [
      "4.75\n"
     ]
    }
   ],
   "source": [
    "def average(*numbers):\n",
    "  # print(type(numbers))\n",
    "  sum = 0\n",
    "  for i in numbers:\n",
    "    sum = sum + i\n",
    "  # print(\"Average is: \", sum / len(numbers))\n",
    "  # return 7\n",
    "  return sum / len(numbers)\n",
    "\n",
    "c = average(5, 6, 7, 1)\n",
    "print(c)"
   ]
  },
  {
   "cell_type": "code",
   "execution_count": 22,
   "id": "1fd19083-6785-48fb-925f-cf1d770195e0",
   "metadata": {},
   "outputs": [
    {
     "name": "stdout",
     "output_type": "stream",
     "text": [
      "Hello, James Buchanan Barnes\n"
     ]
    }
   ],
   "source": [
    "def name(**name):\n",
    "  # print(type(name))\n",
    "  print(\"Hello,\", name[\"fname\"], name[\"mname\"], name[\"lname\"])\n",
    "\n",
    "\n",
    "name(mname=\"Buchanan\", lname=\"Barnes\", fname=\"James\")"
   ]
  }
 ],
 "metadata": {
  "kernelspec": {
   "display_name": "Python 3 (ipykernel)",
   "language": "python",
   "name": "python3"
  },
  "language_info": {
   "codemirror_mode": {
    "name": "ipython",
    "version": 3
   },
   "file_extension": ".py",
   "mimetype": "text/x-python",
   "name": "python",
   "nbconvert_exporter": "python",
   "pygments_lexer": "ipython3",
   "version": "3.11.4"
  }
 },
 "nbformat": 4,
 "nbformat_minor": 5
}
