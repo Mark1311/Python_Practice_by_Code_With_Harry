{
 "cells": [
  {
   "cell_type": "markdown",
   "id": "46834c58-f38b-415b-a088-98bf660ba6a1",
   "metadata": {},
   "source": [
    "# Exercise - 5"
   ]
  },
  {
   "cell_type": "markdown",
   "id": "b6e15c97-f44e-445e-96a6-03803ed69dc3",
   "metadata": {},
   "source": [
    "### Snake Water Gun"
   ]
  },
  {
   "cell_type": "markdown",
   "id": "fa97d8fd-d1ef-4448-bae9-665362829f71",
   "metadata": {},
   "source": [
    "Snake, Water and Gun is a variation of the children's game \"rock-paper-scissors\" where players use hand gestures to represent a snake, water, or a gun. The gun beats the snake, the water beats the gun, and the snake beats the water. Write a python program to create a Snake Water Gun game in Python using if-else statements. Do not create any fancy GUI. Use proper functions to check for win."
   ]
  }
 ],
 "metadata": {
  "kernelspec": {
   "display_name": "Python 3 (ipykernel)",
   "language": "python",
   "name": "python3"
  },
  "language_info": {
   "codemirror_mode": {
    "name": "ipython",
    "version": 3
   },
   "file_extension": ".py",
   "mimetype": "text/x-python",
   "name": "python",
   "nbconvert_exporter": "python",
   "pygments_lexer": "ipython3",
   "version": "3.11.4"
  }
 },
 "nbformat": 4,
 "nbformat_minor": 5
}
