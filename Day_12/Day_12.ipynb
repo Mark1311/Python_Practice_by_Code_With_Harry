{
 "cells": [
  {
   "cell_type": "markdown",
   "id": "9f593b76-d37f-46d2-89f3-b983c1505b05",
   "metadata": {},
   "source": [
    "# String Slicing & Operations on String"
   ]
  },
  {
   "cell_type": "markdown",
   "id": "7fd49b73-c51a-49e6-a8b8-bdcf93792c77",
   "metadata": {},
   "source": [
    "### Length of a String"
   ]
  },
  {
   "cell_type": "markdown",
   "id": "85460eec-fbc1-4804-a164-d39c2097be9d",
   "metadata": {},
   "source": [
    "We can find the length of a string using len()Function."
   ]
  },
  {
   "cell_type": "code",
   "execution_count": 2,
   "id": "69e1df2f-05b9-4799-a0b2-c9f5905548dd",
   "metadata": {},
   "outputs": [
    {
     "name": "stdout",
     "output_type": "stream",
     "text": [
      "Mango is a 5 letter word.\n"
     ]
    }
   ],
   "source": [
    "fruit = \"Mango\"\n",
    "len1 = len(fruit)\n",
    "print(\"Mango is a\", len1, \"letter word.\")"
   ]
  },
  {
   "cell_type": "markdown",
   "id": "611ccba5-1a07-4c8f-a339-e2b84a80bd1d",
   "metadata": {},
   "source": [
    "### String as an array"
   ]
  },
  {
   "cell_type": "markdown",
   "id": "9d37abd3-1d30-461c-a3fd-6ff455b315d1",
   "metadata": {},
   "source": [
    "A string is essentially a sequence of characters also called an array. Thus we can access the elements of this array."
   ]
  },
  {
   "cell_type": "code",
   "execution_count": 3,
   "id": "58203648-20bb-4f82-98f5-dff2e72afdd8",
   "metadata": {},
   "outputs": [
    {
     "name": "stdout",
     "output_type": "stream",
     "text": [
      "Apple\n",
      "i\n"
     ]
    }
   ],
   "source": [
    "pie = \"ApplePie\"\n",
    "print(pie[:5])\n",
    "print(pie[6])"
   ]
  },
  {
   "cell_type": "markdown",
   "id": "544a4b82-320f-4eb0-8675-b1f73b160940",
   "metadata": {},
   "source": [
    "### Slicing Example:"
   ]
  },
  {
   "cell_type": "code",
   "execution_count": 4,
   "id": "b641a40a-a0ed-4906-85c4-a6d4ec68d5ca",
   "metadata": {},
   "outputs": [
    {
     "name": "stdout",
     "output_type": "stream",
     "text": [
      "Apple\n",
      "Pie\n",
      "pleP\n",
      "ApplePie\n"
     ]
    }
   ],
   "source": [
    "pie = \"ApplePie\"\n",
    "print(pie[:5])      #Slicing from Start\n",
    "print(pie[5:])      #Slicing till End\n",
    "print(pie[2:6])     #Slicing in between\n",
    "print(pie[-8:])     #Slicing using negative index"
   ]
  },
  {
   "cell_type": "markdown",
   "id": "54b3fe7c-2371-4880-8b84-da79868eb2e8",
   "metadata": {},
   "source": [
    "## Loop through a String:"
   ]
  },
  {
   "cell_type": "markdown",
   "id": "8ae0f9d1-d81b-4c44-892c-a465cb6dc182",
   "metadata": {},
   "source": [
    "Strings are arrays and arrays are iterable. Thus we can loop through strings."
   ]
  },
  {
   "cell_type": "code",
   "execution_count": 5,
   "id": "4d17d0e2-ac3d-4b6e-aa83-bbb90042a8fb",
   "metadata": {},
   "outputs": [
    {
     "name": "stdout",
     "output_type": "stream",
     "text": [
      "A\n",
      "B\n",
      "C\n",
      "D\n",
      "E\n"
     ]
    }
   ],
   "source": [
    "alphabets = \"ABCDE\"\n",
    "for i in alphabets:\n",
    "    print(i)"
   ]
  },
  {
   "cell_type": "markdown",
   "id": "c1b77ab5-00d5-413a-9519-d6cf3f531734",
   "metadata": {},
   "source": [
    "# Code"
   ]
  },
  {
   "cell_type": "code",
   "execution_count": null,
   "id": "d44281dc-1500-4125-b870-ead7f1e8433e",
   "metadata": {},
   "outputs": [],
   "source": [
    "fruit = \"Mango\""
   ]
  },
  {
   "cell_type": "code",
   "execution_count": 6,
   "id": "7b0a90d3-48e4-43d2-b672-70871269ed74",
   "metadata": {},
   "outputs": [
    {
     "name": "stdout",
     "output_type": "stream",
     "text": [
      "5\n"
     ]
    }
   ],
   "source": [
    "mangoLen = len(fruit)\n",
    "print(mangoLen)"
   ]
  },
  {
   "cell_type": "code",
   "execution_count": 7,
   "id": "108564cb-0bc1-473f-982d-bc3b5b651797",
   "metadata": {},
   "outputs": [
    {
     "name": "stdout",
     "output_type": "stream",
     "text": [
      "Mang\n"
     ]
    }
   ],
   "source": [
    "print(fruit[0:4]) # including 0 but not 4"
   ]
  },
  {
   "cell_type": "code",
   "execution_count": 8,
   "id": "0b74c5a4-b906-4cb0-8541-c7fbbd73e12c",
   "metadata": {},
   "outputs": [
    {
     "name": "stdout",
     "output_type": "stream",
     "text": [
      "ang\n"
     ]
    }
   ],
   "source": [
    "print(fruit[1:4]) # including 1 but not 4"
   ]
  },
  {
   "cell_type": "code",
   "execution_count": 9,
   "id": "bdfc2946-651b-4d33-aaf1-0f1197e1f86e",
   "metadata": {},
   "outputs": [
    {
     "name": "stdout",
     "output_type": "stream",
     "text": [
      "Mango\n"
     ]
    }
   ],
   "source": [
    "print(fruit[:5])"
   ]
  },
  {
   "cell_type": "code",
   "execution_count": 10,
   "id": "a4f6d20b-7778-44e5-90d9-d43db204b6a4",
   "metadata": {},
   "outputs": [
    {
     "name": "stdout",
     "output_type": "stream",
     "text": [
      "Ma\n"
     ]
    }
   ],
   "source": [
    "print(fruit[0:-3])"
   ]
  },
  {
   "cell_type": "code",
   "execution_count": 11,
   "id": "4a906f67-6729-47a6-a543-2fed01218bf5",
   "metadata": {},
   "outputs": [
    {
     "name": "stdout",
     "output_type": "stream",
     "text": [
      "Ma\n"
     ]
    }
   ],
   "source": [
    "print(fruit[:len(fruit)-3])"
   ]
  },
  {
   "cell_type": "code",
   "execution_count": 15,
   "id": "a66e709a-28eb-41fd-b186-70fb914464c2",
   "metadata": {},
   "outputs": [
    {
     "name": "stdout",
     "output_type": "stream",
     "text": [
      "ng\n"
     ]
    }
   ],
   "source": [
    "print(fruit[-3:-1])"
   ]
  }
 ],
 "metadata": {
  "kernelspec": {
   "display_name": "Python 3 (ipykernel)",
   "language": "python",
   "name": "python3"
  },
  "language_info": {
   "codemirror_mode": {
    "name": "ipython",
    "version": 3
   },
   "file_extension": ".py",
   "mimetype": "text/x-python",
   "name": "python",
   "nbconvert_exporter": "python",
   "pygments_lexer": "ipython3",
   "version": "3.11.4"
  }
 },
 "nbformat": 4,
 "nbformat_minor": 5
}
