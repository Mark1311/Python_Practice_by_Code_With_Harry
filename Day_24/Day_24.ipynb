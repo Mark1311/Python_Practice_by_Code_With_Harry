{
 "cells": [
  {
   "cell_type": "markdown",
   "id": "d41e322a-2a34-4dc9-9527-7a275bf1eb2b",
   "metadata": {},
   "source": [
    "# Python Tuples"
   ]
  },
  {
   "cell_type": "markdown",
   "id": "19417b75-f3fa-4240-b39b-5ac98258ab09",
   "metadata": {},
   "source": [
    "Tuples are ordered collection of data items. They store multiple items in a single variable. Tuple items are separated by commas and enclosed within round brackets (). Tuples are unchangeable meaning we can not alter them after creation."
   ]
  },
  {
   "cell_type": "code",
   "execution_count": 1,
   "id": "1c03f56c-2063-4ffe-922a-e5bbdc59a332",
   "metadata": {},
   "outputs": [
    {
     "name": "stdout",
     "output_type": "stream",
     "text": [
      "(1, 2, 2, 3, 5, 4, 6)\n",
      "('Red', 'Green', 'Blue')\n"
     ]
    }
   ],
   "source": [
    "tuple1 = (1,2,2,3,5,4,6)\n",
    "tuple2 = (\"Red\", \"Green\", \"Blue\")\n",
    "print(tuple1)\n",
    "print(tuple2)"
   ]
  },
  {
   "cell_type": "code",
   "execution_count": 2,
   "id": "3bf8017c-e105-468a-aed2-111fdb1809b4",
   "metadata": {},
   "outputs": [
    {
     "name": "stdout",
     "output_type": "stream",
     "text": [
      "('Abhijeet', 18, 'FYBScIT', 9.8)\n"
     ]
    }
   ],
   "source": [
    "details = (\"Abhijeet\", 18, \"FYBScIT\", 9.8)\n",
    "print(details)"
   ]
  },
  {
   "cell_type": "markdown",
   "id": "30a95b7a-d2d9-4d2a-9f81-deea5f4550be",
   "metadata": {},
   "source": [
    "# Tuple Indexes"
   ]
  },
  {
   "cell_type": "raw",
   "id": "d658cdca-64fe-4c60-92d3-28f7f7461d18",
   "metadata": {},
   "source": [
    "country = (\"Spain\", \"Italy\", \"India\",)\n",
    "#            [0]      [1]      [2]"
   ]
  },
  {
   "cell_type": "markdown",
   "id": "321a22ce-34ef-4d8b-98c3-05ec60d1a57b",
   "metadata": {},
   "source": [
    "# Accessing tuple items:"
   ]
  },
  {
   "cell_type": "markdown",
   "id": "8507c475-9939-4356-8be0-0a69c88979f7",
   "metadata": {},
   "source": [
    "# I. Positive Indexing:"
   ]
  },
  {
   "cell_type": "code",
   "execution_count": 4,
   "id": "0681b67c-4eb9-4f47-ae77-1e4ce70c20da",
   "metadata": {},
   "outputs": [
    {
     "name": "stdout",
     "output_type": "stream",
     "text": [
      "Spain\n",
      "Italy\n",
      "India\n"
     ]
    }
   ],
   "source": [
    "country = (\"Spain\", \"Italy\", \"India\",)\n",
    "#            [0]      [1]      [2] \n",
    "\n",
    "print(country[0])\n",
    "print(country[1])\n",
    "print(country[2])"
   ]
  },
  {
   "cell_type": "markdown",
   "id": "38106e54-c5af-4ba6-a85f-edebf0c94068",
   "metadata": {},
   "source": [
    "# II. Negative Indexing:"
   ]
  },
  {
   "cell_type": "code",
   "execution_count": 5,
   "id": "aa121447-6db9-41f1-844a-1099d9cdc0ab",
   "metadata": {},
   "outputs": [
    {
     "name": "stdout",
     "output_type": "stream",
     "text": [
      "Germany\n",
      "India\n",
      "Italy\n"
     ]
    }
   ],
   "source": [
    "country = (\"Spain\", \"Italy\", \"India\", \"England\", \"Germany\")\n",
    "#            [0]      [1]      [2]       [3]        [4]\n",
    "\n",
    "print(country[-1]) # Similar to print(country[len(country) - 1])\n",
    "print(country[-3])\n",
    "print(country[-4])"
   ]
  },
  {
   "cell_type": "markdown",
   "id": "57b7bdbc-c67a-42a9-b7c1-0f4095b55e3e",
   "metadata": {},
   "source": [
    "# III. Check for item:"
   ]
  },
  {
   "cell_type": "code",
   "execution_count": 6,
   "id": "2da0c606-dabd-4200-8c08-da3b7f9f5564",
   "metadata": {},
   "outputs": [
    {
     "name": "stdout",
     "output_type": "stream",
     "text": [
      "Germany is present.\n"
     ]
    }
   ],
   "source": [
    "country = (\"Spain\", \"Italy\", \"India\", \"England\", \"Germany\")\n",
    "\n",
    "if \"Germany\" in country:\n",
    "    print(\"Germany is present.\")\n",
    "else:\n",
    "    print(\"Germany is absent.\")"
   ]
  },
  {
   "cell_type": "code",
   "execution_count": 14,
   "id": "60b1fd26-ac22-4193-9a89-8da96d663e30",
   "metadata": {},
   "outputs": [
    {
     "name": "stdout",
     "output_type": "stream",
     "text": [
      "Russia is absent.\n"
     ]
    }
   ],
   "source": [
    "country = (\"Spain\", \"Italy\", \"India\", \"England\", \"Germany\")\n",
    "\n",
    "if \"Russia\" in country:\n",
    "    print(\"Russia is present.\")\n",
    "else:\n",
    "    print(\"Russia is absent.\")"
   ]
  },
  {
   "cell_type": "markdown",
   "id": "6e91b74e-d147-4893-a887-50a9c1c2cf58",
   "metadata": {},
   "source": [
    "# IV. Range of Index:"
   ]
  },
  {
   "cell_type": "markdown",
   "id": "107aa853-98e6-4a80-b2f1-1553358dbf4d",
   "metadata": {},
   "source": [
    "# Syntax"
   ]
  },
  {
   "cell_type": "markdown",
   "id": "7bac6598-e072-4a07-9d32-34e5da090429",
   "metadata": {},
   "source": [
    "#### Tuple [start : end : jumpIndex]"
   ]
  },
  {
   "cell_type": "markdown",
   "id": "3c627058-1e22-41a7-92de-7d29656fbeda",
   "metadata": {},
   "source": [
    "Example: Printing elements within a particular range."
   ]
  },
  {
   "cell_type": "code",
   "execution_count": 7,
   "id": "a35913d3-0525-4518-b922-f1789d96ab51",
   "metadata": {},
   "outputs": [
    {
     "name": "stdout",
     "output_type": "stream",
     "text": [
      "('mouse', 'pig', 'horse', 'donkey')\n",
      "('bat', 'mouse', 'pig', 'horse', 'donkey')\n"
     ]
    }
   ],
   "source": [
    "animals = (\"cat\", \"dog\", \"bat\", \"mouse\", \"pig\", \"horse\", \"donkey\", \"goat\", \"cow\")\n",
    "\n",
    "print(animals[3:7])     #using positive indexes\n",
    "print(animals[-7:-2])   #using negative indexes"
   ]
  },
  {
   "cell_type": "markdown",
   "id": "d5d7c8b7-2d2d-4a83-94a7-12a6058fc52f",
   "metadata": {},
   "source": [
    "Example: Printing all element from a given index till the end."
   ]
  },
  {
   "cell_type": "code",
   "execution_count": 8,
   "id": "927ac23b-edca-45f3-87ce-b83dc24a3365",
   "metadata": {},
   "outputs": [
    {
     "name": "stdout",
     "output_type": "stream",
     "text": [
      "('pig', 'horse', 'donkey', 'goat', 'cow')\n",
      "('horse', 'donkey', 'goat', 'cow')\n"
     ]
    }
   ],
   "source": [
    "animals = (\"cat\", \"dog\", \"bat\", \"mouse\", \"pig\", \"horse\", \"donkey\", \"goat\", \"cow\")\n",
    "\n",
    "print(animals[4:])      #using positive indexes\n",
    "print(animals[-4:])     #using negative indexes"
   ]
  },
  {
   "cell_type": "markdown",
   "id": "66a0dd72-ad71-4c31-8daa-02d86d71af54",
   "metadata": {},
   "source": [
    "Example: printing all elements from start to a given index.\n"
   ]
  },
  {
   "cell_type": "code",
   "execution_count": 9,
   "id": "d89a8931-140a-4290-8749-0bb56adee805",
   "metadata": {},
   "outputs": [
    {
     "name": "stdout",
     "output_type": "stream",
     "text": [
      "('cat', 'dog', 'bat', 'mouse', 'pig', 'horse')\n",
      "('cat', 'dog', 'bat', 'mouse', 'pig', 'horse')\n"
     ]
    }
   ],
   "source": [
    "animals = (\"cat\", \"dog\", \"bat\", \"mouse\", \"pig\", \"horse\", \"donkey\", \"goat\", \"cow\")\n",
    "\n",
    "print(animals[:6])      #using positive indexes\n",
    "print(animals[:-3])     #using negative indexes"
   ]
  },
  {
   "cell_type": "markdown",
   "id": "2aaafbc1-075c-427a-be02-8e4a92e24fe2",
   "metadata": {},
   "source": [
    "Example: Print alternate values."
   ]
  },
  {
   "cell_type": "code",
   "execution_count": 10,
   "id": "fed18b56-047e-4668-b4c7-90b92088eb5a",
   "metadata": {},
   "outputs": [
    {
     "name": "stdout",
     "output_type": "stream",
     "text": [
      "('cat', 'bat', 'pig', 'donkey', 'cow')\n",
      "('dog', 'mouse', 'horse', 'goat')\n"
     ]
    }
   ],
   "source": [
    "animals = (\"cat\", \"dog\", \"bat\", \"mouse\", \"pig\", \"horse\", \"donkey\", \"goat\", \"cow\")\n",
    "\n",
    "print(animals[::2])     #using positive indexes\n",
    "print(animals[-8:-1:2]) #using negative indexes"
   ]
  },
  {
   "cell_type": "markdown",
   "id": "f8832ccf-a548-4d85-a4f3-dddd864261d5",
   "metadata": {},
   "source": [
    "Example: printing every 3rd consecutive withing given range."
   ]
  },
  {
   "cell_type": "code",
   "execution_count": 11,
   "id": "6c4a0866-c98c-493c-b891-2fc6f459f810",
   "metadata": {},
   "outputs": [
    {
     "name": "stdout",
     "output_type": "stream",
     "text": [
      "('dog', 'pig', 'goat')\n"
     ]
    }
   ],
   "source": [
    "animals = (\"cat\", \"dog\", \"bat\", \"mouse\", \"pig\", \"horse\", \"donkey\", \"goat\", \"cow\")\n",
    "print(animals[1:8:3])"
   ]
  },
  {
   "cell_type": "markdown",
   "id": "435f6929-967f-4c7b-b42f-792e935009cf",
   "metadata": {},
   "source": [
    "# Code"
   ]
  },
  {
   "cell_type": "code",
   "execution_count": 17,
   "id": "daf17553-69e1-4a3b-a184-034403fa5cff",
   "metadata": {},
   "outputs": [
    {
     "name": "stdout",
     "output_type": "stream",
     "text": [
      "<class 'tuple'> (1, 2, 76, 342, 32, 'green', True)\n",
      "7\n",
      "1\n",
      "True\n",
      "76\n"
     ]
    }
   ],
   "source": [
    "tup = (1, 2, 76, 342, 32, \"green\", True)\n",
    "print(type(tup), tup)\n",
    "print(len(tup))\n",
    "print(tup[0])\n",
    "print(tup[-1])\n",
    "print(tup[2])"
   ]
  },
  {
   "cell_type": "code",
   "execution_count": 19,
   "id": "8c7b4bcb-46aa-462d-a31b-ed86ad291ab1",
   "metadata": {},
   "outputs": [
    {
     "name": "stdout",
     "output_type": "stream",
     "text": [
      "(2, 76, 342)\n"
     ]
    }
   ],
   "source": [
    "if  3421 in tup:\n",
    "  print(\"Yes 342 is present in this tuple\")\n",
    "    \n",
    "tup2 = tup[1:4]\n",
    "print(tup2)"
   ]
  },
  {
   "cell_type": "code",
   "execution_count": 24,
   "id": "771ee2a6-5ce2-4bfd-966d-3b32633eaf46",
   "metadata": {},
   "outputs": [
    {
     "name": "stdout",
     "output_type": "stream",
     "text": [
      "Count of 3 in tuple1 is: 10\n"
     ]
    }
   ],
   "source": [
    "tuple1 = (0, 1, 2, 3, 2, 31, 1, 3, 2, 3)\n",
    "# res = tuple1.count(3)\n",
    "# res = tuple1.index(3)\n",
    "# res = tuple1.index(311)\n",
    "# res = tuple1.index(3, 4, 8)\n",
    "res = len(tuple1)\n",
    "print('Count of 3 in tuple1 is:', res)"
   ]
  }
 ],
 "metadata": {
  "kernelspec": {
   "display_name": "Python 3 (ipykernel)",
   "language": "python",
   "name": "python3"
  },
  "language_info": {
   "codemirror_mode": {
    "name": "ipython",
    "version": 3
   },
   "file_extension": ".py",
   "mimetype": "text/x-python",
   "name": "python",
   "nbconvert_exporter": "python",
   "pygments_lexer": "ipython3",
   "version": "3.11.4"
  }
 },
 "nbformat": 4,
 "nbformat_minor": 5
}
