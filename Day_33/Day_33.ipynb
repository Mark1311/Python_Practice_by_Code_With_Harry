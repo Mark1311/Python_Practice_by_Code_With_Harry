{
 "cells": [
  {
   "cell_type": "markdown",
   "id": "58e80911-2479-4d10-bc11-21dd3446c347",
   "metadata": {},
   "source": [
    "# Python Dictionaries"
   ]
  },
  {
   "cell_type": "markdown",
   "id": "1639979d-1ce7-4b10-a0da-eea1703119c9",
   "metadata": {},
   "source": [
    "Dictionaries are ordered collection of data items. They store multiple items in a single variable. Dictionary items are key-value pairs that are separated by commas and enclosed within curly brackets {}."
   ]
  },
  {
   "cell_type": "code",
   "execution_count": 1,
   "id": "93ab59de-894b-44f0-8d0d-4a7274748761",
   "metadata": {},
   "outputs": [
    {
     "name": "stdout",
     "output_type": "stream",
     "text": [
      "{'name': 'Karan', 'age': 19, 'eligible': True}\n"
     ]
    }
   ],
   "source": [
    "info = {'name':'Karan', 'age':19, 'eligible':True}\n",
    "print(info)"
   ]
  },
  {
   "cell_type": "markdown",
   "id": "db43ea2f-32af-4134-b6af-49619f8379d9",
   "metadata": {},
   "source": [
    "# Accessing Dictionary items:"
   ]
  },
  {
   "cell_type": "markdown",
   "id": "a1fe5b5f-ff31-40ed-a552-72f7172a11ff",
   "metadata": {},
   "source": [
    "# I. Accessing single values:"
   ]
  },
  {
   "cell_type": "markdown",
   "id": "cf049df1-8378-4b6b-a371-7a36a2f27904",
   "metadata": {},
   "source": [
    "Values in a dictionary can be accessed using keys. We can access dictionary values by mentioning keys either in square brackets or by using get method."
   ]
  },
  {
   "cell_type": "code",
   "execution_count": 2,
   "id": "947cfae8-3522-493c-8e46-89c56bb05d1f",
   "metadata": {},
   "outputs": [
    {
     "name": "stdout",
     "output_type": "stream",
     "text": [
      "Karan\n",
      "True\n"
     ]
    }
   ],
   "source": [
    "info = {'name':'Karan', 'age':19, 'eligible':True}\n",
    "print(info['name'])\n",
    "print(info.get('eligible'))"
   ]
  },
  {
   "cell_type": "markdown",
   "id": "c191ea24-eeb8-4197-a08c-78e74ed15bdc",
   "metadata": {},
   "source": [
    "# II. Accessing multiple values:"
   ]
  },
  {
   "cell_type": "markdown",
   "id": "427fc09b-eb3f-415b-9875-ef43078323a0",
   "metadata": {},
   "source": [
    "We can print all the values in the dictionary using values() method."
   ]
  },
  {
   "cell_type": "code",
   "execution_count": 3,
   "id": "0dadb366-b822-4cd3-a31a-f14321b3c9df",
   "metadata": {},
   "outputs": [
    {
     "name": "stdout",
     "output_type": "stream",
     "text": [
      "dict_values(['Karan', 19, True])\n"
     ]
    }
   ],
   "source": [
    "info = {'name':'Karan', 'age':19, 'eligible':True}\n",
    "print(info.values())"
   ]
  },
  {
   "cell_type": "markdown",
   "id": "2af48f91-1ca0-4971-9a5d-6eb23e4dcb72",
   "metadata": {},
   "source": [
    "# III. Accessing keys:"
   ]
  },
  {
   "cell_type": "markdown",
   "id": "455bdf68-f19c-42ee-8210-2eea2aae704f",
   "metadata": {},
   "source": [
    "We can print all the keys in the dictionary using keys() method."
   ]
  },
  {
   "cell_type": "code",
   "execution_count": 4,
   "id": "f79e12c9-4baa-4a22-99b2-e10d16ad0abb",
   "metadata": {},
   "outputs": [
    {
     "name": "stdout",
     "output_type": "stream",
     "text": [
      "dict_keys(['name', 'age', 'eligible'])\n"
     ]
    }
   ],
   "source": [
    "info = {'name':'Karan', 'age':19, 'eligible':True}\n",
    "print(info.keys())"
   ]
  },
  {
   "cell_type": "markdown",
   "id": "7e66bd9e-ebab-4f5a-8a39-446c97b5f7e7",
   "metadata": {},
   "source": [
    "# IV. Accessing key-value pairs:"
   ]
  },
  {
   "cell_type": "markdown",
   "id": "7ad62a56-87de-48b3-9a66-d4f757f4e665",
   "metadata": {},
   "source": [
    "We can print all the key-value pairs in the dictionary using items() method."
   ]
  },
  {
   "cell_type": "code",
   "execution_count": 5,
   "id": "6cc8b6b2-9622-4b56-824c-dff70616a10f",
   "metadata": {},
   "outputs": [
    {
     "name": "stdout",
     "output_type": "stream",
     "text": [
      "dict_items([('name', 'Karan'), ('age', 19), ('eligible', True)])\n"
     ]
    }
   ],
   "source": [
    "info = {'name':'Karan', 'age':19, 'eligible':True}\n",
    "print(info.items())"
   ]
  },
  {
   "cell_type": "markdown",
   "id": "477735dd-80cf-4bf3-a084-7b9da4e3b1ac",
   "metadata": {},
   "source": [
    "# Code"
   ]
  },
  {
   "cell_type": "code",
   "execution_count": 11,
   "id": "b88e4fd6-677e-4e77-898e-9240ff90bfb4",
   "metadata": {},
   "outputs": [
    {
     "name": "stdout",
     "output_type": "stream",
     "text": [
      "{'name': 'Karan', 'age': 19, 'eligible': True}\n",
      "dict_keys(['name', 'age', 'eligible'])\n",
      "dict_values(['Karan', 19, True])\n"
     ]
    }
   ],
   "source": [
    "info = {'name':'Karan', 'age':19, 'eligible':True}\n",
    "\n",
    "print(info) \n",
    "print(info.keys())\n",
    "print(info.values())"
   ]
  },
  {
   "cell_type": "code",
   "execution_count": 8,
   "id": "f265f6b9-8109-4ed1-bc1b-86251ec16d9a",
   "metadata": {},
   "outputs": [
    {
     "name": "stdout",
     "output_type": "stream",
     "text": [
      "The value corresponding to the key name is Karan\n",
      "The value corresponding to the key age is 19\n",
      "The value corresponding to the key eligible is True\n"
     ]
    }
   ],
   "source": [
    "info = {'name':'Karan', 'age':19, 'eligible':True}\n",
    "\n",
    "for key in info.keys():\n",
    "  print(f\"The value corresponding to the key {key} is {info[key]}\")"
   ]
  },
  {
   "cell_type": "code",
   "execution_count": 10,
   "id": "20009d5f-fcf1-4abe-8034-918e246fdde8",
   "metadata": {},
   "outputs": [
    {
     "name": "stdout",
     "output_type": "stream",
     "text": [
      "dict_items([('name', 'Karan'), ('age', 19), ('eligible', True)])\n",
      "The value corresponding to the key name is Karan\n",
      "The value corresponding to the key age is 19\n",
      "The value corresponding to the key eligible is True\n"
     ]
    }
   ],
   "source": [
    "info = {'name':'Karan', 'age':19, 'eligible':True}\n",
    "\n",
    "print(info.items())\n",
    "for key, value in info.items():\n",
    "  print(f\"The value corresponding to the key {key} is {value}\")"
   ]
  }
 ],
 "metadata": {
  "kernelspec": {
   "display_name": "Python 3 (ipykernel)",
   "language": "python",
   "name": "python3"
  },
  "language_info": {
   "codemirror_mode": {
    "name": "ipython",
    "version": 3
   },
   "file_extension": ".py",
   "mimetype": "text/x-python",
   "name": "python",
   "nbconvert_exporter": "python",
   "pygments_lexer": "ipython3",
   "version": "3.11.4"
  }
 },
 "nbformat": 4,
 "nbformat_minor": 5
}
