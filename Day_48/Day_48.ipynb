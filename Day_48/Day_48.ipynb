{
 "cells": [
  {
   "cell_type": "markdown",
   "id": "ec7d62f7-1fe2-4663-bfc9-d8d20ed4b9d0",
   "metadata": {},
   "source": [
    "# local and global variables"
   ]
  },
  {
   "cell_type": "markdown",
   "id": "8c793216-a588-4393-bfa4-fee9dddd4823",
   "metadata": {},
   "source": [
    "Before we dive into the differences between local and global variables, let's first recall what a variable is in Python.\n",
    "\n",
    "A variable is a named location in memory that stores a value. In Python, we can assign values to variables using the assignment operator =. For example:"
   ]
  },
  {
   "cell_type": "code",
   "execution_count": 3,
   "id": "1c876136-a5db-4fc6-89a3-5f0d118dca28",
   "metadata": {},
   "outputs": [],
   "source": [
    "x = 5\n",
    "y = \"Hello, World!\""
   ]
  },
  {
   "cell_type": "markdown",
   "id": "88c2f6c0-99e5-47eb-be52-f762c4212b80",
   "metadata": {},
   "source": [
    "A local variable is a variable that is defined within a function and is only accessible within that function. It is created when the function is called and is destroyed when the function returns.\n",
    "\n",
    "On the other hand, a global variable is a variable that is defined outside of a function and is accessible from within any function in your code.\n"
   ]
  },
  {
   "cell_type": "code",
   "execution_count": 5,
   "id": "560a869b-a8cb-41dc-b66d-da9036727001",
   "metadata": {},
   "outputs": [
    {
     "name": "stdout",
     "output_type": "stream",
     "text": [
      "5\n",
      "10\n",
      "Hello, World!\n"
     ]
    }
   ],
   "source": [
    "x = 10 # global variable\n",
    "\n",
    "def my_function():\n",
    "  y = 5 # local variable\n",
    "  print(y)\n",
    "\n",
    "my_function()\n",
    "print(x)\n",
    "print(y) # this will cause an error because y is a local variable and is not accessible outside of the function"
   ]
  },
  {
   "cell_type": "markdown",
   "id": "1b7d91bc-e28e-4b03-97cc-02b01283b9fa",
   "metadata": {},
   "source": [
    "# The global keyword"
   ]
  },
  {
   "cell_type": "markdown",
   "id": "ec915dcb-3059-40ad-abcd-395482313429",
   "metadata": {},
   "source": [
    "Now, what if we want to modify a global variable from within a function? This is where the global keyword comes in.\n",
    "\n",
    "The global keyword is used to declare that a variable is a global variable and should be accessed from the global scope. Here's an example:"
   ]
  },
  {
   "cell_type": "code",
   "execution_count": 3,
   "id": "c51da189-a0f1-492f-b2d9-2251701bd253",
   "metadata": {},
   "outputs": [
    {
     "name": "stdout",
     "output_type": "stream",
     "text": [
      "5\n"
     ]
    }
   ],
   "source": [
    "x = 10 # global variable\n",
    "\n",
    "def my_function():\n",
    "  global x\n",
    "  x = 5 # this will change the value of the global variable x\n",
    "  y = 5 # local variable\n",
    "\n",
    "my_function()\n",
    "print(x) # prints 5\n",
    "# print(y) # this will cause an error because y is a local variable and is not accessible outside of the function"
   ]
  },
  {
   "cell_type": "markdown",
   "id": "4528cec3-189c-41d0-9edc-5b9294fd9af7",
   "metadata": {},
   "source": [
    "In this example, we used the global keyword to declare that we want to modify the global variable x from within the function. As a result, the value of x is changed to 5.\n",
    "\n",
    "It's important to note that it's generally considered good practice to avoid modifying global variables from within functions, as it can lead to unexpected behavior and make your code harder to debug."
   ]
  },
  {
   "cell_type": "markdown",
   "id": "aa2934db-317b-43b4-817e-8cbec75ad1e4",
   "metadata": {},
   "source": [
    "# Code"
   ]
  },
  {
   "cell_type": "code",
   "execution_count": 4,
   "id": "d906cbc4-6524-4253-ac13-731a445f092a",
   "metadata": {},
   "outputs": [
    {
     "name": "stdout",
     "output_type": "stream",
     "text": [
      "5\n"
     ]
    }
   ],
   "source": [
    "x = 10  # global variable\n",
    "\n",
    "\n",
    "def my_function():\n",
    "  global x\n",
    "  x = 5  # this will change the value of the global variable x\n",
    "  y = 5  # local variable\n",
    "\n",
    "\n",
    "my_function()\n",
    "print(x)  # prints 5\n",
    "# print(y) # this will cause an error because y is a local variable and is not accessible outside of the function"
   ]
  }
 ],
 "metadata": {
  "kernelspec": {
   "display_name": "Python 3 (ipykernel)",
   "language": "python",
   "name": "python3"
  },
  "language_info": {
   "codemirror_mode": {
    "name": "ipython",
    "version": 3
   },
   "file_extension": ".py",
   "mimetype": "text/x-python",
   "name": "python",
   "nbconvert_exporter": "python",
   "pygments_lexer": "ipython3",
   "version": "3.11.4"
  }
 },
 "nbformat": 4,
 "nbformat_minor": 5
}
