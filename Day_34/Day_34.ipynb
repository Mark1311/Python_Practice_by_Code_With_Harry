{
 "cells": [
  {
   "cell_type": "markdown",
   "id": "2b3b5735-ccf0-4c1e-93a5-00dcad29b296",
   "metadata": {},
   "source": [
    "# Dictionary Methods"
   ]
  },
  {
   "cell_type": "markdown",
   "id": "6decd76b-b980-421d-b795-3f07fa541e64",
   "metadata": {},
   "source": [
    "Dictionary uses several built-in methods for manipulation.They are listed below"
   ]
  },
  {
   "cell_type": "markdown",
   "id": "3f93fd41-6530-4f92-8fd9-af2fee1d6f15",
   "metadata": {},
   "source": [
    "# update()"
   ]
  },
  {
   "cell_type": "markdown",
   "id": "387c41c9-7713-4d9b-a2a8-bdf17f03e4e9",
   "metadata": {},
   "source": [
    "The update() method updates the value of the key provided to it if the item already exists in the dictionary, else it creates a new key-value pair."
   ]
  },
  {
   "cell_type": "code",
   "execution_count": 1,
   "id": "6d096bc7-4f73-4886-aa15-3363f7af977c",
   "metadata": {},
   "outputs": [
    {
     "name": "stdout",
     "output_type": "stream",
     "text": [
      "{'name': 'Karan', 'age': 19, 'eligible': True}\n",
      "{'name': 'Karan', 'age': 20, 'eligible': True, 'DOB': 2001}\n"
     ]
    }
   ],
   "source": [
    "info = {'name':'Karan', 'age':19, 'eligible':True}\n",
    "print(info)\n",
    "info.update({'age':20})\n",
    "info.update({'DOB':2001})\n",
    "print(info)"
   ]
  },
  {
   "cell_type": "markdown",
   "id": "2d3812ee-a503-4ecc-a6ab-5be90bb31457",
   "metadata": {},
   "source": [
    "# Removing items from dictionary"
   ]
  },
  {
   "cell_type": "markdown",
   "id": "a96dd456-04c5-453e-8785-8c89c1ea560c",
   "metadata": {},
   "source": [
    "There are a few methods that we can use to remove items from dictionary."
   ]
  },
  {
   "cell_type": "markdown",
   "id": "ec096856-5aa9-4157-ae85-15198997fe05",
   "metadata": {},
   "source": [
    "# clear()"
   ]
  },
  {
   "cell_type": "markdown",
   "id": "8d4d6639-e2ab-4d04-b459-4d1e50b720f0",
   "metadata": {},
   "source": [
    "The clear() method removes all the items from the list."
   ]
  },
  {
   "cell_type": "code",
   "execution_count": 2,
   "id": "6af5c7d6-5c15-47c8-94f7-4d073cab7549",
   "metadata": {},
   "outputs": [
    {
     "name": "stdout",
     "output_type": "stream",
     "text": [
      "{}\n"
     ]
    }
   ],
   "source": [
    "info = {'name':'Karan', 'age':19, 'eligible':True}\n",
    "info.clear()\n",
    "print(info)"
   ]
  },
  {
   "cell_type": "markdown",
   "id": "bdf3764f-374f-4df6-83c0-c9977452c05d",
   "metadata": {},
   "source": [
    "# pop()"
   ]
  },
  {
   "cell_type": "markdown",
   "id": "442da55e-65b4-4ca6-89d3-87bd1be082e9",
   "metadata": {},
   "source": [
    "The pop() method removes the key-value pair whose key is passed as a parameter."
   ]
  },
  {
   "cell_type": "code",
   "execution_count": 3,
   "id": "533151a3-bf8a-4e20-867c-1a0180492d85",
   "metadata": {},
   "outputs": [
    {
     "name": "stdout",
     "output_type": "stream",
     "text": [
      "{'name': 'Karan', 'age': 19}\n"
     ]
    }
   ],
   "source": [
    "info = {'name':'Karan', 'age':19, 'eligible':True}\n",
    "info.pop('eligible')\n",
    "print(info)"
   ]
  },
  {
   "cell_type": "markdown",
   "id": "54f83d9b-a832-48e2-b098-147663ba0403",
   "metadata": {},
   "source": [
    "# popitem()"
   ]
  },
  {
   "cell_type": "markdown",
   "id": "94ab5d55-fb6e-4791-aa68-b32b8ed77e75",
   "metadata": {},
   "source": [
    "The popitem() method removes the last key-value pair from the dictionary."
   ]
  },
  {
   "cell_type": "code",
   "execution_count": 4,
   "id": "cdce1dd3-82f1-46eb-a4de-148f565d11da",
   "metadata": {},
   "outputs": [
    {
     "name": "stdout",
     "output_type": "stream",
     "text": [
      "{'name': 'Karan', 'age': 19, 'eligible': True}\n"
     ]
    }
   ],
   "source": [
    "info = {'name':'Karan', 'age':19, 'eligible':True, 'DOB':2003}\n",
    "info.popitem()\n",
    "print(info)"
   ]
  },
  {
   "cell_type": "markdown",
   "id": "5d08e0a7-8e75-4772-85c4-8603172d4a31",
   "metadata": {},
   "source": [
    "# del"
   ]
  },
  {
   "cell_type": "markdown",
   "id": "41b8ed18-dc6b-4d99-822d-bbb14e0d830b",
   "metadata": {},
   "source": [
    "we can also use the del keyword to remove a dictionary item."
   ]
  },
  {
   "cell_type": "code",
   "execution_count": 5,
   "id": "6170df2a-f412-4bcb-a3a5-b695a3224062",
   "metadata": {},
   "outputs": [
    {
     "name": "stdout",
     "output_type": "stream",
     "text": [
      "{'name': 'Karan', 'eligible': True, 'DOB': 2003}\n"
     ]
    }
   ],
   "source": [
    "info = {'name':'Karan', 'age':19, 'eligible':True, 'DOB':2003}\n",
    "del info['age']\n",
    "print(info)"
   ]
  },
  {
   "cell_type": "raw",
   "id": "f4e18c6f-5404-4ac8-8f29-01d37e397ab2",
   "metadata": {},
   "source": [
    "If key is not provided, then the del keyword will delete the dictionary entirely."
   ]
  },
  {
   "cell_type": "raw",
   "id": "85de3554-8f6f-4622-9058-efa04cdf9080",
   "metadata": {},
   "source": [
    "info = {'name':'Karan', 'age':19, 'eligible':True, 'DOB':2003}\n",
    "del info\n",
    "print(info)\n",
    "\n",
    "#OUTPUT NameError: name 'info' is not defined"
   ]
  }
 ],
 "metadata": {
  "kernelspec": {
   "display_name": "Python 3 (ipykernel)",
   "language": "python",
   "name": "python3"
  },
  "language_info": {
   "codemirror_mode": {
    "name": "ipython",
    "version": 3
   },
   "file_extension": ".py",
   "mimetype": "text/x-python",
   "name": "python",
   "nbconvert_exporter": "python",
   "pygments_lexer": "ipython3",
   "version": "3.11.4"
  }
 },
 "nbformat": 4,
 "nbformat_minor": 5
}
