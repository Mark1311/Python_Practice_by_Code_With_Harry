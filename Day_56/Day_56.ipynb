{
 "cells": [
  {
   "cell_type": "markdown",
   "id": "9a95980f-3ac8-4852-be85-ac338d7c5014",
   "metadata": {},
   "source": [
    "# Introduction to Object-oriented programming"
   ]
  },
  {
   "cell_type": "markdown",
   "id": "098e9260-f21a-4d6a-8622-b682971cca59",
   "metadata": {},
   "source": [
    "Introduction to Object-Oriented Programming in Python: In programming languages, mainly there are two approaches that are used to write program or code.\n",
    "\n",
    "1). Procedural Programming\n",
    "\n",
    "2). Object-Oriented Programming\n",
    "\n",
    "The procedure we are following till now is the “Procedural Programming” approach. So, in this session, we will learn about Object Oriented Programming (OOP). The basic idea of object-oriented programming (OOP) in Python is to use classes and objects to represent real-world concepts and entities.\n",
    "\n",
    "A class is a blueprint or template for creating objects. It defines the properties and methods that an object of that class will have. Properties are the data or state of an object, and methods are the actions or behaviors that an object can perform.\n",
    "\n",
    "An object is an instance of a class, and it contains its own data and methods. For example, you could create a class called \"Person\" that has properties such as name and age, and methods such as speak() and walk(). Each instance of the Person class would be a unique object with its own name and age, but they would all have the same methods to speak and walk.\n",
    "\n",
    "One of the key features of OOP in Python is encapsulation, which means that the internal state of an object is hidden and can only be accessed or modified through the object's methods. This helps to protect the object's data and prevent it from being modified in unexpected ways.\n",
    "\n",
    "Another key feature of OOP in Python is inheritance, which allows new classes to be created that inherit the properties and methods of an existing class. This allows for code reuse and makes it easy to create new classes that have similar functionality to existing classes.\n",
    "\n",
    "Polymorphism is also supported in Python, which means that objects of different classes can be treated as if they were objects of a common class. This allows for greater flexibility in code and makes it easier to write code that can work with multiple types of objects.\n",
    "\n",
    "In summary, OOP in Python allows developers to model real-world concepts and entities using classes and objects, encapsulate data, reuse code through inheritance, and write more flexible code through polymorphism.\n",
    "\n"
   ]
  },
  {
   "cell_type": "markdown",
   "id": "ea6d2881-699b-4af7-a99d-1718fef7b18e",
   "metadata": {},
   "source": [
    "# Code"
   ]
  },
  {
   "cell_type": "code",
   "execution_count": 3,
   "id": "72544a29-4a1d-4931-affc-d698827e3e79",
   "metadata": {},
   "outputs": [
    {
     "name": "stdout",
     "output_type": "stream",
     "text": [
      "hello\n"
     ]
    }
   ],
   "source": [
    "def hello():\n",
    "  print(\"hello\")\n",
    "\n",
    "hello()\n",
    "sales1 = 6000\n",
    "profit1 = 2000\n",
    "ad1 = 1000\n",
    "# rajeev.sales\n",
    "\n",
    "sales2 = 6000\n",
    "profit2 = 2000\n",
    "ad2 = 1000 \n",
    "# vikrant.sales\n",
    "\n",
    "sales3 = 6000\n",
    "profit3 = 2000\n",
    "ad3 = 1000"
   ]
  },
  {
   "cell_type": "raw",
   "id": "f6941c6a-adb2-437d-a985-094361f2d9cc",
   "metadata": {},
   "source": [
    "RailwayForm   ---> Class [blueprint]\n",
    "harry --> harry ki info wala form --> Object [entity]\n",
    "tom --> tom ki info wala form --> Object [entity]\n",
    "shubham -- shubham ki info wala form --> Object [entity]\n",
    "# shubham.changeName(\"Shubhi\")"
   ]
  }
 ],
 "metadata": {
  "kernelspec": {
   "display_name": "Python 3 (ipykernel)",
   "language": "python",
   "name": "python3"
  },
  "language_info": {
   "codemirror_mode": {
    "name": "ipython",
    "version": 3
   },
   "file_extension": ".py",
   "mimetype": "text/x-python",
   "name": "python",
   "nbconvert_exporter": "python",
   "pygments_lexer": "ipython3",
   "version": "3.11.4"
  }
 },
 "nbformat": 4,
 "nbformat_minor": 5
}
