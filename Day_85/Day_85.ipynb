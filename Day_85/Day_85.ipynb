{
 "cells": [
  {
   "cell_type": "markdown",
   "id": "3a1031db-a04b-4e81-9259-ce5a3d498b64",
   "metadata": {},
   "source": [
    "# Creating Command Line Utilities in Python\n",
    "\n",
    "Command line utilities are programs that can be run from the terminal or command line interface, and they are an essential part of many development workflows. In Python, you can create your own command line utilities using the built-in argparse module.\n"
   ]
  },
  {
   "cell_type": "markdown",
   "id": "6f6c2bd1-9fb8-44c8-89d7-e7c2d37c4d3c",
   "metadata": {},
   "source": [
    "#### Syntax\n",
    "\n",
    "Here is the basic syntax for creating a command line utility using argparse in Python:\n"
   ]
  },
  {
   "cell_type": "raw",
   "id": "0d33e8fe-b9dc-4757-93db-47ae002cf80a",
   "metadata": {},
   "source": [
    "import argparse\n",
    "parser = argparse.ArgumentParser()\n",
    "# Add command line arguments\n",
    "parser.add_argument(\"arg1\", help=\"description of argument 1\")\n",
    "parser.add_argument(\"arg2\", help=\"description of argument 2\")\n",
    "# Parse the arguments\n",
    "args = parser.parse_args()\n",
    "# Use the arguments in your code\n",
    "print(args.arg1)\n",
    "print(args.arg2)"
   ]
  },
  {
   "cell_type": "markdown",
   "id": "ccc402ae-b5d1-4a40-bab3-f42b5451da4a",
   "metadata": {},
   "source": [
    "#### Examples\n",
    "\n",
    "Here are a few examples to help you get started with creating command line utilities in Python:\n"
   ]
  },
  {
   "cell_type": "markdown",
   "id": "926bb6f8-3944-4ca6-ad84-97196d882e2a",
   "metadata": {},
   "source": [
    "### Adding optional arguments"
   ]
  },
  {
   "cell_type": "code",
   "execution_count": 2,
   "id": "8fd2f243-ee3a-4c8d-9bdc-95cfbf3565be",
   "metadata": {},
   "outputs": [
    {
     "name": "stderr",
     "output_type": "stream",
     "text": [
      "usage: ipykernel_launcher.py [-h] [-o OPTIONAL]\n",
      "ipykernel_launcher.py: error: unrecognized arguments: -f C:\\Users\\hp\\AppData\\Roaming\\jupyter\\runtime\\kernel-74c74c95-01d3-49a5-84b8-0e90b6c69ad4.json\n"
     ]
    },
    {
     "ename": "SystemExit",
     "evalue": "2",
     "output_type": "error",
     "traceback": [
      "An exception has occurred, use %tb to see the full traceback.\n",
      "\u001b[1;31mSystemExit\u001b[0m\u001b[1;31m:\u001b[0m 2\n"
     ]
    }
   ],
   "source": [
    "#The following example shows how to add an optional argument to your command line utility:\n",
    "\n",
    "\n",
    "import argparse\n",
    "parser = argparse.ArgumentParser()\n",
    "parser.add_argument(\"-o\", \"--optional\", help=\"description of optional argument\", default=\"default_value\")\n",
    "args = parser.parse_args()\n",
    "print(args.optional)\n"
   ]
  },
  {
   "cell_type": "markdown",
   "id": "75c89a8a-be09-41f5-82e1-4261916cf12b",
   "metadata": {},
   "source": [
    "### Adding positional arguments"
   ]
  },
  {
   "cell_type": "code",
   "execution_count": 4,
   "id": "2d98f9a6-0598-4b74-ace9-bfbc8f0c0004",
   "metadata": {},
   "outputs": [
    {
     "name": "stderr",
     "output_type": "stream",
     "text": [
      "usage: ipykernel_launcher.py [-h] positional\n",
      "ipykernel_launcher.py: error: unrecognized arguments: -f\n"
     ]
    },
    {
     "ename": "SystemExit",
     "evalue": "2",
     "output_type": "error",
     "traceback": [
      "An exception has occurred, use %tb to see the full traceback.\n",
      "\u001b[1;31mSystemExit\u001b[0m\u001b[1;31m:\u001b[0m 2\n"
     ]
    }
   ],
   "source": [
    "#The following example shows how to add a positional argument to your command line utility:\n",
    "\n",
    "import argparse\n",
    "parser = argparse.ArgumentParser()\n",
    "parser.add_argument(\"positional\", help=\"description of positional argument\")\n",
    "args = parser.parse_args()\n",
    "print(args.positional)"
   ]
  },
  {
   "cell_type": "markdown",
   "id": "263000c8-211d-4d59-a2b8-3fb45fb798fb",
   "metadata": {},
   "source": [
    "### Adding arguments with type"
   ]
  },
  {
   "cell_type": "code",
   "execution_count": 3,
   "id": "b48819f3-66bb-48c0-b739-0cedd7a487c1",
   "metadata": {},
   "outputs": [
    {
     "name": "stderr",
     "output_type": "stream",
     "text": [
      "usage: ipykernel_launcher.py [-h] [-n N]\n",
      "ipykernel_launcher.py: error: unrecognized arguments: -f C:\\Users\\hp\\AppData\\Roaming\\jupyter\\runtime\\kernel-74c74c95-01d3-49a5-84b8-0e90b6c69ad4.json\n"
     ]
    },
    {
     "ename": "SystemExit",
     "evalue": "2",
     "output_type": "error",
     "traceback": [
      "An exception has occurred, use %tb to see the full traceback.\n",
      "\u001b[1;31mSystemExit\u001b[0m\u001b[1;31m:\u001b[0m 2\n"
     ]
    }
   ],
   "source": [
    "#The following example shows how to add an argument with a specified type:\n",
    "\n",
    "import argparse\n",
    "parser = argparse.ArgumentParser()\n",
    "parser.add_argument(\"-n\", type=int, help=\"description of integer argument\")\n",
    "args = parser.parse_args()\n",
    "print(args.n)"
   ]
  },
  {
   "cell_type": "markdown",
   "id": "4197ade3-da78-47e4-b1e2-4055a5c87c67",
   "metadata": {},
   "source": [
    "# Code"
   ]
  },
  {
   "cell_type": "code",
   "execution_count": 5,
   "id": "af333390-9b04-414e-b0ae-2756bcbe13bd",
   "metadata": {},
   "outputs": [
    {
     "name": "stderr",
     "output_type": "stream",
     "text": [
      "usage: ipykernel_launcher.py [-h] [-o OUTPUT] url\n",
      "ipykernel_launcher.py: error: unrecognized arguments: -f\n"
     ]
    },
    {
     "ename": "SystemExit",
     "evalue": "2",
     "output_type": "error",
     "traceback": [
      "An exception has occurred, use %tb to see the full traceback.\n",
      "\u001b[1;31mSystemExit\u001b[0m\u001b[1;31m:\u001b[0m 2\n"
     ]
    },
    {
     "name": "stderr",
     "output_type": "stream",
     "text": [
      "C:\\Users\\hp\\AppData\\Roaming\\Python\\Python311\\site-packages\\IPython\\core\\interactiveshell.py:3558: UserWarning: To exit: use 'exit', 'quit', or Ctrl-D.\n",
      "  warn(\"To exit: use 'exit', 'quit', or Ctrl-D.\", stacklevel=1)\n"
     ]
    }
   ],
   "source": [
    "import argparse\n",
    "import requests\n",
    "\n",
    "def download_file(url, local_filename): \n",
    "  if local_filename is None:\n",
    "    local_filename = url.split('/')[-1]\n",
    "    # NOTE the stream=True parameter below\n",
    "  with requests.get(url, stream=True) as r:\n",
    "      r.raise_for_status()\n",
    "      with open(local_filename, 'wb') as f:\n",
    "          for chunk in r.iter_content(chunk_size=8192): \n",
    "              # If you have chunk encoded response uncomment if\n",
    "              # and set chunk_size parameter to None.\n",
    "              #if chunk: \n",
    "              f.write(chunk)\n",
    "  return local_filename\n",
    "  \n",
    "parser = argparse.ArgumentParser()\n",
    "\n",
    "# Add command line arguments\n",
    "parser.add_argument(\"url\", help=\"Url of the file to download\")\n",
    "# parser.add_argument(\"output\", help=\"by which name do you want to save your file\")\n",
    "parser.add_argument(\"-o\", \"--output\", type=str, help=\"Name of the file\", default=None)\n",
    "\n",
    "# Parse the arguments\n",
    "args = parser.parse_args()\n",
    "\n",
    "# Use the arguments in your code\n",
    "print(args.url)\n",
    "print(args.output, type(args.output))\n",
    "download_file(args.url, args.output)"
   ]
  }
 ],
 "metadata": {
  "kernelspec": {
   "display_name": "Python 3 (ipykernel)",
   "language": "python",
   "name": "python3"
  },
  "language_info": {
   "codemirror_mode": {
    "name": "ipython",
    "version": 3
   },
   "file_extension": ".py",
   "mimetype": "text/x-python",
   "name": "python",
   "nbconvert_exporter": "python",
   "pygments_lexer": "ipython3",
   "version": "3.11.4"
  }
 },
 "nbformat": 4,
 "nbformat_minor": 5
}
