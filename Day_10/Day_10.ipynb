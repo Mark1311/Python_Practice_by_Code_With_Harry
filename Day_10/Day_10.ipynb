{
 "cells": [
  {
   "cell_type": "markdown",
   "id": "fc697d20-6886-4f3e-8351-656dbd72250a",
   "metadata": {},
   "source": [
    "# Taking User Input in python"
   ]
  },
  {
   "cell_type": "markdown",
   "id": "7202e1d1-a61f-4f0d-a6cb-5f33c5746741",
   "metadata": {},
   "source": [
    "In python, we can take user input directly by using input() function.This input function gives a return value as string/character hence we have to pass that into a variable"
   ]
  },
  {
   "cell_type": "markdown",
   "id": "80f6ce6a-62cb-43a3-9a68-f28c5ec954af",
   "metadata": {},
   "source": [
    "### Syntax"
   ]
  },
  {
   "cell_type": "raw",
   "id": "7a0983a2-0d44-4df3-8126-d122d86f5e80",
   "metadata": {},
   "source": [
    "variable=input()"
   ]
  },
  {
   "cell_type": "raw",
   "id": "0691f768-5769-47ee-ac62-954b471685a8",
   "metadata": {},
   "source": [
    "variable=int(input())"
   ]
  },
  {
   "cell_type": "raw",
   "id": "1f4b48a9-b469-4252-8d02-bbb6a3d9b3ae",
   "metadata": {},
   "source": [
    "variable=float(input())"
   ]
  },
  {
   "cell_type": "code",
   "execution_count": null,
   "id": "27d8ee81-91c9-48a1-b5d4-80a0447cdd96",
   "metadata": {},
   "outputs": [],
   "source": [
    "a=input(\"Enter the name: \")\n",
    "print(a)"
   ]
  },
  {
   "cell_type": "markdown",
   "id": "4c3fad06-0d16-43ec-bf49-16eaa9276912",
   "metadata": {},
   "source": [
    "# Code"
   ]
  },
  {
   "cell_type": "code",
   "execution_count": 2,
   "id": "0e2a3fb7-1fe5-4719-bb0b-3ca9d442deab",
   "metadata": {},
   "outputs": [
    {
     "name": "stdin",
     "output_type": "stream",
     "text": [
      "Enter your name:  Bittu Kumar\n"
     ]
    },
    {
     "name": "stdout",
     "output_type": "stream",
     "text": [
      "My name is Bittu Kumar\n"
     ]
    }
   ],
   "source": [
    "a = input(\"Enter your name: \")\n",
    "print(\"My name is\", a)"
   ]
  },
  {
   "cell_type": "code",
   "execution_count": null,
   "id": "74e7aba4-0359-402c-af08-425b5bf246dd",
   "metadata": {},
   "outputs": [],
   "source": [
    "x = input(\"Enter first number: \")\n",
    "y = input(\"Enter second number: \")\n",
    "print(x  + y)\n",
    "\n",
    "print(int(x) + int(y))"
   ]
  },
  {
   "cell_type": "markdown",
   "id": "9df5c6d4-81a0-4295-89a6-031878d51d4d",
   "metadata": {},
   "source": [
    "Note:- If Code is not working, Restart the Kernel and again run the code."
   ]
  }
 ],
 "metadata": {
  "kernelspec": {
   "display_name": "Python 3 (ipykernel)",
   "language": "python",
   "name": "python3"
  },
  "language_info": {
   "codemirror_mode": {
    "name": "ipython",
    "version": 3
   },
   "file_extension": ".py",
   "mimetype": "text/x-python",
   "name": "python",
   "nbconvert_exporter": "python",
   "pygments_lexer": "ipython3",
   "version": "3.11.4"
  }
 },
 "nbformat": 4,
 "nbformat_minor": 5
}
