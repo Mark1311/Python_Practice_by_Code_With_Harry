{
 "cells": [
  {
   "cell_type": "markdown",
   "id": "7f5bd4b7-92c4-4569-8bc6-3cf542027dc6",
   "metadata": {},
   "source": [
    "# Multiple Inheritance in Python\n",
    "\n",
    "Multiple inheritance is a powerful feature in object-oriented programming that allows a class to inherit attributes and methods from multiple parent classes. This can be useful in situations where a class needs to inherit functionality from multiple sources.\n"
   ]
  },
  {
   "cell_type": "markdown",
   "id": "0ed25500-f4cc-4bd1-b3ff-d161054017de",
   "metadata": {},
   "source": [
    "### Syntax\n",
    "\n",
    "In Python, multiple inheritance is implemented by specifying multiple parent classes in the class definition, separated by commas.\n"
   ]
  },
  {
   "cell_type": "code",
   "execution_count": null,
   "id": "76eb2eeb-1237-4ed0-bf59-490d240b7edf",
   "metadata": {},
   "outputs": [],
   "source": [
    "class ChildClass(ParentClass1, ParentClass2, ParentClass3):\n",
    "    # class body"
   ]
  },
  {
   "cell_type": "markdown",
   "id": "bfab84f4-60cb-47b7-b254-84a60ac0b3ea",
   "metadata": {},
   "source": [
    "\n",
    "\n",
    "In this example, the ChildClass inherits attributes and methods from all three parent classes: ParentClass1, ParentClass2, and ParentClass3.\n",
    "\n",
    "It's important to note that, in case of multiple inheritance, Python follows a method resolution order (MRO) to resolve conflicts between methods or attributes from different parent classes. The MRO determines the order in which parent classes are searched for attributes and methods.\n"
   ]
  },
  {
   "cell_type": "code",
   "execution_count": 2,
   "id": "bf2235d7-c47b-4b38-a4b6-ab1c74130585",
   "metadata": {},
   "outputs": [],
   "source": [
    "#Example\n",
    "\n",
    "class Animal:\n",
    "    def __init__(self, name, species):\n",
    "        self.name = name\n",
    "        self.species = species\n",
    "        \n",
    "    def make_sound(self):\n",
    "        print(\"Sound made by the animal\")\n",
    "        \n",
    "class Mammal:\n",
    "    def __init__(self, name, fur_color):\n",
    "        self.name = name\n",
    "        self.fur_color = fur_color\n",
    "        \n",
    "class Dog(Animal, Mammal):\n",
    "    def __init__(self, name, breed, fur_color):\n",
    "        Animal.__init__(self, name, species=\"Dog\")\n",
    "        Mammal.__init__(self, name, fur_color)\n",
    "        self.breed = breed\n",
    "        \n",
    "    def make_sound(self):\n",
    "        print(\"Bark!\")"
   ]
  },
  {
   "cell_type": "markdown",
   "id": "22a6d100-0f25-4f88-a686-1879e5c20a78",
   "metadata": {},
   "source": [
    "In this example, the Dog class inherits from both the Animal and Mammal classes, so it can use attributes and methods from both parent classes."
   ]
  },
  {
   "cell_type": "markdown",
   "id": "f58125c8-f3bd-43ae-b24a-f0de5a1975ed",
   "metadata": {},
   "source": [
    "# Code"
   ]
  },
  {
   "cell_type": "code",
   "execution_count": 3,
   "id": "f4a2f0e0-4794-4459-99df-51d7cbad2615",
   "metadata": {},
   "outputs": [
    {
     "name": "stdout",
     "output_type": "stream",
     "text": [
      "Shivani\n",
      "Kathak\n",
      "The name is Shivani\n",
      "[<class '__main__.DancerEmployee'>, <class '__main__.Employee'>, <class '__main__.Dancer'>, <class 'object'>]\n"
     ]
    }
   ],
   "source": [
    "class Employee:\n",
    "  def __init__(self, name):\n",
    "    self.name = name\n",
    "  def show(self):\n",
    "    print(f\"The name is {self.name}\")\n",
    "\n",
    "class Dancer:\n",
    "  def __init__(self, dance):\n",
    "    self.dance = dance\n",
    "\n",
    "  def show(self):\n",
    "    print(f\"The dance is {self.dance}\")\n",
    "\n",
    "class DancerEmployee(Employee, Dancer):\n",
    "  def __init__(self, dance, name):\n",
    "    self.dance = dance\n",
    "    self.name = name\n",
    "\n",
    "o  = DancerEmployee(\"Kathak\", \"Shivani\")\n",
    "print(o.name)\n",
    "print(o.dance)\n",
    "o.show() \n",
    "print(DancerEmployee.mro())"
   ]
  }
 ],
 "metadata": {
  "kernelspec": {
   "display_name": "Python 3 (ipykernel)",
   "language": "python",
   "name": "python3"
  },
  "language_info": {
   "codemirror_mode": {
    "name": "ipython",
    "version": 3
   },
   "file_extension": ".py",
   "mimetype": "text/x-python",
   "name": "python",
   "nbconvert_exporter": "python",
   "pygments_lexer": "ipython3",
   "version": "3.11.4"
  }
 },
 "nbformat": 4,
 "nbformat_minor": 5
}
