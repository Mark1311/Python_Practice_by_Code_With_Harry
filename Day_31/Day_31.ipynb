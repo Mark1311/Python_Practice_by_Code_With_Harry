{
 "cells": [
  {
   "cell_type": "markdown",
   "id": "6c3e6665-0ba4-4d9c-8613-201e849269a5",
   "metadata": {},
   "source": [
    "# Python Sets"
   ]
  },
  {
   "cell_type": "markdown",
   "id": "bed3c3bd-4edd-4f98-aa59-4071cf8aee8d",
   "metadata": {},
   "source": [
    "Sets are unordered collection of data items. They store multiple items in a single variable. Set items are separated by commas and enclosed within curly brackets {}. Sets are unchangeable, meaning you cannot change items of the set once created. Sets do not contain duplicate items."
   ]
  },
  {
   "cell_type": "code",
   "execution_count": 1,
   "id": "7dc7985f-e9f1-4234-aec2-02ac78e4754a",
   "metadata": {},
   "outputs": [
    {
     "name": "stdout",
     "output_type": "stream",
     "text": [
      "{False, 19, 5.9, 'Carla'}\n"
     ]
    }
   ],
   "source": [
    "info = {\"Carla\", 19, False, 5.9, 19}\n",
    "print(info)"
   ]
  },
  {
   "cell_type": "markdown",
   "id": "b0ba0330-f8bb-4cc0-978f-01b79bfea793",
   "metadata": {},
   "source": [
    "# Accessing set items:"
   ]
  },
  {
   "cell_type": "markdown",
   "id": "ae1e3422-ba6d-4dd7-8e5e-f4a619696a43",
   "metadata": {},
   "source": [
    "### Using a For loop\n"
   ]
  },
  {
   "cell_type": "code",
   "execution_count": 2,
   "id": "2f678270-ce1a-4ba7-99f6-e0834f6d626d",
   "metadata": {},
   "outputs": [
    {
     "name": "stdout",
     "output_type": "stream",
     "text": [
      "False\n",
      "19\n",
      "5.9\n",
      "Carla\n"
     ]
    }
   ],
   "source": [
    "info = {\"Carla\", 19, False, 5.9}\n",
    "for item in info:\n",
    "    print(item)"
   ]
  },
  {
   "cell_type": "markdown",
   "id": "aa89e0eb-9191-4f4b-871f-785387572b36",
   "metadata": {},
   "source": [
    "# Code"
   ]
  },
  {
   "cell_type": "code",
   "execution_count": 7,
   "id": "5c5bde8d-623b-41b6-9ad4-94076c5ab05d",
   "metadata": {},
   "outputs": [
    {
     "name": "stdout",
     "output_type": "stream",
     "text": [
      "{2, 4, 6}\n"
     ]
    }
   ],
   "source": [
    "s = {2, 4, 2, 6}\n",
    "print(s)"
   ]
  },
  {
   "cell_type": "code",
   "execution_count": 12,
   "id": "b9b1c333-0a1c-41bc-aee9-4e6659dfa720",
   "metadata": {},
   "outputs": [
    {
     "name": "stdout",
     "output_type": "stream",
     "text": [
      "{False, 19, 5.9, 'Carla'}\n"
     ]
    }
   ],
   "source": [
    "info = {\"Carla\", 19, False, 5.9, 19}\n",
    "print(info)"
   ]
  },
  {
   "cell_type": "code",
   "execution_count": 13,
   "id": "4666e737-8b83-4d66-bc64-35b2a9edc434",
   "metadata": {},
   "outputs": [
    {
     "name": "stdout",
     "output_type": "stream",
     "text": [
      "False\n",
      "19\n",
      "5.9\n",
      "Carla\n"
     ]
    }
   ],
   "source": [
    "for value in info:\n",
    "  print(value)"
   ]
  },
  {
   "cell_type": "code",
   "execution_count": 6,
   "id": "8aa6edca-19b9-428c-930f-59c00d6e93f1",
   "metadata": {},
   "outputs": [
    {
     "name": "stdout",
     "output_type": "stream",
     "text": [
      "<class 'set'>\n"
     ]
    }
   ],
   "source": [
    "harry = set()\n",
    "print(type(harry))"
   ]
  }
 ],
 "metadata": {
  "kernelspec": {
   "display_name": "Python 3 (ipykernel)",
   "language": "python",
   "name": "python3"
  },
  "language_info": {
   "codemirror_mode": {
    "name": "ipython",
    "version": 3
   },
   "file_extension": ".py",
   "mimetype": "text/x-python",
   "name": "python",
   "nbconvert_exporter": "python",
   "pygments_lexer": "ipython3",
   "version": "3.11.4"
  }
 },
 "nbformat": 4,
 "nbformat_minor": 5
}
