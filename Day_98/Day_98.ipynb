{
 "cells": [
  {
   "cell_type": "markdown",
   "id": "8028a89c-1e7f-4485-a99f-af7f848df4fa",
   "metadata": {},
   "source": [
    "# Multiprocessing in Python\n",
    "\n",
    "Multiprocessing is a Python module that provides a simple way to run multiple processes in parallel. It allows you to take advantage of multiple cores or processors on your system and can significantly improve the performance of your code. In this repl, we'll take a closer look at the multiprocessing module and its various functions and how they can be used in Python.\n"
   ]
  },
  {
   "cell_type": "markdown",
   "id": "d1c6636d-5d87-4d3f-bb86-2219b52414b5",
   "metadata": {},
   "source": [
    "# Importing Multiprocessing\n",
    "\n",
    "We can use multiprocessing by importing the multiprocessing module.\n"
   ]
  },
  {
   "cell_type": "code",
   "execution_count": null,
   "id": "039de912-7ed0-403b-8c88-4ea24ec89f81",
   "metadata": {},
   "outputs": [],
   "source": [
    "import multiprocessing"
   ]
  },
  {
   "cell_type": "raw",
   "id": "fd4c3960-6cc4-4bd2-bf89-634aacb6ae5b",
   "metadata": {},
   "source": [
    "Now, to use multiprocessing we need to create a process object which calls a start() method. The start() method runs the process and then to stop the execution, we use the join() method. Here's how we can create a simple process.\n"
   ]
  },
  {
   "cell_type": "code",
   "execution_count": 1,
   "id": "9999a45b-919f-41a2-a685-392b9609329f",
   "metadata": {},
   "outputs": [],
   "source": [
    "#Creating a process\n",
    "\n",
    "import multiprocessing\n",
    "def my_func():\n",
    "  print(\"Hello from process\", multiprocessing.current_process().name)\n",
    "  process = multiprocessing.Process(target=my_func)\n",
    "  process.start()\n",
    "  process.join()"
   ]
  },
  {
   "cell_type": "raw",
   "id": "b2d94293-b1f6-4b31-931a-ef10b9e0ec96",
   "metadata": {},
   "source": [
    "#Functions\n",
    "\n",
    "The following are some of the most commonly used functions in the multiprocessing module:\n",
    "\n",
    "multiprocessing.Process(target, args): This function creates a new process that runs the target function with the specified arguments.\n",
    "\n",
    "multiprocessing.Pool(processes): This function creates a pool of worker processes that can be used to parallelize the execution of a function across multiple input values.\n",
    "\n",
    "multiprocessing.Queue(): This function creates a queue that can be used to communicate data between processes.\n",
    "\n",
    "multiprocessing.Lock(): This function creates a lock that can be used to synchronize access to shared resources between processes.\n"
   ]
  },
  {
   "cell_type": "markdown",
   "id": "2f51aca1-375c-4b23-9497-a59aa8625cf9",
   "metadata": {},
   "source": [
    "# Creating a pool of worker processes\n",
    "\n",
    "Creating a pool of worker processes is a common approach to using multiprocessing in Python. The idea is to create a pool of worker processes and then assign tasks to them as needed. This allows you to take advantage of multiple CPU cores and process tasks in parallel.\n"
   ]
  },
  {
   "cell_type": "code",
   "execution_count": null,
   "id": "8a3ce8c2-152d-426b-bb49-baa1b5d91c77",
   "metadata": {},
   "outputs": [],
   "source": [
    "from multiprocessing import Pool\n",
    "def process_task(task):\n",
    "    # Do some work here\n",
    "    print(\"Task processed:\", task)\n",
    "if __name__ == '__main__':\n",
    "    tasks = [1, 2, 3, 4, 5, 6, 7, 8, 9, 10]\n",
    "    with Pool(processes=4) as pool:\n",
    "        results = pool.map(process_task, tasks)"
   ]
  },
  {
   "cell_type": "markdown",
   "id": "bf48af84-3a09-4c68-9e1f-6936bbac52c1",
   "metadata": {},
   "source": [
    "### Using a queue to communicate between processes\n",
    "\n",
    "When working with multiple processes, it is often necessary to pass data between them. One way to do this is by using a queue. A queue is a data structure that allows data to be inserted at one end and removed from the other end. In the context of multiprocessing, a queue can be used to pass data between processes.\n"
   ]
  },
  {
   "cell_type": "code",
   "execution_count": null,
   "id": "810f71e3-4c21-4897-b337-2ec486c71df2",
   "metadata": {},
   "outputs": [],
   "source": [
    "def producer(queue):\n",
    "    for i in range(10):\n",
    "        queue.put(i)\n",
    "def consumer(queue):\n",
    "    while True:\n",
    "        item = queue.get()\n",
    "        print(item)\n",
    "queue = multiprocessing.Queue()\n",
    "p1 = multiprocessing.Process(target=producer, args=(queue,))\n",
    "p2 = multiprocessing.Process(target=consumer, args=(queue,))\n",
    "p1.start()\n",
    "p2.start()"
   ]
  },
  {
   "cell_type": "markdown",
   "id": "503e75d9-e1d4-406d-b68f-5faaf7a11045",
   "metadata": {},
   "source": [
    "### Using a lock to synchronize access to shared resources\n",
    "\n",
    "When working with multiprocessing in python, locks can be used to synchronize access to shared resources among multiple processes. A lock is an object that acts as a semaphore, allowing only one process at a time to execute a critical section of code. The lock is released when the process finishes executing the critical section.\n"
   ]
  },
  {
   "cell_type": "code",
   "execution_count": null,
   "id": "ea679533-2f31-491c-bf70-12a585c43033",
   "metadata": {},
   "outputs": [],
   "source": [
    "def increment(counter, lock):\n",
    "    for i in range(10000):\n",
    "        lock.acquire()\n",
    "        counter.value += 1\n",
    "        lock.release()\n",
    "if __name__ == '__main__':\n",
    "    counter = multiprocessing.Value('i', 0)\n",
    "    lock = multiprocessing.Lock()\n",
    "    p1 = multiprocessing.Process(target=increment, args=(counter, lock))\n",
    "    p2 = multiprocessing.Process(target=increment, args=(counter, lock))\n",
    "    p1.start()\n",
    "    p2.start()\n",
    "    p1.join()\n",
    "    p2.join()\n",
    "    print(\"Counter value:\", counter.value)"
   ]
  },
  {
   "cell_type": "markdown",
   "id": "13ac9b77-5ce3-4d08-818f-2661552f73e9",
   "metadata": {},
   "source": [
    "### Conclusion\n",
    "\n",
    "As you can see, the multiprocessing module provides a simple and efficient way to run multiple processes in parallel. Whether you need to create a new process, run a function across multiple input values, communicate data between processes, or synchronize access to shared resources, the multiprocessing module has you covered.\n",
    "\n",
    "In conclusion, the multiprocessing module is a powerful tool for parallelizing code in Python. Whether you are a beginner or an experienced Python developer, the multiprocessing module is an essential tool to have in your toolbox."
   ]
  },
  {
   "cell_type": "markdown",
   "id": "ab9b3024-faae-4ceb-bab5-f469e5795f56",
   "metadata": {},
   "source": [
    "# Code"
   ]
  },
  {
   "cell_type": "code",
   "execution_count": null,
   "id": "933d98ad-e786-4ae5-b1c0-e96d56fe2329",
   "metadata": {},
   "outputs": [],
   "source": [
    "import concurrent.futures\n",
    "import requests\n",
    "\n",
    "def downloadFile(url, name):\n",
    "  print(f\"Started Downloading {name}\")\n",
    "  response = requests.get(url)\n",
    "  open(f\"files/file{name}.jpg\", \"wb\").write(response.content)\n",
    "  print(f\"Finished Downloading {name}\")\n",
    " \n",
    "\n",
    "\n",
    "url = \"https://picsum.photos/2000/3000\"\n",
    "# pros = []\n",
    "# for i in range(50):\n",
    "#   # downloadFile(url, i)\n",
    "#   p = multiprocessing.Process(target=downloadFile, args=[url, i])\n",
    "#   p.start()\n",
    "#   pros.append(p)\n",
    "\n",
    "# for p in pros:\n",
    "#   p.join()\n",
    "\n",
    "with concurrent.futures.ProcessPoolExecutor() as executor:\n",
    "  l1 = [url for i in range(60)]\n",
    "  l2 = [i for i in range(60)]\n",
    "  results = executor.map(downloadFile, l1, l2)\n",
    "  for r in results:\n",
    "    print(r)"
   ]
  }
 ],
 "metadata": {
  "kernelspec": {
   "display_name": "Python 3 (ipykernel)",
   "language": "python",
   "name": "python3"
  },
  "language_info": {
   "codemirror_mode": {
    "name": "ipython",
    "version": 3
   },
   "file_extension": ".py",
   "mimetype": "text/x-python",
   "name": "python",
   "nbconvert_exporter": "python",
   "pygments_lexer": "ipython3",
   "version": "3.11.4"
  }
 },
 "nbformat": 4,
 "nbformat_minor": 5
}
