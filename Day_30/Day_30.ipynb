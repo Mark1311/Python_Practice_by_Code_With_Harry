{
 "cells": [
  {
   "cell_type": "markdown",
   "id": "854f02d7-1702-4d43-bd2b-2a9880b5b0e0",
   "metadata": {},
   "source": [
    "# Recursion in python"
   ]
  },
  {
   "cell_type": "markdown",
   "id": "15b14e6f-0ecc-45a6-97a2-94fb3345bf3c",
   "metadata": {},
   "source": [
    "Recursion is the process of defining something in terms of itself."
   ]
  },
  {
   "cell_type": "markdown",
   "id": "71892caf-80a2-45a3-b871-444f7fb173a4",
   "metadata": {},
   "source": [
    "# Python Recursive Functin."
   ]
  },
  {
   "cell_type": "markdown",
   "id": "af9121b5-cf94-429a-aaae-5cb8129a0efe",
   "metadata": {},
   "source": [
    "In Python, we know that a function can call other functions. It is even possible for the function to call itself. These types of construct are termed as recursive functions."
   ]
  },
  {
   "cell_type": "code",
   "execution_count": 1,
   "id": "d3c88cdf-9a37-412c-a0dc-fe0761293825",
   "metadata": {},
   "outputs": [
    {
     "name": "stdout",
     "output_type": "stream",
     "text": [
      "Number:  7\n",
      "Factorial:  5040\n"
     ]
    }
   ],
   "source": [
    "def factorial(num): \n",
    "    if (num == 1 or num == 0):\n",
    "        return 1\n",
    "    else:\n",
    "        return (num * factorial(num - 1)) \n",
    "  \n",
    "# Driver Code \n",
    "num = 7; \n",
    "print(\"Number: \",num)\n",
    "print(\"Factorial: \",factorial(num))"
   ]
  },
  {
   "cell_type": "markdown",
   "id": "69d92b40-c27b-4bf3-9ea7-6595f0e71d31",
   "metadata": {},
   "source": [
    "# Code"
   ]
  },
  {
   "cell_type": "code",
   "execution_count": 2,
   "id": "af5c1be1-20d3-48a9-aa46-6523f685fcaa",
   "metadata": {},
   "outputs": [
    {
     "name": "stdout",
     "output_type": "stream",
     "text": [
      "120\n"
     ]
    }
   ],
   "source": [
    "def factorial(n):\n",
    "  if (n == 0 or n == 1):\n",
    "    return 1\n",
    "  else:\n",
    "    return n * factorial(n - 1)\n",
    "\n",
    "\n",
    "print(factorial(5))"
   ]
  },
  {
   "cell_type": "markdown",
   "id": "8c789bf5-e6e4-4b7c-ad66-712108f21227",
   "metadata": {},
   "source": [
    "### Syntax"
   ]
  },
  {
   "cell_type": "raw",
   "id": "f1fe2306-0118-493d-b4ab-2580cdb7cfd6",
   "metadata": {},
   "source": [
    "f(0) = 0\n",
    "f(1) = 1\n",
    "f(2) = f(1) + f(0)\n",
    "f(n) = f(n-1) + f(n-2)"
   ]
  },
  {
   "cell_type": "raw",
   "id": "a04a1ac2-52af-4007-be07-4ca4dd1e0492",
   "metadata": {},
   "source": [
    "factorial(n) = n * factorial(n-1)"
   ]
  }
 ],
 "metadata": {
  "kernelspec": {
   "display_name": "Python 3 (ipykernel)",
   "language": "python",
   "name": "python3"
  },
  "language_info": {
   "codemirror_mode": {
    "name": "ipython",
    "version": 3
   },
   "file_extension": ".py",
   "mimetype": "text/x-python",
   "name": "python",
   "nbconvert_exporter": "python",
   "pygments_lexer": "ipython3",
   "version": "3.11.4"
  }
 },
 "nbformat": 4,
 "nbformat_minor": 5
}
