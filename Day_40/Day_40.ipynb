{
 "cells": [
  {
   "cell_type": "markdown",
   "id": "255b18ba-cefe-4816-9e3d-864a8e42879f",
   "metadata": {},
   "source": [
    "# Exercise - 4"
   ]
  },
  {
   "cell_type": "markdown",
   "id": "d212137c-eb30-43c7-b952-b036a0e6b1d2",
   "metadata": {},
   "source": [
    "Write a python program to translate a message into secret code language. Use the rules below to translate normal English into secret code language"
   ]
  },
  {
   "cell_type": "markdown",
   "id": "78fda03d-6814-42d5-927c-b0d073b4dfc8",
   "metadata": {},
   "source": [
    "### Coding:"
   ]
  },
  {
   "cell_type": "markdown",
   "id": "6e8d1ebd-8739-4543-9e9f-27fede285d04",
   "metadata": {},
   "source": [
    "if the word contains atleast 3 characters, remove the first letter and append it at the end now append three random characters at the starting and the end else: simply reverse the string"
   ]
  },
  {
   "cell_type": "markdown",
   "id": "0dc3d07e-0758-4aad-ad0e-76cbed07c2b7",
   "metadata": {},
   "source": [
    "### Decoding:"
   ]
  },
  {
   "cell_type": "markdown",
   "id": "8fdd6592-d5da-44a8-a9c1-d99b2de81b42",
   "metadata": {},
   "source": [
    "if the word contains less than 3 characters, reverse it else: remove 3 random characters from start and end. Now remove the last letter and append it to the beginning"
   ]
  },
  {
   "cell_type": "raw",
   "id": "ca5e5aa9-010f-4e60-be78-c7bf570e13b6",
   "metadata": {},
   "source": [
    "Write a python program to translate a message into secret code language. Use the rules below to translate normal English    into secret code language\n",
    "\n",
    "Coding:-\n",
    "\n",
    "# if the word contains atleast 3 characters, remove the first letter and append it at the end\n",
    "#   now append three random characters at the starting and the end\n",
    "# else:\n",
    "#   simply reverse the string\n",
    "\n",
    "# Decoding:-\n",
    "\n",
    "# if the word contains less than 3 characters, reverse it\n",
    "# else:\n",
    "#   remove 3 random characters from start and end. Now remove the last letter and append it to the beginning"
   ]
  }
 ],
 "metadata": {
  "kernelspec": {
   "display_name": "Python 3 (ipykernel)",
   "language": "python",
   "name": "python3"
  },
  "language_info": {
   "codemirror_mode": {
    "name": "ipython",
    "version": 3
   },
   "file_extension": ".py",
   "mimetype": "text/x-python",
   "name": "python",
   "nbconvert_exporter": "python",
   "pygments_lexer": "ipython3",
   "version": "3.11.4"
  }
 },
 "nbformat": 4,
 "nbformat_minor": 5
}
