{
 "cells": [
  {
   "cell_type": "markdown",
   "id": "7efef622-eb47-478e-a3fa-8d741970f78c",
   "metadata": {},
   "source": [
    "# Our First Program"
   ]
  },
  {
   "cell_type": "markdown",
   "id": "65cf0a74-2f40-45a1-8cdf-47eff7560595",
   "metadata": {},
   "source": [
    "### Quick Quiz"
   ]
  },
  {
   "cell_type": "markdown",
   "id": "0baeaa02-337f-4629-8716-5b5a039979a5",
   "metadata": {},
   "source": [
    "Write a program to print a poem in Python. Choose the poem of your choice and publish your repl"
   ]
  },
  {
   "cell_type": "code",
   "execution_count": 4,
   "id": "a759c5ad-a98b-4854-9f04-6157929cfa8a",
   "metadata": {},
   "outputs": [
    {
     "name": "stdout",
     "output_type": "stream",
     "text": [
      "---Your poem here---\n"
     ]
    }
   ],
   "source": [
    "print(\"---Your poem here---\")"
   ]
  }
 ],
 "metadata": {
  "kernelspec": {
   "display_name": "Python 3 (ipykernel)",
   "language": "python",
   "name": "python3"
  },
  "language_info": {
   "codemirror_mode": {
    "name": "ipython",
    "version": 3
   },
   "file_extension": ".py",
   "mimetype": "text/x-python",
   "name": "python",
   "nbconvert_exporter": "python",
   "pygments_lexer": "ipython3",
   "version": "3.11.4"
  }
 },
 "nbformat": 4,
 "nbformat_minor": 5
}
