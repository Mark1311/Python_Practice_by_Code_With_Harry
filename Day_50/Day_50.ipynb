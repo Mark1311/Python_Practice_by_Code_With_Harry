{
 "cells": [
  {
   "cell_type": "markdown",
   "id": "dd0276d8-7ac5-4ea3-820f-63766868e1bb",
   "metadata": {},
   "source": [
    "# readlines() method"
   ]
  },
  {
   "cell_type": "markdown",
   "id": "87f83580-bea0-4ae1-9701-24e2e222c19a",
   "metadata": {},
   "source": [
    "The readline() method reads a single line from the file. If we want to read multiple lines, we can use a loop.\n",
    "\n"
   ]
  },
  {
   "cell_type": "code",
   "execution_count": 3,
   "id": "7f8eff41-1d67-4e0f-9672-662541b64efb",
   "metadata": {},
   "outputs": [
    {
     "name": "stdout",
     "output_type": "stream",
     "text": [
      "Hello, world!Hello, world!\n"
     ]
    }
   ],
   "source": [
    "f = open('myfile.txt', 'r')\n",
    "while True:\n",
    "    line = f.readline()\n",
    "    if not line:\n",
    "        break\n",
    "    print(line)"
   ]
  },
  {
   "cell_type": "markdown",
   "id": "69c1a951-6905-493b-90d8-488c19cbaa81",
   "metadata": {},
   "source": [
    "# writelines() method\n"
   ]
  },
  {
   "cell_type": "markdown",
   "id": "fdf71869-9e99-412b-8e4c-ff2efcab3b27",
   "metadata": {},
   "source": [
    "The writelines() method in Python writes a sequence of strings to a file. The sequence can be any iterable object, such as a list or a tuple.\n",
    "\n"
   ]
  },
  {
   "cell_type": "code",
   "execution_count": 6,
   "id": "9aeebedf-40f3-41c3-892c-22289bbef464",
   "metadata": {},
   "outputs": [],
   "source": [
    "f = open('myfile.txt', 'w')\n",
    "lines = ['line 1\\n', 'line 2\\n', 'line 3\\n']\n",
    "f.writelines(lines)\n",
    "f.close()"
   ]
  },
  {
   "cell_type": "markdown",
   "id": "4fc19d2f-d7a2-4474-bed1-2d1f684ab8ad",
   "metadata": {},
   "source": [
    "This will write the strings in the lines list to the file myfile.txt. The \\n characters are used to add newline characters to the end of each string.\n",
    "\n",
    "Keep in mind that the writelines() method does not add newline characters between the strings in the sequence. If you want to add newlines between the strings, you can use a loop to write each string separately:"
   ]
  },
  {
   "cell_type": "code",
   "execution_count": 8,
   "id": "2c1c9356-066e-48e6-9b37-36b7c0e3355a",
   "metadata": {},
   "outputs": [],
   "source": [
    "f = open('myfile.txt', 'w')\n",
    "lines = ['line 1', 'line 2', 'line 3']\n",
    "for line in lines:\n",
    "    f.write(line + '\\n')\n",
    "f.close()"
   ]
  },
  {
   "cell_type": "markdown",
   "id": "8a0dec16-fcbb-4f19-8d62-a46e601b6969",
   "metadata": {},
   "source": [
    "# Code"
   ]
  },
  {
   "cell_type": "code",
   "execution_count": 5,
   "id": "60a0b094-a717-4695-b997-346f98e1dd02",
   "metadata": {},
   "outputs": [],
   "source": [
    "# f = open('myfile.txt', 'r')\n",
    "# i = 0\n",
    "# while True:\n",
    "#   i = i + 1\n",
    "#   line = f.readline()\n",
    "#   if not line:\n",
    "#     break\n",
    "#   m1 = int(line.split(\",\")[0])\n",
    "#   m2 = int(line.split(\",\")[1])\n",
    "#   m3 = int(line.split(\",\")[2])\n",
    "#   print(f\"Marks of student {i} in Maths is: {m1*2}\")\n",
    "#   print(f\"Marks of student {i} in English is: {m2*2}\")\n",
    "#   print(f\"Marks of student {i} in SST is: {m3*2}\")\n",
    "\n",
    "#   print(line)\n",
    "\n",
    "f = open('myfile2.txt', 'w')\n",
    "lines = ['line 1\\n', 'line 2\\n', 'line 3\\n']\n",
    "f.writelines(lines)\n",
    "f.close()"
   ]
  }
 ],
 "metadata": {
  "kernelspec": {
   "display_name": "Python 3 (ipykernel)",
   "language": "python",
   "name": "python3"
  },
  "language_info": {
   "codemirror_mode": {
    "name": "ipython",
    "version": 3
   },
   "file_extension": ".py",
   "mimetype": "text/x-python",
   "name": "python",
   "nbconvert_exporter": "python",
   "pygments_lexer": "ipython3",
   "version": "3.11.4"
  }
 },
 "nbformat": 4,
 "nbformat_minor": 5
}
