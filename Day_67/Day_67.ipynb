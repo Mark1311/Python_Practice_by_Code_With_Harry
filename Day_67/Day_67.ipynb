{
 "cells": [
  {
   "cell_type": "markdown",
   "id": "afa832f8-479c-43dd-bf6b-c056efe718c9",
   "metadata": {},
   "source": [
    "# Exercise - 6 Solution"
   ]
  },
  {
   "cell_type": "markdown",
   "id": "a288fa1a-06f8-464c-ac2f-c682ef3ce501",
   "metadata": {},
   "source": [
    "Write a Library class with no_of_books and books as two instance variables. Write a program to create a library from this Library class and show how you can print all books, add a book and get the number of books using different methods. Show that your program doesnt persist the books after the program is stopped!"
   ]
  },
  {
   "cell_type": "code",
   "execution_count": 2,
   "id": "1f085261-832d-42ab-a3d4-6c94afc69b43",
   "metadata": {},
   "outputs": [
    {
     "name": "stdout",
     "output_type": "stream",
     "text": [
      "The library has 3 books. The books are\n",
      "Harry Potter1\n",
      "Harry Potter2\n",
      "Harry Potter3\n"
     ]
    }
   ],
   "source": [
    "class Library:\n",
    "  def __init__(self):\n",
    "    self.noBooks = 0\n",
    "    self.books = []\n",
    "    \n",
    "  def addBook(self, book):\n",
    "    self.books.append(book)\n",
    "    self.noBooks = len(self.books)\n",
    "\n",
    "  def showInfo(self):\n",
    "    print(f\"The library has {self.noBooks} books. The books are\")\n",
    "    for book in self.books:\n",
    "      print(book)\n",
    "\n",
    "\n",
    "l1 = Library()\n",
    "l1.addBook(\"Harry Potter1\")\n",
    "l1.addBook(\"Harry Potter2\")\n",
    "l1.addBook(\"Harry Potter3\")\n",
    "l1.showInfo() "
   ]
  }
 ],
 "metadata": {
  "kernelspec": {
   "display_name": "Python 3 (ipykernel)",
   "language": "python",
   "name": "python3"
  },
  "language_info": {
   "codemirror_mode": {
    "name": "ipython",
    "version": 3
   },
   "file_extension": ".py",
   "mimetype": "text/x-python",
   "name": "python",
   "nbconvert_exporter": "python",
   "pygments_lexer": "ipython3",
   "version": "3.11.4"
  }
 },
 "nbformat": 4,
 "nbformat_minor": 5
}
