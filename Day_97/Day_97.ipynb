{
 "cells": [
  {
   "cell_type": "markdown",
   "id": "83bb3618-56e2-478b-92f1-3d2ea3c9faa0",
   "metadata": {},
   "source": [
    "# Multithreading in Python\n",
    "\n",
    "Multithreading is a technique in programming that allows multiple threads of execution to run concurrently within a single process. In Python, we can use the threading module to implement multithreading. In this tutorial, we will take a closer look at the threading module and its various functions and how they can be used in Python.\n"
   ]
  },
  {
   "cell_type": "markdown",
   "id": "a9798cb6-e6b7-4144-8534-6fed7dc53337",
   "metadata": {},
   "source": [
    "# Importing Threading\n",
    "\n",
    "We can use threading by importing the threading module.\n"
   ]
  },
  {
   "cell_type": "code",
   "execution_count": null,
   "id": "10cacf36-fb12-41b3-abc1-06181cf85105",
   "metadata": {},
   "outputs": [],
   "source": [
    "import threading"
   ]
  },
  {
   "cell_type": "markdown",
   "id": "6711c524-4c19-48b3-b936-80c1f4e075fb",
   "metadata": {},
   "source": [
    "### Creating a thread\n",
    "\n",
    "To create a thread, we need to create a Thread object and then call its start() method. The start() method runs the thread and then to stop the execution, we use the join() method. Here's how we can create a simple thread.\n"
   ]
  },
  {
   "cell_type": "code",
   "execution_count": null,
   "id": "c2ad044c-538d-421b-8d1c-98a2d58d120a",
   "metadata": {},
   "outputs": [],
   "source": [
    "import threading\n",
    "def my_func():\n",
    "  print(\"Hello from thread\", threading.current_thread().name)\n",
    "  thread = threading.Thread(target=my_func)\n",
    "  thread.start()\n",
    "  thread.join()"
   ]
  },
  {
   "cell_type": "raw",
   "id": "73027656-ae58-4ba6-8d60-fef639b5eeb3",
   "metadata": {},
   "source": [
    "#Functions\n",
    "\n",
    "The following are some of the most commonly used functions in the threading module:\n",
    "\n",
    "threading.Thread(target, args): This function creates a new thread that runs the target function with the specified arguments.\n",
    "\n",
    "threading.Lock(): This function creates a lock that can be used to synchronize access to shared resources between threads."
   ]
  },
  {
   "cell_type": "markdown",
   "id": "0bf0e836-528d-4389-a129-8896624fe75c",
   "metadata": {},
   "source": [
    "# Creating multiple threads\n",
    "\n",
    "Creating multiple threads is a common approach to using multithreading in Python. The idea is to create a pool of worker threads and then assign tasks to them as needed. This allows you to take advantage of multiple CPU cores and process tasks in parallel.\n"
   ]
  },
  {
   "cell_type": "code",
   "execution_count": null,
   "id": "f9ba2d5c-88e8-4e6f-96c9-94ac0ada2875",
   "metadata": {},
   "outputs": [],
   "source": [
    "import threading\n",
    "def thread_task(task):\n",
    "    # Do some work here\n",
    "    print(\"Task processed:\", task)\n",
    "if __name__ == '__main__':\n",
    "    tasks = [1, 2, 3, 4, 5, 6, 7, 8, 9, 10]\n",
    "    threads = []\n",
    "    for task in tasks:\n",
    "        thread = threading.Thread(target=thread_task, args=(task,))\n",
    "        threads.append(thread)\n",
    "        thread.start()\n",
    "    for thread in threads:\n",
    "        thread.join()"
   ]
  },
  {
   "cell_type": "code",
   "execution_count": 2,
   "id": "0737cb1b-8575-4da2-b12a-011487303670",
   "metadata": {},
   "outputs": [
    {
     "name": "stdout",
     "output_type": "stream",
     "text": [
      "Counter value: 0\n"
     ]
    }
   ],
   "source": [
    "#Using a lock to synchronize access to shared resources\n",
    "#When working with multithreading in python, locks can be used to synchronize access to shared resources among multiple threads. A lock is an object that acts as a semaphore, allowing only one thread at a time to execute a critical section of code. The lock is released when the thread finishes executing the critical section.\n",
    "\n",
    "import threading\n",
    "def increment(counter, lock):\n",
    "    for i in range(10000):\n",
    "        lock.acquire()\n",
    "        counter += 1\n",
    "        lock.release()\n",
    "if __name__ == '__main__':\n",
    "    counter = 0\n",
    "    lock = threading.Lock()\n",
    "    threads = []\n",
    "    for i in range(2):\n",
    "        thread = threading.Thread(target=increment, args=(counter, lock))\n",
    "        threads.append(thread)\n",
    "        thread.start()\n",
    "    for thread in threads:\n",
    "        thread.join()\n",
    "    print(\"Counter value:\", counter)"
   ]
  },
  {
   "cell_type": "markdown",
   "id": "8448fbad-49d2-4cf4-a1b8-2d67a17b2cd6",
   "metadata": {},
   "source": [
    "# Conclusion\n",
    "\n",
    "As you can see, the threading module provides a simple and efficient way to implement multithreading in Python. Whether you need to create a new thread, run a function across multiple input values, or synchronize access to shared resources, the threading module has you covered.\n",
    "\n",
    "In conclusion, the threading module is a powerful tool for parallelizing code in Python. Whether you are a beginner or an experienced Python developer, the threading module is an essential tool to have in your toolbox. With multithreading, you can take advantage of multiple CPU cores and significantly improve the performance of your code."
   ]
  },
  {
   "cell_type": "markdown",
   "id": "6e98e6e3-da8c-4340-a121-662d9d19be9d",
   "metadata": {},
   "source": [
    "# Code"
   ]
  },
  {
   "cell_type": "code",
   "execution_count": 1,
   "id": "cc7f3340-0ecb-474d-b2d0-55a223840dda",
   "metadata": {},
   "outputs": [
    {
     "name": "stdout",
     "output_type": "stream",
     "text": [
      "Sleeping for 3 seconds\n",
      "Sleeping for 5 seconds\n",
      "Sleeping for 1 seconds\n",
      "Sleeping for 2 seconds\n",
      "3\n",
      "5\n",
      "1\n",
      "2\n"
     ]
    }
   ],
   "source": [
    "import threading\n",
    "import time\n",
    "from concurrent.futures import ThreadPoolExecutor\n",
    "\n",
    "# Indicates some task being done\n",
    "def func(seconds):\n",
    "  print(f\"Sleeping for {seconds} seconds\")\n",
    "  time.sleep(seconds)\n",
    "  return seconds\n",
    "\n",
    "def main():\n",
    "  time1 = time.perf_counter()\n",
    "  # Normal Code\n",
    "  # func(4) \n",
    "  # func(2)\n",
    "  # func(1)\n",
    "  \n",
    "  \n",
    "  # Same code using Threads\n",
    "  t1 = threading.Thread(target=func, args=[4])\n",
    "  t2 = threading.Thread(target=func, args=[2])\n",
    "  t3 = threading.Thread(target=func, args=[1])\n",
    "  t1.start()\n",
    "  t2.start()\n",
    "  t3.start()\n",
    "  \n",
    "  t1.join()\n",
    "  t2.join()\n",
    "  t3.join()\n",
    "  # Calculating Time \n",
    "  time2 = time.perf_counter()\n",
    "  print(time2 - time1)\n",
    "\n",
    "\n",
    "def poolingDemo():\n",
    "  with ThreadPoolExecutor() as executor:\n",
    "    # future1 = executor.submit(func, 3)\n",
    "    # future2 = executor.submit(func, 2)\n",
    "    # future3 = executor.submit(func, 4)\n",
    "    # print(future1.result())\n",
    "    # print(future2.result())\n",
    "    # print(future3.result())\n",
    "    l = [3, 5, 1, 2]\n",
    "    results = executor.map(func, l)\n",
    "    for result in results:\n",
    "      print(result)\n",
    "\n",
    "\n",
    "poolingDemo()"
   ]
  }
 ],
 "metadata": {
  "kernelspec": {
   "display_name": "Python 3 (ipykernel)",
   "language": "python",
   "name": "python3"
  },
  "language_info": {
   "codemirror_mode": {
    "name": "ipython",
    "version": 3
   },
   "file_extension": ".py",
   "mimetype": "text/x-python",
   "name": "python",
   "nbconvert_exporter": "python",
   "pygments_lexer": "ipython3",
   "version": "3.11.4"
  }
 },
 "nbformat": 4,
 "nbformat_minor": 5
}
