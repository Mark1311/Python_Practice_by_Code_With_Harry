{
 "cells": [
  {
   "cell_type": "markdown",
   "id": "38a4f3d4-280c-41df-bb28-16c13db601f1",
   "metadata": {},
   "source": [
    "# Exercise - 4 Solution"
   ]
  },
  {
   "cell_type": "markdown",
   "id": "23d6ce02-727f-49be-81bc-e525ee70c7f8",
   "metadata": {},
   "source": [
    "Write a python program to translate a message into secret code language. Use the rules below to translate normal English into secret code language"
   ]
  },
  {
   "cell_type": "markdown",
   "id": "ac343fd1-6a57-4a17-9749-b63b1bc12b74",
   "metadata": {},
   "source": [
    "#### Coding:"
   ]
  },
  {
   "cell_type": "markdown",
   "id": "7c7faf8a-05fa-40d3-95d3-e68dd0281827",
   "metadata": {},
   "source": [
    "if the word contains atleast 3 characters, remove the first letter and append it at the end now append three random characters at the starting and the end else: simply reverse the string\n"
   ]
  },
  {
   "cell_type": "markdown",
   "id": "ade7f815-0914-45c6-89c4-69106c4de0b9",
   "metadata": {},
   "source": [
    "### Decoding:"
   ]
  },
  {
   "cell_type": "markdown",
   "id": "706ba118-ee45-48e2-ac63-37ffeac53da9",
   "metadata": {},
   "source": [
    "if the word contains less than 3 characters, reverse it else: remove 3 random characters from start and end. Now remove the last letter and append it to the beginning\n"
   ]
  },
  {
   "cell_type": "markdown",
   "id": "b3a27d63-ea94-4695-9920-bf36f5fcf6a9",
   "metadata": {},
   "source": [
    "# Code"
   ]
  },
  {
   "cell_type": "code",
   "execution_count": null,
   "id": "9311649b-b596-4dc5-b05e-dc6fbb149066",
   "metadata": {},
   "outputs": [],
   "source": [
    "##### st = input(\"Enter message\")\n",
    "words = str.split(\" \")\n",
    "coding = input(\"1 for Coding or 0 for Decoding\")\n",
    "coding = True if (coding==\"1\") else False\n",
    "print(coding)\n",
    "if(coding):\n",
    "  nwords = []\n",
    "  for word in words:\n",
    "    if(len(word)>=3):\n",
    "      r1 = \"dsf\"\n",
    "      r2 = \"jkr\"\n",
    "      stnew = r1+ word[1:] + word[0] + r2\n",
    "      nwords.append(stnew)\n",
    "    else:\n",
    "      nwords.append(word[::-1])\n",
    "  print(\" \".join(nwords))\n",
    "\n",
    "else:\n",
    "  nwords = []\n",
    "  for word in words:\n",
    "    if(len(word)>=3): \n",
    "      stnew = word[3:-3]\n",
    "      stnew = stnew[-1] + stnew[:-1]\n",
    "      nwords.append(stnew)\n",
    "    else:\n",
    "      nwords.append(word[::-1])\n",
    "  print(\" \".join(nwords))"
   ]
  },
  {
   "cell_type": "code",
   "execution_count": null,
   "id": "dd67c6d2-addc-4881-9451-ac79ca1c6ea3",
   "metadata": {},
   "outputs": [],
   "source": []
  }
 ],
 "metadata": {
  "kernelspec": {
   "display_name": "Python 3 (ipykernel)",
   "language": "python",
   "name": "python3"
  },
  "language_info": {
   "codemirror_mode": {
    "name": "ipython",
    "version": 3
   },
   "file_extension": ".py",
   "mimetype": "text/x-python",
   "name": "python",
   "nbconvert_exporter": "python",
   "pygments_lexer": "ipython3",
   "version": "3.11.4"
  }
 },
 "nbformat": 4,
 "nbformat_minor": 5
}
