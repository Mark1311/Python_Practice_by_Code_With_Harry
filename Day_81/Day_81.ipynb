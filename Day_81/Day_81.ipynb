{
 "cells": [
  {
   "cell_type": "markdown",
   "id": "43dae54a-d30c-46fe-ac2a-78eeedda5daf",
   "metadata": {},
   "source": [
    "# Hybrid Inheritance in Python\n",
    "\n",
    "Hybrid inheritance is a combination of multiple inheritance and single inheritance in object-oriented programming. It is a type of inheritance in which multiple inheritance is used to inherit the properties of multiple base classes into a single derived class, and single inheritance is used to inherit the properties of the derived class into a sub-derived class.\n",
    "\n",
    "In Python, hybrid inheritance can be implemented by creating a class hierarchy, in which a base class is inherited by multiple derived classes, and one of the derived classes is further inherited by a sub-derived class.\n"
   ]
  },
  {
   "cell_type": "markdown",
   "id": "bdb0f4bb-5cc2-4f23-a77e-769e7e2dbd65",
   "metadata": {},
   "source": [
    "### Syntax\n",
    "\n",
    "The syntax for implementing Hybrid Inheritance in Python is the same as for implementing Single Inheritance, Multiple Inheritance, or Hierarchical Inheritance.\n"
   ]
  },
  {
   "cell_type": "code",
   "execution_count": null,
   "id": "60ea6cc2-0139-479d-a122-95bb9fa939ba",
   "metadata": {},
   "outputs": [],
   "source": [
    "class BaseClass1:\n",
    "  # attributes and methods\n",
    "class BaseClass2:\n",
    "  # attributes and methods\n",
    "class DerivedClass(BaseClass1, BaseClass2):\n",
    "  # attributes and methods"
   ]
  },
  {
   "cell_type": "markdown",
   "id": "a739e01c-5041-443c-8af6-82df53ac303e",
   "metadata": {},
   "source": [
    "\n",
    "#### Example\n",
    "\n",
    "Consider the example of a Student class that inherits from the Person class, which in turn inherits from the Human class. The Student class also has a Program class that it is associated with.\n"
   ]
  },
  {
   "cell_type": "code",
   "execution_count": 2,
   "id": "b8dfd93a-3d65-4c51-8d3b-df64f0f5e5d0",
   "metadata": {},
   "outputs": [],
   "source": [
    "class Human:\n",
    "  def __init__(self, name, age):\n",
    "    self.name = name\n",
    "    self.age = age\n",
    "    \n",
    "  def show_details(self):\n",
    "    print(\"Name:\", self.name)\n",
    "    print(\"Age:\", self.age)\n",
    "    \n",
    "class Person(Human):\n",
    "  def __init__(self, name, age, address):\n",
    "    Human.__init__(self, name, age)\n",
    "    self.address = address\n",
    "    \n",
    "  def show_details(self):\n",
    "    Human.show_details(self)\n",
    "    print(\"Address:\", self.address)\n",
    "    \n",
    "class Program:\n",
    "  def __init__(self, program_name, duration):\n",
    "    self.program_name = program_name\n",
    "    self.duration = duration\n",
    "    \n",
    "  def show_details(self):\n",
    "    print(\"Program Name:\", self.program_name)\n",
    "    print(\"Duration:\", self.duration)\n",
    "    \n",
    "class Student(Person):\n",
    "  def __init__(self, name, age, address, program):\n",
    "    Person.__init__(self, name, age, address)\n",
    "    self.program = program\n",
    "    \n",
    "  def show_details(self):\n",
    "    Person.show_details(self)\n",
    "    self.program.show_details()"
   ]
  },
  {
   "cell_type": "markdown",
   "id": "7ce96203-2cbc-46f1-a927-615e1f4652b5",
   "metadata": {},
   "source": [
    "\n",
    "In this example, the Student class inherits from the Person class, which in turn inherits from the Human class. The Student class also has an association with the Program class. This is an example of Hybrid Inheritance in action, as it uses both Single Inheritance and Association to achieve the desired inheritance structure.\n",
    "\n",
    "To create a Student object, we can do the following:\n"
   ]
  },
  {
   "cell_type": "code",
   "execution_count": 3,
   "id": "b4835f82-2014-4ec7-a799-692f36006fb4",
   "metadata": {},
   "outputs": [
    {
     "name": "stdout",
     "output_type": "stream",
     "text": [
      "Name: John Doe\n",
      "Age: 25\n",
      "Address: 123 Main St.\n",
      "Program Name: Computer Science\n",
      "Duration: 4\n"
     ]
    }
   ],
   "source": [
    "program = Program(\"Computer Science\", 4)\n",
    "student = Student(\"John Doe\", 25, \"123 Main St.\", program)\n",
    "student.show_details()"
   ]
  },
  {
   "cell_type": "markdown",
   "id": "91b3fdaf-d76a-4a68-93ac-546c073d6008",
   "metadata": {},
   "source": [
    "\n",
    "As we can see from the output, the Student object has access to all the attributes and methods of the Person and Human classes, as well as the Program class through association.\n",
    "\n",
    "In this way, hybrid inheritance allows for a flexible and powerful way to inherit attributes and behaviors from multiple classes in a hierarchy or chain."
   ]
  },
  {
   "cell_type": "markdown",
   "id": "2f863f94-22f6-4f52-b01f-4945580680fc",
   "metadata": {},
   "source": [
    "# Hierarchical Inheritance\n",
    "\n",
    "Hierarchical Inheritance is a type of inheritance in Object-Oriented Programming where multiple subclasses inherit from a single base class. In other words, a single base class acts as a parent class for multiple subclasses. This is a way of establishing relationships between classes in a hierarchical manner.\n"
   ]
  },
  {
   "cell_type": "code",
   "execution_count": 4,
   "id": "bdd9c536-838c-4295-9038-897438c5cfb0",
   "metadata": {},
   "outputs": [],
   "source": [
    "class Animal:\n",
    "    def __init__(self, name):\n",
    "        self.name = name\n",
    "    def show_details(self):\n",
    "        print(\"Name:\", self.name)\n",
    "class Dog(Animal):\n",
    "    def __init__(self, name, breed):\n",
    "        Animal.__init__(self, name)\n",
    "        self.breed = breed\n",
    "    def show_details(self):\n",
    "        Animal.show_details(self)\n",
    "        print(\"Species: Dog\")\n",
    "        print(\"Breed:\", self.breed)\n",
    "class Cat(Animal):\n",
    "    def __init__(self, name, color):\n",
    "        Animal.__init__(self, name)\n",
    "        self.color = color\n",
    "    def show_details(self):\n",
    "        Animal.show_details(self)\n",
    "        print(\"Species: Cat\")\n",
    "        print(\"Color:\", self.color)"
   ]
  },
  {
   "cell_type": "markdown",
   "id": "fa5e0c8b-5d32-4791-9766-c195331866f9",
   "metadata": {},
   "source": [
    "In the above code, the Animal class acts as the base class for two subclasses, Dog and Cat. The Dog class and the Cat class inherit the attributes and methods of the Animal class. However, they can also add their own unique attributes and methods.\n",
    "\n",
    "Here's an example of creating objects of the Dog and Cat classes and accessing their attributes and methods:\n"
   ]
  },
  {
   "cell_type": "code",
   "execution_count": 2,
   "id": "e309b25b-6f51-4f19-a259-d1a5208b84ea",
   "metadata": {},
   "outputs": [
    {
     "ename": "SyntaxError",
     "evalue": "unterminated string literal (detected at line 4) (1391774983.py, line 4)",
     "output_type": "error",
     "traceback": [
      "\u001b[1;36m  Cell \u001b[1;32mIn[2], line 4\u001b[1;36m\u001b[0m\n\u001b[1;33m    Here's an example to illustrate the concept of hierarchical inheritance in Python:\u001b[0m\n\u001b[1;37m        ^\u001b[0m\n\u001b[1;31mSyntaxError\u001b[0m\u001b[1;31m:\u001b[0m unterminated string literal (detected at line 4)\n"
     ]
    }
   ],
   "source": [
    "dog = Dog(\"Max\", \"Golden Retriever\")\n",
    "dog.show_details()\n",
    "cat = Cat(\"Luna\", \"Black\")\n",
    "cat.show_details()"
   ]
  },
  {
   "cell_type": "markdown",
   "id": "367c1f6d-94f7-4717-8cbe-d903c2c09089",
   "metadata": {},
   "source": [
    "\n",
    "As we can see from the outputs, the Dog and Cat classes have inherited the attributes and methods of the Animal class, and have also added their own unique attributes and methods.\n",
    "\n",
    "In conclusion, hierarchical inheritance is a way of establishing relationships between classes in a hierarchical manner. It allows multiple subclasses to inherit from a single base class, which helps in code reuse and organization of code in a more structured manner."
   ]
  },
  {
   "cell_type": "markdown",
   "id": "98e6ab1a-607e-4480-8a3e-bbe767e57fae",
   "metadata": {},
   "source": [
    "# Code"
   ]
  },
  {
   "cell_type": "markdown",
   "id": "4c868e0a-808c-4007-869c-3ab861c032ab",
   "metadata": {},
   "source": [
    "#### Example of Hybrid Inheritance "
   ]
  },
  {
   "cell_type": "code",
   "execution_count": null,
   "id": "f0bbc3cd-c4d9-4c7d-b22e-f8374bf6c489",
   "metadata": {},
   "outputs": [],
   "source": [
    "class BaseClass:\n",
    "  pass\n",
    "\n",
    "class Derived1(BaseClass):\n",
    "  pass  \n",
    "\n",
    "class Derived2(BaseClass):\n",
    "  pass  \n",
    "\n",
    "class Derived3(Derived1, Derived2):\n",
    "  pass"
   ]
  },
  {
   "cell_type": "markdown",
   "id": "b03c56b8-ac95-4980-8cbd-63245c68264a",
   "metadata": {},
   "source": [
    "#### Hierarchical Inheritance"
   ]
  },
  {
   "cell_type": "code",
   "execution_count": null,
   "id": "d10eccdb-3dbf-483d-821a-c6a5a874236a",
   "metadata": {},
   "outputs": [],
   "source": [
    "class BaseClass:\n",
    "  pass\n",
    "\n",
    "class D1(BaseClass):\n",
    "  pass\n",
    "\n",
    "class D2(BaseClass):\n",
    "  pass\n",
    "\n",
    "class D3(D1):\n",
    "  pass"
   ]
  }
 ],
 "metadata": {
  "kernelspec": {
   "display_name": "Python 3 (ipykernel)",
   "language": "python",
   "name": "python3"
  },
  "language_info": {
   "codemirror_mode": {
    "name": "ipython",
    "version": 3
   },
   "file_extension": ".py",
   "mimetype": "text/x-python",
   "name": "python",
   "nbconvert_exporter": "python",
   "pygments_lexer": "ipython3",
   "version": "3.11.4"
  }
 },
 "nbformat": 4,
 "nbformat_minor": 5
}
