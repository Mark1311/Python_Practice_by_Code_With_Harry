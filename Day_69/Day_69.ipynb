{
 "cells": [
  {
   "cell_type": "markdown",
   "id": "8d5d30c7-6683-404f-a882-e6fe4e9b34e9",
   "metadata": {},
   "source": [
    "# Python Class Methods:-\n",
    "\n",
    "### Python Class Methods: An Introduction\n",
    "\n",
    "In Python, classes are a way to define custom data types that can store data and define functions that can manipulate that data. One type of function that can be defined within a class is called a \"method.\" In this blog post, we will explore what Python class methods are, why they are useful, and how to use them.\n"
   ]
  },
  {
   "cell_type": "markdown",
   "id": "665dfb73-85e8-40c2-8dc5-35a62bd3e3bf",
   "metadata": {},
   "source": [
    "## What are Python Class Methods?\n",
    "\n",
    "A class method is a type of method that is bound to the class and not the instance of the class. In other words, it operates on the class as a whole, rather than on a specific instance of the class. Class methods are defined using the \"@classmethod\" decorator, followed by a function definition. The first argument of the function is always \"cls,\" which represents the class itself.\n"
   ]
  },
  {
   "cell_type": "markdown",
   "id": "65a2781a-3c8c-4c0f-bae1-62328b75b638",
   "metadata": {},
   "source": [
    "## Why Use Python Class Methods?\n",
    "\n",
    "Class methods are useful in several situations. For example, you might want to create a factory method that creates instances of your class in a specific way. You could define a class method that creates the instance and returns it to the caller. Another common use case is to provide alternative constructors for your class. This can be useful if you want to create instances of your class in multiple ways, but still have a consistent interface for doing so.\n"
   ]
  },
  {
   "cell_type": "markdown",
   "id": "bec83d43-63fd-47ea-b963-9eb02a0b8dec",
   "metadata": {},
   "source": [
    "## How to Use Python Class Methods.\n",
    "\n",
    "To define a class method, you simply use the \"@classmethod\" decorator before the method definition. The first argument of the method should always be \"cls,\" which represents the class itself. Here is an example of how to define a class method:\n"
   ]
  },
  {
   "cell_type": "code",
   "execution_count": 1,
   "id": "6b5befdf-75c7-4d4d-b703-9828ea195b1e",
   "metadata": {},
   "outputs": [],
   "source": [
    "class ExampleClass:\n",
    "    @classmethod\n",
    "    def factory_method(cls, argument1, argument2):\n",
    "        return cls(argument1, argument2)"
   ]
  },
  {
   "cell_type": "markdown",
   "id": "653e99df-67b8-4f72-b118-ff8322586185",
   "metadata": {},
   "source": [
    "\n",
    "In this example, the \"factory_method\" is a class method that takes two arguments, \"argument1\" and \"argument2.\" It creates a new instance of the class \"ExampleClass\" using the \"cls\" keyword, and returns the new instance to the caller.\n",
    "\n",
    "It's important to note that class methods cannot modify the class in any way. If you need to modify the class, you should use a class level variable instead.\n"
   ]
  },
  {
   "cell_type": "code",
   "execution_count": 2,
   "id": "a770ab23-d0cb-46b2-8146-870edbd9e731",
   "metadata": {},
   "outputs": [
    {
     "name": "stdout",
     "output_type": "stream",
     "text": [
      "The name is Harry and company is Apple\n",
      "The name is Harry and company is Tesla\n",
      "Tesla\n"
     ]
    }
   ],
   "source": [
    "class Employee:\n",
    "  company = \"Apple\"\n",
    "  def show(self):\n",
    "    print(f\"The name is {self.name} and company is {self.company}\")\n",
    "\n",
    "  @classmethod\n",
    "  def changeCompany(cls, newCompany):\n",
    "    cls.company = newCompany\n",
    "\n",
    "\n",
    "e1 = Employee()\n",
    "e1.name = \"Harry\"\n",
    "e1.show()\n",
    "e1.changeCompany(\"Tesla\")\n",
    "e1.show()\n",
    "print(Employee.company)"
   ]
  }
 ],
 "metadata": {
  "kernelspec": {
   "display_name": "Python 3 (ipykernel)",
   "language": "python",
   "name": "python3"
  },
  "language_info": {
   "codemirror_mode": {
    "name": "ipython",
    "version": 3
   },
   "file_extension": ".py",
   "mimetype": "text/x-python",
   "name": "python",
   "nbconvert_exporter": "python",
   "pygments_lexer": "ipython3",
   "version": "3.11.4"
  }
 },
 "nbformat": 4,
 "nbformat_minor": 5
}
