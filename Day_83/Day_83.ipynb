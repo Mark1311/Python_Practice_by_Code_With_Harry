{
 "cells": [
  {
   "cell_type": "markdown",
   "id": "4640003b-dc01-4818-8284-955260bfeef6",
   "metadata": {},
   "source": [
    "# Exercise - 9"
   ]
  },
  {
   "cell_type": "markdown",
   "id": "d56820c1-d53b-453d-b045-8fbcc8e61b4e",
   "metadata": {},
   "source": [
    "Write a program to pronounce list of names using win32 API."
   ]
  },
  {
   "cell_type": "markdown",
   "id": "620cf71d-d822-48c9-a621-a8983f76a601",
   "metadata": {},
   "source": [
    "Note: If you are not using windows, try to figure out how to do the same thing using some other package"
   ]
  }
 ],
 "metadata": {
  "kernelspec": {
   "display_name": "Python 3 (ipykernel)",
   "language": "python",
   "name": "python3"
  },
  "language_info": {
   "codemirror_mode": {
    "name": "ipython",
    "version": 3
   },
   "file_extension": ".py",
   "mimetype": "text/x-python",
   "name": "python",
   "nbconvert_exporter": "python",
   "pygments_lexer": "ipython3",
   "version": "3.11.4"
  }
 },
 "nbformat": 4,
 "nbformat_minor": 5
}
