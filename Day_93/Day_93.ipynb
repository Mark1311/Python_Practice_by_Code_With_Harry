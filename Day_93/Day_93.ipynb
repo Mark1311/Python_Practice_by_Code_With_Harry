{
 "cells": [
  {
   "cell_type": "markdown",
   "id": "ac564ba1-bb39-4182-a9e1-ba8fc67764ae",
   "metadata": {},
   "source": [
    "# Exercise - 10 Solution\n"
   ]
  },
  {
   "cell_type": "code",
   "execution_count": null,
   "id": "613678fa-44a1-4900-9c5d-e85f6ae48223",
   "metadata": {},
   "outputs": [],
   "source": [
    "import requests\n",
    "import json\n",
    "\n",
    "query = input(\"What type of news are you interested in? \")\n",
    "url = f\"https://newsapi.org/v2/everything?q={query}&from=2023-01-28&sortBy=publishedAt&apiKey=dbe57b028aeb41e285a226a94865f7a7\"\n",
    "r = requests.get(url)\n",
    "news = json.loads(r.text)\n",
    "# print(news, type(news))\n",
    "for article in news[\"articles\"]:\n",
    "  print(article[\"title\"])\n",
    "  print(article[\"description\"])\n",
    "  print(\"--------------------------------------\")\n",
    "  \n"
   ]
  },
  {
   "cell_type": "code",
   "execution_count": null,
   "id": "fcd3524f-2e2e-4c92-b20c-45f05a40675d",
   "metadata": {},
   "outputs": [],
   "source": []
  }
 ],
 "metadata": {
  "kernelspec": {
   "display_name": "Python 3 (ipykernel)",
   "language": "python",
   "name": "python3"
  },
  "language_info": {
   "codemirror_mode": {
    "name": "ipython",
    "version": 3
   },
   "file_extension": ".py",
   "mimetype": "text/x-python",
   "name": "python",
   "nbconvert_exporter": "python",
   "pygments_lexer": "ipython3",
   "version": "3.11.4"
  }
 },
 "nbformat": 4,
 "nbformat_minor": 5
}
