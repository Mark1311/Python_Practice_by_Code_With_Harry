{
 "cells": [
  {
   "cell_type": "markdown",
   "id": "456e90e1-19f9-4c9b-b7f1-5fedb1f21039",
   "metadata": {},
   "source": [
    "# Function Caching in Python\n",
    "\n",
    "Function caching is a technique for improving the performance of a program by storing the results of a function call so that you can reuse the results instead of recomputing them every time the function is called. This can be particularly useful when a function is computationally expensive, or when the inputs to the function are unlikely to change frequently.\n"
   ]
  },
  {
   "cell_type": "markdown",
   "id": "649d2787-ce58-47a9-b304-99bd1e1b365e",
   "metadata": {},
   "source": [
    "In Python, function caching can be achieved using the functools.lru_cache decorator. The functools.lru_cache decorator is used to cache the results of a function so that you can reuse the results instead of recomputing them every time the function is called. Here's an example:\n"
   ]
  },
  {
   "cell_type": "code",
   "execution_count": 1,
   "id": "8d5d230d-8e47-4a02-9b48-5709e6772f8f",
   "metadata": {},
   "outputs": [
    {
     "name": "stdout",
     "output_type": "stream",
     "text": [
      "6765\n"
     ]
    }
   ],
   "source": [
    "import functools\n",
    "@functools.lru_cache(maxsize=None)\n",
    "def fib(n):\n",
    "    if n < 2:\n",
    "        return n\n",
    "    return fib(n-1) + fib(n-2)\n",
    "print(fib(20))"
   ]
  },
  {
   "cell_type": "markdown",
   "id": "7bc8b768-890a-4996-8400-fb058c4055c0",
   "metadata": {},
   "source": [
    "As you can see, the functools.lru_cache decorator is used to cache the results of the fib function. The maxsize parameter is used to specify the maximum number of results to cache. If maxsize is set to None, the cache will have an unlimited size.\n"
   ]
  },
  {
   "cell_type": "markdown",
   "id": "d2e616fe-94ec-42be-b05f-82ceee3b4418",
   "metadata": {},
   "source": [
    "# Benefits of Function Caching\n",
    "\n",
    "Function caching can have a significant impact on the performance of a program, particularly for computationally expensive functions. By caching the results of a function, you can avoid having to recompute the results every time the function is called, which can save a significant amount of time and computational resources.\n",
    "\n",
    "Another benefit of function caching is that it can simplify the code of a program by removing the need to manually cache the results of a function. With the functools.lru_cache decorator, the caching is handled automatically, so you can focus on writing the core logic of your program.\n"
   ]
  },
  {
   "cell_type": "markdown",
   "id": "5cff6fa2-b23a-4d1b-a8fa-06684b250fea",
   "metadata": {},
   "source": [
    "\n",
    "#Conclusion\n",
    "\n",
    "Function caching is a technique for improving the performance of a program by storing the results of a function so that you can reuse the results instead of recomputing them every time the function is called. In Python 3, function caching can be achieved using the functools.lru_cache decorator, which provides an easy and efficient way to cache the results of a function. Whether you're writing a computationally expensive program, or just want to simplify your code, function caching is a great technique to have in your toolbox."
   ]
  },
  {
   "cell_type": "markdown",
   "id": "82828cde-dff6-46fc-bafb-56ae88542d07",
   "metadata": {},
   "source": [
    "# Code"
   ]
  },
  {
   "cell_type": "code",
   "execution_count": 2,
   "id": "ccd9305a-08e8-4901-b685-57fa036a49ea",
   "metadata": {},
   "outputs": [
    {
     "name": "stdout",
     "output_type": "stream",
     "text": [
      "100\n",
      "done for 20\n",
      "10\n",
      "done for 2\n",
      "30\n",
      "done for 6\n",
      "100\n",
      "done for 20\n",
      "10\n",
      "done for 2\n",
      "30\n",
      "done for 6\n",
      "305\n",
      "done for 61\n"
     ]
    }
   ],
   "source": [
    "from functools import lru_cache\n",
    "import time\n",
    "\n",
    "@lru_cache(maxsize=None)\n",
    "def fx(n):\n",
    "  time.sleep(5)\n",
    "  return n*5\n",
    "    \n",
    "\n",
    "print(fx(20))\n",
    "print(\"done for 20\")\n",
    "print(fx(2))\n",
    "print(\"done for 2\")\n",
    "print(fx(6))\n",
    "print(\"done for 6\")\n",
    "\n",
    "print(fx(20))\n",
    "print(\"done for 20\")\n",
    "print(fx(2))\n",
    "print(\"done for 2\")\n",
    "print(fx(6))\n",
    "print(\"done for 6\")\n",
    "print(fx(61))\n",
    "print(\"done for 61\")\n",
    "# Output: 6765"
   ]
  }
 ],
 "metadata": {
  "kernelspec": {
   "display_name": "Python 3 (ipykernel)",
   "language": "python",
   "name": "python3"
  },
  "language_info": {
   "codemirror_mode": {
    "name": "ipython",
    "version": 3
   },
   "file_extension": ".py",
   "mimetype": "text/x-python",
   "name": "python",
   "nbconvert_exporter": "python",
   "pygments_lexer": "ipython3",
   "version": "3.11.4"
  }
 },
 "nbformat": 4,
 "nbformat_minor": 5
}
