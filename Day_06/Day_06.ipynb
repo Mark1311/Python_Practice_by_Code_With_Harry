{
 "cells": [
  {
   "cell_type": "markdown",
   "id": "6850a3b1-6de3-4284-b7ce-642c17472e80",
   "metadata": {},
   "source": [
    "# Variables and Data Types"
   ]
  },
  {
   "cell_type": "markdown",
   "id": "c2d3c750-ae3b-4e52-9de7-af9b86c15067",
   "metadata": {},
   "source": [
    "## What is a variable?"
   ]
  },
  {
   "cell_type": "markdown",
   "id": "c439fc19-d917-43fd-891a-bb1bdef6e3ce",
   "metadata": {},
   "source": [
    "Variable is like a container that holds data. Very similar to how our containers in kitchen holds sugar, salt etc Creating a variable is like creating a placeholder in memory and assigning it some value. In Python its as easy as writing:"
   ]
  },
  {
   "cell_type": "markdown",
   "id": "65fa2093-7856-4682-92e1-7c8a8ad0a35a",
   "metadata": {},
   "source": [
    "## What is a Data Type?"
   ]
  },
  {
   "cell_type": "markdown",
   "id": "9954d0d2-af26-4191-856e-0200c9fb3571",
   "metadata": {},
   "source": [
    "Data type specifies the type of value a variable holds. This is required in programming to do various operations without causing an error."
   ]
  },
  {
   "cell_type": "markdown",
   "id": "49c6a04a-5305-495e-9792-225aa090d603",
   "metadata": {},
   "source": [
    "### 1. Numeric data: int, float, complex"
   ]
  },
  {
   "cell_type": "markdown",
   "id": "572cc60c-ba71-4b56-8315-8330289f4fc6",
   "metadata": {},
   "source": [
    "* int: 3, -8, 0\n",
    "* float: 7.349, -9.0, 0.0000001\n",
    "* complex: 6 + 2i"
   ]
  },
  {
   "cell_type": "markdown",
   "id": "e95d58dd-1806-4908-9a37-ae083417332c",
   "metadata": {},
   "source": [
    "### 2.Text data: str"
   ]
  },
  {
   "cell_type": "markdown",
   "id": "c2b1ecf0-1142-4c32-aea5-d89c386ce6c2",
   "metadata": {},
   "source": [
    "str: \"Hello World!!!\", \"Python Programming\""
   ]
  },
  {
   "cell_type": "markdown",
   "id": "3c9162fa-6833-4c5f-b222-3088046ed8a2",
   "metadata": {},
   "source": [
    "### 3. Boolean data"
   ]
  },
  {
   "cell_type": "markdown",
   "id": "b7922e21-9dbf-4020-9946-e10fbb4ea92c",
   "metadata": {},
   "source": [
    "Boolean data consists of values True or False."
   ]
  },
  {
   "cell_type": "markdown",
   "id": "aa007941-c22d-4ace-ace8-7a984f6e45ab",
   "metadata": {},
   "source": [
    "### 4. Sequenced data: list, tuple"
   ]
  },
  {
   "cell_type": "markdown",
   "id": "a6549f01-3119-4d7d-971d-5673972b5c46",
   "metadata": {},
   "source": [
    "list: A list is an ordered collection of data with elements separated by a comma and enclosed within square brackets. Lists are mutable and can be modified after creation."
   ]
  },
  {
   "cell_type": "code",
   "execution_count": 24,
   "id": "b6f9b46e-2374-45da-a551-eab2cc4d1014",
   "metadata": {},
   "outputs": [
    {
     "name": "stdout",
     "output_type": "stream",
     "text": [
      "[8, 2.3, [-4, 5], ['apple', 'banana']]\n"
     ]
    }
   ],
   "source": [
    "list1 = [8, 2.3, [-4, 5], [\"apple\", \"banana\"]]\n",
    "print(list1)"
   ]
  },
  {
   "cell_type": "markdown",
   "id": "334bfe88-4810-4d42-8ba7-2bc266f0a09b",
   "metadata": {},
   "source": [
    "Tuple: A tuple is an ordered collection of data with elements separated by a comma and enclosed within parentheses. Tuples are immutable and can not be modified after creation."
   ]
  },
  {
   "cell_type": "code",
   "execution_count": 25,
   "id": "66de9384-432b-4ed6-8c8b-f963d5a35dc2",
   "metadata": {},
   "outputs": [
    {
     "name": "stdout",
     "output_type": "stream",
     "text": [
      "(('parrot', 'sparrow'), ('Lion', 'Tiger'))\n"
     ]
    }
   ],
   "source": [
    "tuple1 = ((\"parrot\", \"sparrow\"), (\"Lion\", \"Tiger\"))\n",
    "print(tuple1)"
   ]
  },
  {
   "cell_type": "markdown",
   "id": "eb62dd8f-0329-4d7e-8f28-f905279b21b5",
   "metadata": {},
   "source": [
    "### 5. Mapped data: dict"
   ]
  },
  {
   "cell_type": "markdown",
   "id": "f776fcc1-97a1-46be-838b-94a282733d31",
   "metadata": {},
   "source": [
    "dict: A dictionary is an unordered collection of data containing a key:value pair. The key:value pairs are enclosed within curly brackets."
   ]
  },
  {
   "cell_type": "code",
   "execution_count": 26,
   "id": "cd87fe03-e12a-45cf-b567-520d473803de",
   "metadata": {},
   "outputs": [
    {
     "name": "stdout",
     "output_type": "stream",
     "text": [
      "{'name': 'Sakshi', 'age': 20, 'canVote': True}\n"
     ]
    }
   ],
   "source": [
    "dict1 = {\"name\":\"Sakshi\", \"age\":20, \"canVote\":True}\n",
    "print(dict1)"
   ]
  },
  {
   "cell_type": "markdown",
   "id": "8b68897c-97a3-4fb8-8434-1d99593f2d68",
   "metadata": {},
   "source": [
    "# Code"
   ]
  },
  {
   "cell_type": "code",
   "execution_count": 20,
   "id": "22a8fb28-fca2-40fc-aa81-bd808c8c95dc",
   "metadata": {},
   "outputs": [
    {
     "name": "stdout",
     "output_type": "stream",
     "text": [
      "(8+2j)\n",
      "True\n",
      "(17+2j)\n",
      "The type of a is  <class 'complex'>\n",
      "The type of b is  <class 'bool'>\n",
      "The type of c is  <class 'str'>\n",
      "[8, 2.3, [-4, 5], ['apple', 'banana']]\n",
      "(('parrot', 'sparrow'), ('Lion', 'Tiger'))\n",
      "{'name': 'Sakshi', 'age': 20, 'canVote': True}\n"
     ]
    }
   ],
   "source": [
    "a = complex(8, 2)\n",
    "b = True\n",
    "c = \"Harry\"\n",
    "d = None\n",
    "print(a)\n",
    "print(b)\n",
    "a1 = 9\n",
    "print(a + a1)\n",
    "print(\"The type of a is \", type(a))\n",
    "print(\"The type of b is \", type(b))\n",
    "print(\"The type of c is \", type(c))\n",
    "\n",
    "\n",
    "list1 = [8, 2.3, [-4, 5], [\"apple\", \"banana\"]]\n",
    "print(list1)\n",
    "\n",
    "tuple1 = ((\"parrot\", \"sparrow\"), (\"Lion\", \"Tiger\"))\n",
    "print(tuple1)\n",
    "\n",
    "dict1 = {\"name\":\"Sakshi\", \"age\":20, \"canVote\":True}\n",
    "print(dict1)"
   ]
  }
 ],
 "metadata": {
  "kernelspec": {
   "display_name": "Python 3 (ipykernel)",
   "language": "python",
   "name": "python3"
  },
  "language_info": {
   "codemirror_mode": {
    "name": "ipython",
    "version": 3
   },
   "file_extension": ".py",
   "mimetype": "text/x-python",
   "name": "python",
   "nbconvert_exporter": "python",
   "pygments_lexer": "ipython3",
   "version": "3.11.4"
  }
 },
 "nbformat": 4,
 "nbformat_minor": 5
}
