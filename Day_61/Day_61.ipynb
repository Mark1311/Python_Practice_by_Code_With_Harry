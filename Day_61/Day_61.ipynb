{
 "cells": [
  {
   "cell_type": "markdown",
   "id": "416edd4d-7842-4518-821a-ab42669520e4",
   "metadata": {},
   "source": [
    "# Inheritance in python"
   ]
  },
  {
   "cell_type": "markdown",
   "id": "6290ed7a-8400-4164-9053-5f7d18ef94ab",
   "metadata": {},
   "source": [
    "When a class derives from another class. The child class will inherit all the public and protected properties and methods from the parent class. In addition, it can have its own properties and methods,this is called as inheritance."
   ]
  },
  {
   "cell_type": "markdown",
   "id": "7383430e-56fc-4c03-a7f3-98b8747da690",
   "metadata": {},
   "source": [
    "### Python Inheritance Syntax"
   ]
  },
  {
   "cell_type": "code",
   "execution_count": null,
   "id": "7e5e1d43-ddcd-422c-8e9b-fc4ded1457c3",
   "metadata": {},
   "outputs": [],
   "source": [
    "class BaseClass:\n",
    " # Body of base class\n",
    "class DerivedClass(BaseClass):\n",
    " # Body of derived class"
   ]
  },
  {
   "cell_type": "markdown",
   "id": "3cf49463-a82d-4a8f-a11f-6e2cde49306d",
   "metadata": {},
   "source": [
    "Derived class inherits features from the base class where new features can be added to it. This results in re-usability of code."
   ]
  },
  {
   "cell_type": "markdown",
   "id": "5b8c59f3-a953-4f17-812e-00761a235373",
   "metadata": {},
   "source": [
    "# Types of inheritance:"
   ]
  },
  {
   "cell_type": "code",
   "execution_count": 4,
   "id": "5644aa5e-58d2-444e-8494-da4c7b403f26",
   "metadata": {},
   "outputs": [
    {
     "ename": "SyntaxError",
     "evalue": "invalid syntax (4083265059.py, line 1)",
     "output_type": "error",
     "traceback": [
      "\u001b[1;36m  Cell \u001b[1;32mIn[4], line 1\u001b[1;36m\u001b[0m\n\u001b[1;33m    * Single inheritance\u001b[0m\n\u001b[1;37m             ^\u001b[0m\n\u001b[1;31mSyntaxError\u001b[0m\u001b[1;31m:\u001b[0m invalid syntax\n"
     ]
    }
   ],
   "source": [
    "* Single inheritance\n",
    "* Multiple inheritance\n",
    "* Multilevel inheritance\n",
    "* Hierarchical Inheritance\n",
    "* Hybrid Inheritance"
   ]
  },
  {
   "cell_type": "markdown",
   "id": "b02b6a47-eb08-4fdd-b1c2-22bfa3a4f088",
   "metadata": {},
   "source": [
    "# Single Inheritance"
   ]
  },
  {
   "cell_type": "markdown",
   "id": "fd861c29-b3a8-4e6b-95e5-bc44ca8082a4",
   "metadata": {},
   "source": [
    "Single inheritance enables a derived class to inherit properties from a single parent class, thus enabling code reusability and the addition of new features to existing code.\n"
   ]
  },
  {
   "cell_type": "code",
   "execution_count": 5,
   "id": "71954706-f42a-4898-8951-c4494196df31",
   "metadata": {},
   "outputs": [
    {
     "name": "stdout",
     "output_type": "stream",
     "text": [
      "This function is in parent class.\n",
      "This function is in child class.\n"
     ]
    }
   ],
   "source": [
    "# Example:\n",
    "\n",
    "class Parent:\n",
    "    def func1(self):\n",
    "        print(\"This function is in parent class.\")\n",
    " \n",
    "class Child(Parent):\n",
    "    def func2(self):\n",
    "        print(\"This function is in child class.\")\n",
    " \n",
    "object = Child()\n",
    "object.func1()\n",
    "object.func2()"
   ]
  },
  {
   "cell_type": "markdown",
   "id": "1e3ddfb1-32d8-46c4-a165-f9a5c5b7576b",
   "metadata": {},
   "source": [
    "# Multiple Inheritance"
   ]
  },
  {
   "cell_type": "markdown",
   "id": "0b7a7c2b-73f1-423a-bf95-d8bc8b404bfb",
   "metadata": {},
   "source": [
    "When a class can be derived from more than one base class this type of inheritance is called multiple inheritances. In multiple inheritances, all the features of the base classes are inherited into the derived class."
   ]
  },
  {
   "cell_type": "code",
   "execution_count": 6,
   "id": "66462da0-99b1-4804-9ac4-26e9172706c4",
   "metadata": {},
   "outputs": [
    {
     "name": "stdout",
     "output_type": "stream",
     "text": [
      "Father name is : Mommy\n",
      "Mother : Daddy\n"
     ]
    }
   ],
   "source": [
    "# Example:\n",
    "class Mother:\n",
    "    mothername = \"\"\n",
    " \n",
    "    def mother(self):\n",
    "        print(self.mothername)\n",
    " \n",
    " \n",
    "class Father:\n",
    "    fathername = \"\"\n",
    " \n",
    "    def father(self):\n",
    "        print(self.fathername)\n",
    " \n",
    " \n",
    "class Son(Mother, Father):\n",
    "    def parents(self):\n",
    "        print(\"Father name is :\", self.fathername)\n",
    "        print(\"Mother :\", self.mothername)\n",
    "s1 = Son()\n",
    "s1.fathername = \"Mommy\"\n",
    "s1.mothername = \"Daddy\"\n",
    "s1.parents()"
   ]
  },
  {
   "cell_type": "markdown",
   "id": "3f561bfc-a2eb-4c00-9ca2-7ceebd1cdc54",
   "metadata": {},
   "source": [
    "# Multilevel Inheritance\n",
    "\n",
    "In multilevel inheritance, features of the base class and the derived class are further inherited into the new derived class. This is similar to a relationship representing a child and a grandfather.\n"
   ]
  },
  {
   "cell_type": "code",
   "execution_count": 8,
   "id": "7a9f7022-fcaa-4653-a40f-1aed7a27b74e",
   "metadata": {},
   "outputs": [
    {
     "name": "stdout",
     "output_type": "stream",
     "text": [
      "Lal mani\n",
      "Grandfather name : Lal mani\n",
      "Father name : Rampal\n",
      "Son name : Prince\n"
     ]
    }
   ],
   "source": [
    "#Example:\n",
    "class Grandfather:\n",
    " \n",
    "    def __init__(self, grandfathername):\n",
    "        self.grandfathername = grandfathername\n",
    " \n",
    " \n",
    "class Father(Grandfather):\n",
    "    def __init__(self, fathername, grandfathername):\n",
    "        self.fathername = fathername\n",
    "        Grandfather.__init__(self, grandfathername)\n",
    "class Son(Father):\n",
    "    def __init__(self, sonname, fathername, grandfathername):\n",
    "        self.sonname = sonname\n",
    "        Father.__init__(self, fathername, grandfathername)\n",
    " \n",
    "    def print_name(self):\n",
    "        print('Grandfather name :', self.grandfathername)\n",
    "        print(\"Father name :\", self.fathername)\n",
    "        print(\"Son name :\", self.sonname)\n",
    "s1 = Son('Prince', 'Rampal', 'Lal mani')\n",
    "print(s1.grandfathername)\n",
    "s1.print_name()"
   ]
  },
  {
   "cell_type": "markdown",
   "id": "1606e616-3e7e-4077-a7dc-8ff6eb08f8c6",
   "metadata": {},
   "source": [
    "# Hierarchical Inheritance\n",
    "\n",
    "When more than one derived class are created from a single base this type of inheritance is called hierarchical inheritance. In this program, we have a parent (base) class and two child (derived) classes.\n"
   ]
  },
  {
   "cell_type": "code",
   "execution_count": 11,
   "id": "6c1b27c7-b0e3-4e10-a624-5490a28193b2",
   "metadata": {},
   "outputs": [
    {
     "name": "stdout",
     "output_type": "stream",
     "text": [
      "This function is in parent class.\n",
      "This function is in child 1.\n",
      "This function is in parent class.\n",
      "This function is in child 2.\n"
     ]
    }
   ],
   "source": [
    "# Example:\n",
    "class Parent:\n",
    "    def func1(self):\n",
    "        print(\"This function is in parent class.\")\n",
    "class Child1(Parent):\n",
    "    def func2(self):\n",
    "        print(\"This function is in child 1.\")\n",
    "      \n",
    "class Child2(Parent):\n",
    "    def func3(self):\n",
    "        print(\"This function is in child 2.\")\n",
    " \n",
    "object1 = Child1()\n",
    "object2 = Child2()\n",
    "object1.func1()\n",
    "object1.func2()\n",
    "object2.func1()\n",
    "object2.func3()"
   ]
  },
  {
   "cell_type": "markdown",
   "id": "415962ac-a525-48d7-b86c-d1f4e0cf90e9",
   "metadata": {},
   "source": [
    "# Hybrid Inheritance\n",
    "\n",
    "Inheritance consisting of multiple types of inheritance is called hybrid inheritance.\n"
   ]
  },
  {
   "cell_type": "code",
   "execution_count": 12,
   "id": "fbe91992-9c1a-4d51-a786-44a540009b23",
   "metadata": {},
   "outputs": [
    {
     "name": "stdout",
     "output_type": "stream",
     "text": [
      "This function is in school.\n",
      "This function is in student 1. \n"
     ]
    }
   ],
   "source": [
    "#Example\n",
    "class School:\n",
    "    def func1(self):\n",
    "        print(\"This function is in school.\")\n",
    " \n",
    " \n",
    "class Student1(School):\n",
    "    def func2(self):\n",
    "        print(\"This function is in student 1. \")\n",
    " \n",
    " \n",
    "class Student2(School):\n",
    "    def func3(self):\n",
    "        print(\"This function is in student 2.\")\n",
    " \n",
    " \n",
    "class Student3(Student1, School):\n",
    "    def func4(self):\n",
    "        print(\"This function is in student 3.\")\n",
    " \n",
    "object = Student3()\n",
    "object.func1()\n",
    "object.func2()"
   ]
  },
  {
   "cell_type": "markdown",
   "id": "0fa3e502-571a-4304-a252-d506e51fdda7",
   "metadata": {},
   "source": [
    "# Code"
   ]
  },
  {
   "cell_type": "code",
   "execution_count": 14,
   "id": "e8f93bea-8896-4e17-9d18-e9fbfc21da1c",
   "metadata": {},
   "outputs": [
    {
     "name": "stdout",
     "output_type": "stream",
     "text": [
      "The name of Employee: 400 is Rohan Das\n",
      "The name of Employee: 4100 is Harry\n",
      "The default langauge is Python\n"
     ]
    }
   ],
   "source": [
    "class Employee:\n",
    "  def __init__(self, name, id):\n",
    "    self.name = name\n",
    "    self.id = id \n",
    "\n",
    "  def showDetails(self):\n",
    "    print(f\"The name of Employee: {self.id} is {self.name}\")\n",
    "\n",
    "class Programmer(Employee):\n",
    "  def showLanguage(self):\n",
    "    print(\"The default langauge is Python\")\n",
    "\n",
    "\n",
    "e1 = Employee(\"Rohan Das\", 400)\n",
    "e1.showDetails()\n",
    "e2 = Programmer(\"Harry\", 4100)\n",
    "e2.showDetails()\n",
    "e2.showLanguage()"
   ]
  }
 ],
 "metadata": {
  "kernelspec": {
   "display_name": "Python 3 (ipykernel)",
   "language": "python",
   "name": "python3"
  },
  "language_info": {
   "codemirror_mode": {
    "name": "ipython",
    "version": 3
   },
   "file_extension": ".py",
   "mimetype": "text/x-python",
   "name": "python",
   "nbconvert_exporter": "python",
   "pygments_lexer": "ipython3",
   "version": "3.11.4"
  }
 },
 "nbformat": 4,
 "nbformat_minor": 5
}
