{
 "cells": [
  {
   "cell_type": "markdown",
   "id": "28dd72e0-99bd-46af-a96a-5699a757d387",
   "metadata": {},
   "source": [
    "# Merger Pdf Code"
   ]
  },
  {
   "cell_type": "markdown",
   "id": "e286241e-7b56-4559-a768-b46ae32fa979",
   "metadata": {},
   "source": [
    "Write a program to manipulate pdf files using pyPDF. Your programs should be able to merge multiple pdf files into a single pdf. You are welcome to add more functionalities\n",
    "\n",
    "pypdf is a free and open-source pure-python PDF library capable of splitting, merging, cropping, and transforming the pages of PDF files. It can also add custom data, viewing options, and passwords to PDF files. pypdf can retrieve text and metadata from PDFs as well."
   ]
  },
  {
   "cell_type": "code",
   "execution_count": null,
   "id": "ce124bba-9a40-49e9-bd27-285b4315369f",
   "metadata": {},
   "outputs": [],
   "source": [
    "from PyPDF2 import PdfWriter\n",
    "import os\n",
    "\n",
    "merger = PdfWriter()\n",
    "files = [file for file in os.listdir() if file.endswith(\".pdf\")]\n",
    "\n",
    "for pdf in files:\n",
    "    merger.append(pdf)\n",
    "\n",
    "merger.write(\"merged-pdf.pdf\")\n",
    "merger.close()"
   ]
  }
 ],
 "metadata": {
  "kernelspec": {
   "display_name": "Python 3 (ipykernel)",
   "language": "python",
   "name": "python3"
  },
  "language_info": {
   "codemirror_mode": {
    "name": "ipython",
    "version": 3
   },
   "file_extension": ".py",
   "mimetype": "text/x-python",
   "name": "python",
   "nbconvert_exporter": "python",
   "pygments_lexer": "ipython3",
   "version": "3.11.4"
  }
 },
 "nbformat": 4,
 "nbformat_minor": 5
}
