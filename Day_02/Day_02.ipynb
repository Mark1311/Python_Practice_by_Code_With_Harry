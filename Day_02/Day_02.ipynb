{
 "cells": [
  {
   "cell_type": "markdown",
   "id": "f8606bbe-6339-460b-8e71-176a64dda66f",
   "metadata": {},
   "source": [
    "# What can Python do for you?"
   ]
  },
  {
   "cell_type": "markdown",
   "id": "2408b4e4-546c-4e8c-8873-bc9f6928866d",
   "metadata": {},
   "source": [
    "* I want to show you some python programs I created which will surely inspire you to create your own versions of the same as we progress through this tutorial. Do not try to recreate them just yet if you are a beginner and just started working on Python."
   ]
  }
 ],
 "metadata": {
  "kernelspec": {
   "display_name": "Python 3 (ipykernel)",
   "language": "python",
   "name": "python3"
  },
  "language_info": {
   "codemirror_mode": {
    "name": "ipython",
    "version": 3
   },
   "file_extension": ".py",
   "mimetype": "text/x-python",
   "name": "python",
   "nbconvert_exporter": "python",
   "pygments_lexer": "ipython3",
   "version": "3.11.4"
  }
 },
 "nbformat": 4,
 "nbformat_minor": 5
}
