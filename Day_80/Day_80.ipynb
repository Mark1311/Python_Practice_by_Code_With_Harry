{
 "cells": [
  {
   "cell_type": "markdown",
   "id": "1f2237eb-d418-4fb7-ae81-72b075d9f90e",
   "metadata": {},
   "source": [
    "# Multilevel Inheritance in Python\n",
    "\n",
    "Multilevel inheritance is a type of inheritance in object-oriented programming where a derived class inherits from another derived class. This type of inheritance allows you to build a hierarchy of classes where one class builds upon another, leading to a more specialized class.\n",
    "\n",
    "In Python, multilevel inheritance is achieved by using the class hierarchy. The syntax for multilevel inheritance is quite simple and follows the same syntax as single inheritance.\n"
   ]
  },
  {
   "cell_type": "markdown",
   "id": "7b8ab252-e2fb-4945-b966-3cf0e2696a1a",
   "metadata": {},
   "source": [
    "### Syntax"
   ]
  },
  {
   "cell_type": "code",
   "execution_count": null,
   "id": "8297b94a-ed2e-4efe-9a8a-cde3016ad465",
   "metadata": {},
   "outputs": [],
   "source": [
    "class BaseClass:\n",
    "    # Base class code\n",
    "    \n",
    "class DerivedClass1(BaseClass):\n",
    "    # Derived class 1 code\n",
    "    \n",
    "class DerivedClass2(DerivedClass1):\n",
    "    # Derived class 2 code"
   ]
  },
  {
   "cell_type": "markdown",
   "id": "1b1d8168-010b-460f-ae51-cf5fb578642a",
   "metadata": {},
   "source": [
    "\n",
    "In the above example, we have three classes: BaseClass, DerivedClass1, and DerivedClass2. The DerivedClass1 class inherits from the BaseClass, and the DerivedClass2 class inherits from the DerivedClass1 class. This creates a hierarchy where DerivedClass2 has access to all the attributes and methods of both DerivedClass1 and BaseClass.\n"
   ]
  },
  {
   "cell_type": "code",
   "execution_count": 3,
   "id": "605a00fa-52dc-4831-b265-e52a1fd55c7a",
   "metadata": {},
   "outputs": [
    {
     "name": "stdout",
     "output_type": "stream",
     "text": [
      "Name: Max\n",
      "Species: Dog\n",
      "Breed: Golden Retriever\n",
      "Color: Golden\n"
     ]
    }
   ],
   "source": [
    "#Example\n",
    "\n",
    "class Animal:\n",
    "    def __init__(self, name, species):\n",
    "        self.name = name\n",
    "        self.species = species\n",
    "        \n",
    "    def show_details(self):\n",
    "        print(f\"Name: {self.name}\")\n",
    "        print(f\"Species: {self.species}\")\n",
    "        \n",
    "class Dog(Animal):\n",
    "    def __init__(self, name, breed):\n",
    "        Animal.__init__(self, name, species=\"Dog\")\n",
    "        self.breed = breed\n",
    "        \n",
    "    def show_details(self):\n",
    "        Animal.show_details(self)\n",
    "        print(f\"Breed: {self.breed}\")\n",
    "        \n",
    "class GoldenRetriever(Dog):\n",
    "    def __init__(self, name, color):\n",
    "        Dog.__init__(self, name, breed=\"Golden Retriever\")\n",
    "        self.color = color\n",
    "        \n",
    "    def show_details(self):\n",
    "        Dog.show_details(self)\n",
    "        print(f\"Color: {self.color}\")\n",
    "\n",
    "dog = GoldenRetriever(\"Max\", \"Golden\")\n",
    "dog.show_details()\n"
   ]
  },
  {
   "cell_type": "markdown",
   "id": "eb396c8b-e6b7-4521-8da3-6dad44abfc82",
   "metadata": {},
   "source": [
    "\n",
    "In this example, we have three classes: Animal, Dog, and GoldenRetriever. The Dog class inherits from the Animal class, and the GoldenRetriever class inherits from the Dog class.\n",
    "\n",
    "Now, when we create an object of the GoldenRetriever class, it has access to all the attributes and methods of the Animal class and the Dog class. We can also see that the GoldenRetriever class has its own attributes and methods that are specific to the class.\n"
   ]
  },
  {
   "cell_type": "markdown",
   "id": "d4c9ea1e-ef04-4c77-a113-b79199576194",
   "metadata": {},
   "source": [
    "\n",
    "As we can see from the output, the GoldenRetriever object has access to all the attributes and methods of the Animal and Dog classes, and, it has also added its own unique attributes and methods. This is a powerful feature of multilevel inheritance, as it allows you to create more complex and intricate classes by building upon existing ones.\n",
    "\n",
    "Another important aspect of multilevel inheritance is that it allows you to reuse code and avoid repeating the same logic multiple times. This can lead to better maintainability and readability of your code, as you can abstract away complex logic into base classes and build upon them."
   ]
  },
  {
   "cell_type": "markdown",
   "id": "62c50a0d-39d8-4d17-8944-d1f1b4348f50",
   "metadata": {},
   "source": [
    "# Code"
   ]
  },
  {
   "cell_type": "code",
   "execution_count": 4,
   "id": "61775177-b294-4b1c-81e3-ce646c7fcc3a",
   "metadata": {},
   "outputs": [
    {
     "name": "stdout",
     "output_type": "stream",
     "text": [
      "Name: tommy\n",
      "Species: Dog\n",
      "Breed: Black\n",
      "[<class '__main__.GoldenRetriever'>, <class '__main__.Dog'>, <class '__main__.Animal'>, <class 'object'>]\n"
     ]
    }
   ],
   "source": [
    "class Animal:\n",
    "    def __init__(self, name, species):\n",
    "        self.name = name\n",
    "        self.species = species\n",
    "        \n",
    "    def show_details(self):\n",
    "        print(f\"Name: {self.name}\")\n",
    "        print(f\"Species: {self.species}\")\n",
    "        \n",
    "class Dog(Animal):\n",
    "    def __init__(self, name, breed):\n",
    "        Animal.__init__(self, name, species=\"Dog\")\n",
    "        self.breed = breed\n",
    "        \n",
    "    def show_details(self):\n",
    "        Animal.show_details(self)\n",
    "        print(f\"Breed: {self.breed}\")\n",
    "        \n",
    "class GoldenRetriever(Dog):\n",
    "    def __init__(self, name, color):\n",
    "        Dog.__init__(self, name, breed=\"Golden Retriever\")\n",
    "        self.color = color\n",
    "        \n",
    "    def show_details(self):\n",
    "        Dog.show_details(self)\n",
    "        print(f\"Color: {self.color}\")\n",
    "\n",
    "o = Dog(\"tommy\", \"Black\")\n",
    "o.show_details()\n",
    "print(GoldenRetriever.mro())\n",
    "\n"
   ]
  }
 ],
 "metadata": {
  "kernelspec": {
   "display_name": "Python 3 (ipykernel)",
   "language": "python",
   "name": "python3"
  },
  "language_info": {
   "codemirror_mode": {
    "name": "ipython",
    "version": 3
   },
   "file_extension": ".py",
   "mimetype": "text/x-python",
   "name": "python",
   "nbconvert_exporter": "python",
   "pygments_lexer": "ipython3",
   "version": "3.11.4"
  }
 },
 "nbformat": 4,
 "nbformat_minor": 5
}
