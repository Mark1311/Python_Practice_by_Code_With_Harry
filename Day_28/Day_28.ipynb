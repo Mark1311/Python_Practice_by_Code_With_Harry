{
 "cells": [
  {
   "cell_type": "markdown",
   "id": "10a1d04c-b88f-47c7-8839-ee8881e52918",
   "metadata": {},
   "source": [
    "# String formatting in python"
   ]
  },
  {
   "cell_type": "markdown",
   "id": "35e1cfbb-d7af-4476-996b-038e90d52a99",
   "metadata": {},
   "source": [
    "String formatting can be done in python using the format method."
   ]
  },
  {
   "cell_type": "code",
   "execution_count": 1,
   "id": "3aed7954-dd21-4f8e-84fe-b3a27cd26488",
   "metadata": {},
   "outputs": [
    {
     "name": "stdout",
     "output_type": "stream",
     "text": [
      "For only 49.00 dollars!\n"
     ]
    }
   ],
   "source": [
    "txt = \"For only {price:.2f} dollars!\"\n",
    "print(txt.format(price = 49))"
   ]
  },
  {
   "cell_type": "markdown",
   "id": "44b1a542-d917-47e6-9141-a6a1d3fd0288",
   "metadata": {},
   "source": [
    "# f-strings in python"
   ]
  },
  {
   "cell_type": "markdown",
   "id": "40caf43a-08ad-422a-93de-a4a3edc4a58e",
   "metadata": {},
   "source": [
    "It is a new string formatting mechanism introduced by the PEP 498. It is also known as Literal String Interpolation or more commonly as F-strings (f character preceding the string literal). The primary focus of this mechanism is to make the interpolation easier.\n",
    "\n",
    "When we prefix the string with the letter 'f', the string becomes the f-string itself. The f-string can be formatted in much same as the str.format() method. The f-string offers a convenient way to embed Python expression inside string literals for formatting."
   ]
  },
  {
   "cell_type": "code",
   "execution_count": 3,
   "id": "aab70430-2dae-49ac-bd0a-8432e657bc6c",
   "metadata": {},
   "outputs": [
    {
     "name": "stdout",
     "output_type": "stream",
     "text": [
      "GeeksforGeeks is a portal for Geeks.\n"
     ]
    }
   ],
   "source": [
    "val = 'Geeks'  \n",
    "print(f\"{val}for{val} is a portal for {val}.\")  "
   ]
  },
  {
   "cell_type": "code",
   "execution_count": 4,
   "id": "dec5bde2-cb5e-4c60-9531-9c4148f3e2a9",
   "metadata": {},
   "outputs": [
    {
     "name": "stdout",
     "output_type": "stream",
     "text": [
      "Hello, My name is Tushar and I'm 23 years old.\n"
     ]
    }
   ],
   "source": [
    "name = 'Tushar'  \n",
    "age = 23  \n",
    "print(f\"Hello, My name is {name} and I'm {age} years old.\")"
   ]
  },
  {
   "cell_type": "code",
   "execution_count": 6,
   "id": "a76c1aa0-d90c-49d3-81df-bb926c3bd7fc",
   "metadata": {},
   "outputs": [
    {
     "name": "stdout",
     "output_type": "stream",
     "text": [
      "60\n"
     ]
    }
   ],
   "source": [
    "print(f\"{2 * 30}\")"
   ]
  },
  {
   "cell_type": "markdown",
   "id": "576f7b45-ef6b-48e0-a9a5-a5f74a86e15b",
   "metadata": {},
   "source": [
    "# Code"
   ]
  },
  {
   "cell_type": "code",
   "execution_count": 14,
   "id": "199bc942-5839-4d46-a757-2d64e31579d9",
   "metadata": {},
   "outputs": [
    {
     "name": "stdout",
     "output_type": "stream",
     "text": [
      "Hey my name is Harry and I am from India\n",
      "Hey my name is Harry and I am from India\n",
      "We use f-strings like this: Hey my name is {name} and I am from {country}\n"
     ]
    }
   ],
   "source": [
    "letter = \"Hey my name is {1} and I am from {0}\"\n",
    "country = \"India\"\n",
    "name = \"Harry\"\n",
    "\n",
    "print(letter.format(country, name))\n",
    "print(f\"Hey my name is {name} and I am from {country}\")\n",
    "print(f\"We use f-strings like this: Hey my name is {{name}} and I am from {{country}}\")"
   ]
  },
  {
   "cell_type": "code",
   "execution_count": 13,
   "id": "3a4fbb56-d9f7-4ea0-b710-bdbc9b1f92dc",
   "metadata": {},
   "outputs": [
    {
     "name": "stdout",
     "output_type": "stream",
     "text": [
      "For only 49.10 dollars!\n"
     ]
    }
   ],
   "source": [
    "price = 49.09999\n",
    "txt = f\"For only {price:.2f} dollars!\"\n",
    "print(txt)"
   ]
  },
  {
   "cell_type": "code",
   "execution_count": 15,
   "id": "0d54bcc1-c98d-4dab-8104-988bf4b0966b",
   "metadata": {},
   "outputs": [
    {
     "name": "stdout",
     "output_type": "stream",
     "text": [
      "For only 49.10 dollars!\n"
     ]
    }
   ],
   "source": [
    "price = 49.09999\n",
    "txt = f\"For only {price:.2f} dollars!\"\n",
    "print(txt.format())"
   ]
  }
 ],
 "metadata": {
  "kernelspec": {
   "display_name": "Python 3 (ipykernel)",
   "language": "python",
   "name": "python3"
  },
  "language_info": {
   "codemirror_mode": {
    "name": "ipython",
    "version": 3
   },
   "file_extension": ".py",
   "mimetype": "text/x-python",
   "name": "python",
   "nbconvert_exporter": "python",
   "pygments_lexer": "ipython3",
   "version": "3.11.4"
  }
 },
 "nbformat": 4,
 "nbformat_minor": 5
}
