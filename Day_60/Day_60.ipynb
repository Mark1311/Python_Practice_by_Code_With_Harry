{
 "cells": [
  {
   "cell_type": "markdown",
   "id": "cab7f3be-5627-4a36-bf33-2fa052651127",
   "metadata": {},
   "source": [
    "# Getters"
   ]
  },
  {
   "cell_type": "markdown",
   "id": "d0a46e5d-88b2-44c9-a0bc-87018ae42139",
   "metadata": {},
   "source": [
    "Getters in Python are methods that are used to access the values of an object's properties. They are used to return the value of a specific property, and are typically defined using the @property decorator. Here is an example of a simple class with a getter method:\n"
   ]
  },
  {
   "cell_type": "code",
   "execution_count": 3,
   "id": "2ef609a3-7737-498e-9b5b-7d362fceecc6",
   "metadata": {},
   "outputs": [],
   "source": [
    "class MyClass:\n",
    "    def __init__(self, value):\n",
    "        self._value = value\n",
    "    @property\n",
    "    def value(self):\n",
    "        return self._value\n",
    "\n"
   ]
  },
  {
   "cell_type": "raw",
   "id": "9d7acaa9-ec85-4241-95e3-567a164eec58",
   "metadata": {},
   "source": [
    ">>> obj = MyClass(10)\n",
    ">>> obj.value\n",
    "10"
   ]
  },
  {
   "cell_type": "markdown",
   "id": "8dbcc40f-684c-4cb1-bbb5-fdf349a72421",
   "metadata": {},
   "source": [
    "In this example, the MyClass class has a single property, _value, which is initialized in the init method. The value method is defined as a getter using the @property decorator, and is used to return the value of the _value property.\n",
    "\n",
    "To use the getter, we can create an instance of the MyClass class, and then access the value property as if it were an attribute:\n"
   ]
  },
  {
   "cell_type": "markdown",
   "id": "5acc9b27-8f8b-41f3-8fcb-1887debbd3ce",
   "metadata": {},
   "source": [
    "# Setters"
   ]
  },
  {
   "cell_type": "markdown",
   "id": "b74e2624-1c2e-44b1-9337-ab3e62e369dc",
   "metadata": {},
   "source": [
    "It is important to note that the getters do not take any parameters and we cannot set the value through getter method.For that we need setter method which can be added by decorating method with @property_name.setter"
   ]
  },
  {
   "cell_type": "code",
   "execution_count": 5,
   "id": "9dda94c0-3932-41d4-975e-7177f0c19773",
   "metadata": {},
   "outputs": [],
   "source": [
    "class MyClass:\n",
    "    def __init__(self, value):\n",
    "        self._value = value\n",
    "    @property\n",
    "    def value(self):\n",
    "        return self._value\n",
    "    @value.setter\n",
    "    def value(self, new_value):\n",
    "        self._value = new_value"
   ]
  },
  {
   "cell_type": "raw",
   "id": "85864c7a-3691-4c90-9f5f-d3fc6eda793a",
   "metadata": {},
   "source": [
    "We can use setter method like this:\n",
    "\n",
    ">>> obj = MyClass(10)\n",
    ">>> obj.value = 20\n",
    ">>> obj.value\n",
    "20"
   ]
  },
  {
   "cell_type": "markdown",
   "id": "74f1de30-fdca-48ac-8ae0-faac0613c70e",
   "metadata": {},
   "source": [
    "In conclusion, getters are a convenient way to access the values of an object's properties, while keeping the internal representation of the property hidden. This can be useful for encapsulation and data validation."
   ]
  },
  {
   "cell_type": "markdown",
   "id": "10d5ff30-c9d1-4699-bb67-632d5aa0bd95",
   "metadata": {},
   "source": [
    "# Code"
   ]
  },
  {
   "cell_type": "code",
   "execution_count": 6,
   "id": "82a13c11-3cf9-4177-8698-90e792dde4cf",
   "metadata": {},
   "outputs": [
    {
     "name": "stdout",
     "output_type": "stream",
     "text": [
      "67.0\n",
      "Value is 6.7\n"
     ]
    }
   ],
   "source": [
    "class MyClass:\n",
    "  def __init__(self, value):\n",
    "      self._value = value\n",
    "    \n",
    "  def show(self):\n",
    "    print(f\"Value is {self._value}\")\n",
    "    \n",
    "  @property\n",
    "  def ten_value(self):\n",
    "      return 10* self._value\n",
    "    \n",
    "  @ten_value.setter\n",
    "  def ten_value(self, new_value):\n",
    "      self._value = new_value/10\n",
    "\n",
    "obj = MyClass(10)\n",
    "obj.ten_value = 67\n",
    "print(obj.ten_value)\n",
    "obj.show()"
   ]
  }
 ],
 "metadata": {
  "kernelspec": {
   "display_name": "Python 3 (ipykernel)",
   "language": "python",
   "name": "python3"
  },
  "language_info": {
   "codemirror_mode": {
    "name": "ipython",
    "version": 3
   },
   "file_extension": ".py",
   "mimetype": "text/x-python",
   "name": "python",
   "nbconvert_exporter": "python",
   "pygments_lexer": "ipython3",
   "version": "3.11.4"
  }
 },
 "nbformat": 4,
 "nbformat_minor": 5
}
