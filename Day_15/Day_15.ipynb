{
 "cells": [
  {
   "cell_type": "markdown",
   "id": "42d92d8c-e516-4d1a-bdcf-96fe8ca6c366",
   "metadata": {},
   "source": [
    "# Excersice - 2"
   ]
  },
  {
   "cell_type": "markdown",
   "id": "4ac983d0-c1a9-4758-b04f-e368c1a18b21",
   "metadata": {},
   "source": [
    "Create a python program capable of greeting you with Good Morning, Good Afternoon and Good Evening. Your program should use time module to get the current hour. Here is a sample program and documentation link for you:"
   ]
  },
  {
   "cell_type": "code",
   "execution_count": 2,
   "id": "e97a2b12-c3bd-4216-b409-e098d00e6988",
   "metadata": {},
   "outputs": [
    {
     "name": "stdout",
     "output_type": "stream",
     "text": [
      "22:32:11\n",
      "22\n",
      "32\n",
      "11\n"
     ]
    }
   ],
   "source": [
    "import time\n",
    "timestamp = time.strftime('%H:%M:%S')\n",
    "print(timestamp)\n",
    "timestamp = time.strftime('%H')\n",
    "print(timestamp)\n",
    "timestamp = time.strftime('%M')\n",
    "print(timestamp)\n",
    "timestamp = time.strftime('%S')\n",
    "print(timestamp)"
   ]
  }
 ],
 "metadata": {
  "kernelspec": {
   "display_name": "Python 3 (ipykernel)",
   "language": "python",
   "name": "python3"
  },
  "language_info": {
   "codemirror_mode": {
    "name": "ipython",
    "version": 3
   },
   "file_extension": ".py",
   "mimetype": "text/x-python",
   "name": "python",
   "nbconvert_exporter": "python",
   "pygments_lexer": "ipython3",
   "version": "3.11.4"
  }
 },
 "nbformat": 4,
 "nbformat_minor": 5
}
