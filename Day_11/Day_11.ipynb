{
 "cells": [
  {
   "cell_type": "markdown",
   "id": "0fc1fc45-1e0b-4dd5-ae59-3e9f4674e0e4",
   "metadata": {},
   "source": [
    "# What are the strings?"
   ]
  },
  {
   "cell_type": "markdown",
   "id": "257b5ea5-f90d-4490-a9ab-876053255630",
   "metadata": {},
   "source": [
    "In python, anything that you enclose between single or double quotation marks is considered a string. A string is essentially a sequence or array of textual data. Strings are used when working with Unicode characters."
   ]
  },
  {
   "cell_type": "markdown",
   "id": "9282f2b3-2fc2-4ad5-b515-2b35ef360f9d",
   "metadata": {},
   "source": [
    "Example"
   ]
  },
  {
   "cell_type": "code",
   "execution_count": 1,
   "id": "aca27c13-4a93-47af-bd9a-59634bbfd67a",
   "metadata": {},
   "outputs": [
    {
     "name": "stdout",
     "output_type": "stream",
     "text": [
      "Hello, Harry\n"
     ]
    }
   ],
   "source": [
    "name = \"Harry\"\n",
    "print(\"Hello, \" + name)"
   ]
  },
  {
   "cell_type": "code",
   "execution_count": 4,
   "id": "976042fb-5268-493d-a801-822dcf05d338",
   "metadata": {},
   "outputs": [
    {
     "name": "stdout",
     "output_type": "stream",
     "text": [
      "He said, \"I want to eat an apple\".\n"
     ]
    }
   ],
   "source": [
    "print('He said, \"I want to eat an apple\".')"
   ]
  },
  {
   "cell_type": "markdown",
   "id": "f0018a42-9f37-4c0a-b7e9-de2d27cfb4ac",
   "metadata": {},
   "source": [
    "# Multiline Strings"
   ]
  },
  {
   "cell_type": "markdown",
   "id": "af4dc1c5-1417-4d54-8193-2682685a2f8c",
   "metadata": {},
   "source": [
    "If our string has multiple lines, we can create them like this:"
   ]
  },
  {
   "cell_type": "code",
   "execution_count": 4,
   "id": "a11ab1ce-c225-4549-a3fa-fe87b3a10bc8",
   "metadata": {},
   "outputs": [
    {
     "name": "stdout",
     "output_type": "stream",
     "text": [
      "Lorem ipsum dolor sit amet,\n",
      "consectetur adipiscing elit,\n",
      "sed do eiusmod tempor incididunt\n",
      "ut labore et dolore magna aliqua.\n"
     ]
    }
   ],
   "source": [
    "a = \"\"\"Lorem ipsum dolor sit amet,\n",
    "consectetur adipiscing elit,\n",
    "sed do eiusmod tempor incididunt\n",
    "ut labore et dolore magna aliqua.\"\"\"\n",
    "\n",
    "print(a)"
   ]
  },
  {
   "cell_type": "markdown",
   "id": "b239ed0e-5309-4ffe-8b4b-95ad53711eee",
   "metadata": {},
   "source": [
    "# Accessing Characters of a String."
   ]
  },
  {
   "cell_type": "code",
   "execution_count": 5,
   "id": "2302e613-308d-4172-b30a-89c6a2e58201",
   "metadata": {},
   "outputs": [
    {
     "name": "stdout",
     "output_type": "stream",
     "text": [
      "H\n",
      "a\n"
     ]
    }
   ],
   "source": [
    "name = \"Harry\"\n",
    "print(name[0])\n",
    "print(name[1])"
   ]
  },
  {
   "cell_type": "markdown",
   "id": "5a6dc232-023f-4c4f-acb1-600fd37110ae",
   "metadata": {},
   "source": [
    "# Looping through the string."
   ]
  },
  {
   "cell_type": "code",
   "execution_count": 6,
   "id": "6eda12a4-5c7e-4aa3-aa69-8e77121ad404",
   "metadata": {},
   "outputs": [
    {
     "name": "stdout",
     "output_type": "stream",
     "text": [
      "H\n",
      "a\n",
      "r\n",
      "r\n",
      "y\n"
     ]
    }
   ],
   "source": [
    "for character in name:\n",
    "    print(character)"
   ]
  },
  {
   "cell_type": "markdown",
   "id": "50485496-00b7-4cfb-9d7b-db86569caa96",
   "metadata": {},
   "source": [
    "# Code"
   ]
  },
  {
   "cell_type": "code",
   "execution_count": 15,
   "id": "db36ae01-c81d-4018-8d81-7649464b3b3c",
   "metadata": {},
   "outputs": [],
   "source": [
    "name = \"Harry\""
   ]
  },
  {
   "cell_type": "code",
   "execution_count": 14,
   "id": "c552400c-a256-4423-b42b-0395b27cb9ae",
   "metadata": {},
   "outputs": [
    {
     "name": "stdout",
     "output_type": "stream",
     "text": [
      "Hello, Harry\n"
     ]
    }
   ],
   "source": [
    "print(\"Hello, \" + name)"
   ]
  },
  {
   "cell_type": "code",
   "execution_count": 13,
   "id": "11785784-8b06-4b63-821a-2d30ece53bdf",
   "metadata": {},
   "outputs": [
    {
     "name": "stdout",
     "output_type": "stream",
     "text": [
      "H\n",
      "a\n",
      "r\n",
      "r\n",
      "y\n"
     ]
    }
   ],
   "source": [
    "name = \"Harry\"\n",
    "\n",
    "print(name[0])\n",
    "print(name[1])\n",
    "print(name[2])\n",
    "print(name[3])\n",
    "print(name[4])"
   ]
  },
  {
   "cell_type": "code",
   "execution_count": 11,
   "id": "36a30cd9-e09c-4c5f-95d6-5256f43c5aae",
   "metadata": {},
   "outputs": [
    {
     "name": "stdout",
     "output_type": "stream",
     "text": [
      "Lets use a for loop\n",
      "\n",
      "H\n",
      "e\n",
      " \n",
      "s\n",
      "a\n",
      "i\n",
      "d\n",
      ",\n",
      " \n",
      "\n",
      "\n",
      "H\n",
      "i\n",
      " \n",
      "H\n",
      "a\n",
      "r\n",
      "r\n",
      "y\n",
      "\n",
      "\n",
      "h\n",
      "e\n",
      "y\n",
      " \n",
      "I\n",
      " \n",
      "a\n",
      "m\n",
      " \n",
      "g\n",
      "o\n",
      "o\n",
      "d\n",
      "\n",
      "\n",
      "\"\n",
      "I\n",
      " \n",
      "w\n",
      "a\n",
      "n\n",
      "t\n",
      " \n",
      "t\n",
      "o\n",
      " \n",
      "e\n",
      "a\n",
      "t\n",
      " \n",
      "a\n",
      "n\n",
      " \n",
      "a\n",
      "p\n",
      "p\n",
      "l\n",
      "e\n"
     ]
    }
   ],
   "source": [
    "apple = '''He said, \n",
    "Hi Harry\n",
    "hey I am good\n",
    "\"I want to eat an apple'''\n",
    "\n",
    "print(\"Lets use a for loop\\n\")\n",
    "\n",
    "for character in apple:\n",
    "    print(character)"
   ]
  }
 ],
 "metadata": {
  "kernelspec": {
   "display_name": "Python 3 (ipykernel)",
   "language": "python",
   "name": "python3"
  },
  "language_info": {
   "codemirror_mode": {
    "name": "ipython",
    "version": 3
   },
   "file_extension": ".py",
   "mimetype": "text/x-python",
   "name": "python",
   "nbconvert_exporter": "python",
   "pygments_lexer": "ipython3",
   "version": "3.11.4"
  }
 },
 "nbformat": 4,
 "nbformat_minor": 5
}
