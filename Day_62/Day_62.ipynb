{
 "cells": [
  {
   "cell_type": "markdown",
   "id": "ae677300-f4cb-44e4-b4fa-d613d1cce7b1",
   "metadata": {},
   "source": [
    "# Access Specifiers/Modifiers\n",
    "\n",
    "Access specifiers or access modifiers in python programming are used to limit the access of class variables and class methods outside of class while implementing the concepts of inheritance.\n"
   ]
  },
  {
   "cell_type": "markdown",
   "id": "14c652ee-eb0e-40ad-8eb3-97650e8acfea",
   "metadata": {},
   "source": [
    "# Types of access specifiers\n",
    "\n",
    "* Public access modifier\n",
    "* Private access modifier\n",
    "* Protected access modifier"
   ]
  },
  {
   "cell_type": "markdown",
   "id": "2867cec2-364a-4eba-a2b4-d92b8efb5fec",
   "metadata": {},
   "source": [
    "# Public Access Specifier in Python\n",
    "\n",
    "All the variables and methods (member functions) in python are by default public. Any instance variable in a class followed by the ‘self’ keyword ie. self.var_name are public accessed.\n"
   ]
  },
  {
   "cell_type": "code",
   "execution_count": 1,
   "id": "62f39635-4b03-4cb4-a1d2-f95b28c9de82",
   "metadata": {},
   "outputs": [
    {
     "name": "stdout",
     "output_type": "stream",
     "text": [
      "21\n",
      "Harry\n"
     ]
    }
   ],
   "source": [
    "# Example:\n",
    "class Student:\n",
    "    # constructor is defined\n",
    "    def __init__(self, age, name):\n",
    "        self.age = age               # public variable\n",
    "        self.name = name             # public variable\n",
    "obj = Student(21,\"Harry\")\n",
    "print(obj.age)\n",
    "print(obj.name)"
   ]
  },
  {
   "cell_type": "markdown",
   "id": "79474db2-6bf2-49cd-bd0b-8579573383a6",
   "metadata": {},
   "source": [
    "# Private Access Modifier\n",
    "\n",
    "By definition, Private members of a class (variables or methods) are those members which are only accessible inside the class. We cannot use private members outside of class."
   ]
  },
  {
   "cell_type": "markdown",
   "id": "edc912fb-083e-41b3-b9d2-86adf65595c2",
   "metadata": {},
   "source": [
    "In Python, there is no strict concept of \"private\" access modifiers like in some other programming languages. However, a convention has been established to indicate that a variable or method should be considered private by prefixing its name with a double underscore (__). This is known as a \"weak internal use indicator\" and it is a convention only, not a strict rule. Code outside the class can still access these \"private\" variables and methods, but it is generally understood that they should not be accessed or modified.\n"
   ]
  },
  {
   "cell_type": "code",
   "execution_count": 3,
   "id": "82ede08c-6857-42d6-b90a-f714dead0683",
   "metadata": {},
   "outputs": [
    {
     "ename": "AttributeError",
     "evalue": "'Student' object has no attribute '__age'",
     "output_type": "error",
     "traceback": [
      "\u001b[1;31m---------------------------------------------------------------------------\u001b[0m",
      "\u001b[1;31mAttributeError\u001b[0m                            Traceback (most recent call last)",
      "Cell \u001b[1;32mIn[3], line 15\u001b[0m\n\u001b[0;32m     13\u001b[0m obj1 \u001b[38;5;241m=\u001b[39m Subject\n\u001b[0;32m     14\u001b[0m \u001b[38;5;66;03m# calling by object of class Student\u001b[39;00m\n\u001b[1;32m---> 15\u001b[0m \u001b[38;5;28mprint\u001b[39m(\u001b[43mobj\u001b[49m\u001b[38;5;241;43m.\u001b[39;49m\u001b[43m__age\u001b[49m)\n\u001b[0;32m     16\u001b[0m \u001b[38;5;28mprint\u001b[39m(obj\u001b[38;5;241m.\u001b[39m__funName())\n\u001b[0;32m     17\u001b[0m \u001b[38;5;66;03m# calling by object  of class Subject\u001b[39;00m\n",
      "\u001b[1;31mAttributeError\u001b[0m: 'Student' object has no attribute '__age'"
     ]
    }
   ],
   "source": [
    "#Example:\n",
    "class Student: \n",
    "    def __init__(self, age, name): \n",
    "        self.__age = age      # An indication of private variable\n",
    "        \n",
    "        def __funName(self):  # An indication of private function\n",
    "            self.y = 34\n",
    "            print(self.y)\n",
    "            \n",
    "class Subject(Student):\n",
    "    pass\n",
    "obj = Student(21,\"Harry\")\n",
    "obj1 = Subject\n",
    "# calling by object of class Student\n",
    "print(obj.__age)\n",
    "print(obj.__funName())\n",
    "# calling by object  of class Subject\n",
    "print(obj1.__age)\n",
    "print(obj1.__funName())"
   ]
  },
  {
   "cell_type": "markdown",
   "id": "a6905164-fa7a-48d3-8bd5-16bdd35bf907",
   "metadata": {},
   "source": [
    "Private members of a class cannot be accessed or inherited outside of class. If we try to access or to inherit the properties of private members to child class (derived class). Then it will show the error.\n"
   ]
  },
  {
   "cell_type": "markdown",
   "id": "969e4a60-d64e-4170-b9de-9dc462290018",
   "metadata": {},
   "source": [
    "## Name mangling\n",
    "\n",
    "Name mangling in Python is a technique used to protect class-private and superclass-private attributes from being accidentally overwritten by subclasses. Names of class-private and superclass-private attributes are transformed by the addition of a single leading underscore and a double leading underscore respectively.\n"
   ]
  },
  {
   "cell_type": "code",
   "execution_count": 6,
   "id": "2d0ed9b2-281c-4ab5-a95b-73f2f29aafa7",
   "metadata": {},
   "outputs": [
    {
     "name": "stdout",
     "output_type": "stream",
     "text": [
      "I am a nonmangled attribute\n",
      "I am a mangled attribute\n"
     ]
    }
   ],
   "source": [
    "class MyClass:\n",
    "    def __init__(self):\n",
    "        self._nonmangled_attribute = \"I am a nonmangled attribute\"\n",
    "        self.__mangled_attribute = \"I am a mangled attribute\"\n",
    "my_object = MyClass()\n",
    "print(my_object._nonmangled_attribute) # Output: I am a nonmangled attribute\n",
    "# print(my_object.__mangled_attribute) # Throws an AttributeError\n",
    "print(my_object._MyClass__mangled_attribute) # Output: I am a mangled attribute"
   ]
  },
  {
   "cell_type": "markdown",
   "id": "b3a21ddb-7618-469d-b777-4042675b3cfc",
   "metadata": {},
   "source": [
    "In the example above, the attribute _nonmangled_attribute is marked as nonmangled by convention, but can still be accessed from outside the class. The attribute __mangled_attribute is private and its name is \"mangled\" to _MyClass__mangled_attribute, so it can't be accessed directly from outside the class, but you can access it by calling _MyClass__mangled_attribute"
   ]
  },
  {
   "cell_type": "markdown",
   "id": "faf4d834-6717-4963-be18-54f8efd8e133",
   "metadata": {},
   "source": [
    "# Protected Access Modifier\n",
    "In object-oriented programming (OOP), the term \"protected\" is used to describe a member (i.e., a method or attribute) of a class that is intended to be accessed only by the class itself and its subclasses. In Python, the convention for indicating that a member is protected is to prefix its name with a single underscore (_). For example, if a class has a method called _my_method, it is indicating that the method should only be accessed by the class itself and its subclasses.\n"
   ]
  },
  {
   "cell_type": "markdown",
   "id": "a03c8c9a-701e-4ce2-bd0a-73e28dce397a",
   "metadata": {},
   "source": [
    "It's important to note that the single underscore is just a naming convention, and does not actually provide any protection or restrict access to the member. The syntax we follow to make any variable protected is to write variable name followed by a single underscore (_) ie. _varName.\n"
   ]
  },
  {
   "cell_type": "code",
   "execution_count": 8,
   "id": "f2b1582a-295a-45b0-a9dc-d25a69de123b",
   "metadata": {},
   "outputs": [
    {
     "name": "stdout",
     "output_type": "stream",
     "text": [
      "Harry\n",
      "CodeWithHarry\n",
      "Harry\n",
      "CodeWithHarry\n"
     ]
    }
   ],
   "source": [
    "# Example:\n",
    "class Student:\n",
    "    def __init__(self):\n",
    "        self._name = \"Harry\"\n",
    "    def _funName(self):      # protected method\n",
    "        return \"CodeWithHarry\"\n",
    "class Subject(Student):       #inherited class\n",
    "    pass\n",
    "obj = Student()\n",
    "obj1 = Subject()\n",
    "# calling by object of Student class\n",
    "print(obj._name)      \n",
    "print(obj._funName())     \n",
    "# calling by object of Subject class\n",
    "print(obj1._name)    \n",
    "print(obj1._funName())"
   ]
  },
  {
   "cell_type": "markdown",
   "id": "83f86363-7feb-4f40-b248-fde80d1c720a",
   "metadata": {},
   "source": [
    "# Code"
   ]
  },
  {
   "cell_type": "code",
   "execution_count": 9,
   "id": "2a0ab81f-5fac-433f-8c91-a07221bdf707",
   "metadata": {},
   "outputs": [
    {
     "name": "stdout",
     "output_type": "stream",
     "text": [
      "['__class__', '__delattr__', '__dict__', '__dir__', '__doc__', '__eq__', '__format__', '__ge__', '__getattribute__', '__getstate__', '__gt__', '__hash__', '__init__', '__init_subclass__', '__le__', '__lt__', '__module__', '__ne__', '__new__', '__reduce__', '__reduce_ex__', '__repr__', '__setattr__', '__sizeof__', '__str__', '__subclasshook__', '__weakref__', '_funName', '_name']\n",
      "Harry\n",
      "CodeWithHarry\n",
      "Harry\n",
      "CodeWithHarry\n"
     ]
    }
   ],
   "source": [
    "class Student:\n",
    "    def __init__(self):\n",
    "        self._name = \"Harry\"\n",
    "\n",
    "    def _funName(self):      # protected method\n",
    "        return \"CodeWithHarry\"\n",
    "\n",
    "class Subject(Student):       #inherited class\n",
    "    pass\n",
    "\n",
    "obj = Student()\n",
    "obj1 = Subject()\n",
    "print(dir(obj))\n",
    "\n",
    "# calling by object of Student class\n",
    "print(obj._name)      \n",
    "print(obj._funName())     \n",
    "# calling by object of Subject class\n",
    "print(obj1._name)    \n",
    "print(obj1._funName())"
   ]
  }
 ],
 "metadata": {
  "kernelspec": {
   "display_name": "Python 3 (ipykernel)",
   "language": "python",
   "name": "python3"
  },
  "language_info": {
   "codemirror_mode": {
    "name": "ipython",
    "version": 3
   },
   "file_extension": ".py",
   "mimetype": "text/x-python",
   "name": "python",
   "nbconvert_exporter": "python",
   "pygments_lexer": "ipython3",
   "version": "3.11.4"
  }
 },
 "nbformat": 4,
 "nbformat_minor": 5
}
