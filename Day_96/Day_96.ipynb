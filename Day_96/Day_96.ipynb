{
 "cells": [
  {
   "cell_type": "markdown",
   "id": "ab8caf30-b663-4bf5-87c0-05b07e899055",
   "metadata": {},
   "source": [
    "# Async IO in Python\n",
    "\n",
    "Asynchronous I/O, or async for short, is a programming pattern that allows for high-performance I/O operations in a concurrent and non-blocking manner. In Python, async programming is achieved through the use of the asyncio module and asynchronous functions."
   ]
  },
  {
   "cell_type": "markdown",
   "id": "d6715441-5bcc-4f0e-ae90-5980ecf48293",
   "metadata": {},
   "source": [
    "### Syntax\n",
    "\n",
    "Here is the basic syntax for creating an asynchronous function in Python:\n"
   ]
  },
  {
   "cell_type": "code",
   "execution_count": 1,
   "id": "5baca6f4-28fd-4327-a556-fd8b2e865721",
   "metadata": {},
   "outputs": [
    {
     "ename": "SyntaxError",
     "evalue": "unterminated string literal (detected at line 26) (937682450.py, line 26)",
     "output_type": "error",
     "traceback": [
      "\u001b[1;36m  Cell \u001b[1;32mIn[1], line 26\u001b[1;36m\u001b[0m\n\u001b[1;33m    Async IO is a powerful programming pattern that allows for high-performance and concurrent I/O operations in Python. With the asyncio module and asynchronous functions, you can write efficient and scalable code that can handle large amounts of data and I/O operations without blocking the main thread. Whether you're working on web applications, network services, or data processing pipelines, async IO is an essential tool for any Python developer.\u001b[0m\n\u001b[1;37m                                                                                                                                                                                                                                                                                                                             ^\u001b[0m\n\u001b[1;31mSyntaxError\u001b[0m\u001b[1;31m:\u001b[0m unterminated string literal (detected at line 26)\n"
     ]
    }
   ],
   "source": [
    "import asyncio\n",
    "async def my_async_function():\n",
    "    # asynchronous code here\n",
    "    await asyncio.sleep(1)\n",
    "    return \"Hello, Async World!\"\n",
    "async def main():\n",
    "    result = await my_async_function()\n",
    "    print(result)\n",
    "asyncio.run(main())\n"
   ]
  },
  {
   "cell_type": "code",
   "execution_count": 1,
   "id": "97c6aaba-9b3a-4153-af02-285ab3b33d59",
   "metadata": {},
   "outputs": [
    {
     "ename": "NameError",
     "evalue": "name 'asyncio' is not defined",
     "output_type": "error",
     "traceback": [
      "\u001b[1;31m---------------------------------------------------------------------------\u001b[0m",
      "\u001b[1;31mNameError\u001b[0m                                 Traceback (most recent call last)",
      "Cell \u001b[1;32mIn[1], line 3\u001b[0m\n\u001b[0;32m      1\u001b[0m \u001b[38;5;66;03m# Another way to schedule tasks concurrently is as follows:\u001b[39;00m\n\u001b[1;32m----> 3\u001b[0m L \u001b[38;5;241m=\u001b[39m \u001b[38;5;28;01mawait\u001b[39;00m \u001b[43masyncio\u001b[49m\u001b[38;5;241m.\u001b[39mgather(\n\u001b[0;32m      4\u001b[0m         my_async_function(),\n\u001b[0;32m      5\u001b[0m         my_async_function(),\n\u001b[0;32m      6\u001b[0m         my_async_function(),\n\u001b[0;32m      7\u001b[0m     )\n\u001b[0;32m      8\u001b[0m \u001b[38;5;28mprint\u001b[39m(L)\n",
      "\u001b[1;31mNameError\u001b[0m: name 'asyncio' is not defined"
     ]
    }
   ],
   "source": [
    "# Another way to schedule tasks concurrently is as follows:\n",
    "\n",
    "L = await asyncio.gather(\n",
    "        my_async_function(),\n",
    "        my_async_function(),\n",
    "        my_async_function(),\n",
    "    )\n",
    "print(L)"
   ]
  },
  {
   "cell_type": "markdown",
   "id": "5566bdf3-0948-4c86-9e8f-8f1d9320ae1d",
   "metadata": {},
   "source": [
    "Async IO is a powerful programming pattern that allows for high-performance and concurrent I/O operations in Python. With the asyncio module and asynchronous functions, you can write efficient and scalable code that can handle large amounts of data and I/O operations without blocking the main thread. Whether you're working on web applications, network services, or data processing pipelines, async IO is an essential tool for any Python developer."
   ]
  },
  {
   "cell_type": "markdown",
   "id": "82f9b1d3-6715-4c8e-b7c4-3c04d62b4b15",
   "metadata": {},
   "source": [
    "# Code"
   ]
  },
  {
   "cell_type": "code",
   "execution_count": 2,
   "id": "74278170-3291-464d-b5ba-7bd177ddb953",
   "metadata": {},
   "outputs": [
    {
     "ename": "RuntimeError",
     "evalue": "asyncio.run() cannot be called from a running event loop",
     "output_type": "error",
     "traceback": [
      "\u001b[1;31m---------------------------------------------------------------------------\u001b[0m",
      "\u001b[1;31mRuntimeError\u001b[0m                              Traceback (most recent call last)",
      "Cell \u001b[1;32mIn[2], line 42\u001b[0m\n\u001b[0;32m     36\u001b[0m   \u001b[38;5;28mprint\u001b[39m(L)\n\u001b[0;32m     37\u001b[0m   \u001b[38;5;66;03m# task = asyncio.create_task(function1())\u001b[39;00m\n\u001b[0;32m     38\u001b[0m   \u001b[38;5;66;03m# # await function1()\u001b[39;00m\n\u001b[0;32m     39\u001b[0m   \u001b[38;5;66;03m# await function2()\u001b[39;00m\n\u001b[0;32m     40\u001b[0m   \u001b[38;5;66;03m# await function3()\u001b[39;00m\n\u001b[1;32m---> 42\u001b[0m \u001b[43masyncio\u001b[49m\u001b[38;5;241;43m.\u001b[39;49m\u001b[43mrun\u001b[49m\u001b[43m(\u001b[49m\u001b[43mmain\u001b[49m\u001b[43m(\u001b[49m\u001b[43m)\u001b[49m\u001b[43m)\u001b[49m\n",
      "File \u001b[1;32mC:\\Program Files\\Python311\\Lib\\asyncio\\runners.py:186\u001b[0m, in \u001b[0;36mrun\u001b[1;34m(main, debug)\u001b[0m\n\u001b[0;32m    161\u001b[0m \u001b[38;5;250m\u001b[39m\u001b[38;5;124;03m\"\"\"Execute the coroutine and return the result.\u001b[39;00m\n\u001b[0;32m    162\u001b[0m \n\u001b[0;32m    163\u001b[0m \u001b[38;5;124;03mThis function runs the passed coroutine, taking care of\u001b[39;00m\n\u001b[1;32m   (...)\u001b[0m\n\u001b[0;32m    182\u001b[0m \u001b[38;5;124;03m    asyncio.run(main())\u001b[39;00m\n\u001b[0;32m    183\u001b[0m \u001b[38;5;124;03m\"\"\"\u001b[39;00m\n\u001b[0;32m    184\u001b[0m \u001b[38;5;28;01mif\u001b[39;00m events\u001b[38;5;241m.\u001b[39m_get_running_loop() \u001b[38;5;129;01mis\u001b[39;00m \u001b[38;5;129;01mnot\u001b[39;00m \u001b[38;5;28;01mNone\u001b[39;00m:\n\u001b[0;32m    185\u001b[0m     \u001b[38;5;66;03m# fail fast with short traceback\u001b[39;00m\n\u001b[1;32m--> 186\u001b[0m     \u001b[38;5;28;01mraise\u001b[39;00m \u001b[38;5;167;01mRuntimeError\u001b[39;00m(\n\u001b[0;32m    187\u001b[0m         \u001b[38;5;124m\"\u001b[39m\u001b[38;5;124masyncio.run() cannot be called from a running event loop\u001b[39m\u001b[38;5;124m\"\u001b[39m)\n\u001b[0;32m    189\u001b[0m \u001b[38;5;28;01mwith\u001b[39;00m Runner(debug\u001b[38;5;241m=\u001b[39mdebug) \u001b[38;5;28;01mas\u001b[39;00m runner:\n\u001b[0;32m    190\u001b[0m     \u001b[38;5;28;01mreturn\u001b[39;00m runner\u001b[38;5;241m.\u001b[39mrun(main)\n",
      "\u001b[1;31mRuntimeError\u001b[0m: asyncio.run() cannot be called from a running event loop"
     ]
    }
   ],
   "source": [
    "import time\n",
    "import asyncio \n",
    "import requests\n",
    "\n",
    "\n",
    "async def function1():\n",
    "  print(\"func 1\") \n",
    "  URL = \"https://wallpaperaccess.in/public/uploads/preview/1920x1200-desktop-background-ultra-hd-wallpaper-wiki-desktop-wallpaper-4k-.jpg\"\n",
    "  response = requests.get(URL)\n",
    "  open(\"instagram.ico\", \"wb\").write(response.content)\n",
    "   \n",
    "  return \"Harry\"\n",
    "  \n",
    "async def function2():\n",
    "  print(\"func 2\") \n",
    "  URL = \"https://p4.wallpaperbetter.com/wallpaper/490/433/199/nature-2560x1440-tree-snow-wallpaper-preview.jpg\"\n",
    "  response = requests.get(URL)\n",
    "  open(\"instagram2.jpg\", \"wb\").write(response.content)\n",
    "  \n",
    "async def function3():\n",
    "  print(\"func 3\")\n",
    "  URL = \"https://c4.wallpaperflare.com/wallpaper/622/676/943/3d-hd-wikipedia-3d-wallpaper-preview.jpg\"\n",
    "  response = requests.get(URL)\n",
    "  open(\"instagram3.ico\", \"wb\").write(response.content)\n",
    "\n",
    "async def main():\n",
    "  # await function1()\n",
    "  # await function2()\n",
    "  # await function3()\n",
    "  # return 3\n",
    "  L = await asyncio.gather(\n",
    "        function1(),\n",
    "        function2(),\n",
    "        function3(),\n",
    "    )\n",
    "  print(L)\n",
    "  # task = asyncio.create_task(function1())\n",
    "  # # await function1()\n",
    "  # await function2()\n",
    "  # await function3()\n",
    "\n",
    "asyncio.run(main())"
   ]
  }
 ],
 "metadata": {
  "kernelspec": {
   "display_name": "Python 3 (ipykernel)",
   "language": "python",
   "name": "python3"
  },
  "language_info": {
   "codemirror_mode": {
    "name": "ipython",
    "version": 3
   },
   "file_extension": ".py",
   "mimetype": "text/x-python",
   "name": "python",
   "nbconvert_exporter": "python",
   "pygments_lexer": "ipython3",
   "version": "3.11.4"
  }
 },
 "nbformat": 4,
 "nbformat_minor": 5
}
