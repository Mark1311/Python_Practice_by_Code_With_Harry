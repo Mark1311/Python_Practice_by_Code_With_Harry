{
 "cells": [
  {
   "cell_type": "markdown",
   "id": "6f5c5f1c-8b42-4176-b2ce-45d9488a1a36",
   "metadata": {},
   "source": [
    "# if-else Statements"
   ]
  },
  {
   "cell_type": "markdown",
   "id": "03b5280d-192c-4379-8bb5-478e4ab4f0f9",
   "metadata": {},
   "source": [
    "Sometimes the programmer needs to check the evaluation of certain expression(s), whether the expression(s) evaluate to True or False. If the expression evaluates to False, then the program execution follows a different path than it would have if the expression had evaluated to True."
   ]
  },
  {
   "cell_type": "markdown",
   "id": "7f3dbb03-b31f-435e-b6b0-7785bdffb73c",
   "metadata": {},
   "source": [
    "* if\n",
    "* if-else\n",
    "* if-else-elif\n",
    "* Nested if-else-elif."
   ]
  },
  {
   "cell_type": "code",
   "execution_count": 1,
   "id": "3ad6e146-6ee7-4d3e-b7fa-2cdcba6e2448",
   "metadata": {},
   "outputs": [
    {
     "name": "stdout",
     "output_type": "stream",
     "text": [
      "Alexa, do not add Apples to the cart.\n"
     ]
    }
   ],
   "source": [
    "applePrice = 210\n",
    "budget = 200\n",
    "\n",
    "if (applePrice <= budget):\n",
    "    print(\"Alexa, add 1 kg Apples to the cart.\")\n",
    "else:\n",
    "    print(\"Alexa, do not add Apples to the cart.\")"
   ]
  },
  {
   "cell_type": "markdown",
   "id": "d3665d83-8553-437e-ae02-f0c74676c2b3",
   "metadata": {},
   "source": [
    "# elif Statements"
   ]
  },
  {
   "cell_type": "code",
   "execution_count": 3,
   "id": "56ddbf52-3f87-403d-8a35-a6e2b616fb7f",
   "metadata": {},
   "outputs": [
    {
     "name": "stdout",
     "output_type": "stream",
     "text": [
      "Number is Zero.\n"
     ]
    }
   ],
   "source": [
    "num = 0\n",
    "\n",
    "if (num < 0):\n",
    "    print(\"Number is negative.\")\n",
    "elif (num == 0):\n",
    "    print(\"Number is Zero.\")\n",
    "else:\n",
    "    print(\"Number is positive.\")"
   ]
  },
  {
   "cell_type": "markdown",
   "id": "bf50eca5-aa66-44cc-96bf-553a150a6e38",
   "metadata": {},
   "source": [
    "# Nested if statements"
   ]
  },
  {
   "cell_type": "code",
   "execution_count": 4,
   "id": "565fdafd-cf09-4d66-99a8-5383f4af57d6",
   "metadata": {},
   "outputs": [
    {
     "name": "stdout",
     "output_type": "stream",
     "text": [
      "Number is between 11-20\n"
     ]
    }
   ],
   "source": [
    "num = 18\n",
    "\n",
    "if (num < 0):\n",
    "    print(\"Number is negative.\")\n",
    "elif (num > 0):\n",
    "    if (num <= 10):\n",
    "        print(\"Number is between 1-10\")\n",
    "    elif (num > 10 and num <= 20):\n",
    "        print(\"Number is between 11-20\")\n",
    "    else:\n",
    "        print(\"Number is greater than 20\")\n",
    "else:\n",
    "    print(\"Number is zero\")"
   ]
  },
  {
   "cell_type": "markdown",
   "id": "a301c1de-2ed5-4dc0-8fb4-cf24d7a69a3c",
   "metadata": {},
   "source": [
    "# if"
   ]
  },
  {
   "cell_type": "code",
   "execution_count": 5,
   "id": "7e4a13d8-85ac-483d-bf7a-a16357f3497c",
   "metadata": {},
   "outputs": [
    {
     "name": "stdin",
     "output_type": "stream",
     "text": [
      "Enter your age:  94\n"
     ]
    },
    {
     "name": "stdout",
     "output_type": "stream",
     "text": [
      "Your age is: 94\n"
     ]
    }
   ],
   "source": [
    "a = int(input(\"Enter your age: \"))\n",
    "print(\"Your age is:\", a)"
   ]
  },
  {
   "cell_type": "code",
   "execution_count": 6,
   "id": "c8d99d7a-60d5-4597-b707-e9c709de91bb",
   "metadata": {},
   "outputs": [
    {
     "name": "stdout",
     "output_type": "stream",
     "text": [
      "True\n",
      "False\n",
      "False\n",
      "True\n"
     ]
    }
   ],
   "source": [
    "# Conditional operators \n",
    "# >, <, >=, <=, ==, !=\n",
    "print(a>18)\n",
    "print(a<=18)\n",
    "print(a==18)\n",
    "print(a!=18)"
   ]
  },
  {
   "cell_type": "code",
   "execution_count": 7,
   "id": "d6f9c87a-6bfa-4d1b-9e43-edd2d7179051",
   "metadata": {},
   "outputs": [
    {
     "name": "stdout",
     "output_type": "stream",
     "text": [
      "You can drive\n",
      "Yes\n"
     ]
    }
   ],
   "source": [
    "if(a>18):\n",
    "  print(\"You can drive\")\n",
    "  print(\"Yes\")\n",
    "else:\n",
    "  print(\"You cannot drive\")\n",
    "  print(\"No\")\n",
    "  print(\"Yay!\")"
   ]
  },
  {
   "cell_type": "markdown",
   "id": "8119228c-ba0f-4635-928e-83908f04a30c",
   "metadata": {},
   "source": [
    "# if else"
   ]
  },
  {
   "cell_type": "code",
   "execution_count": 8,
   "id": "96a84b5e-06e2-4fa0-8114-12d9544a2aba",
   "metadata": {},
   "outputs": [
    {
     "name": "stdout",
     "output_type": "stream",
     "text": [
      "Alexa, add 1 kg Apples to the cart.\n"
     ]
    }
   ],
   "source": [
    "applePrice = 10\n",
    "budget = 200\n",
    "\n",
    "if (budget - applePrice > 50):\n",
    "    print(\"Alexa, add 1 kg Apples to the cart.\")\n",
    "else:\n",
    "    print(\"Alexa, do not add Apples to the cart.\")"
   ]
  },
  {
   "cell_type": "markdown",
   "id": "93fea469-002b-420f-94eb-b8c5a1d8c8e6",
   "metadata": {},
   "source": [
    "# elif"
   ]
  },
  {
   "cell_type": "code",
   "execution_count": 9,
   "id": "2eb947dd-fca7-4491-bcce-bcec3f16477b",
   "metadata": {},
   "outputs": [
    {
     "name": "stdin",
     "output_type": "stream",
     "text": [
      "Enter the value of num:  58\n"
     ]
    },
    {
     "name": "stdout",
     "output_type": "stream",
     "text": [
      "Number is positive.\n",
      "I am happy now\n"
     ]
    }
   ],
   "source": [
    "num = int(input(\"Enter the value of num: \"))\n",
    "if (num < 0):\n",
    "  print(\"Number is negative.\")\n",
    "elif (num == 0):\n",
    "  print(\"Number is Zero.\")\n",
    "elif (num == 999):\n",
    "  print(\"Number is Special.\")\n",
    "else:\n",
    "  print(\"Number is positive.\")\n",
    "\n",
    "print(\"I am happy now\")"
   ]
  },
  {
   "cell_type": "markdown",
   "id": "9583608c-8e8d-456f-bf21-3bb38e45cd30",
   "metadata": {},
   "source": [
    "# Nested"
   ]
  },
  {
   "cell_type": "code",
   "execution_count": 11,
   "id": "6d55879e-8c84-4d0a-8e05-a81db29a1117",
   "metadata": {},
   "outputs": [
    {
     "name": "stdout",
     "output_type": "stream",
     "text": [
      "Number is between 11-20\n"
     ]
    }
   ],
   "source": [
    "num = 18\n",
    "if (num < 0):\n",
    "    print(\"Number is negative.\")\n",
    "elif (num > 0):\n",
    "    if (num <= 10):\n",
    "        print(\"Number is between 1-10\")\n",
    "    elif (num > 10 and num <= 20):\n",
    "        print(\"Number is between 11-20\")\n",
    "    else:\n",
    "        print(\"Number is greater than 20\")\n",
    "else:\n",
    "    print(\"Number is zero\")"
   ]
  }
 ],
 "metadata": {
  "kernelspec": {
   "display_name": "Python 3 (ipykernel)",
   "language": "python",
   "name": "python3"
  },
  "language_info": {
   "codemirror_mode": {
    "name": "ipython",
    "version": 3
   },
   "file_extension": ".py",
   "mimetype": "text/x-python",
   "name": "python",
   "nbconvert_exporter": "python",
   "pygments_lexer": "ipython3",
   "version": "3.11.4"
  }
 },
 "nbformat": 4,
 "nbformat_minor": 5
}
