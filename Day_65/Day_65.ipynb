{
 "cells": [
  {
   "cell_type": "markdown",
   "id": "6cabd076-e261-4e23-9f3d-ba3432633e0c",
   "metadata": {},
   "source": [
    "# Static Methods"
   ]
  },
  {
   "cell_type": "markdown",
   "id": "e4b56c1d-0ada-4f55-99ac-4a0e8f890321",
   "metadata": {},
   "source": [
    "Static methods in Python are methods that belong to a class rather than an instance of the class. They are defined using the @staticmethod decorator and do not have access to the instance of the class (i.e. self). They are called on the class itself, not on an instance of the class. Static methods are often used to create utility functions that don't need access to instance data.\n"
   ]
  },
  {
   "cell_type": "code",
   "execution_count": 1,
   "id": "0dc2c7fe-d900-4657-9f45-b35a06709d05",
   "metadata": {},
   "outputs": [
    {
     "name": "stdout",
     "output_type": "stream",
     "text": [
      "3\n"
     ]
    }
   ],
   "source": [
    "class Math:\n",
    "    @staticmethod\n",
    "    def add(a, b):\n",
    "        return a + b\n",
    "result = Math.add(1, 2)\n",
    "print(result) # Output: 3"
   ]
  },
  {
   "cell_type": "markdown",
   "id": "d661fba8-c8b0-4f31-aaee-f7516559b1f2",
   "metadata": {},
   "source": [
    "In this example, the add method is a static method of the Math class. It takes two parameters a and b and returns their sum. The method can be called on the class itself, without the need to create an instance of the class."
   ]
  },
  {
   "cell_type": "markdown",
   "id": "acfe2ab0-d048-4905-a2ad-2adbcf08702d",
   "metadata": {},
   "source": [
    "# Code"
   ]
  },
  {
   "cell_type": "code",
   "execution_count": 2,
   "id": "f0662e02-94c0-4386-b01e-9909dbfe8715",
   "metadata": {},
   "outputs": [
    {
     "name": "stdout",
     "output_type": "stream",
     "text": [
      "5\n",
      "11\n",
      "9\n"
     ]
    }
   ],
   "source": [
    "class Math:\n",
    "  def __init__(self, num):\n",
    "    self.num = num\n",
    "\n",
    "  def addtonum(self, n):\n",
    "    self.num = self.num +n\n",
    "    \n",
    "  @staticmethod\n",
    "  def add(a, b):\n",
    "      return a + b\n",
    "\n",
    "# result = Math.add(1, 2)\n",
    "# print(result) # Output: 3\n",
    "a = Math(5)\n",
    "print(a.num)\n",
    "a.addtonum(6)\n",
    "print(a.num)\n",
    "\n",
    "print(Math.add(7, 2)) "
   ]
  }
 ],
 "metadata": {
  "kernelspec": {
   "display_name": "Python 3 (ipykernel)",
   "language": "python",
   "name": "python3"
  },
  "language_info": {
   "codemirror_mode": {
    "name": "ipython",
    "version": 3
   },
   "file_extension": ".py",
   "mimetype": "text/x-python",
   "name": "python",
   "nbconvert_exporter": "python",
   "pygments_lexer": "ipython3",
   "version": "3.11.4"
  }
 },
 "nbformat": 4,
 "nbformat_minor": 5
}
