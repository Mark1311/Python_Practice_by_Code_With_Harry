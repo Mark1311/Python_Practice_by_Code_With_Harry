{
 "cells": [
  {
   "cell_type": "markdown",
   "id": "52f1a482-ba10-4e78-9c95-000eaf4602bc",
   "metadata": {},
   "source": [
    "# The time Module in Python\n",
    "\n",
    "The time module in Python provides a set of functions to work with time-related operations, such as timekeeping, formatting, and time conversions. This module is part of the Python Standard Library and is available in all Python installations, making it a convenient and essential tool for a wide range of applications. In this day 84 tutorial, we'll explore the time module in Python and see how it can be used in different scenarios.\n"
   ]
  },
  {
   "cell_type": "markdown",
   "id": "cafaf478-671c-4ce7-8d15-d472b73e3e2d",
   "metadata": {},
   "source": [
    "#### time.time()\n",
    "\n",
    "The time.time() function returns the current time as a floating-point number, representing the number of seconds since the epoch (the point in time when the time module was initialized). The returned value is based on the computer's system clock and is affected by time adjustments made by the operating system, such as daylight saving time. Here's an example:\n"
   ]
  },
  {
   "cell_type": "code",
   "execution_count": 1,
   "id": "fca61bd1-41ba-4155-a01e-c5c4f91165c0",
   "metadata": {},
   "outputs": [
    {
     "name": "stdout",
     "output_type": "stream",
     "text": [
      "1711549406.015404\n"
     ]
    }
   ],
   "source": [
    "import time\n",
    "print(time.time())"
   ]
  },
  {
   "cell_type": "markdown",
   "id": "237d5e70-efdc-429b-91be-efdb565a347b",
   "metadata": {},
   "source": [
    "\n",
    "As you can see, the function returns the current time as a floating-point number, which can be used for various purposes, such as measuring the duration of an operation or the elapsed time since a certain point in time.\n",
    "\n",
    "#### time.sleep()\n",
    "The time.sleep() function suspends the execution of the current thread for a specified number of seconds. This function can be used to pause the program for a certain period of time, allowing other parts of the program to run, or to synchronize the execution of multiple threads. Here's an example:\n"
   ]
  },
  {
   "cell_type": "code",
   "execution_count": 2,
   "id": "8efb3742-85ef-40e8-9eef-2e018ae302cf",
   "metadata": {},
   "outputs": [
    {
     "name": "stdout",
     "output_type": "stream",
     "text": [
      "Start: 1711549442.7559288\n",
      "End: 1711549444.7578113\n"
     ]
    }
   ],
   "source": [
    "import time\n",
    "print(\"Start:\", time.time())\n",
    "time.sleep(2)\n",
    "print(\"End:\", time.time())"
   ]
  },
  {
   "cell_type": "markdown",
   "id": "2c398a1e-c736-4294-addb-19d5c92d7fec",
   "metadata": {},
   "source": [
    "As you can see, the function time.sleep() suspends the execution of the program for 2 seconds, allowing other parts of the program to run during that time.\n"
   ]
  },
  {
   "cell_type": "markdown",
   "id": "0870a666-7703-416b-8bda-78214910c3e4",
   "metadata": {},
   "source": [
    "\n",
    "#### time.strftime()\n",
    "\n",
    "The time.strftime() function formats a time value as a string, based on a specified format. This function is particularly useful for formatting dates and times in a human-readable format, such as for display in a GUI, a log file, or a report. Here's an example:\n"
   ]
  },
  {
   "cell_type": "code",
   "execution_count": 3,
   "id": "8b5eeab8-61d7-4aab-b1a7-43adba7d481e",
   "metadata": {},
   "outputs": [
    {
     "name": "stdout",
     "output_type": "stream",
     "text": [
      "2024-03-27 19:54:44\n"
     ]
    }
   ],
   "source": [
    "import time\n",
    "t = time.localtime()\n",
    "formatted_time = time.strftime(\"%Y-%m-%d %H:%M:%S\", t)\n",
    "print(formatted_time)"
   ]
  },
  {
   "cell_type": "markdown",
   "id": "166f8979-df21-4048-8130-22fbb330b810",
   "metadata": {},
   "source": [
    "# Code"
   ]
  },
  {
   "cell_type": "code",
   "execution_count": 5,
   "id": "7e8eaf09-0cb2-445e-96c1-b5dcd0013020",
   "metadata": {},
   "outputs": [],
   "source": [
    "import time \n",
    "\n",
    "# def usingWhile():\n",
    "#   i = 0\n",
    "#   while i<50000:\n",
    "#     i = i +1\n",
    "#     print(i) "
   ]
  },
  {
   "cell_type": "code",
   "execution_count": null,
   "id": "fc54ecde-aaa6-43ea-aec3-dde5c503201b",
   "metadata": {},
   "outputs": [],
   "source": [
    "# def usingFor():\n",
    "#   for i in range(50000):\n",
    "#     print(i)"
   ]
  },
  {
   "cell_type": "code",
   "execution_count": 6,
   "id": "4928b8a5-960e-4ac3-8e9e-0475fca22a43",
   "metadata": {},
   "outputs": [],
   "source": [
    "# init = time.time()\n",
    "# usingFor()\n",
    "# t1 = time.time() - init\n",
    "# init = time.time()\n",
    "# usingWhile()\n",
    "# print(time.time() - init)\n",
    "# print(t1)"
   ]
  },
  {
   "cell_type": "code",
   "execution_count": 7,
   "id": "c18b7504-f1e1-4eba-af04-215c73feeca5",
   "metadata": {},
   "outputs": [],
   "source": [
    "# print(4)\n",
    "# time.sleep(3)\n",
    "# print(\"This is printed after 3 seconds\")"
   ]
  },
  {
   "cell_type": "code",
   "execution_count": 8,
   "id": "bfe87a06-ffc6-4908-8ed1-ac6ab04f34c1",
   "metadata": {},
   "outputs": [
    {
     "name": "stdout",
     "output_type": "stream",
     "text": [
      "2024-03-27 19:56:27\n"
     ]
    }
   ],
   "source": [
    "t = time.localtime()\n",
    "formatted_time = time.strftime(\"%Y-%m-%d %H:%M:%S\", t)\n",
    "\n",
    "print(formatted_time) "
   ]
  }
 ],
 "metadata": {
  "kernelspec": {
   "display_name": "Python 3 (ipykernel)",
   "language": "python",
   "name": "python3"
  },
  "language_info": {
   "codemirror_mode": {
    "name": "ipython",
    "version": 3
   },
   "file_extension": ".py",
   "mimetype": "text/x-python",
   "name": "python",
   "nbconvert_exporter": "python",
   "pygments_lexer": "ipython3",
   "version": "3.11.4"
  }
 },
 "nbformat": 4,
 "nbformat_minor": 5
}
