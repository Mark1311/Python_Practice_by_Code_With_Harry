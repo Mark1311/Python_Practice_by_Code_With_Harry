{
 "cells": [
  {
   "cell_type": "markdown",
   "id": "2c08d084-876f-4fe1-a501-ba9eb1168c57",
   "metadata": {},
   "source": [
    "# What is Programming and Python?"
   ]
  },
  {
   "cell_type": "markdown",
   "id": "87713a14-efd0-4c93-9d16-9e25cad434aa",
   "metadata": {},
   "source": [
    "Programming is a way for us to tell computers what to do. Computer is a very dumb machine and it only does what we tell it \n",
    "to do. Hence we learn programming and tell computers to do what we are very slow at - computation. \n",
    "If I ask you to calculate 5+6, you will immediately say 11. How about 23453453 X 56456?\n",
    "\n",
    "You will start searching for a calculator or jump to a new tab to calculate the same. \n",
    "This 100 days of code series will help you learn python from starting to the end. \n",
    "We will start from 0 and by the time we end this course, I promise you will be a Job ready Python developer!"
   ]
  },
  {
   "cell_type": "markdown",
   "id": "6fec380d-b7cd-4c29-9bbb-b8df1322c05b",
   "metadata": {},
   "source": [
    "# What is Python?"
   ]
  },
  {
   "cell_type": "markdown",
   "id": "6892db52-eb79-4772-b54f-be3ed9c41a53",
   "metadata": {},
   "source": [
    "* Python is a dynamically typed, general purpose programming language that supports an object-oriented programming\n",
    "approach as well as a functional programming approach.\n",
    "    \n",
    "* Python is an interpreted and a high-level programming language.\n",
    "    \n",
    "* It was created by Guido Van Rossum in 1989.\n",
    "    "
   ]
  },
  {
   "cell_type": "markdown",
   "id": "cc1274f0-c99d-4ce2-a32a-a7938439a21e",
   "metadata": {},
   "source": [
    "# Features of Python"
   ]
  },
  {
   "cell_type": "markdown",
   "id": "fdd84bf8-6e91-4a60-96b8-31c989aa102f",
   "metadata": {},
   "source": [
    "* Python is simple and easy to understand.\n",
    "    \n",
    "* It is Interpreted and platform-independent which makes debugging very easy.\n",
    "    \n",
    "* Python is an open-source programming language.\n",
    "    \n",
    "* Python provides very big library support. Some of the popular libraries include NumPy, Tensorflow, Selenium, OpenCV, etc.\n",
    "    \n",
    "* It is possible to integrate other programming languages within python."
   ]
  },
  {
   "cell_type": "markdown",
   "id": "6e9479ab-68f9-46e3-9246-8b2aa4e5ac5c",
   "metadata": {},
   "source": [
    "# What is Python used for"
   ]
  },
  {
   "cell_type": "markdown",
   "id": "eb1d2647-837a-4da0-9c19-d63aa7d97130",
   "metadata": {},
   "source": [
    "* Python is used in Data Visualization to create plots and graphical representations.\n",
    "\n",
    "* Python helps in Data Analytics to analyze and understand raw data for insights and trends.\n",
    "    \n",
    "* It is used in AI and Machine Learning to simulate human behavior and to learn from past data without hard coding.\n",
    "    \n",
    "* It is used to create web applications.\n",
    "\n",
    "* It can be used to handle databases.\n",
    "    \n",
    "* It is used in business and accounting to perform complex mathematical operations \n",
    "along with quantitative and qualitative analysis."
   ]
  },
  {
   "cell_type": "markdown",
   "id": "619aeba5-684f-4880-8861-a5f352b198cd",
   "metadata": {},
   "source": [
    "# Code"
   ]
  },
  {
   "cell_type": "code",
   "execution_count": 1,
   "id": "af216191-6015-417a-ab9b-0c4e96e9c855",
   "metadata": {},
   "outputs": [
    {
     "name": "stdout",
     "output_type": "stream",
     "text": [
      "Hello Bittu Kumar\n"
     ]
    }
   ],
   "source": [
    "print(\"Hello Bittu Kumar\")"
   ]
  },
  {
   "cell_type": "code",
   "execution_count": 11,
   "id": "5860c0b2-2944-405c-88d7-216455b1a7ec",
   "metadata": {},
   "outputs": [
    {
     "name": "stdout",
     "output_type": "stream",
     "text": [
      "5\n"
     ]
    }
   ],
   "source": [
    "print(5)"
   ]
  }
 ],
 "metadata": {
  "kernelspec": {
   "display_name": "Python 3 (ipykernel)",
   "language": "python",
   "name": "python3"
  },
  "language_info": {
   "codemirror_mode": {
    "name": "ipython",
    "version": 3
   },
   "file_extension": ".py",
   "mimetype": "text/x-python",
   "name": "python",
   "nbconvert_exporter": "python",
   "pygments_lexer": "ipython3",
   "version": "3.11.4"
  }
 },
 "nbformat": 4,
 "nbformat_minor": 5
}
