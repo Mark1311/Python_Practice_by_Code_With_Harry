{
 "cells": [
  {
   "cell_type": "markdown",
   "id": "370f46d2-87e2-40b0-a11f-8c8f7a2b18a1",
   "metadata": {},
   "source": [
    "# List Methods"
   ]
  },
  {
   "cell_type": "markdown",
   "id": "a10c40f9-0052-4e3e-99e2-5535bffdcb05",
   "metadata": {},
   "source": [
    "## list.sort()"
   ]
  },
  {
   "cell_type": "code",
   "execution_count": 2,
   "id": "931a7572-432a-4e7a-b56b-dd0ecec1954d",
   "metadata": {},
   "outputs": [
    {
     "name": "stdout",
     "output_type": "stream",
     "text": [
      "['blue', 'green', 'indigo', 'voilet']\n",
      "[1, 1, 2, 2, 2, 3, 4, 5, 6, 7, 8, 9]\n"
     ]
    }
   ],
   "source": [
    "#This method sorts the list in ascending order. The original list is updated\n",
    "colors = [\"voilet\", \"indigo\", \"blue\", \"green\"]\n",
    "colors.sort()\n",
    "print(colors)\n",
    "\n",
    "num = [4,2,5,3,6,1,2,1,2,8,9,7]\n",
    "num.sort()\n",
    "print(num)"
   ]
  },
  {
   "cell_type": "raw",
   "id": "039dbce9-8ba2-4f47-a268-2ee3f9d4d2d5",
   "metadata": {},
   "source": [
    "What if you want to print the list in descending order?\n",
    "We must give reverse=True as a parameter in the sort method."
   ]
  },
  {
   "cell_type": "code",
   "execution_count": 3,
   "id": "603fbc88-fe43-4672-b90b-82a6d217254a",
   "metadata": {},
   "outputs": [
    {
     "name": "stdout",
     "output_type": "stream",
     "text": [
      "['voilet', 'indigo', 'green', 'blue']\n",
      "[9, 8, 7, 6, 5, 4, 3, 2, 2, 2, 1, 1]\n"
     ]
    }
   ],
   "source": [
    "colors = [\"voilet\", \"indigo\", \"blue\", \"green\"]\n",
    "colors.sort(reverse=True)\n",
    "print(colors)\n",
    "\n",
    "num = [4,2,5,3,6,1,2,1,2,8,9,7]\n",
    "num.sort(reverse=True)\n",
    "print(num)"
   ]
  },
  {
   "cell_type": "markdown",
   "id": "4931a983-b9b8-4a8a-a419-c52536e1da31",
   "metadata": {},
   "source": [
    "# reverse()"
   ]
  },
  {
   "cell_type": "code",
   "execution_count": 4,
   "id": "82959ea8-85c2-48a1-9e88-d3c8bbc5bed9",
   "metadata": {},
   "outputs": [
    {
     "name": "stdout",
     "output_type": "stream",
     "text": [
      "['green', 'blue', 'indigo', 'voilet']\n",
      "[7, 9, 8, 2, 1, 2, 1, 6, 3, 5, 2, 4]\n"
     ]
    }
   ],
   "source": [
    "colors = [\"voilet\", \"indigo\", \"blue\", \"green\"]\n",
    "colors.reverse()\n",
    "print(colors)\n",
    "\n",
    "num = [4,2,5,3,6,1,2,1,2,8,9,7]\n",
    "num.reverse()\n",
    "print(num)"
   ]
  },
  {
   "cell_type": "markdown",
   "id": "cb21575c-7801-47f6-8336-edcc2357b838",
   "metadata": {},
   "source": [
    "# index()"
   ]
  },
  {
   "cell_type": "code",
   "execution_count": 5,
   "id": "a803c9c1-0615-4f8f-88c9-9b4df67eafb4",
   "metadata": {},
   "outputs": [
    {
     "name": "stdout",
     "output_type": "stream",
     "text": [
      "1\n",
      "3\n"
     ]
    }
   ],
   "source": [
    "colors = [\"voilet\", \"green\", \"indigo\", \"blue\", \"green\"]\n",
    "print(colors.index(\"green\"))\n",
    "\n",
    "num = [4,2,5,3,6,1,2,1,3,2,8,9,7]\n",
    "print(num.index(3))"
   ]
  },
  {
   "cell_type": "markdown",
   "id": "425cf802-5e41-4d4e-83a3-07403712307d",
   "metadata": {},
   "source": [
    "# count()"
   ]
  },
  {
   "cell_type": "code",
   "execution_count": 7,
   "id": "d243da81-15d4-47f5-88b7-9b923efca61b",
   "metadata": {},
   "outputs": [
    {
     "name": "stdout",
     "output_type": "stream",
     "text": [
      "2\n"
     ]
    }
   ],
   "source": [
    "colors = [\"voilet\", \"green\", \"indigo\", \"blue\", \"green\"]\n",
    "print(colors.count(\"green\"))\n",
    "\n",
    "num = [4,2,5,3,6,1,2,1,3,2,8,9,7]"
   ]
  },
  {
   "cell_type": "markdown",
   "id": "187d514f-6016-4914-8111-ad490cca1dca",
   "metadata": {},
   "source": [
    "# copy()"
   ]
  },
  {
   "cell_type": "code",
   "execution_count": 8,
   "id": "d3c0c67e-5aa0-47fe-b6f5-e4f5366d7378",
   "metadata": {},
   "outputs": [
    {
     "name": "stdout",
     "output_type": "stream",
     "text": [
      "['voilet', 'green', 'indigo', 'blue']\n",
      "['voilet', 'green', 'indigo', 'blue']\n"
     ]
    }
   ],
   "source": [
    "colors = [\"voilet\", \"green\", \"indigo\", \"blue\"]\n",
    "newlist = colors.copy()\n",
    "print(colors)\n",
    "print(newlist)"
   ]
  },
  {
   "cell_type": "markdown",
   "id": "3c564f9e-a5f0-45d5-92f2-a72aad46dc54",
   "metadata": {},
   "source": [
    "# append()"
   ]
  },
  {
   "cell_type": "code",
   "execution_count": 9,
   "id": "9b38d5a2-262d-41d7-ad71-7bd8f5833a7c",
   "metadata": {},
   "outputs": [
    {
     "name": "stdout",
     "output_type": "stream",
     "text": [
      "['voilet', 'indigo', 'blue', 'green']\n"
     ]
    }
   ],
   "source": [
    "colors = [\"voilet\", \"indigo\", \"blue\"]\n",
    "colors.append(\"green\")\n",
    "print(colors)"
   ]
  },
  {
   "cell_type": "markdown",
   "id": "74e89976-2526-4241-b14c-f6c834ab0b2f",
   "metadata": {},
   "source": [
    "# insert()"
   ]
  },
  {
   "cell_type": "code",
   "execution_count": 11,
   "id": "a6f218f6-e4e3-4d28-bb75-5e87a603d57b",
   "metadata": {},
   "outputs": [
    {
     "name": "stdout",
     "output_type": "stream",
     "text": [
      "['voilet', 'green', 'indigo', 'blue']\n"
     ]
    }
   ],
   "source": [
    "colors = [\"voilet\", \"indigo\", \"blue\"]\n",
    "#           [0]        [1]      [2]\n",
    "\n",
    "colors.insert(1, \"green\")   #inserts item at index 1\n",
    "\n",
    "# updated list: colors = [\"voilet\", \"green\", \"indigo\", \"blue\"]\n",
    "#       indexs              [0]       [1]       [2]      [3]\n",
    "\n",
    "print(colors)"
   ]
  },
  {
   "cell_type": "markdown",
   "id": "af3c3a2d-ec0f-4a8b-b161-dade75a86c3d",
   "metadata": {},
   "source": [
    "# extend()"
   ]
  },
  {
   "cell_type": "code",
   "execution_count": 12,
   "id": "7f838930-8a73-478e-b924-c52ea44228e9",
   "metadata": {},
   "outputs": [
    {
     "name": "stdout",
     "output_type": "stream",
     "text": [
      "['voilet', 'indigo', 'blue', 'green', 'yellow', 'orange', 'red']\n"
     ]
    }
   ],
   "source": [
    "#add a list to a list\n",
    "\n",
    "colors = [\"voilet\", \"indigo\", \"blue\"]\n",
    "rainbow = [\"green\", \"yellow\", \"orange\", \"red\"]\n",
    "colors.extend(rainbow)\n",
    "print(colors)"
   ]
  },
  {
   "cell_type": "markdown",
   "id": "20f5a007-eaec-495f-b8e2-3de193cfc8d5",
   "metadata": {},
   "source": [
    "# Concatenating two lists"
   ]
  },
  {
   "cell_type": "code",
   "execution_count": 13,
   "id": "9fe6810e-afdf-427a-b0b2-e62a10ccb63f",
   "metadata": {},
   "outputs": [
    {
     "name": "stdout",
     "output_type": "stream",
     "text": [
      "['voilet', 'indigo', 'blue', 'green', 'yellow', 'orange', 'red']\n"
     ]
    }
   ],
   "source": [
    "colors = [\"voilet\", \"indigo\", \"blue\", \"green\"]\n",
    "colors2 = [\"yellow\", \"orange\", \"red\"]\n",
    "print(colors + colors2)"
   ]
  },
  {
   "cell_type": "markdown",
   "id": "86dbbe56-42c0-4fa7-99c1-ec1737df5514",
   "metadata": {},
   "source": [
    "# Code"
   ]
  },
  {
   "cell_type": "code",
   "execution_count": 19,
   "id": "78f6406f-c1f6-47a6-a419-55fd1c0287bb",
   "metadata": {},
   "outputs": [
    {
     "name": "stdout",
     "output_type": "stream",
     "text": [
      "[11, 45, 1, 2, 4, 6, 1, 1]\n"
     ]
    }
   ],
   "source": [
    "l = [11, 45, 1, 2, 4, 6, 1, 1]\n",
    "print(l)"
   ]
  },
  {
   "cell_type": "code",
   "execution_count": 20,
   "id": "3eb3b1b1-9d4d-4809-a74a-eb19a47aadb3",
   "metadata": {},
   "outputs": [
    {
     "name": "stdout",
     "output_type": "stream",
     "text": [
      "0\n",
      "3\n"
     ]
    }
   ],
   "source": [
    "l.append(7)\n",
    "l.sort(reverse=True)\n",
    "l.reverse()\n",
    "print(l.index(1))\n",
    "print(l.count(1))"
   ]
  },
  {
   "cell_type": "code",
   "execution_count": 23,
   "id": "9f91222a-d84c-4541-8409-7fd178b86d7e",
   "metadata": {},
   "outputs": [
    {
     "name": "stdout",
     "output_type": "stream",
     "text": [
      "[1, 899, 899, 899, 1, 1, 2, 4, 6, 7, 11, 45]\n"
     ]
    }
   ],
   "source": [
    "m = l.copy()\n",
    "m[0] = 0\n",
    "l.insert(1, 899)\n",
    "print(l)"
   ]
  },
  {
   "cell_type": "code",
   "execution_count": 25,
   "id": "23c39071-e87e-424c-b126-88ad47a564c1",
   "metadata": {},
   "outputs": [
    {
     "name": "stdout",
     "output_type": "stream",
     "text": [
      "[1, 899, 899, 899, 1, 1, 2, 4, 6, 7, 11, 45, 900, 1000, 1100]\n"
     ]
    }
   ],
   "source": [
    "m = [900, 1000, 1100]\n",
    "k = l + m\n",
    "\n",
    "print(k)"
   ]
  },
  {
   "cell_type": "code",
   "execution_count": 26,
   "id": "455ae896-071e-42ff-bddb-37c1f4fccc69",
   "metadata": {},
   "outputs": [
    {
     "name": "stdout",
     "output_type": "stream",
     "text": [
      "[1, 899, 899, 899, 1, 1, 2, 4, 6, 7, 11, 45, 900, 1000, 1100]\n"
     ]
    }
   ],
   "source": [
    "l.extend(m)\n",
    "print(l)"
   ]
  }
 ],
 "metadata": {
  "kernelspec": {
   "display_name": "Python 3 (ipykernel)",
   "language": "python",
   "name": "python3"
  },
  "language_info": {
   "codemirror_mode": {
    "name": "ipython",
    "version": 3
   },
   "file_extension": ".py",
   "mimetype": "text/x-python",
   "name": "python",
   "nbconvert_exporter": "python",
   "pygments_lexer": "ipython3",
   "version": "3.11.4"
  }
 },
 "nbformat": 4,
 "nbformat_minor": 5
}
