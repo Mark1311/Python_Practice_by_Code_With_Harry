{
 "cells": [
  {
   "cell_type": "markdown",
   "id": "903a8936-937c-4d5d-bd40-1d0f3b2aa5b2",
   "metadata": {},
   "source": [
    "# Excersice - 2 Solution"
   ]
  },
  {
   "cell_type": "markdown",
   "id": "a5918118-1d7e-48af-94ae-02ac186c7ba1",
   "metadata": {},
   "source": [
    "Create a python program capable of greeting you with Good Morning, Good Afternoon and Good Evening. Your program should use time module to get the current hour. Here is a sample program and documentation link for you:"
   ]
  },
  {
   "cell_type": "code",
   "execution_count": 1,
   "id": "4c0fd8c2-6858-4565-9498-5888b413c537",
   "metadata": {},
   "outputs": [
    {
     "name": "stdout",
     "output_type": "stream",
     "text": [
      "10:27:39\n",
      "10\n",
      "27\n",
      "39\n"
     ]
    }
   ],
   "source": [
    "import time\n",
    "timestamp = time.strftime('%H:%M:%S')\n",
    "print(timestamp)\n",
    "timestamp = time.strftime('%H')\n",
    "print(timestamp)\n",
    "timestamp = time.strftime('%M')\n",
    "print(timestamp)\n",
    "timestamp = time.strftime('%S')\n",
    "print(timestamp)"
   ]
  },
  {
   "cell_type": "markdown",
   "id": "c6389ec1-eb9b-49b4-a67a-866ba0b22b9c",
   "metadata": {},
   "source": [
    "# Code"
   ]
  },
  {
   "cell_type": "code",
   "execution_count": 2,
   "id": "ded0273d-b782-4b8f-85b1-52e43a4ec260",
   "metadata": {},
   "outputs": [
    {
     "name": "stdout",
     "output_type": "stream",
     "text": [
      "Good Morning Sir!\n"
     ]
    }
   ],
   "source": [
    "import time\n",
    "t = time.strftime('%H:%M:%S') \n",
    "hour = int(time.strftime('%H'))\n",
    "# hour = int(input(\"Enter hour: \"))\n",
    "# print(hour)\n",
    "\n",
    "if(hour>=0 and hour<12):\n",
    "  print(\"Good Morning Sir!\")\n",
    "elif(hour>=12 and hour<17):\n",
    "  print(\"Good Afternoon Sir!\")\n",
    "elif(hour>=17 and hour<0):\n",
    "  print(\"Good Night Sir!\")"
   ]
  }
 ],
 "metadata": {
  "kernelspec": {
   "display_name": "Python 3 (ipykernel)",
   "language": "python",
   "name": "python3"
  },
  "language_info": {
   "codemirror_mode": {
    "name": "ipython",
    "version": 3
   },
   "file_extension": ".py",
   "mimetype": "text/x-python",
   "name": "python",
   "nbconvert_exporter": "python",
   "pygments_lexer": "ipython3",
   "version": "3.11.4"
  }
 },
 "nbformat": 4,
 "nbformat_minor": 5
}
