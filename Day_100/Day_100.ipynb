{
 "cells": [
  {
   "cell_type": "markdown",
   "id": "0106d250-da6e-42fa-84a6-841eef72afbb",
   "metadata": {},
   "source": [
    "# Where to go from here:"
   ]
  },
  {
   "cell_type": "markdown",
   "id": "3121f249-dfa9-4881-815d-a006185252b3",
   "metadata": {},
   "source": [
    "### Python books"
   ]
  },
  {
   "cell_type": "raw",
   "id": "060c060f-248f-4f2f-843b-5f7ada51496a",
   "metadata": {},
   "source": [
    "There are many excellent books on Python that can help you deepen your knowledge and skills. Some popular options include \"Python Crash Course\" by Eric Matthes, \"Automate the Boring Stuff with Python\" by Al Sweigart, and \"Fluent Python\" by Luciano Ramalho. I would also like to recommend \"Hands on Machine Learning book by Aurélien Géron\""
   ]
  },
  {
   "cell_type": "markdown",
   "id": "c93292b9-c1d4-4d33-ac39-a1b17345a44f",
   "metadata": {},
   "source": [
    "### YouTube Projects:"
   ]
  },
  {
   "cell_type": "code",
   "execution_count": null,
   "id": "b0f32da2-9e6c-48df-8d64-dc08098d3325",
   "metadata": {},
   "outputs": [],
   "source": [
    "There are many YouTube projects available which can be watched after you have some basic understanding of python.\n"
   ]
  },
  {
   "cell_type": "markdown",
   "id": "a08bd3d5-2e34-4bb7-ab9f-ac70e2319dd6",
   "metadata": {},
   "source": [
    "### Python communities"
   ]
  },
  {
   "cell_type": "raw",
   "id": "df26a630-5c9d-4073-b2d3-7c19c648299e",
   "metadata": {},
   "source": [
    "There are many online communities where you can connect with other Python learners and experts, ask questions, and share your knowledge. Some popular options include the Python subreddit, the Python Discord server, and the Python community on Stack Overflow."
   ]
  },
  {
   "cell_type": "markdown",
   "id": "185c286f-c541-4cc2-a855-d613eed5a584",
   "metadata": {},
   "source": [
    "### GitHub repositories"
   ]
  },
  {
   "cell_type": "raw",
   "id": "7c3be061-76e0-4a7e-bbe3-f1c0c86040e8",
   "metadata": {},
   "source": [
    "GitHub is a great resource for finding Python projects, libraries, and code snippets. Some useful repositories to check out include \"awesome-python\" (a curated list of Python resources), \"scikit-learn\" (a machine learning library), and \"django\" (a web development framework).\n"
   ]
  },
  {
   "cell_type": "markdown",
   "id": "9552cef9-7d11-4c6b-8b87-e9532a18d194",
   "metadata": {},
   "source": [
    "### Link to some resources"
   ]
  },
  {
   "cell_type": "raw",
   "id": "980863c9-af1a-4bf7-a505-14cc84418774",
   "metadata": {},
   "source": [
    "Tkinter - You can learn Tkinter which is used to create GUIs from here :\n",
    "Machine Learning - I loved this playlist from Google Developers\n",
    "Django - For Django, try the tutorial from the official documentation.\n",
    "\n",
    "Overall, the key to mastering Python (or any programming language) is to keep practicing and experimenting. Set yourself challenges, work on personal projects, and stay curious. Good luck!"
   ]
  }
 ],
 "metadata": {
  "kernelspec": {
   "display_name": "Python 3 (ipykernel)",
   "language": "python",
   "name": "python3"
  },
  "language_info": {
   "codemirror_mode": {
    "name": "ipython",
    "version": 3
   },
   "file_extension": ".py",
   "mimetype": "text/x-python",
   "name": "python",
   "nbconvert_exporter": "python",
   "pygments_lexer": "ipython3",
   "version": "3.11.4"
  }
 },
 "nbformat": 4,
 "nbformat_minor": 5
}
