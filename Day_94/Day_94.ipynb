{
 "cells": [
  {
   "cell_type": "markdown",
   "id": "951eb0ef-f245-47a6-8ce5-355e89554bd3",
   "metadata": {},
   "source": [
    "# Exercise - 11"
   ]
  },
  {
   "cell_type": "markdown",
   "id": "7747771c-12e7-40aa-a5fe-db35927c93c1",
   "metadata": {},
   "source": [
    "#### Drink Water Reminder"
   ]
  },
  {
   "cell_type": "raw",
   "id": "4e50598f-9497-4e9a-8128-b0ff7cfbfb53",
   "metadata": {},
   "source": [
    "Write a python program which reminds you of drinking water every hour or two. Your program can either beep or send desktop notifications for a specific operating system"
   ]
  }
 ],
 "metadata": {
  "kernelspec": {
   "display_name": "Python 3 (ipykernel)",
   "language": "python",
   "name": "python3"
  },
  "language_info": {
   "codemirror_mode": {
    "name": "ipython",
    "version": 3
   },
   "file_extension": ".py",
   "mimetype": "text/x-python",
   "name": "python",
   "nbconvert_exporter": "python",
   "pygments_lexer": "ipython3",
   "version": "3.11.4"
  }
 },
 "nbformat": 4,
 "nbformat_minor": 5
}
