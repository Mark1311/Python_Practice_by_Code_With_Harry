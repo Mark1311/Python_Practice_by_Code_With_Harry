{
 "cells": [
  {
   "cell_type": "markdown",
   "id": "70749d08-64a1-4ad3-8ef5-46bfc9db699f",
   "metadata": {},
   "source": [
    "# seek() and tell() function"
   ]
  },
  {
   "cell_type": "markdown",
   "id": "6adc121f-c620-4ff1-9ba9-4b905bb1de94",
   "metadata": {},
   "source": [
    "In Python, the seek() and tell() functions are used to work with file objects and their positions within a file. These functions are part of the built-in io module, which provides a consistent interface for reading and writing to various file-like objects, such as files, pipes, and in-memory buffers."
   ]
  },
  {
   "cell_type": "markdown",
   "id": "a87b8dd8-a42b-4fa6-8a27-813f54a6f9a4",
   "metadata": {},
   "source": [
    "# seek() function"
   ]
  },
  {
   "cell_type": "markdown",
   "id": "c3987d44-3fd0-4ed4-b677-97a38c1ac847",
   "metadata": {},
   "source": [
    "The seek() function allows you to move the current position within a file to a specific point. The position is specified in bytes, and you can move either forward or backward from the current position. For example:"
   ]
  },
  {
   "cell_type": "code",
   "execution_count": null,
   "id": "c73f7c6e-39f4-47fe-aa7a-63c350b6e7e8",
   "metadata": {},
   "outputs": [],
   "source": [
    "with open('file.txt', 'r') as f:\n",
    "  # Move to the 10th byte in the file\n",
    "  f.seek(10)\n",
    "\n",
    "  # Read the next 5 bytes\n",
    "  data = f.read(5)"
   ]
  },
  {
   "cell_type": "markdown",
   "id": "2cece9f0-ba9d-4c75-9193-03adbbaa6cc3",
   "metadata": {},
   "source": [
    "# tell() function"
   ]
  },
  {
   "cell_type": "markdown",
   "id": "5a99b3a2-760c-4956-9398-7e81d9544107",
   "metadata": {},
   "source": [
    "The tell() function returns the current position within the file, in bytes. This can be useful for keeping track of your location within the file or for seeking to a specific position relative to the current position. For example:"
   ]
  },
  {
   "cell_type": "code",
   "execution_count": null,
   "id": "440b4b15-39b0-4916-8fd9-5daae1876070",
   "metadata": {},
   "outputs": [],
   "source": [
    "with open('file.txt', 'r') as f:\n",
    "  # Read the first 10 bytes\n",
    "  data = f.read(10)\n",
    "\n",
    "  # Save the current position\n",
    "  current_position = f.tell()\n",
    "\n",
    "  # Seek to the saved position\n",
    "  f.seek(current_position)"
   ]
  },
  {
   "cell_type": "markdown",
   "id": "808f5a3a-d179-4f3d-9266-f2ee9a16c969",
   "metadata": {},
   "source": [
    "# truncate() function"
   ]
  },
  {
   "cell_type": "markdown",
   "id": "437d2e7e-e2ab-4951-b506-19058cfc99cc",
   "metadata": {},
   "source": [
    "When you open a file in Python using the open function, you can specify the mode in which you want to open the file. If you specify the mode as 'w' or 'a', the file is opened in write mode and you can write to the file. However, if you want to truncate the file to a specific size, you can use the truncate function."
   ]
  },
  {
   "cell_type": "code",
   "execution_count": 3,
   "id": "9e99fe8a-7f0f-483d-8741-9e9d55958548",
   "metadata": {},
   "outputs": [
    {
     "name": "stdout",
     "output_type": "stream",
     "text": [
      "Hello\n"
     ]
    }
   ],
   "source": [
    "with open('sample.txt', 'w') as f:\n",
    "  f.write('Hello World!')\n",
    "  f.truncate(5)\n",
    "\n",
    "with open('sample.txt', 'r') as f:\n",
    "  print(f.read())"
   ]
  },
  {
   "cell_type": "markdown",
   "id": "2dc83ff8-dccb-42b0-8c14-cd74c78a0d0a",
   "metadata": {},
   "source": [
    "# Code"
   ]
  },
  {
   "cell_type": "code",
   "execution_count": 4,
   "id": "e9d1ab1f-5724-47b6-98bf-0825a34964b5",
   "metadata": {},
   "outputs": [
    {
     "name": "stdout",
     "output_type": "stream",
     "text": [
      "Hel\n"
     ]
    }
   ],
   "source": [
    "with open('sample.txt', 'w') as f:\n",
    "  f.write('Hello World3!')\n",
    "  f.truncate(3)\n",
    "\n",
    "with open('sample.txt', 'r') as f:\n",
    "  print(f.read())"
   ]
  }
 ],
 "metadata": {
  "kernelspec": {
   "display_name": "Python 3 (ipykernel)",
   "language": "python",
   "name": "python3"
  },
  "language_info": {
   "codemirror_mode": {
    "name": "ipython",
    "version": 3
   },
   "file_extension": ".py",
   "mimetype": "text/x-python",
   "name": "python",
   "nbconvert_exporter": "python",
   "pygments_lexer": "ipython3",
   "version": "3.11.4"
  }
 },
 "nbformat": 4,
 "nbformat_minor": 5
}
