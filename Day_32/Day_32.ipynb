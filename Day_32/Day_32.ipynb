{
 "cells": [
  {
   "cell_type": "markdown",
   "id": "233989d4-eb64-4a9f-b2c3-b21e9ed4e072",
   "metadata": {},
   "source": [
    "# Joining Sets"
   ]
  },
  {
   "cell_type": "markdown",
   "id": "2ed3c04d-e75b-47a0-b884-d3c12d368d0e",
   "metadata": {},
   "source": [
    "Sets in python more or less work in the same way as sets in mathematics. We can perform operations like union and intersection on the sets just like in mathematics."
   ]
  },
  {
   "cell_type": "markdown",
   "id": "5cb766a9-5a7e-4105-af40-22183a42e8f6",
   "metadata": {},
   "source": [
    "# I. union() and update():"
   ]
  },
  {
   "cell_type": "markdown",
   "id": "ed350719-ff8f-4646-aa78-484f76f7383d",
   "metadata": {},
   "source": [
    "The union() and update() methods prints all items that are present in the two sets. The union() method returns a new set whereas update() method adds item into the existing set from another set."
   ]
  },
  {
   "cell_type": "code",
   "execution_count": 2,
   "id": "c9da08e1-450e-453c-a9e9-ef270336a1a0",
   "metadata": {},
   "outputs": [
    {
     "name": "stdout",
     "output_type": "stream",
     "text": [
      "{'Seoul', 'Madrid', 'Tokyo', 'Kabul', 'Delhi', 'Berlin'}\n"
     ]
    }
   ],
   "source": [
    "cities = {\"Tokyo\", \"Madrid\", \"Berlin\", \"Delhi\"}\n",
    "cities2 = {\"Tokyo\", \"Seoul\", \"Kabul\", \"Madrid\"}\n",
    "cities3 = cities.union(cities2)\n",
    "print(cities3)"
   ]
  },
  {
   "cell_type": "code",
   "execution_count": 3,
   "id": "fa96d819-3de8-4dba-a815-c147b9f5cb23",
   "metadata": {},
   "outputs": [
    {
     "name": "stdout",
     "output_type": "stream",
     "text": [
      "{'Seoul', 'Madrid', 'Tokyo', 'Kabul', 'Delhi', 'Berlin'}\n"
     ]
    }
   ],
   "source": [
    "cities = {\"Tokyo\", \"Madrid\", \"Berlin\", \"Delhi\"}\n",
    "cities2 = {\"Tokyo\", \"Seoul\", \"Kabul\", \"Madrid\"}\n",
    "cities.update(cities2)\n",
    "print(cities)"
   ]
  },
  {
   "cell_type": "markdown",
   "id": "7fcf2b53-8041-420b-9951-36d3e4b81768",
   "metadata": {},
   "source": [
    "# II. intersection and intersection_update():"
   ]
  },
  {
   "cell_type": "markdown",
   "id": "8575f946-6727-42c2-bcb4-3d0363fcb058",
   "metadata": {},
   "source": [
    "The intersection() and intersection_update() methods prints only items that are similar to both the sets. The intersection() method returns a new set whereas intersection_update() method updates into the existing set from another set."
   ]
  },
  {
   "cell_type": "code",
   "execution_count": 4,
   "id": "1442e6fb-91e6-4523-ad81-d0e813b752d3",
   "metadata": {},
   "outputs": [
    {
     "name": "stdout",
     "output_type": "stream",
     "text": [
      "{'Tokyo', 'Madrid'}\n"
     ]
    }
   ],
   "source": [
    "cities = {\"Tokyo\", \"Madrid\", \"Berlin\", \"Delhi\"}\n",
    "cities2 = {\"Tokyo\", \"Seoul\", \"Kabul\", \"Madrid\"}\n",
    "cities3 = cities.intersection(cities2)\n",
    "print(cities3)"
   ]
  },
  {
   "cell_type": "code",
   "execution_count": 5,
   "id": "fce0fff9-a3eb-42d2-a81b-4f81fdf8e208",
   "metadata": {},
   "outputs": [
    {
     "name": "stdout",
     "output_type": "stream",
     "text": [
      "{'Tokyo', 'Madrid'}\n"
     ]
    }
   ],
   "source": [
    "cities = {\"Tokyo\", \"Madrid\", \"Berlin\", \"Delhi\"}\n",
    "cities2 = {\"Tokyo\", \"Seoul\", \"Kabul\", \"Madrid\"}\n",
    "cities.intersection_update(cities2)\n",
    "print(cities)"
   ]
  },
  {
   "cell_type": "markdown",
   "id": "d98b6373-ca55-4a35-83fd-17638b92d734",
   "metadata": {},
   "source": [
    "# III. symmetric_difference and symmetric_difference_update():"
   ]
  },
  {
   "cell_type": "markdown",
   "id": "45fb5786-5f0c-4476-804c-425015ce2052",
   "metadata": {},
   "source": [
    "The symmetric_difference() and symmetric_difference_update() methods prints only items that are not similar to both the sets. The symmetric_difference() method returns a new set whereas symmetric_difference_update() method updates into the existing set from another set.\n",
    "\n"
   ]
  },
  {
   "cell_type": "code",
   "execution_count": 6,
   "id": "d83670ae-ccba-4dcf-aedd-d02522ae4583",
   "metadata": {},
   "outputs": [
    {
     "name": "stdout",
     "output_type": "stream",
     "text": [
      "{'Seoul', 'Kabul', 'Delhi', 'Berlin'}\n"
     ]
    }
   ],
   "source": [
    "cities = {\"Tokyo\", \"Madrid\", \"Berlin\", \"Delhi\"}\n",
    "cities2 = {\"Tokyo\", \"Seoul\", \"Kabul\", \"Madrid\"}\n",
    "cities3 = cities.symmetric_difference(cities2)\n",
    "print(cities3)"
   ]
  },
  {
   "cell_type": "code",
   "execution_count": 7,
   "id": "9971fc3f-7655-4ce6-b473-ec6c758d3663",
   "metadata": {},
   "outputs": [
    {
     "name": "stdout",
     "output_type": "stream",
     "text": [
      "{'Seoul', 'Kabul', 'Delhi', 'Berlin'}\n"
     ]
    }
   ],
   "source": [
    "cities = {\"Tokyo\", \"Madrid\", \"Berlin\", \"Delhi\"}\n",
    "cities2 = {\"Tokyo\", \"Seoul\", \"Kabul\", \"Madrid\"}\n",
    "cities.symmetric_difference_update(cities2)\n",
    "print(cities)"
   ]
  },
  {
   "cell_type": "markdown",
   "id": "7f514cc8-986c-48b0-af91-ac402b940989",
   "metadata": {},
   "source": [
    "# IV. difference() and difference_update():"
   ]
  },
  {
   "cell_type": "markdown",
   "id": "56761516-3815-4f71-b371-5934b26ea142",
   "metadata": {},
   "source": [
    "The difference() and difference_update() methods prints only items that are only present in the original set and not in both the sets. The difference() method returns a new set whereas difference_update() method updates into the existing set from another set."
   ]
  },
  {
   "cell_type": "code",
   "execution_count": 8,
   "id": "d921ea62-3219-4c62-82c4-12416b66d972",
   "metadata": {},
   "outputs": [
    {
     "name": "stdout",
     "output_type": "stream",
     "text": [
      "{'Tokyo', 'Madrid', 'Berlin'}\n"
     ]
    }
   ],
   "source": [
    "cities = {\"Tokyo\", \"Madrid\", \"Berlin\", \"Delhi\"}\n",
    "cities2 = {\"Seoul\", \"Kabul\", \"Delhi\"}\n",
    "cities3 = cities.difference(cities2)\n",
    "print(cities3)"
   ]
  },
  {
   "cell_type": "markdown",
   "id": "82a4db65-76d4-4c8f-bcdf-74b2ebc5b610",
   "metadata": {},
   "source": [
    "The difference() and difference_update() methods prints only items that are only present in the original set and not in both the sets. The difference() method returns a new set whereas difference_update() method updates into the existing set from another set."
   ]
  },
  {
   "cell_type": "markdown",
   "id": "4f108bb3-c11f-423a-8521-45d1a185a6e7",
   "metadata": {},
   "source": [
    "# Set Methods"
   ]
  },
  {
   "cell_type": "markdown",
   "id": "276a0317-3941-4923-9bb0-4fffcf017d23",
   "metadata": {},
   "source": [
    "There are several in-built methods used for the manipulation of set.They are explained below"
   ]
  },
  {
   "cell_type": "markdown",
   "id": "6326be48-71e3-4cf2-bff5-9378e9f9b63d",
   "metadata": {},
   "source": [
    "# isdisjoint():"
   ]
  },
  {
   "cell_type": "markdown",
   "id": "8ae45f80-0e46-4883-b13a-959f0d3e9443",
   "metadata": {},
   "source": [
    "The isdisjoint() method checks if items of given set are present in another set. This method returns False if items are present, else it returns True."
   ]
  },
  {
   "cell_type": "code",
   "execution_count": 9,
   "id": "72d8bbd6-0a00-4ef5-a254-29f8b2007dad",
   "metadata": {},
   "outputs": [
    {
     "name": "stdout",
     "output_type": "stream",
     "text": [
      "False\n"
     ]
    }
   ],
   "source": [
    "cities = {\"Tokyo\", \"Madrid\", \"Berlin\", \"Delhi\"}\n",
    "cities2 = {\"Tokyo\", \"Seoul\", \"Kabul\", \"Madrid\"}\n",
    "print(cities.isdisjoint(cities2))"
   ]
  },
  {
   "cell_type": "markdown",
   "id": "9553995e-8c00-4e8d-bfc7-d0642510acca",
   "metadata": {},
   "source": [
    "# issuperset():"
   ]
  },
  {
   "cell_type": "markdown",
   "id": "e1d921b2-5f54-4176-aaab-008e3f9652a7",
   "metadata": {},
   "source": [
    "The issuperset() method checks if all the items of a particular set are present in the original set. It returns True if all the items are present, else it returns False."
   ]
  },
  {
   "cell_type": "code",
   "execution_count": 12,
   "id": "951dff37-7728-4b57-999c-838c8c6f2e64",
   "metadata": {},
   "outputs": [
    {
     "name": "stdout",
     "output_type": "stream",
     "text": [
      "False\n"
     ]
    }
   ],
   "source": [
    "cities = {\"Tokyo\", \"Madrid\", \"Berlin\", \"Delhi\"}\n",
    "cities2 = {\"Seoul\", \"Kabul\"}\n",
    "print(cities.issuperset(cities2))"
   ]
  },
  {
   "cell_type": "code",
   "execution_count": 13,
   "id": "4dc56148-48c9-451d-b4b7-61f0bf1b220b",
   "metadata": {},
   "outputs": [
    {
     "name": "stdout",
     "output_type": "stream",
     "text": [
      "False\n"
     ]
    }
   ],
   "source": [
    "cities3 = {\"Seoul\", \"Madrid\",\"Kabul\"}\n",
    "print(cities.issuperset(cities3))"
   ]
  },
  {
   "cell_type": "markdown",
   "id": "f0da248b-7268-4e0f-ae94-e7b3d5bdf65c",
   "metadata": {},
   "source": [
    "# issubset():"
   ]
  },
  {
   "cell_type": "markdown",
   "id": "21eed89b-b3b0-4130-aadb-79c4ba5709a1",
   "metadata": {},
   "source": [
    "The issubset() method checks if all the items of the original set are present in the particular set. It returns True if all the items are present, else it returns False."
   ]
  },
  {
   "cell_type": "code",
   "execution_count": 14,
   "id": "5b05658e-5cf4-49bf-9387-512502a5bf26",
   "metadata": {},
   "outputs": [
    {
     "name": "stdout",
     "output_type": "stream",
     "text": [
      "True\n"
     ]
    }
   ],
   "source": [
    "cities = {\"Tokyo\", \"Madrid\", \"Berlin\", \"Delhi\"}\n",
    "cities2 = {\"Delhi\", \"Madrid\"}\n",
    "print(cities2.issubset(cities))"
   ]
  },
  {
   "cell_type": "markdown",
   "id": "ebd6a062-3fae-4c4b-9ce6-19b2c492e839",
   "metadata": {},
   "source": [
    "# add():"
   ]
  },
  {
   "cell_type": "markdown",
   "id": "24edf0d7-1f14-4959-a552-1575fe26faf5",
   "metadata": {},
   "source": [
    "If you want to add a single item to the set use the add() method."
   ]
  },
  {
   "cell_type": "code",
   "execution_count": 15,
   "id": "ef56c4d7-a300-46cf-b8aa-af1430728422",
   "metadata": {},
   "outputs": [
    {
     "name": "stdout",
     "output_type": "stream",
     "text": [
      "{'Madrid', 'Helsinki', 'Tokyo', 'Delhi', 'Berlin'}\n"
     ]
    }
   ],
   "source": [
    "cities = {\"Tokyo\", \"Madrid\", \"Berlin\", \"Delhi\"}\n",
    "cities.add(\"Helsinki\")\n",
    "print(cities)"
   ]
  },
  {
   "cell_type": "markdown",
   "id": "cb4c9e1b-b15b-4f68-9a5c-109088a6d15d",
   "metadata": {},
   "source": [
    "# update():"
   ]
  },
  {
   "cell_type": "markdown",
   "id": "86996583-1140-4c66-8d15-07f372c0c8bc",
   "metadata": {},
   "source": [
    "If you want to add more than one item, simply create another set or any other iterable object(list, tuple, dictionary), and use the update() method to add it into the existing set."
   ]
  },
  {
   "cell_type": "code",
   "execution_count": 16,
   "id": "7a042854-d008-4339-b2da-149a43925171",
   "metadata": {},
   "outputs": [
    {
     "name": "stdout",
     "output_type": "stream",
     "text": [
      "{'Warsaw', 'Seoul', 'Tokyo', 'Madrid', 'Delhi', 'Berlin', 'Helsinki'}\n"
     ]
    }
   ],
   "source": [
    "cities = {\"Tokyo\", \"Madrid\", \"Berlin\", \"Delhi\"}\n",
    "cities2 = {\"Helsinki\", \"Warsaw\", \"Seoul\"}\n",
    "cities.update(cities2)\n",
    "print(cities)"
   ]
  },
  {
   "cell_type": "markdown",
   "id": "25530f0f-ec6d-4e3b-8d73-d971e1c3a933",
   "metadata": {},
   "source": [
    "# remove()/discard():"
   ]
  },
  {
   "cell_type": "markdown",
   "id": "a0c33943-cf59-4cf8-80dd-bcff079cfd9c",
   "metadata": {},
   "source": [
    "We can use remove() and discard() methods to remove items form list."
   ]
  },
  {
   "cell_type": "code",
   "execution_count": 17,
   "id": "b23da209-3f3d-404f-8287-1626ae125702",
   "metadata": {},
   "outputs": [
    {
     "name": "stdout",
     "output_type": "stream",
     "text": [
      "{'Madrid', 'Delhi', 'Berlin'}\n"
     ]
    }
   ],
   "source": [
    "cities = {\"Tokyo\", \"Madrid\", \"Berlin\", \"Delhi\"}\n",
    "cities.remove(\"Tokyo\")\n",
    "print(cities)"
   ]
  },
  {
   "cell_type": "markdown",
   "id": "5ccb6fd4-6112-4f49-aa1a-f37089fc569f",
   "metadata": {},
   "source": [
    "# pop():"
   ]
  },
  {
   "cell_type": "markdown",
   "id": "777ccdb9-40bd-453a-8ced-0dbb4052fc19",
   "metadata": {},
   "source": [
    "This method removes the last item of the set but the catch is that we don’t know which item gets popped as sets are unordered. However, you can access the popped item if you assign the pop() method to a variable."
   ]
  },
  {
   "cell_type": "code",
   "execution_count": 18,
   "id": "b83d6d1f-46ea-4079-85b5-172b353d1b13",
   "metadata": {},
   "outputs": [
    {
     "name": "stdout",
     "output_type": "stream",
     "text": [
      "{'Madrid', 'Delhi', 'Berlin'}\n",
      "Tokyo\n"
     ]
    }
   ],
   "source": [
    "cities = {\"Tokyo\", \"Madrid\", \"Berlin\", \"Delhi\"}\n",
    "item = cities.pop()\n",
    "print(cities)\n",
    "print(item)"
   ]
  },
  {
   "cell_type": "markdown",
   "id": "db0db744-ba65-4ed8-a2ce-32a18ff0effe",
   "metadata": {},
   "source": [
    "# del"
   ]
  },
  {
   "cell_type": "markdown",
   "id": "82f86295-5aab-43bf-ab27-53866cc184b9",
   "metadata": {},
   "source": [
    "del is not a method, rather it is a keyword which deletes the set entirely."
   ]
  },
  {
   "cell_type": "raw",
   "id": "c90dd58f-c303-403c-a8bb-943359bf7826",
   "metadata": {},
   "source": [
    "cities = {\"Tokyo\", \"Madrid\", \"Berlin\", \"Delhi\"}\n",
    "del cities\n",
    "print(cities)"
   ]
  },
  {
   "cell_type": "markdown",
   "id": "a714047e-d4c1-4cf5-bbae-34945c937acc",
   "metadata": {},
   "source": [
    "# clear():"
   ]
  },
  {
   "cell_type": "markdown",
   "id": "f428ed68-7a1a-4bf7-8015-a284cf95b9cb",
   "metadata": {},
   "source": [
    "This method clears all items in the set and prints an empty set."
   ]
  },
  {
   "cell_type": "code",
   "execution_count": 22,
   "id": "522e0d7a-ac73-4d3d-b4c4-780fe1f5f177",
   "metadata": {},
   "outputs": [
    {
     "name": "stdout",
     "output_type": "stream",
     "text": [
      "set()\n"
     ]
    }
   ],
   "source": [
    "cities = {\"Tokyo\", \"Madrid\", \"Berlin\", \"Delhi\"}\n",
    "cities.clear()\n",
    "print(cities)"
   ]
  },
  {
   "cell_type": "markdown",
   "id": "937b0628-2726-43bc-8131-a1c8d853b72a",
   "metadata": {},
   "source": [
    "# Check if item exists"
   ]
  },
  {
   "cell_type": "markdown",
   "id": "960b91af-3db3-44a5-a7f6-2f554324f849",
   "metadata": {},
   "source": [
    "You can also check if an item exists in the set or not."
   ]
  },
  {
   "cell_type": "code",
   "execution_count": 24,
   "id": "23cfa527-ed10-41a5-910e-d88f84fa0eb9",
   "metadata": {},
   "outputs": [
    {
     "name": "stdout",
     "output_type": "stream",
     "text": [
      "Carla is present.\n"
     ]
    }
   ],
   "source": [
    "info = {\"Carla\", 19, False, 5.9}\n",
    "\n",
    "if \"Carla\" in info:\n",
    "    print(\"Carla is present.\")\n",
    "else:\n",
    "    print(\"Carla is absent.\")"
   ]
  },
  {
   "cell_type": "markdown",
   "id": "a36ac3d0-0faa-410d-9add-382f592cb106",
   "metadata": {},
   "source": [
    "# Code"
   ]
  },
  {
   "cell_type": "code",
   "execution_count": 25,
   "id": "b62a0046-420c-4dfe-900e-549f36818851",
   "metadata": {},
   "outputs": [
    {
     "name": "stdout",
     "output_type": "stream",
     "text": [
      "Carla is present.\n"
     ]
    }
   ],
   "source": [
    "info = {\"Carla\", 19, False, 5.9}\n",
    "if \"Carla\" in info:\n",
    "    print(\"Carla is present.\")\n",
    "else:\n",
    "    print(\"Carla is absent.\")"
   ]
  }
 ],
 "metadata": {
  "kernelspec": {
   "display_name": "Python 3 (ipykernel)",
   "language": "python",
   "name": "python3"
  },
  "language_info": {
   "codemirror_mode": {
    "name": "ipython",
    "version": 3
   },
   "file_extension": ".py",
   "mimetype": "text/x-python",
   "name": "python",
   "nbconvert_exporter": "python",
   "pygments_lexer": "ipython3",
   "version": "3.11.4"
  }
 },
 "nbformat": 4,
 "nbformat_minor": 5
}
