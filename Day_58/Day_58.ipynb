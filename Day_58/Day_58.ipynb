{
 "cells": [
  {
   "cell_type": "markdown",
   "id": "5e4d20da-b8ab-4215-a7c1-6a8417c039d6",
   "metadata": {},
   "source": [
    "# Constructors"
   ]
  },
  {
   "cell_type": "markdown",
   "id": "b631cbd4-2897-468e-8a4f-c925d5978a13",
   "metadata": {},
   "source": [
    "A constructor is a special method in a class used to create and initialize an object of a class. There are different types of constructors. Constructor is invoked automatically when an object of a class is created.\n",
    "\n",
    "A constructor is a unique function that gets called automatically when an object is created of a class. The main purpose of a constructor is to initialize or assign values to the data members of that class. It cannot return any value other than None."
   ]
  },
  {
   "cell_type": "markdown",
   "id": "ead39855-ed4b-4170-bc0d-bdfe2671b680",
   "metadata": {},
   "source": [
    "### Syntax of Python Constructor"
   ]
  },
  {
   "cell_type": "raw",
   "id": "7c56076b-7736-4e92-af05-f76151ce64eb",
   "metadata": {},
   "source": [
    "def __init__(self):\n",
    "\t# initializations\n"
   ]
  },
  {
   "cell_type": "raw",
   "id": "c9af767e-757e-4823-ab0a-b4244ae94d7f",
   "metadata": {},
   "source": [
    "init is one of the reserved functions in Python. In Object Oriented Programming, it is known as a constructor."
   ]
  },
  {
   "cell_type": "markdown",
   "id": "799d60fd-0688-4e9c-9438-83d4760fb775",
   "metadata": {},
   "source": [
    "# Types of Constructors in Python"
   ]
  },
  {
   "cell_type": "markdown",
   "id": "3e5001fc-943e-474b-bcce-488badfe002a",
   "metadata": {},
   "source": [
    "* Parameterized Constructor\n",
    "* Default Constructor"
   ]
  },
  {
   "cell_type": "markdown",
   "id": "b35679be-23d7-44dc-be24-52b49d6578ad",
   "metadata": {},
   "source": [
    "## Parameterized Constructor in Python"
   ]
  },
  {
   "cell_type": "markdown",
   "id": "58492099-6ec0-4cf0-854a-cacebebbd1bb",
   "metadata": {},
   "source": [
    "When the constructor accepts arguments along with self, it is known as parameterized constructor.\n",
    "\n",
    "These arguments can be used inside the class to assign the values to the data members.\n"
   ]
  },
  {
   "cell_type": "code",
   "execution_count": 3,
   "id": "6e16d763-3526-4fa5-8b14-dfb0c17d5ada",
   "metadata": {},
   "outputs": [
    {
     "name": "stdout",
     "output_type": "stream",
     "text": [
      "Crab belongs to the Crustaceans group.\n"
     ]
    }
   ],
   "source": [
    "# Example:\n",
    "class Details:\n",
    "    def __init__(self, animal, group):\n",
    "        self.animal = animal\n",
    "        self.group = group\n",
    "obj1 = Details(\"Crab\", \"Crustaceans\")\n",
    "print(obj1.animal, \"belongs to the\", obj1.group, \"group.\")"
   ]
  },
  {
   "cell_type": "markdown",
   "id": "9e2fefc4-ebdd-476e-bd82-62790b1fe114",
   "metadata": {},
   "source": [
    "# Default Constructor in Python"
   ]
  },
  {
   "cell_type": "markdown",
   "id": "1d001c13-6250-44de-86ed-a432ae5785d6",
   "metadata": {},
   "source": [
    "When the constructor doesn't accept any arguments from the object and has only one argument, self, in the constructor, it is known as a Default constructor."
   ]
  },
  {
   "cell_type": "code",
   "execution_count": 4,
   "id": "bad089b2-9bce-4f0b-bd0b-4ce200f0a20c",
   "metadata": {},
   "outputs": [
    {
     "name": "stdout",
     "output_type": "stream",
     "text": [
      "animal Crab belongs to Crustaceans group\n"
     ]
    }
   ],
   "source": [
    "# Example:\n",
    "class Details:\n",
    "  def __init__(self):\n",
    "    print(\"animal Crab belongs to Crustaceans group\")\n",
    "obj1=Details()"
   ]
  },
  {
   "cell_type": "markdown",
   "id": "6ef4a809-e549-48fb-b5eb-6f97e37525e2",
   "metadata": {},
   "source": [
    "# Code"
   ]
  },
  {
   "cell_type": "code",
   "execution_count": 5,
   "id": "073fe710-aaf4-4752-ac56-50fdd02f3a85",
   "metadata": {},
   "outputs": [
    {
     "name": "stdout",
     "output_type": "stream",
     "text": [
      "Hey I am a person\n",
      "Hey I am a person\n",
      "Harry is a Developer\n",
      "Divya is a HR\n"
     ]
    }
   ],
   "source": [
    "class Person:\n",
    "\n",
    "  def __init__(self, name, occ):\n",
    "    print(\"Hey I am a person\")\n",
    "    self.name = name\n",
    "    self.occ = occ\n",
    "\n",
    "  def info(self):\n",
    "    print(f\"{self.name} is a {self.occ}\")\n",
    "\n",
    "\n",
    "a = Person(\"Harry\", \"Developer\")\n",
    "b = Person(\"Divya\", \"HR\") \n",
    "a.info()\n",
    "b.info()\n"
   ]
  },
  {
   "cell_type": "code",
   "execution_count": 6,
   "id": "882dab70-aaf6-49c3-845b-97d363c7a26d",
   "metadata": {},
   "outputs": [
    {
     "name": "stdout",
     "output_type": "stream",
     "text": [
      "Harry\n",
      "Divya is a HR\n"
     ]
    }
   ],
   "source": [
    "print(a.name)\n",
    "a.name = \"Divya\"\n",
    "a.occ = \"HR\"\n",
    "a.info()"
   ]
  }
 ],
 "metadata": {
  "kernelspec": {
   "display_name": "Python 3 (ipykernel)",
   "language": "python",
   "name": "python3"
  },
  "language_info": {
   "codemirror_mode": {
    "name": "ipython",
    "version": 3
   },
   "file_extension": ".py",
   "mimetype": "text/x-python",
   "name": "python",
   "nbconvert_exporter": "python",
   "pygments_lexer": "ipython3",
   "version": "3.11.4"
  }
 },
 "nbformat": 4,
 "nbformat_minor": 5
}
