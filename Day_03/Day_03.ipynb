{
 "cells": [
  {
   "cell_type": "markdown",
   "id": "db747ad2-1ed6-4d94-b637-234b941d179f",
   "metadata": {},
   "source": [
    "# Modules and pip in Python."
   ]
  },
  {
   "cell_type": "markdown",
   "id": "b03ac5c6-5615-4bae-a76a-ea7c8348a80e",
   "metadata": {},
   "source": [
    "* Module is like a code library which can be used to borrow code written by somebody else in our python program. \n",
    "  There are two types of modules in python:\n",
    "\n",
    "(1) Built in Modules - These modules are ready to import and use and ships with the python interpreter. \n",
    "    there is no need to install such modules explicitly.\n",
    "    \n",
    "(2) External Modules - These modules are imported from a third party file or can be installed using a \n",
    "    package manager like pip or conda. Since this code is written by someone else, \n",
    "    we can install different versions of a same module with time."
   ]
  },
  {
   "cell_type": "markdown",
   "id": "7477d3c1-7948-4933-83d8-636e144fc4a9",
   "metadata": {},
   "source": [
    "# The pip command"
   ]
  },
  {
   "cell_type": "markdown",
   "id": "ddc80a5d-90fa-4779-8e72-aef54e489ec6",
   "metadata": {},
   "source": [
    "It can be used as a package manager pip to install a python module. \n",
    "Lets install a module called pandas using the following command"
   ]
  },
  {
   "cell_type": "raw",
   "id": "2d98b324-19bb-4cd3-a000-5f38dd2e714d",
   "metadata": {},
   "source": [
    "pip install pandas"
   ]
  },
  {
   "cell_type": "raw",
   "id": "c5f06f73-f5c2-494d-8858-cdd448b370f2",
   "metadata": {},
   "source": [
    "# We use the import syntax to import a module in Python. Here is an example code:\n",
    "\n",
    "import pandas\n",
    "# Read and work with a file named 'words.csv'\n",
    "df = pandas.read_csv('Your File Name')\n",
    "print(df) # This will display first few rows from the words.csv file"
   ]
  }
 ],
 "metadata": {
  "kernelspec": {
   "display_name": "Python 3 (ipykernel)",
   "language": "python",
   "name": "python3"
  },
  "language_info": {
   "codemirror_mode": {
    "name": "ipython",
    "version": 3
   },
   "file_extension": ".py",
   "mimetype": "text/x-python",
   "name": "python",
   "nbconvert_exporter": "python",
   "pygments_lexer": "ipython3",
   "version": "3.11.4"
  }
 },
 "nbformat": 4,
 "nbformat_minor": 5
}
