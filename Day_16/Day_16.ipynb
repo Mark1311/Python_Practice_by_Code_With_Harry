{
 "cells": [
  {
   "cell_type": "markdown",
   "id": "87acb6df-e414-4457-b58a-ef770d308f8f",
   "metadata": {},
   "source": [
    "# Match Case Statements"
   ]
  },
  {
   "cell_type": "markdown",
   "id": "17d8bc84-bd2d-42d9-bd06-05363667d363",
   "metadata": {},
   "source": [
    "To implement switch-case like characteristics very similar to if-else functionality, we use a match case in python. If you are coming from a C, C++ or Java like language, you must have heard of switch-case statements. If this is your first language, dont worry as I will tell you everything you need to know about match case statements in this video!\n",
    "\n",
    "A match statement will compare a given variable’s value to different shapes, also referred to as the pattern. The main idea is to keep on comparing the variable with all the present patterns until it fits into one."
   ]
  },
  {
   "cell_type": "markdown",
   "id": "6e38c743-5310-4924-b769-2c124cb32df1",
   "metadata": {},
   "source": [
    "### Syntax"
   ]
  },
  {
   "cell_type": "code",
   "execution_count": null,
   "id": "bf9ca1bf-a495-457b-b4b0-2cf7b9dbd4d9",
   "metadata": {},
   "outputs": [],
   "source": [
    "match variable_name:\n",
    "            case ‘pattern1’ : //statement1\n",
    "            case ‘pattern2’ : //statement2\n",
    "            …            \n",
    "            case ‘pattern n’ : //statement n"
   ]
  },
  {
   "cell_type": "code",
   "execution_count": 4,
   "id": "50423066-3dcb-4d7d-a811-48c99282840b",
   "metadata": {},
   "outputs": [
    {
     "name": "stdout",
     "output_type": "stream",
     "text": [
      "x % 2 == 0 and case is 4\n"
     ]
    }
   ],
   "source": [
    "x = 4\n",
    "# x is the variable to match\n",
    "match x:\n",
    "    # if x is 0\n",
    "    case 0:\n",
    "        print(\"x is zero\")\n",
    "    # case with if-condition\n",
    "    case 4 if x % 2 == 0:\n",
    "        print(\"x % 2 == 0 and case is 4\")\n",
    "    # Empty case with if-condition\n",
    "    case _ if x < 10:\n",
    "        print(\"x is < 10\")\n",
    "    # default case(will only be matched if the above cases were not matched)\n",
    "    # so it is basically just an else:\n",
    "    case _:\n",
    "        print(x)        "
   ]
  },
  {
   "cell_type": "markdown",
   "id": "9d881009-4472-440a-9ff6-143df7359313",
   "metadata": {},
   "source": [
    "# Code"
   ]
  },
  {
   "cell_type": "code",
   "execution_count": 6,
   "id": "e397d16d-fe39-48dc-a40e-cb8ab3ded108",
   "metadata": {},
   "outputs": [
    {
     "name": "stdin",
     "output_type": "stream",
     "text": [
      "Enter the value of x:  88\n"
     ]
    },
    {
     "name": "stdout",
     "output_type": "stream",
     "text": [
      "88 is not 90\n"
     ]
    }
   ],
   "source": [
    "x = int(input(\"Enter the value of x: \"))\n",
    "\n",
    "# x is the variable to match\n",
    "match x:\n",
    "    # if x is 0\n",
    "    case 0:\n",
    "        print(\"x is zero\")\n",
    "    # case with if-condition\n",
    "    case 4:\n",
    "        print(\"case is 4\")\n",
    "\n",
    "    case _ if x!=90:\n",
    "        print(x, \"is not 90\")\n",
    "    case _ if x!=80:\n",
    "        print(x, \"is not 80\")\n",
    "    case _:\n",
    "        print(x)"
   ]
  }
 ],
 "metadata": {
  "kernelspec": {
   "display_name": "Python 3 (ipykernel)",
   "language": "python",
   "name": "python3"
  },
  "language_info": {
   "codemirror_mode": {
    "name": "ipython",
    "version": 3
   },
   "file_extension": ".py",
   "mimetype": "text/x-python",
   "name": "python",
   "nbconvert_exporter": "python",
   "pygments_lexer": "ipython3",
   "version": "3.11.4"
  }
 },
 "nbformat": 4,
 "nbformat_minor": 5
}
