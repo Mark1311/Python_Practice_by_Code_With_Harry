{
 "cells": [
  {
   "cell_type": "markdown",
   "id": "d38693a5-98ba-4853-b975-bb0e542ab173",
   "metadata": {},
   "source": [
    "# Docstrings in python"
   ]
  },
  {
   "cell_type": "markdown",
   "id": "0823aca0-d9ca-4551-b793-46ee34de593c",
   "metadata": {},
   "source": [
    "Python docstrings are the string literals that appear right after the definition of a function, method, class, or module."
   ]
  },
  {
   "cell_type": "code",
   "execution_count": 2,
   "id": "2b21aa8e-6fcc-4264-ab70-a14ea9391e98",
   "metadata": {},
   "outputs": [
    {
     "name": "stdout",
     "output_type": "stream",
     "text": [
      "25\n"
     ]
    }
   ],
   "source": [
    "def square(n):\n",
    "    '''Takes in a number n, returns the square of n'''   # This is Doc_String\n",
    "    print(n**2)\n",
    "square(5)"
   ]
  },
  {
   "cell_type": "markdown",
   "id": "ebde110e-7481-4dc7-a557-d3ee10d47ca8",
   "metadata": {},
   "source": [
    "# Example"
   ]
  },
  {
   "cell_type": "code",
   "execution_count": 4,
   "id": "8bcaafe7-63b6-44db-9f11-6826f1b5ef5d",
   "metadata": {},
   "outputs": [],
   "source": [
    "def add(num1, num2):\n",
    "    \"\"\"\n",
    "    Add up two integer numbers.\n",
    "\n",
    "    This function simply wraps the ``+`` operator, and does not\n",
    "    do anything interesting, except for illustrating what\n",
    "    the docstring of a very simple function looks like.\n",
    "\n",
    "    Parameters\n",
    "    ----------\n",
    "    num1 : int\n",
    "        First number to add.\n",
    "    num2 : int\n",
    "        Second number to add.\n",
    "\n",
    "    Returns\n",
    "    -------\n",
    "    int\n",
    "        The sum of ``num1`` and ``num2``.\n",
    "\n",
    "    See Also\n",
    "    --------\n",
    "    subtract : Subtract one integer from another.\n",
    "\n",
    "    Examples\n",
    "    --------\n",
    "    >>> add(2, 2)\n",
    "    4\n",
    "    >>> add(25, 0)\n",
    "    25\n",
    "    >>> add(10, -10)\n",
    "    0\n",
    "    \"\"\"\n",
    "    return num1 + num2"
   ]
  },
  {
   "cell_type": "markdown",
   "id": "287b4200-02d1-482c-b086-80596603b6e9",
   "metadata": {},
   "source": [
    "# Python Comments vs Docstrings"
   ]
  },
  {
   "cell_type": "markdown",
   "id": "4c6b293d-bbaa-48b9-90f7-0d8aad6468f3",
   "metadata": {},
   "source": [
    "* Python Comments:- \n",
    "\n",
    "Comments are descriptions that help programmers better understand the intent and functionality of the program. They are completely ignored by the Python interpreter.\n",
    "\n",
    "* Python docstrings:- \n",
    "    \n",
    "As mentioned above, Python docstrings are strings used right after the definition of a function, method, class, or module (like in Example 1). They are used to document our code."
   ]
  },
  {
   "cell_type": "markdown",
   "id": "5822a22a-acff-4dbe-b53a-b1dd49a0d775",
   "metadata": {},
   "source": [
    "## Python doc_String attribute"
   ]
  },
  {
   "cell_type": "markdown",
   "id": "995c4066-99f7-48dc-b62a-78316ad03d47",
   "metadata": {},
   "source": [
    "Whenever string literals are present just after the definition of a function, module, class or method, they are associated with the object as their doc attribute. We can later use this attribute to retrieve this docstring."
   ]
  },
  {
   "cell_type": "code",
   "execution_count": 6,
   "id": "607c5622-558e-4fd8-9a73-471acfdf8a03",
   "metadata": {},
   "outputs": [
    {
     "name": "stdout",
     "output_type": "stream",
     "text": [
      "Takes in a number n, returns the square of n\n"
     ]
    }
   ],
   "source": [
    "def square(n):\n",
    "    '''Takes in a number n, returns the square of n'''\n",
    "    return n**2\n",
    "\n",
    "print(square.__doc__)"
   ]
  },
  {
   "cell_type": "markdown",
   "id": "648ed07b-26de-46d5-a8dd-6329306e2abf",
   "metadata": {},
   "source": [
    "# PEP 8"
   ]
  },
  {
   "cell_type": "markdown",
   "id": "5adff66b-ebf0-453c-a94b-ca603d3267dc",
   "metadata": {},
   "source": [
    "PEP 8 is a document that provides guidelines and best practices on how to write Python code. It was written in 2001 by Guido van Rossum, Barry Warsaw, and Nick Coghlan. The primary focus of PEP 8 is to improve the readability and consistency of Python code.\n",
    "\n",
    "PEP stands for Python Enhancement Proposal, and there are several of them. A PEP is a document that describes new features proposed for Python and documents aspects of Python, like design and style, for the community."
   ]
  },
  {
   "cell_type": "markdown",
   "id": "2d700779-ea94-4a26-914a-6fe02f51b162",
   "metadata": {},
   "source": [
    "## The Zen of Python"
   ]
  },
  {
   "cell_type": "markdown",
   "id": "3384abe9-1a4e-4a99-8924-e6b3b098f18b",
   "metadata": {},
   "source": [
    "Long time Pythoneer Tim Peters succinctly channels the BDFL’s guiding principles for Python’s design into 20 aphorisms, only 19 of which have been written down."
   ]
  },
  {
   "cell_type": "code",
   "execution_count": 8,
   "id": "4bf55558-c543-4d8d-afa2-d650877656c6",
   "metadata": {},
   "outputs": [
    {
     "name": "stdout",
     "output_type": "stream",
     "text": [
      "The Zen of Python, by Tim Peters\n",
      "\n",
      "Beautiful is better than ugly.\n",
      "Explicit is better than implicit.\n",
      "Simple is better than complex.\n",
      "Complex is better than complicated.\n",
      "Flat is better than nested.\n",
      "Sparse is better than dense.\n",
      "Readability counts.\n",
      "Special cases aren't special enough to break the rules.\n",
      "Although practicality beats purity.\n",
      "Errors should never pass silently.\n",
      "Unless explicitly silenced.\n",
      "In the face of ambiguity, refuse the temptation to guess.\n",
      "There should be one-- and preferably only one --obvious way to do it.\n",
      "Although that way may not be obvious at first unless you're Dutch.\n",
      "Now is better than never.\n",
      "Although never is often better than *right* now.\n",
      "If the implementation is hard to explain, it's a bad idea.\n",
      "If the implementation is easy to explain, it may be a good idea.\n",
      "Namespaces are one honking great idea -- let's do more of those!\n"
     ]
    }
   ],
   "source": [
    "import this"
   ]
  },
  {
   "cell_type": "markdown",
   "id": "ce39b265-3e6b-400c-85e3-3a127cc1136b",
   "metadata": {},
   "source": [
    "# Code"
   ]
  },
  {
   "cell_type": "code",
   "execution_count": 10,
   "id": "d467aae5-f607-49f8-843a-7540130820e3",
   "metadata": {},
   "outputs": [
    {
     "name": "stdout",
     "output_type": "stream",
     "text": [
      "25\n"
     ]
    }
   ],
   "source": [
    "def square(n):\n",
    "  '''Takes in a number n, returns the square of n'''\n",
    "  print(n**2)\n",
    "square(5)"
   ]
  },
  {
   "cell_type": "code",
   "execution_count": 11,
   "id": "d1e464b4-0880-4b20-ab84-99da2d637dbc",
   "metadata": {},
   "outputs": [
    {
     "name": "stdout",
     "output_type": "stream",
     "text": [
      "Takes in a number n, returns the square of n\n"
     ]
    }
   ],
   "source": [
    "print(square.__doc__)"
   ]
  }
 ],
 "metadata": {
  "kernelspec": {
   "display_name": "Python 3 (ipykernel)",
   "language": "python",
   "name": "python3"
  },
  "language_info": {
   "codemirror_mode": {
    "name": "ipython",
    "version": 3
   },
   "file_extension": ".py",
   "mimetype": "text/x-python",
   "name": "python",
   "nbconvert_exporter": "python",
   "pygments_lexer": "ipython3",
   "version": "3.11.4"
  }
 },
 "nbformat": 4,
 "nbformat_minor": 5
}
