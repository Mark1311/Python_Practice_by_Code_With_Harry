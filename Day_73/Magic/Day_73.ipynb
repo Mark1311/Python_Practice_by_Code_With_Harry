{
 "cells": [
  {
   "cell_type": "markdown",
   "id": "eefc5ba6-e66d-422d-b2b1-8e5394af4b43",
   "metadata": {},
   "source": [
    "# Magic/Dunder Methods in Python\n",
    "\n",
    "These are special methods that you can define in your classes, and when invoked, they give you a powerful way to manipulate objects and their behaviour.\n",
    "\n",
    "Magic methods, also known as “dunders” from the double underscores surrounding their names, are powerful tools that allow you to customize the behaviour of your classes. They are used to implement special methods such as the addition, subtraction and comparison operators, as well as some more advanced techniques like descriptors and properties.\n",
    "\n",
    "# __init__ method\n",
    "    \n",
    "The init method is a special method that is automatically invoked when you create a new instance of a class. This method is responsible for setting up the object’s initial state, and it is where you would typically define any instance variables that you need. Also called \"constructor\", we have discussed this method already\n",
    "\n",
    "# __str__ and __repr__ methods\n",
    "\n",
    "The str and repr methods are both used to convert an object to a string representation. The str method is used when you want to print out an object, while the repr method is used when you want to get a string representation of an object that can be used to recreate the object.\n",
    "\n",
    "# __len__ method\n",
    "\n",
    "The len method is used to get the length of an object. This is useful when you want to be able to find the size of a data structure, such as a list or dictionary.\n",
    "\n",
    "# __call__ method\n",
    "\n",
    "The call method is used to make an object callable, meaning that you can pass it as a parameter to a function and it will be executed when the function is called. This is an incredibly powerful tool that allows you to create objects that behave like functions.\n",
    "\n"
   ]
  },
  {
   "cell_type": "markdown",
   "id": "29646bbf-d977-44c6-8874-81d55f63c061",
   "metadata": {},
   "source": [
    "# Code"
   ]
  },
  {
   "cell_type": "code",
   "execution_count": 9,
   "id": "2ee3bfac-75d4-43b6-bc9d-ae1c84fdb706",
   "metadata": {},
   "outputs": [
    {
     "name": "stdout",
     "output_type": "stream",
     "text": [
      "The name of the employee is Harry str\n",
      "Employee('Harry')\n",
      "Harry\n",
      "5\n",
      "Hey I am good\n"
     ]
    }
   ],
   "source": [
    "class Employee:\n",
    "\n",
    "  def __init__(self, name):\n",
    "    self.name = name\n",
    "\n",
    "  def __len__(self):\n",
    "    i = 0\n",
    "    for c in self.name:\n",
    "      i = i + 1\n",
    "    return i\n",
    "\n",
    "  def __str__(self):\n",
    "    return f\"The name of the employee is {self.name} str\"\n",
    "    \n",
    "  def __repr__(self):\n",
    "    return f\"Employee('{self.name}')\"\n",
    "\n",
    "  def __call__(self):\n",
    "    print(\"Hey I am good\")\n",
    "\n",
    "e = Employee(\"Harry\")\n",
    "print(str(e))\n",
    "print(repr(e))\n",
    "print(e.name)\n",
    "print(len(e))\n",
    "e()\n"
   ]
  }
 ],
 "metadata": {
  "kernelspec": {
   "display_name": "Python 3 (ipykernel)",
   "language": "python",
   "name": "python3"
  },
  "language_info": {
   "codemirror_mode": {
    "name": "ipython",
    "version": 3
   },
   "file_extension": ".py",
   "mimetype": "text/x-python",
   "name": "python",
   "nbconvert_exporter": "python",
   "pygments_lexer": "ipython3",
   "version": "3.11.4"
  }
 },
 "nbformat": 4,
 "nbformat_minor": 5
}
