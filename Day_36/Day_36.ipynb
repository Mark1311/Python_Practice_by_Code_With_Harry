{
 "cells": [
  {
   "cell_type": "markdown",
   "id": "2ae61a4b-294c-4123-b6d8-08154f87cd73",
   "metadata": {},
   "source": [
    "# Exception Handling"
   ]
  },
  {
   "cell_type": "markdown",
   "id": "a94cc6f3-70d4-4bb4-b7f9-67892e1b8e19",
   "metadata": {},
   "source": [
    "Exception handling is the process of responding to unwanted or unexpected events when a computer program runs. Exception handling deals with these events to avoid the program or system crashing, and without this process, exceptions would disrupt the normal operation of a program."
   ]
  },
  {
   "cell_type": "markdown",
   "id": "eb2bf0a1-22d3-4fc6-8c90-df27293380c5",
   "metadata": {},
   "source": [
    "# Exceptions in Python"
   ]
  },
  {
   "cell_type": "markdown",
   "id": "d9232829-7a38-48b0-b5e1-dee02dcd5c63",
   "metadata": {},
   "source": [
    "Python has many built-in exceptions that are raised when your program encounters an error (something in the program goes wrong).\n",
    "\n",
    "When these exceptions occur, the Python interpreter stops the current process and passes it to the calling process until it is handled. If not handled, the program will crash."
   ]
  },
  {
   "cell_type": "markdown",
   "id": "cdf31789-1d84-45c3-9ea0-feb0387b269e",
   "metadata": {},
   "source": [
    "# Python try...except"
   ]
  },
  {
   "cell_type": "markdown",
   "id": "d529bd10-8e49-485d-ad55-c07dcf74c34e",
   "metadata": {},
   "source": [
    "try….. except blocks are used in python to handle errors and exceptions. The code in try block runs when there is no error. If the try block catches the error, then the except block is executed."
   ]
  },
  {
   "cell_type": "markdown",
   "id": "d2cec43e-b322-47cf-98ef-ab676147c299",
   "metadata": {},
   "source": [
    "# Syntax"
   ]
  },
  {
   "cell_type": "raw",
   "id": "2b5e496d-f37f-42b4-a070-fa2ce0ef8925",
   "metadata": {},
   "source": [
    "try:\n",
    "     #statements which could generate \n",
    "     #exception\n",
    "except:\n",
    "     #Soloution of generated exception"
   ]
  },
  {
   "cell_type": "markdown",
   "id": "543d6bb9-8218-4002-9d89-964402fc9d83",
   "metadata": {},
   "source": [
    "## Example"
   ]
  },
  {
   "cell_type": "code",
   "execution_count": 1,
   "id": "37b60508-e0fc-4dbb-b52c-8d9dbdb086ad",
   "metadata": {},
   "outputs": [
    {
     "name": "stdin",
     "output_type": "stream",
     "text": [
      "Enter an integer:  781\n"
     ]
    }
   ],
   "source": [
    "try:\n",
    "    num = int(input(\"Enter an integer: \"))\n",
    "except ValueError:\n",
    "    print(\"Number entered is not an integer.\")"
   ]
  },
  {
   "cell_type": "markdown",
   "id": "bc480adf-5417-4568-9066-2ab68ebae2bd",
   "metadata": {},
   "source": [
    "# Code"
   ]
  },
  {
   "cell_type": "code",
   "execution_count": 4,
   "id": "5fb1ada5-2556-47b3-8ba2-3c6bfd65eafe",
   "metadata": {},
   "outputs": [
    {
     "name": "stdin",
     "output_type": "stream",
     "text": [
      "Enter the number:  85\n"
     ]
    },
    {
     "name": "stdout",
     "output_type": "stream",
     "text": [
      "Multiplication table of 85 is: \n",
      "85 X 1 = 85\n",
      "85 X 2 = 170\n",
      "85 X 3 = 255\n",
      "85 X 4 = 340\n",
      "85 X 5 = 425\n",
      "85 X 6 = 510\n",
      "85 X 7 = 595\n",
      "85 X 8 = 680\n",
      "85 X 9 = 765\n",
      "85 X 10 = 850\n",
      "Some imp lines of code\n",
      "End of program\n"
     ]
    }
   ],
   "source": [
    "a = input(\"Enter the number: \")\n",
    "print(f\"Multiplication table of {a} is: \")\n",
    "try:\n",
    "  for i in range(1, 11):\n",
    "    print(f\"{int(a)} X {i} = {int(a)*i}\")\n",
    "except:\n",
    "  print(\"Invalid  Input!\")\n",
    "print(\"Some imp lines of code\")\n",
    "print(\"End of program\")"
   ]
  },
  {
   "cell_type": "code",
   "execution_count": 5,
   "id": "fa66c7f1-8189-4279-aa11-e689444a6556",
   "metadata": {},
   "outputs": [
    {
     "name": "stdin",
     "output_type": "stream",
     "text": [
      "Enter an integer:  85\n"
     ]
    },
    {
     "name": "stdout",
     "output_type": "stream",
     "text": [
      "Index Error\n"
     ]
    }
   ],
   "source": [
    "try:\n",
    "    num = int(input(\"Enter an integer: \"))\n",
    "    a = [6, 3]\n",
    "    print(a[num])\n",
    "except ValueError:\n",
    "    print(\"Number entered is not an integer.\")\n",
    "    \n",
    "except IndexError:\n",
    "  print(\"Index Error\")"
   ]
  }
 ],
 "metadata": {
  "kernelspec": {
   "display_name": "Python 3 (ipykernel)",
   "language": "python",
   "name": "python3"
  },
  "language_info": {
   "codemirror_mode": {
    "name": "ipython",
    "version": 3
   },
   "file_extension": ".py",
   "mimetype": "text/x-python",
   "name": "python",
   "nbconvert_exporter": "python",
   "pygments_lexer": "ipython3",
   "version": "3.11.4"
  }
 },
 "nbformat": 4,
 "nbformat_minor": 5
}
