{
 "cells": [
  {
   "cell_type": "markdown",
   "id": "5ae9d6fc-a4d7-4a2b-9584-2384c2182045",
   "metadata": {},
   "source": [
    "# 'is' vs '==' in Python"
   ]
  },
  {
   "cell_type": "markdown",
   "id": "e4d48207-376e-4065-8388-ff4685b46e21",
   "metadata": {},
   "source": [
    "In Python, is and == are both comparison operators that can be used to check if two values are equal. However, there are some important differences between the two that you should be aware of.\n"
   ]
  },
  {
   "cell_type": "markdown",
   "id": "6e10c0be-1367-47f8-8bfd-6512e6bda821",
   "metadata": {},
   "source": [
    "The is operator compares the identity of two objects, while the == operator compares the values of the objects. This means that is will only return True if the objects being compared are the exact same object in memory, while == will return True if the objects have the same value.\n"
   ]
  },
  {
   "cell_type": "code",
   "execution_count": 2,
   "id": "10f099ba-d2f1-4b56-9826-ef7d9d2bfdde",
   "metadata": {},
   "outputs": [
    {
     "name": "stdout",
     "output_type": "stream",
     "text": [
      "True\n",
      "False\n"
     ]
    }
   ],
   "source": [
    "# For example:\n",
    "\n",
    "a = [1, 2, 3]\n",
    "b = [1, 2, 3]\n",
    "print(a == b)  # True\n",
    "print(a is b)  # False"
   ]
  },
  {
   "cell_type": "markdown",
   "id": "a46bdc2a-0ad4-496b-8a7c-86f546854c48",
   "metadata": {},
   "source": [
    "In this case, a and b are two separate lists that have the same values, so == returns True. However, a and b are not the same object in memory, so is returns False.\n",
    "\n",
    "One important thing to note is that, in Python, strings and integers are immutable, which means that once they are created, their value cannot be changed. This means that, for strings and integers, is and == will always return the same result:\n"
   ]
  },
  {
   "cell_type": "code",
   "execution_count": 3,
   "id": "9fb69d5d-e86b-4ec7-925c-8b0bc90461c0",
   "metadata": {},
   "outputs": [
    {
     "name": "stdout",
     "output_type": "stream",
     "text": [
      "True\n",
      "True\n",
      "True\n",
      "True\n"
     ]
    }
   ],
   "source": [
    "a = \"hello\"\n",
    "b = \"hello\"\n",
    "print(a == b)  # True\n",
    "print(a is b)  # True\n",
    "a = 5\n",
    "b = 5\n",
    "print(a == b)  # True\n",
    "print(a is b)  # True"
   ]
  },
  {
   "cell_type": "markdown",
   "id": "83e241a2-e578-4cc8-9a1f-1bd37c66a640",
   "metadata": {},
   "source": [
    "# Code"
   ]
  },
  {
   "cell_type": "code",
   "execution_count": 4,
   "id": "a2fb0066-a92d-4804-b9d5-c50e334d13a4",
   "metadata": {},
   "outputs": [
    {
     "name": "stdout",
     "output_type": "stream",
     "text": [
      "True\n",
      "True\n",
      "True\n"
     ]
    }
   ],
   "source": [
    "a = None\n",
    "b = None\n",
    "\n",
    "print(a is b) # exact location of object in memory\n",
    "print(a is None) # exact location of object in memory\n",
    "print(a == b) # value"
   ]
  }
 ],
 "metadata": {
  "kernelspec": {
   "display_name": "Python 3 (ipykernel)",
   "language": "python",
   "name": "python3"
  },
  "language_info": {
   "codemirror_mode": {
    "name": "ipython",
    "version": 3
   },
   "file_extension": ".py",
   "mimetype": "text/x-python",
   "name": "python",
   "nbconvert_exporter": "python",
   "pygments_lexer": "ipython3",
   "version": "3.11.4"
  }
 },
 "nbformat": 4,
 "nbformat_minor": 5
}
