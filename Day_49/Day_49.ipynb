{
 "cells": [
  {
   "cell_type": "markdown",
   "id": "91b22ee8-a17d-45c5-9a0e-22c740ded438",
   "metadata": {},
   "source": [
    "# Opening a File"
   ]
  },
  {
   "cell_type": "markdown",
   "id": "2bfb9da2-3e7d-4ff1-841d-e2d0964afdc7",
   "metadata": {},
   "source": [
    "Before we can perform any operations on a file, we must first open it. Python provides the open() function to open a file. It takes two arguments: the name of the file and the mode in which the file should be opened. The mode can be 'r' for reading, 'w' for writing, or 'a' for appending."
   ]
  },
  {
   "cell_type": "code",
   "execution_count": 1,
   "id": "e896fd25-80cc-49f9-92bf-4e208852ffe9",
   "metadata": {},
   "outputs": [],
   "source": [
    "f = open('myfile.txt', 'r')"
   ]
  },
  {
   "cell_type": "markdown",
   "id": "e50dca79-f308-4db1-9937-aa30ae6f408a",
   "metadata": {},
   "source": [
    "By default, the open() function returns a file object that can be used to read from or write to the file, depending on the mode.\n",
    "\n"
   ]
  },
  {
   "cell_type": "markdown",
   "id": "5b49daa7-22e2-4fd7-b677-cac4782110e2",
   "metadata": {},
   "source": [
    "# Modes in file"
   ]
  },
  {
   "cell_type": "markdown",
   "id": "9cf86021-cf87-43ed-8812-32417ff400d2",
   "metadata": {},
   "source": [
    "There are various modes in which we can open files.\n",
    "\n",
    "read (r): This mode opens the file for reading only and gives an error if the file does not exist. This is the default mode if no mode is passed as a parameter.\n",
    "\n",
    "write (w): This mode opens the file for writing only and creates a new file if the file does not exist.\n",
    "\n",
    "append (a): This mode opens the file for appending only and creates a new file if the file does not exist.\n",
    "\n",
    "create (x): This mode creates a file and gives an error if the file already exists.\n",
    "\n",
    "text (t): Apart from these modes we also need to specify how the file must be handled. t mode is used to handle text files. t refers to the text mode. There is no difference between r and rt or w and wt since text mode is the default. The default mode is 'r' (open for reading text, synonym of 'rt' ).\n",
    "\n",
    "binary (b): used to handle binary files (images, pdfs, etc)."
   ]
  },
  {
   "cell_type": "markdown",
   "id": "ba430c84-dd7d-4cfa-9a08-432014999437",
   "metadata": {},
   "source": [
    "# Reading from a File"
   ]
  },
  {
   "cell_type": "markdown",
   "id": "55c53de7-c28b-4209-b30c-84f1d4b4547b",
   "metadata": {},
   "source": [
    "Once we have a file object, we can use various methods to read from the file.\n",
    "\n",
    "The read() method reads the entire contents of the file and returns it as a string."
   ]
  },
  {
   "cell_type": "code",
   "execution_count": 2,
   "id": "6075499e-6e1e-4d5c-80ef-ed4d2be5c249",
   "metadata": {},
   "outputs": [
    {
     "name": "stdout",
     "output_type": "stream",
     "text": [
      "Hello, world!2\n",
      "line 3\n",
      "Hello, world!Hey I am inside with\n"
     ]
    }
   ],
   "source": [
    "f = open('myfile.txt', 'r')\n",
    "contents = f.read()\n",
    "print(contents)"
   ]
  },
  {
   "cell_type": "markdown",
   "id": "3f0974b4-f796-4e3e-9eca-5cf9a29f6e70",
   "metadata": {},
   "source": [
    "# Writing to a File"
   ]
  },
  {
   "cell_type": "markdown",
   "id": "43790d6b-6084-4a54-bfdc-3b299d51083e",
   "metadata": {},
   "source": [
    "To write to a file, we first need to open it in write mode."
   ]
  },
  {
   "cell_type": "code",
   "execution_count": 12,
   "id": "a143257c-78b9-45af-8f93-ccaf4abb5832",
   "metadata": {},
   "outputs": [],
   "source": [
    "f = open('myfile.txt', 'w')"
   ]
  },
  {
   "cell_type": "markdown",
   "id": "52555dd7-afc2-4c41-a656-d15516e7c08c",
   "metadata": {},
   "source": [
    "We can then use the write() method to write to the file."
   ]
  },
  {
   "cell_type": "code",
   "execution_count": 14,
   "id": "0e54b5df-804b-4e80-9051-790093dc83b1",
   "metadata": {},
   "outputs": [
    {
     "data": {
      "text/plain": [
       "13"
      ]
     },
     "execution_count": 14,
     "metadata": {},
     "output_type": "execute_result"
    }
   ],
   "source": [
    "f = open('myfile.txt', 'w')\n",
    "f.write('Hello, world!')"
   ]
  },
  {
   "cell_type": "markdown",
   "id": "2b0e57b1-06a0-47d4-ac19-451c160f861d",
   "metadata": {},
   "source": [
    "Keep in mind that writing to a file will overwrite its contents. If you want to append to a file instead of overwriting it, you can open it in append mode."
   ]
  },
  {
   "cell_type": "code",
   "execution_count": 3,
   "id": "b665bdf9-7f84-4f62-acfe-2c40e276fe78",
   "metadata": {},
   "outputs": [
    {
     "data": {
      "text/plain": [
       "13"
      ]
     },
     "execution_count": 3,
     "metadata": {},
     "output_type": "execute_result"
    }
   ],
   "source": [
    "f = open('myfile.txt', 'a')\n",
    "f.write('Hello, world!')"
   ]
  },
  {
   "cell_type": "markdown",
   "id": "801c76dd-ecc5-40c7-8fde-6b88068269ba",
   "metadata": {},
   "source": [
    "# Closing a File"
   ]
  },
  {
   "cell_type": "markdown",
   "id": "d651b65b-06bf-4063-a955-e0ba98ddf38c",
   "metadata": {},
   "source": [
    "It is important to close a file after you are done with it. This releases the resources used by the file and allows other programs to access it.\n",
    "\n",
    "To close a file, you can use the close() method."
   ]
  },
  {
   "cell_type": "code",
   "execution_count": 4,
   "id": "14450428-987b-4eaa-8082-a086aa8e5f50",
   "metadata": {},
   "outputs": [],
   "source": [
    "f = open('myfile.txt', 'r')\n",
    "# ... do something with the file\n",
    "f.close()"
   ]
  },
  {
   "cell_type": "markdown",
   "id": "ed6ad696-8aad-4002-add8-9e6f8a9aa449",
   "metadata": {},
   "source": [
    "# The 'with' statement"
   ]
  },
  {
   "cell_type": "markdown",
   "id": "206f3a0f-51c9-4c39-9bb7-03999769ccde",
   "metadata": {},
   "source": [
    "Alternatively, you can use the with statement to automatically close the file after you are done with it.\n"
   ]
  },
  {
   "cell_type": "raw",
   "id": "b4988b72-775f-4f74-9922-aa987ac59769",
   "metadata": {},
   "source": [
    "with open('myfile.txt', 'r') as f:\n",
    "    # ... do something with the file"
   ]
  }
 ],
 "metadata": {
  "kernelspec": {
   "display_name": "Python 3 (ipykernel)",
   "language": "python",
   "name": "python3"
  },
  "language_info": {
   "codemirror_mode": {
    "name": "ipython",
    "version": 3
   },
   "file_extension": ".py",
   "mimetype": "text/x-python",
   "name": "python",
   "nbconvert_exporter": "python",
   "pygments_lexer": "ipython3",
   "version": "3.11.4"
  }
 },
 "nbformat": 4,
 "nbformat_minor": 5
}
