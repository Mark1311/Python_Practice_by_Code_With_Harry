{
 "cells": [
  {
   "cell_type": "markdown",
   "id": "c8f25d98-5282-45cd-860f-e1c1077e4c89",
   "metadata": {},
   "source": [
    "# READING A FILE"
   ]
  },
  {
   "cell_type": "code",
   "execution_count": 1,
   "id": "04f33a26-ad50-40d4-8ead-4ec9c1f819a2",
   "metadata": {},
   "outputs": [],
   "source": [
    "# f = open('myfile.txt', 'r')\n",
    "# # print(f)\n",
    "# text = f.read()\n",
    "# print(text)\n",
    "# f.close()\n",
    "\n",
    "# WRITING A FILE\n",
    "\n",
    "f = open('myfile.txt', 'a')\n",
    "f.write('Hello, world!')\n",
    "f.close()\n",
    "\n",
    "with open('myfile.txt', 'a') as f:\n",
    "  f.write(\"Hey I am inside with\")"
   ]
  }
 ],
 "metadata": {
  "kernelspec": {
   "display_name": "Python 3 (ipykernel)",
   "language": "python",
   "name": "python3"
  },
  "language_info": {
   "codemirror_mode": {
    "name": "ipython",
    "version": 3
   },
   "file_extension": ".py",
   "mimetype": "text/x-python",
   "name": "python",
   "nbconvert_exporter": "python",
   "pygments_lexer": "ipython3",
   "version": "3.11.4"
  }
 },
 "nbformat": 4,
 "nbformat_minor": 5
}
