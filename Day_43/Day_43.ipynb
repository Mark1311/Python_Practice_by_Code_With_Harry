{
 "cells": [
  {
   "cell_type": "markdown",
   "id": "7b6f7b7d-4fd7-4718-8721-cb691e367658",
   "metadata": {},
   "source": [
    "# Virtual Environment"
   ]
  },
  {
   "cell_type": "markdown",
   "id": "46b9278b-8b2d-41df-a15e-2e7963df0671",
   "metadata": {},
   "source": [
    "A virtual environment is a tool used to isolate specific Python environments on a single machine, allowing you to work on multiple projects with different dependencies and packages without conflicts. This can be especially useful when working on projects that have conflicting package versions or packages that are not compatible with each other.\n",
    "\n",
    "To create a virtual environment in Python, you can use the venv module that comes with Python. Here's an example of how to create a virtual environment and activate it:"
   ]
  },
  {
   "cell_type": "raw",
   "id": "5d297e0f-f60b-498d-a7d8-a0ca5ef129af",
   "metadata": {},
   "source": [
    "# Create a virtual environment\n",
    "python -m venv myenv\n",
    "\n",
    "# Activate the virtual environment (Linux/macOS)\n",
    "source myenv/bin/activate\n",
    "\n",
    "# Activate the virtual environment (Windows)\n",
    "myenv\\Scripts\\activate.bat"
   ]
  },
  {
   "cell_type": "markdown",
   "id": "39658b66-e8fb-4a08-97ee-5eea30d979b5",
   "metadata": {},
   "source": [
    "Once the virtual environment is activated, any packages that you install using pip will be installed in the virtual environment, rather than in the global Python environment. This allows you to have a separate set of packages for each project, without affecting the packages installed in the global environment.\n",
    "\n",
    "To deactivate the virtual environment, you can use the deactivate command:"
   ]
  },
  {
   "cell_type": "raw",
   "id": "160f8ea1-3e02-41db-a575-86f31a85c96a",
   "metadata": {},
   "source": [
    "Output the list of installed packages and their versions to a file"
   ]
  },
  {
   "cell_type": "markdown",
   "id": "6a854e01-bf13-4844-9e76-1153c3d1b889",
   "metadata": {},
   "source": [
    "pip freeze > requirements.txt"
   ]
  },
  {
   "cell_type": "raw",
   "id": "107b0301-3e5c-47a9-b3c0-0ac0c1847c8f",
   "metadata": {},
   "source": [
    "To install the packages listed in the requirements.txt file, you can use the pip install command with the -r flag:"
   ]
  },
  {
   "cell_type": "raw",
   "id": "52084fef-e411-4613-aecb-9fa17bc19ae5",
   "metadata": {},
   "source": [
    "# Install the packages listed in the requirements.txt file\n",
    "pip install -r requirements.txt"
   ]
  },
  {
   "cell_type": "markdown",
   "id": "3c4ed619-e1ea-4825-9944-12ced75fec3b",
   "metadata": {},
   "source": [
    "Using a virtual environment and a requirements.txt file can help you manage the dependencies for your Python projects and ensure that your projects are portable and can be easily set up on a new machine."
   ]
  },
  {
   "cell_type": "markdown",
   "id": "b1826096-4aa3-4974-bf62-0cae7702d42c",
   "metadata": {},
   "source": [
    "# Code"
   ]
  },
  {
   "cell_type": "code",
   "execution_count": 4,
   "id": "929e4a29-801c-4c48-845f-6c8e53c66be1",
   "metadata": {},
   "outputs": [
    {
     "name": "stdout",
     "output_type": "stream",
     "text": [
      "2.1.3\n"
     ]
    }
   ],
   "source": [
    "import pandas as pd\n",
    "print(pd.__version__)"
   ]
  }
 ],
 "metadata": {
  "kernelspec": {
   "display_name": "Python 3 (ipykernel)",
   "language": "python",
   "name": "python3"
  },
  "language_info": {
   "codemirror_mode": {
    "name": "ipython",
    "version": 3
   },
   "file_extension": ".py",
   "mimetype": "text/x-python",
   "name": "python",
   "nbconvert_exporter": "python",
   "pygments_lexer": "ipython3",
   "version": "3.11.4"
  }
 },
 "nbformat": 4,
 "nbformat_minor": 5
}
