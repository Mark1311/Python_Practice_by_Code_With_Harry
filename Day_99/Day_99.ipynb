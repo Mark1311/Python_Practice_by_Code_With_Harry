{
 "cells": [
  {
   "cell_type": "markdown",
   "id": "c0faa500-ee28-4489-8fbf-ed58a2832e33",
   "metadata": {},
   "source": [
    "# Exercise - 11 Solution"
   ]
  },
  {
   "cell_type": "markdown",
   "id": "9c32e321-ff52-47ed-8d2d-fae207c4f0eb",
   "metadata": {},
   "source": [
    "# Code"
   ]
  },
  {
   "cell_type": "code",
   "execution_count": null,
   "id": "48fa1362-538e-46c0-82f5-91330b5824bd",
   "metadata": {},
   "outputs": [],
   "source": [
    "import os\n",
    "import time \n",
    "\n",
    "REPEAT_INTERVAL = 3600 # Repeat frequency in seconds\n",
    "\n",
    "while True:\n",
    "  command = \"osascript -e \\'say \\\"Hey Harry drink water\\\"\\'; osascript -e \\'display alert \\\"Hey Harry, Drink water\\\"\\'\"\n",
    "  os.system(command)\n",
    "  time.sleep(REPEAT_INTERVAL)"
   ]
  }
 ],
 "metadata": {
  "kernelspec": {
   "display_name": "Python 3 (ipykernel)",
   "language": "python",
   "name": "python3"
  },
  "language_info": {
   "codemirror_mode": {
    "name": "ipython",
    "version": 3
   },
   "file_extension": ".py",
   "mimetype": "text/x-python",
   "name": "python",
   "nbconvert_exporter": "python",
   "pygments_lexer": "ipython3",
   "version": "3.11.4"
  }
 },
 "nbformat": 4,
 "nbformat_minor": 5
}
