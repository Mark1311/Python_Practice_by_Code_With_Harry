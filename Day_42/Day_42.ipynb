{
 "cells": [
  {
   "cell_type": "markdown",
   "id": "fb61cf1e-594a-4465-9ecf-372cf7585635",
   "metadata": {},
   "source": [
    "# Enumerate function in python"
   ]
  },
  {
   "cell_type": "markdown",
   "id": "f1967de3-1a9f-4ecd-9004-c9481495cb6b",
   "metadata": {},
   "source": [
    "The enumerate function is a built-in function in Python that allows you to loop over a sequence (such as a list, tuple, or string) and get the index and value of each element in the sequence at the same time. Here's a basic example of how it works:"
   ]
  },
  {
   "cell_type": "code",
   "execution_count": 1,
   "id": "79951e14-934a-4c0b-8d79-6ca31a6b97ec",
   "metadata": {},
   "outputs": [
    {
     "name": "stdout",
     "output_type": "stream",
     "text": [
      "0 apple\n",
      "1 banana\n",
      "2 mango\n"
     ]
    }
   ],
   "source": [
    "# Loop over a list and print the index and value of each element\n",
    "fruits = ['apple', 'banana', 'mango']\n",
    "for index, fruit in enumerate(fruits):\n",
    "    print(index, fruit)"
   ]
  },
  {
   "cell_type": "markdown",
   "id": "e521bdc8-18ef-4e5f-9974-07075e199f90",
   "metadata": {},
   "source": [
    "# Changing the start index"
   ]
  },
  {
   "cell_type": "markdown",
   "id": "0d3152c8-771e-410a-8d86-95d8d95db051",
   "metadata": {},
   "source": [
    "By default, the enumerate function starts the index at 0, but you can specify a different starting index by passing it as an argument to the enumerate function:"
   ]
  },
  {
   "cell_type": "code",
   "execution_count": 6,
   "id": "d4c9c360-0da7-40ba-a16a-88965db8d940",
   "metadata": {},
   "outputs": [
    {
     "name": "stdout",
     "output_type": "stream",
     "text": [
      "1 apple\n",
      "2 banana\n",
      "3 mango\n"
     ]
    }
   ],
   "source": [
    "# Loop over a list and print the index (starting at 1) and value of each element\n",
    "fruits = ['apple', 'banana', 'mango']\n",
    "for index, fruit in enumerate(fruits, start=1):\n",
    "    print(index, fruit)"
   ]
  },
  {
   "cell_type": "markdown",
   "id": "2bf0f6a3-50d3-47ff-b17b-de297bfa0159",
   "metadata": {},
   "source": [
    "The enumerate function is often used when you need to loop over a sequence and perform some action with both the index and value of each element. For example, you might use it to loop over a list of strings and print the index and value of each string in a formatted way:"
   ]
  },
  {
   "cell_type": "code",
   "execution_count": 2,
   "id": "2423f9e1-6270-4ecf-9461-1d904b4a0b52",
   "metadata": {},
   "outputs": [
    {
     "name": "stdout",
     "output_type": "stream",
     "text": [
      "1: apple\n",
      "2: banana\n",
      "3: mango\n"
     ]
    }
   ],
   "source": [
    "fruits = ['apple', 'banana', 'mango']\n",
    "for index, fruit in enumerate(fruits):\n",
    "    print(f'{index+1}: {fruit}')"
   ]
  },
  {
   "cell_type": "markdown",
   "id": "a1921b8e-5f4f-4add-8e0c-a6a049315e8b",
   "metadata": {},
   "source": [
    "In addition to lists, you can use the enumerate function with any other sequence type in Python, such as tuples and strings. Here's an example with a tuple:"
   ]
  },
  {
   "cell_type": "code",
   "execution_count": 3,
   "id": "99e9dba7-2bc7-4c74-8c2d-3b29a6ebf23d",
   "metadata": {},
   "outputs": [
    {
     "name": "stdout",
     "output_type": "stream",
     "text": [
      "0 red\n",
      "1 green\n",
      "2 blue\n"
     ]
    }
   ],
   "source": [
    "# Loop over a tuple and print the index and value of each element\n",
    "colors = ('red', 'green', 'blue')\n",
    "for index, color in enumerate(colors):\n",
    "    print(index, color)"
   ]
  },
  {
   "cell_type": "code",
   "execution_count": 4,
   "id": "a7fed6fb-e66e-4f0c-bd07-cfd4d3043dd2",
   "metadata": {},
   "outputs": [
    {
     "name": "stdout",
     "output_type": "stream",
     "text": [
      "0 h\n",
      "1 e\n",
      "2 l\n",
      "3 l\n",
      "4 o\n"
     ]
    }
   ],
   "source": [
    "# Loop over a string and print the index and value of each character\n",
    "s = 'hello'\n",
    "for index, c in enumerate(s):\n",
    "    print(index, c)"
   ]
  },
  {
   "cell_type": "markdown",
   "id": "0630d370-6bea-4eff-84b8-614486798ddd",
   "metadata": {},
   "source": [
    "# Code"
   ]
  },
  {
   "cell_type": "code",
   "execution_count": 6,
   "id": "478cae3f-e776-4b04-958f-e5b62ac8e881",
   "metadata": {},
   "outputs": [
    {
     "name": "stdout",
     "output_type": "stream",
     "text": [
      "12\n",
      "56\n",
      "32\n",
      "98\n",
      "Harry, awesome!\n",
      "12\n",
      "45\n",
      "1\n",
      "4\n"
     ]
    }
   ],
   "source": [
    "marks = [12, 56, 32, 98, 12,  45, 1, 4]\n",
    "\n",
    "index = 0\n",
    "for mark in marks:\n",
    "  print(mark)\n",
    "  if(index == 3):\n",
    "    print(\"Harry, awesome!\")\n",
    "  index +=1"
   ]
  },
  {
   "cell_type": "code",
   "execution_count": 13,
   "id": "12db5a58-7abe-4a35-91aa-96fdb64fa3a7",
   "metadata": {},
   "outputs": [
    {
     "name": "stdout",
     "output_type": "stream",
     "text": [
      "1     12\n",
      "2     56\n",
      "3     32\n",
      "Harry, awesome!\n",
      "4     98\n",
      "5     12\n",
      "6     45\n",
      "7     1\n",
      "8     4\n"
     ]
    }
   ],
   "source": [
    "marks = [12, 56, 32, 98, 12,  45, 1, 4]\n",
    "\n",
    "for index, mark in enumerate(marks, start=1):\n",
    "  print(index, \"   \" ,mark)\n",
    "  if(index == 3):\n",
    "    print(\"Harry, awesome!\")"
   ]
  }
 ],
 "metadata": {
  "kernelspec": {
   "display_name": "Python 3 (ipykernel)",
   "language": "python",
   "name": "python3"
  },
  "language_info": {
   "codemirror_mode": {
    "name": "ipython",
    "version": 3
   },
   "file_extension": ".py",
   "mimetype": "text/x-python",
   "name": "python",
   "nbconvert_exporter": "python",
   "pygments_lexer": "ipython3",
   "version": "3.11.4"
  }
 },
 "nbformat": 4,
 "nbformat_minor": 5
}
