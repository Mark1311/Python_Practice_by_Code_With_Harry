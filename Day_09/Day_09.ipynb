{
 "cells": [
  {
   "cell_type": "markdown",
   "id": "c1205c46-0a78-4048-b2bb-2222ca4d6c78",
   "metadata": {},
   "source": [
    "# Typecasting in python"
   ]
  },
  {
   "cell_type": "markdown",
   "id": "6cbbe47f-d35a-4f1c-8694-1071fa455c0f",
   "metadata": {},
   "source": [
    "The conversion of one data type into the other data type is known as type casting in python or type conversion in python.\n",
    "\n",
    "Python supports a wide variety of functions or methods like: int(), float(), str(), ord(), hex(), oct(), tuple(), set(), list(), dict(), etc. for the type casting in python."
   ]
  },
  {
   "cell_type": "markdown",
   "id": "dffd0350-3cd3-4cce-bb43-5b1cce709e24",
   "metadata": {},
   "source": [
    "## Two Types of Typecasting:"
   ]
  },
  {
   "cell_type": "markdown",
   "id": "ab9dd6b1-1d25-480c-8d78-a75065909c1e",
   "metadata": {},
   "source": [
    "1. Explicit Conversion (Explicit type casting in python)\n",
    "2. Implicit Conversion (Implicit type casting in python)."
   ]
  },
  {
   "cell_type": "markdown",
   "id": "83cfea17-b90f-474f-bee4-1c52116ca1d4",
   "metadata": {},
   "source": [
    "## Explicit typecasting:-"
   ]
  },
  {
   "cell_type": "markdown",
   "id": "1fd0bdf3-2e1a-4994-a01f-2689b6abea2c",
   "metadata": {},
   "source": [
    "The conversion of one data type into another data type, done via developer or programmer's intervention or manually as per the requirement, is known as explicit type conversion.\n",
    "\n",
    "It can be achieved with the help of Python’s built-in type conversion functions such as int(), float(), hex(), oct(), str(), etc ."
   ]
  },
  {
   "cell_type": "code",
   "execution_count": 13,
   "id": "a008aa5b-621b-4257-8beb-280600c94cd0",
   "metadata": {},
   "outputs": [
    {
     "name": "stdout",
     "output_type": "stream",
     "text": [
      "The Sum of both the numbers is:  22\n"
     ]
    }
   ],
   "source": [
    "string = \"15\"\n",
    "number = 7\n",
    "string_number = int(string) #throws an error if the string is not a valid integer\n",
    "sum= number + string_number\n",
    "print(\"The Sum of both the numbers is: \", sum)"
   ]
  },
  {
   "cell_type": "markdown",
   "id": "fb2e8989-b096-4ffd-a036-9ceee64a2b01",
   "metadata": {},
   "source": [
    "## Implicit type casting:-"
   ]
  },
  {
   "cell_type": "markdown",
   "id": "2a65b003-07b8-4230-8d5a-cbf8da472765",
   "metadata": {},
   "source": [
    "Data types in Python do not have the same level i.e. ordering of data types is not the same in Python. Some of the data types have higher-order, and some have lower order. While performing any operations on variables with different data types in Python, one of the variable's data types will be changed to the higher data type. According to the level, one data type is converted into other by the Python interpreter itself (automatically). This is called, implicit typecasting in python.\n",
    "\n",
    "Python converts a smaller data type to a higher data type to prevent data loss."
   ]
  },
  {
   "cell_type": "code",
   "execution_count": 14,
   "id": "87819610-a0c2-4d56-b774-b328832f2606",
   "metadata": {},
   "outputs": [
    {
     "name": "stdout",
     "output_type": "stream",
     "text": [
      "<class 'int'>\n",
      "<class 'float'>\n",
      "10.0\n",
      "<class 'float'>\n"
     ]
    }
   ],
   "source": [
    "# Python automatically converts\n",
    "# a to int\n",
    "a = 7\n",
    "print(type(a))\n",
    " \n",
    "# Python automatically converts b to float\n",
    "b = 3.0\n",
    "print(type(b))\n",
    " \n",
    "# Python automatically converts c to float as it is a float addition\n",
    "c = a + b\n",
    "print(c)\n",
    "print(type(c))"
   ]
  },
  {
   "cell_type": "markdown",
   "id": "3a360d32-0ae8-4153-a6eb-c7dff59cca61",
   "metadata": {},
   "source": [
    "# Code"
   ]
  },
  {
   "cell_type": "code",
   "execution_count": 15,
   "id": "6365540b-f806-4237-8873-57a813c1237f",
   "metadata": {},
   "outputs": [
    {
     "name": "stdout",
     "output_type": "stream",
     "text": [
      "3\n",
      "9.9\n"
     ]
    }
   ],
   "source": [
    "a = \"1\"\n",
    "# a = 1\n",
    "b = \"2\"\n",
    "# b = 2\n",
    "print(int(a) + int(b))\n",
    "\n",
    "# Implicit TypeCasting\n",
    "c = 1.9\n",
    "d = 8\n",
    "\n",
    "print(c + d)"
   ]
  }
 ],
 "metadata": {
  "kernelspec": {
   "display_name": "Python 3 (ipykernel)",
   "language": "python",
   "name": "python3"
  },
  "language_info": {
   "codemirror_mode": {
    "name": "ipython",
    "version": 3
   },
   "file_extension": ".py",
   "mimetype": "text/x-python",
   "name": "python",
   "nbconvert_exporter": "python",
   "pygments_lexer": "ipython3",
   "version": "3.11.4"
  }
 },
 "nbformat": 4,
 "nbformat_minor": 5
}
