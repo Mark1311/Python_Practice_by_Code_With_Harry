{
 "cells": [
  {
   "cell_type": "markdown",
   "id": "c5a79788-5c0f-4ccd-954c-d474a6e0f932",
   "metadata": {},
   "source": [
    "# Lambda Functions in Python"
   ]
  },
  {
   "cell_type": "markdown",
   "id": "c99e03c7-5d03-4928-9fa6-a34ef6f6079e",
   "metadata": {},
   "source": [
    "In Python, a lambda function is a small anonymous function without a name. It is defined using the lambda keyword and has the following syntax:\n",
    "\n"
   ]
  },
  {
   "cell_type": "markdown",
   "id": "3938e6bb-8b77-4b08-a078-1d838693ed30",
   "metadata": {},
   "source": [
    "Lambda functions are often used in situations where a small function is required for a short period of time. They are commonly used as arguments to higher-order functions, such as map, filter, and reduce.\n"
   ]
  },
  {
   "cell_type": "code",
   "execution_count": 2,
   "id": "6ec1dea9-6274-4c5b-8190-f908060d4951",
   "metadata": {},
   "outputs": [
    {
     "data": {
      "text/plain": [
       "<function __main__.<lambda>(x)>"
      ]
     },
     "execution_count": 2,
     "metadata": {},
     "output_type": "execute_result"
    }
   ],
   "source": [
    "# Function to double the input\n",
    "def double(x):\n",
    "  return x * 2\n",
    "# Lambda function to double the input\n",
    "lambda x: x * 2"
   ]
  },
  {
   "cell_type": "markdown",
   "id": "82400d0b-50a7-4a9a-bddb-6b8f24ad07e2",
   "metadata": {},
   "source": [
    "### Syntax"
   ]
  },
  {
   "cell_type": "raw",
   "id": "f47046e2-0123-4a0b-b4e0-d534ec5526e5",
   "metadata": {},
   "source": [
    "lambda arguments: expression"
   ]
  },
  {
   "cell_type": "markdown",
   "id": "2a02e915-bede-4e82-9e3a-a7872aa56937",
   "metadata": {},
   "source": [
    "Lambda functions can have multiple arguments, just like regular functions. Here is an example of a lambda function with multiple arguments:\n"
   ]
  },
  {
   "cell_type": "code",
   "execution_count": 9,
   "id": "3af09ec1-135a-47f7-83ee-f9e998ba8649",
   "metadata": {},
   "outputs": [
    {
     "data": {
      "text/plain": [
       "<function __main__.<lambda>(x, y)>"
      ]
     },
     "execution_count": 9,
     "metadata": {},
     "output_type": "execute_result"
    }
   ],
   "source": [
    "# Function to calculate the product of two numbers\n",
    "def multiply(x, y):\n",
    "    return x * y\n",
    "    \n",
    "# Lambda function to calculate the product of two numbers\n",
    "lambda x, y: x * y"
   ]
  },
  {
   "cell_type": "raw",
   "id": "ee35040a-5114-4031-8bae-a7deffdc437b",
   "metadata": {},
   "source": [
    "lambda x, y: print(f'{x} * {y} = {x * y}')"
   ]
  },
  {
   "cell_type": "markdown",
   "id": "b03afe11-67c7-4d4c-b649-f11ec7c2fb15",
   "metadata": {},
   "source": [
    "In the above example, the lambda function includes a print statement, but it is still limited to a single expression."
   ]
  },
  {
   "cell_type": "markdown",
   "id": "7da16a1c-3c5c-401f-9a3a-98c757a7db85",
   "metadata": {},
   "source": [
    "Lambda functions are often used in conjunction with higher-order functions, such as map, filter, and reduce which we will look into later."
   ]
  },
  {
   "cell_type": "markdown",
   "id": "4c6507a8-7c31-458a-b59a-ba66e089fd69",
   "metadata": {},
   "source": [
    "# Code"
   ]
  },
  {
   "cell_type": "code",
   "execution_count": 8,
   "id": "93d1a18e-bf0f-4c30-b0fc-56ec415f30bb",
   "metadata": {},
   "outputs": [
    {
     "name": "stdout",
     "output_type": "stream",
     "text": [
      "10\n"
     ]
    }
   ],
   "source": [
    "def appl(fx, value):\n",
    "  return 6 + fx(value)\n",
    "\n",
    "print(appl(lambda x: x * x , 2))"
   ]
  },
  {
   "cell_type": "code",
   "execution_count": 6,
   "id": "ee60c125-225d-403c-912c-31a8ccbf59fb",
   "metadata": {},
   "outputs": [
    {
     "name": "stdout",
     "output_type": "stream",
     "text": [
      "10\n",
      "125\n",
      "6.0\n"
     ]
    }
   ],
   "source": [
    "double = lambda x: x * 2\n",
    "cube = lambda x: x * x * x\n",
    "avg = lambda x, y, z: (x + y + z) / 3\n",
    "\n",
    "\n",
    "print(double(5))\n",
    "print(cube(5))\n",
    "print(avg(3, 5, 10))"
   ]
  }
 ],
 "metadata": {
  "kernelspec": {
   "display_name": "Python 3 (ipykernel)",
   "language": "python",
   "name": "python3"
  },
  "language_info": {
   "codemirror_mode": {
    "name": "ipython",
    "version": 3
   },
   "file_extension": ".py",
   "mimetype": "text/x-python",
   "name": "python",
   "nbconvert_exporter": "python",
   "pygments_lexer": "ipython3",
   "version": "3.11.4"
  }
 },
 "nbformat": 4,
 "nbformat_minor": 5
}
