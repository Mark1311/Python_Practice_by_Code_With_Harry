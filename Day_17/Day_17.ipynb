{
 "cells": [
  {
   "cell_type": "markdown",
   "id": "53e9e0f4-1998-4303-b0d4-fa1a37aa11f8",
   "metadata": {},
   "source": [
    "# Introduction to Loops"
   ]
  },
  {
   "cell_type": "markdown",
   "id": "c47cdb7f-327b-4a4c-be1c-472b418f74a9",
   "metadata": {},
   "source": [
    "Sometimes a programmer wants to execute a group of statements a certain number of times. This can be done using loops. Based on this loops are further classified into following main types;\n",
    "\n",
    "* for loop\n",
    "* while loop"
   ]
  },
  {
   "cell_type": "markdown",
   "id": "63a84253-86a2-486e-8178-1f10ee512e97",
   "metadata": {},
   "source": [
    "## for Loop"
   ]
  },
  {
   "cell_type": "markdown",
   "id": "ba31bcf0-4e7f-402c-89dc-84161aa4c0ae",
   "metadata": {},
   "source": [
    "for loops can iterate over a sequence of iterable objects in python. Iterating over a sequence is nothing but iterating over strings, lists, tuples, sets and dictionaries."
   ]
  },
  {
   "cell_type": "code",
   "execution_count": 1,
   "id": "0c8f68e5-d5f7-46d7-a696-745b6e5e4ccf",
   "metadata": {},
   "outputs": [
    {
     "name": "stdout",
     "output_type": "stream",
     "text": [
      "A, b, h, i, s, h, e, k, "
     ]
    }
   ],
   "source": [
    "name = 'Abhishek'\n",
    "for i in name:\n",
    "    print(i, end=\", \")"
   ]
  },
  {
   "cell_type": "markdown",
   "id": "2e4372e5-4fad-4ba2-a474-0afe87be0afd",
   "metadata": {},
   "source": [
    "## Example: iterating over a list:"
   ]
  },
  {
   "cell_type": "code",
   "execution_count": 3,
   "id": "3c8ede9d-2f18-438e-bb62-a9fe451749c3",
   "metadata": {},
   "outputs": [
    {
     "name": "stdout",
     "output_type": "stream",
     "text": [
      "Red\n",
      "Green\n",
      "Blue\n",
      "Yellow\n"
     ]
    }
   ],
   "source": [
    "colors = [\"Red\", \"Green\", \"Blue\", \"Yellow\"]\n",
    "\n",
    "for x in colors:\n",
    "    print(x)"
   ]
  },
  {
   "cell_type": "markdown",
   "id": "a1a8f921-255c-4902-bd69-65faf2570bfb",
   "metadata": {},
   "source": [
    "## range()"
   ]
  },
  {
   "cell_type": "code",
   "execution_count": 5,
   "id": "e93be8d4-6da1-405c-a65e-e731ca56284f",
   "metadata": {},
   "outputs": [
    {
     "name": "stdout",
     "output_type": "stream",
     "text": [
      "0\n",
      "1\n",
      "2\n",
      "3\n",
      "4\n"
     ]
    }
   ],
   "source": [
    "for k in range(5):\n",
    "    print(k)"
   ]
  },
  {
   "cell_type": "markdown",
   "id": "75c58b8f-7ea9-40d8-8471-b229d0a437f9",
   "metadata": {},
   "source": [
    "# Code"
   ]
  },
  {
   "cell_type": "code",
   "execution_count": 10,
   "id": "281605c0-f528-4a1c-84a5-40ed25f16af1",
   "metadata": {},
   "outputs": [
    {
     "name": "stdout",
     "output_type": "stream",
     "text": [
      "A\n",
      "b\n",
      "This is something special!\n",
      "h\n",
      "i\n",
      "s\n",
      "h\n",
      "e\n",
      "k\n"
     ]
    }
   ],
   "source": [
    "name = 'Abhishek'\n",
    "\n",
    "for i in name:\n",
    "  print(i)\n",
    "  if(i ==\"b\"):\n",
    "    print(\"This is something special!\")"
   ]
  },
  {
   "cell_type": "code",
   "execution_count": 11,
   "id": "1cdcbf0a-2b6b-4bf5-b838-7c8dda597a78",
   "metadata": {},
   "outputs": [
    {
     "name": "stdout",
     "output_type": "stream",
     "text": [
      "Red\n",
      "R\n",
      "e\n",
      "d\n",
      "Green\n",
      "G\n",
      "r\n",
      "e\n",
      "e\n",
      "n\n",
      "Blue\n",
      "B\n",
      "l\n",
      "u\n",
      "e\n",
      "Yellow\n",
      "Y\n",
      "e\n",
      "l\n",
      "l\n",
      "o\n",
      "w\n"
     ]
    }
   ],
   "source": [
    "colors = [\"Red\", \"Green\", \"Blue\", \"Yellow\"]\n",
    "for color in colors:\n",
    "  print(color)\n",
    "  for i in color:\n",
    "    print(i)"
   ]
  },
  {
   "cell_type": "code",
   "execution_count": 12,
   "id": "3482cfbb-e7de-4a85-840c-ffdf5968b63d",
   "metadata": {},
   "outputs": [
    {
     "name": "stdout",
     "output_type": "stream",
     "text": [
      "1\n",
      "2\n",
      "3\n",
      "4\n",
      "5\n"
     ]
    }
   ],
   "source": [
    "for k in range(5):\n",
    "   print(k + 1)"
   ]
  },
  {
   "cell_type": "raw",
   "id": "622a2fe2-950c-451c-a8d3-75d2a9091d37",
   "metadata": {},
   "source": [
    "for k in range(1, 200001):\n",
    "   print(k)"
   ]
  },
  {
   "cell_type": "code",
   "execution_count": 15,
   "id": "8ae5033e-ae25-4e38-8206-47c35b7a9043",
   "metadata": {},
   "outputs": [
    {
     "name": "stdout",
     "output_type": "stream",
     "text": [
      "1\n",
      "4\n",
      "7\n",
      "10\n"
     ]
    }
   ],
   "source": [
    "\n",
    "for k in range(1, 12, 3):\n",
    "  print(k)"
   ]
  }
 ],
 "metadata": {
  "kernelspec": {
   "display_name": "Python 3 (ipykernel)",
   "language": "python",
   "name": "python3"
  },
  "language_info": {
   "codemirror_mode": {
    "name": "ipython",
    "version": 3
   },
   "file_extension": ".py",
   "mimetype": "text/x-python",
   "name": "python",
   "nbconvert_exporter": "python",
   "pygments_lexer": "ipython3",
   "version": "3.11.4"
  }
 },
 "nbformat": 4,
 "nbformat_minor": 5
}
