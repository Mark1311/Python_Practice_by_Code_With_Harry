{
 "cells": [
  {
   "cell_type": "markdown",
   "id": "7560c26e-4355-460b-b88e-7e6ad099969e",
   "metadata": {},
   "source": [
    "# Python Class and Objects"
   ]
  },
  {
   "cell_type": "markdown",
   "id": "199aa0aa-516a-405c-9981-9712033476b7",
   "metadata": {},
   "source": [
    "A class is a blueprint or a template for creating objects, providing initial values for state (member variables or attributes), and implementations of behavior (member functions or methods). The user-defined objects are created using the class keyword."
   ]
  },
  {
   "cell_type": "markdown",
   "id": "a05cf746-28aa-4d30-a0a0-244fa9759310",
   "metadata": {},
   "source": [
    "# Creating a Class:-"
   ]
  },
  {
   "cell_type": "code",
   "execution_count": 2,
   "id": "655ec44d-80d8-467e-aeaa-23296594d07a",
   "metadata": {},
   "outputs": [],
   "source": [
    "#Let us now create a class using the class keyword.\n",
    "\n",
    "class Details:\n",
    "    name = \"Rohan\"\n",
    "    age = 20"
   ]
  },
  {
   "cell_type": "markdown",
   "id": "31c7f813-2c4b-4f4e-bcb9-e543b9088141",
   "metadata": {},
   "source": [
    "# Creating an Object:-"
   ]
  },
  {
   "cell_type": "markdown",
   "id": "d1ecd29f-c3f4-4cbe-bba1-3344c592b7f5",
   "metadata": {},
   "source": [
    "Object is the instance of the class used to access the properties of the class Now lets create an object of the class.\n"
   ]
  },
  {
   "cell_type": "code",
   "execution_count": 3,
   "id": "0b62e888-d17d-481e-a6bc-6568439cece0",
   "metadata": {},
   "outputs": [],
   "source": [
    "# Example:-\n",
    "\n",
    "obj1 = Details()"
   ]
  },
  {
   "cell_type": "code",
   "execution_count": 4,
   "id": "3bf85590-810d-48a4-8e8e-830c0d25fd44",
   "metadata": {},
   "outputs": [
    {
     "name": "stdout",
     "output_type": "stream",
     "text": [
      "Rohan\n",
      "20\n"
     ]
    }
   ],
   "source": [
    "# Now we can print values:-\n",
    "\n",
    "class Details:\n",
    "    name = \"Rohan\"\n",
    "    age = 20\n",
    "obj1 = Details()\n",
    "print(obj1.name)\n",
    "print(obj1.age)"
   ]
  },
  {
   "cell_type": "markdown",
   "id": "9a70151a-5e66-467b-acd2-ada0cde60fdc",
   "metadata": {},
   "source": [
    "## self parameter:-"
   ]
  },
  {
   "cell_type": "markdown",
   "id": "c0b53451-7723-4dcb-93b1-3bbbd18c07a0",
   "metadata": {},
   "source": [
    "The self parameter is a reference to the current instance of the class, and is used to access variables that belongs to the class.\n"
   ]
  },
  {
   "cell_type": "code",
   "execution_count": 5,
   "id": "e73caa9b-fd21-481e-9dc7-5829e88d5376",
   "metadata": {},
   "outputs": [
    {
     "name": "stdout",
     "output_type": "stream",
     "text": [
      "My name is Rohan and I'm 20 years old.\n"
     ]
    }
   ],
   "source": [
    "# Example:-\n",
    "\n",
    "class Details:\n",
    "    name = \"Rohan\"\n",
    "    age = 20\n",
    "    def desc(self):\n",
    "        print(\"My name is\", self.name, \"and I'm\", self.age, \"years old.\")\n",
    "obj1 = Details()\n",
    "obj1.desc()"
   ]
  },
  {
   "cell_type": "markdown",
   "id": "738fb84a-c552-4d06-8507-472697d44af4",
   "metadata": {},
   "source": [
    "# Code"
   ]
  },
  {
   "cell_type": "code",
   "execution_count": 6,
   "id": "61aa0b1a-6567-4630-bb93-e066bf9c426a",
   "metadata": {},
   "outputs": [
    {
     "name": "stdout",
     "output_type": "stream",
     "text": [
      "Shubham is a Accountant\n",
      "Nitika is a HR\n",
      "Harry is a Software Developer\n"
     ]
    }
   ],
   "source": [
    "class Person:\n",
    "  name = \"Harry\"\n",
    "  occupation = \"Software Developer\"\n",
    "  networth = 10\n",
    "  def info(self):\n",
    "    print(f\"{self.name} is a {self.occupation}\")\n",
    "\n",
    "\n",
    "a = Person()\n",
    "b = Person()\n",
    "c = Person()\n",
    "\n",
    "a.name = \"Shubham\"\n",
    "a.occupation = \"Accountant\"\n",
    "\n",
    "b.name = \"Nitika\"\n",
    "b.occupation = \"HR\"\n",
    "\n",
    "# print(a.name, a.occupation)\n",
    "a.info()\n",
    "b.info()\n",
    "c.info()\n"
   ]
  }
 ],
 "metadata": {
  "kernelspec": {
   "display_name": "Python 3 (ipykernel)",
   "language": "python",
   "name": "python3"
  },
  "language_info": {
   "codemirror_mode": {
    "name": "ipython",
    "version": 3
   },
   "file_extension": ".py",
   "mimetype": "text/x-python",
   "name": "python",
   "nbconvert_exporter": "python",
   "pygments_lexer": "ipython3",
   "version": "3.11.4"
  }
 },
 "nbformat": 4,
 "nbformat_minor": 5
}
