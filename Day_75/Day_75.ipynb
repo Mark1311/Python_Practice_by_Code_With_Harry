{
 "cells": [
  {
   "cell_type": "markdown",
   "id": "07cf575d-8c44-4d64-8219-89299f4e3616",
   "metadata": {},
   "source": [
    "# Exercise - 7 Solution"
   ]
  },
  {
   "cell_type": "raw",
   "id": "c90ccd70-6bdb-4236-934e-067076f9accc",
   "metadata": {},
   "source": [
    "Write a program to clear the clutter inside a folder on your computer. You should use os module to rename all the png images from 1.png all the way till n.png where n is the number of png files in that folder. Do the same for other file formats. For example:\n",
    "\n",
    "sfdsf.png --> 1.png\n",
    "vfsf.png --> 2.png\n",
    "this.png --> 3.png\n",
    "design.png --> 4.png\n",
    "name.png --> 5.png"
   ]
  },
  {
   "cell_type": "markdown",
   "id": "ab3bba21-48a5-48f3-bf77-24f2c87e9669",
   "metadata": {},
   "source": [
    "# Code"
   ]
  },
  {
   "cell_type": "code",
   "execution_count": null,
   "id": "09691900-7d5e-44a7-b135-568786af36f0",
   "metadata": {},
   "outputs": [],
   "source": [
    "import os\n",
    "\n",
    "files = os.listdir(\"clutteredFolder\")\n",
    "i = 1\n",
    "for file in files:\n",
    "  if file.endswith(\".png\"):\n",
    "    print(file)\n",
    "    os.rename(f\"clutteredFolder/{file}\", f\"clutteredFolder/{i}.png\")\n",
    "    i = i + 1"
   ]
  }
 ],
 "metadata": {
  "kernelspec": {
   "display_name": "Python 3 (ipykernel)",
   "language": "python",
   "name": "python3"
  },
  "language_info": {
   "codemirror_mode": {
    "name": "ipython",
    "version": 3
   },
   "file_extension": ".py",
   "mimetype": "text/x-python",
   "name": "python",
   "nbconvert_exporter": "python",
   "pygments_lexer": "ipython3",
   "version": "3.11.4"
  }
 },
 "nbformat": 4,
 "nbformat_minor": 5
}
