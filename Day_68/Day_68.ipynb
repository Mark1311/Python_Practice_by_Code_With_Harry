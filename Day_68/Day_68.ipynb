{
 "cells": [
  {
   "cell_type": "markdown",
   "id": "6a1b7572-dd24-4efe-8ccf-b309aa6dcf97",
   "metadata": {},
   "source": [
    "# Exercise - 7"
   ]
  },
  {
   "cell_type": "markdown",
   "id": "70501ce7-8528-4da5-acd7-71ea21950214",
   "metadata": {},
   "source": [
    "Write a program to clear the clutter inside a folder on your computer. You should use os module to rename all the png images from 1.png all the way till n.png where n is the number of png files in that folder. Do the same for other file formats. For example:\n"
   ]
  },
  {
   "cell_type": "raw",
   "id": "265e40eb-2f9c-486e-aa2e-d884e9d81975",
   "metadata": {},
   "source": [
    "sfdsf.png --> 1.png\n",
    "vfsf.png --> 2.png\n",
    "this.png --> 3.png\n",
    "design.png --> 4.png\n",
    "name.png --> 5.png"
   ]
  }
 ],
 "metadata": {
  "kernelspec": {
   "display_name": "Python 3 (ipykernel)",
   "language": "python",
   "name": "python3"
  },
  "language_info": {
   "codemirror_mode": {
    "name": "ipython",
    "version": 3
   },
   "file_extension": ".py",
   "mimetype": "text/x-python",
   "name": "python",
   "nbconvert_exporter": "python",
   "pygments_lexer": "ipython3",
   "version": "3.11.4"
  }
 },
 "nbformat": 4,
 "nbformat_minor": 5
}
