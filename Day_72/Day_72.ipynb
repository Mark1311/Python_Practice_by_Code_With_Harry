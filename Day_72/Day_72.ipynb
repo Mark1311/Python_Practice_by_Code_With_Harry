{
 "cells": [
  {
   "cell_type": "markdown",
   "id": "aee0de8c-f90f-4f79-baac-ae54743f3d89",
   "metadata": {},
   "source": [
    "# Super keyword in Python\n",
    "\n",
    "The super() keyword in Python is used to refer to the parent class. It is especially useful when a class inherits from multiple parent classes and you want to call a method from one of the parent classes.\n"
   ]
  },
  {
   "cell_type": "markdown",
   "id": "8fee91d3-f1aa-4836-a977-9f344514820a",
   "metadata": {},
   "source": [
    "When a class inherits from a parent class, it can override or extend the methods defined in the parent class. However, sometimes you might want to use the parent class method in the child class. This is where the super() keyword comes in handy.\n"
   ]
  },
  {
   "cell_type": "code",
   "execution_count": 1,
   "id": "11f4af0f-781d-4eb4-b2c9-bb8cf5066b21",
   "metadata": {},
   "outputs": [
    {
     "name": "stdout",
     "output_type": "stream",
     "text": [
      "This is the child method.\n",
      "This is the parent method.\n"
     ]
    }
   ],
   "source": [
    "# Here's an example of how to use the super() keyword in a simple inheritance scenario:\n",
    "\n",
    "class ParentClass:\n",
    "    def parent_method(self):\n",
    "        print(\"This is the parent method.\")\n",
    "class ChildClass(ParentClass):\n",
    "    def child_method(self):\n",
    "        print(\"This is the child method.\")\n",
    "        super().parent_method()\n",
    "child_object = ChildClass()\n",
    "child_object.child_method()"
   ]
  },
  {
   "cell_type": "markdown",
   "id": "8d46ac29-cceb-4ac1-aba9-246d8de0bd33",
   "metadata": {},
   "source": [
    "In this example, we have a ParentClass with a parent_method and a ChildClass that inherits from ParentClass and overrides the child_method. When the child_method is called, it first prints \"This is the child method.\" and then calls the parent_method using the super() keyword.\n",
    "\n",
    "The super() keyword is also useful when a class inherits from multiple parent classes. In this case, you can specify the parent class from which you want to call the method.\n",
    "\n"
   ]
  },
  {
   "cell_type": "code",
   "execution_count": 3,
   "id": "c90f42ed-f7df-4996-9c71-cb08a0b592ef",
   "metadata": {},
   "outputs": [
    {
     "name": "stdout",
     "output_type": "stream",
     "text": [
      "This is the child method.\n",
      "This is the parent method of ParentClass1.\n"
     ]
    }
   ],
   "source": [
    "class ParentClass1:\n",
    "    def parent_method(self):\n",
    "        print(\"This is the parent method of ParentClass1.\")\n",
    "\n",
    "class ParentClass2:\n",
    "    def parent_method(self):\n",
    "        print(\"This is the parent method of ParentClass2.\")\n",
    "\n",
    "class ChildClass(ParentClass1, ParentClass2):\n",
    "    def child_method(self):\n",
    "        print(\"This is the child method.\")\n",
    "        super().parent_method()\n",
    "\n",
    "child_object = ChildClass()\n",
    "child_object.child_method()"
   ]
  },
  {
   "cell_type": "markdown",
   "id": "e3e843f3-d5e7-4e46-84c6-1e71f07f1b88",
   "metadata": {},
   "source": [
    "In this example, the ChildClass inherits from both ParentClass1 and ParentClass2. The child_method calls the parent_method of the first parent class using the super() keyword.\n",
    "\n",
    "In conclusion, the super() keyword is a useful tool in Python when you want to call a parent class method in a child class. It can be used in inheritance scenarios with a single parent class or multiple parent classes."
   ]
  },
  {
   "cell_type": "markdown",
   "id": "c4348d85-fe03-421b-8b5f-6728c0012a92",
   "metadata": {},
   "source": [
    "# Code"
   ]
  },
  {
   "cell_type": "code",
   "execution_count": 2,
   "id": "80b7ed91-5cce-4d1e-9f24-be93b3d8801d",
   "metadata": {},
   "outputs": [
    {
     "name": "stdout",
     "output_type": "stream",
     "text": [
      "Harry\n",
      "2345\n",
      "Python\n"
     ]
    }
   ],
   "source": [
    "class Employee:\n",
    "  def __init__(self, name, id):\n",
    "    self.name = name\n",
    "    self.id = id\n",
    "\n",
    "class Programmer(Employee):\n",
    "  def __init__(self, name, id, lang):\n",
    "    super().__init__( name, id)\n",
    "    self.lang = lang\n",
    "\n",
    "rohan = Employee(\"Rohan Das\", \"420\")\n",
    "harry = Programmer(\"Harry\", \"2345\", \"Python\")\n",
    "print(harry.name)\n",
    "print(harry.id)\n",
    "print(harry.lang)"
   ]
  }
 ],
 "metadata": {
  "kernelspec": {
   "display_name": "Python 3 (ipykernel)",
   "language": "python",
   "name": "python3"
  },
  "language_info": {
   "codemirror_mode": {
    "name": "ipython",
    "version": 3
   },
   "file_extension": ".py",
   "mimetype": "text/x-python",
   "name": "python",
   "nbconvert_exporter": "python",
   "pygments_lexer": "ipython3",
   "version": "3.11.4"
  }
 },
 "nbformat": 4,
 "nbformat_minor": 5
}
