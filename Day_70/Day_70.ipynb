{
 "cells": [
  {
   "cell_type": "markdown",
   "id": "30ad6e15-ac53-4e27-af25-597034a25ff8",
   "metadata": {},
   "source": [
    "# Class Methods as Alternative Constructors\n",
    "\n",
    "In object-oriented programming, the term \"constructor\" refers to a special type of method that is automatically executed when an object is created from a class. The purpose of a constructor is to initialize the object's attributes, allowing the object to be fully functional and ready to use.\n",
    "\n",
    "However, there are times when you may want to create an object in a different way, or with different initial values, than what is provided by the default constructor. This is where class methods can be used as alternative constructors.\n",
    "\n",
    "A class method belongs to the class rather than to an instance of the class. One common use case for class methods as alternative constructors is when you want to create an object from data that is stored in a different format, such as a string or a dictionary. For example, consider a class named \"Person\" that has two attributes: \"name\" and \"age\". The default constructor for the class might look like this:"
   ]
  },
  {
   "cell_type": "code",
   "execution_count": 1,
   "id": "5466c58b-b213-4ff1-bdae-bcd81de142b5",
   "metadata": {},
   "outputs": [],
   "source": [
    "class Person:\n",
    "    def __init__(self, name, age):\n",
    "        self.name = name\n",
    "        self.age = age"
   ]
  },
  {
   "cell_type": "markdown",
   "id": "c0686392-6fd2-4a2e-9dc6-f3e44441b48a",
   "metadata": {},
   "source": [
    "But what if you want to create a Person object from a string that contains the person's name and age, separated by a comma? You can define a class method named \"from_string\" to do this:\n"
   ]
  },
  {
   "cell_type": "code",
   "execution_count": 6,
   "id": "195b209b-97a1-40d3-95af-33b0b2085c04",
   "metadata": {},
   "outputs": [],
   "source": [
    "\n",
    "class Person:\n",
    "    def __init__(self, name, age):\n",
    "        self.name = name\n",
    "        self.age = age\n",
    "    @classmethod\n",
    "    def from_string(cls, string):\n",
    "        name, age = string.split(',')\n",
    "        return cls(name, int(age))\n",
    "\n",
    "#Now you can create a Person object from a string like this:\n",
    "\n",
    "person = Person.from_string(\"John Doe, 30\")"
   ]
  },
  {
   "cell_type": "markdown",
   "id": "dd209972-0c7d-4aa8-a236-4a252b026c9b",
   "metadata": {},
   "source": [
    "Another common use case for class methods as alternative constructors is when you want to create an object with a different set of default values than what is provided by the default constructor. For example, consider a class named \"Rectangle\" that has two attributes: \"width\" and \"height\". The default constructor for the class might look like this:\n"
   ]
  },
  {
   "cell_type": "code",
   "execution_count": 5,
   "id": "63f3de32-414c-4beb-b1cf-5f776a0d9a50",
   "metadata": {},
   "outputs": [],
   "source": [
    "class Rectangle:\n",
    "    def __init__(self, width, height):\n",
    "        self.width = width\n",
    "        self.height = height"
   ]
  },
  {
   "cell_type": "markdown",
   "id": "a79fdfb8-427b-46af-bab0-8c3155f78bf9",
   "metadata": {},
   "source": [
    "But what if you want to create a Rectangle object with a default width of 10 and a default height of 5? You can define a class method named \"square\" to do this:"
   ]
  },
  {
   "cell_type": "code",
   "execution_count": 4,
   "id": "19168f10-2302-4bd0-a0e6-58c7374e97bb",
   "metadata": {},
   "outputs": [],
   "source": [
    "class Rectangle:\n",
    "  def __init__(self, width, height):\n",
    "    self.width = width\n",
    "    self.height = height\n",
    "  @classmethod\n",
    "  def square(cls, size):\n",
    "    return cls(size, size)\n",
    "\n",
    "#Now you can create a square rectangle like this:\n",
    "\n",
    "rectangle = Rectangle.square(10)"
   ]
  },
  {
   "cell_type": "markdown",
   "id": "01c8a958-7efe-466a-897d-39151e3fffe1",
   "metadata": {},
   "source": [
    "# Code"
   ]
  },
  {
   "cell_type": "code",
   "execution_count": 7,
   "id": "ee1b7175-a458-470c-b5ee-d010c697e4ce",
   "metadata": {},
   "outputs": [
    {
     "name": "stdout",
     "output_type": "stream",
     "text": [
      "Harry\n",
      "12000\n",
      "John\n",
      "12000\n",
      "John Doe 30\n"
     ]
    }
   ],
   "source": [
    "class Employee:\n",
    "  def __init__(self, name, salary):\n",
    "    self.name = name \n",
    "    self.salary = salary\n",
    "    \n",
    "  @classmethod\n",
    "  def fromStr(cls, string):\n",
    "    return cls(string.split(\"-\")[0], int(string.split(\"-\")[1]))\n",
    "    \n",
    "e1 = Employee(\"Harry\", 12000)\n",
    "print(e1.name)\n",
    "print(e1.salary)\n",
    "\n",
    "string = \"John-12000\"\n",
    "e2 = Employee.fromStr(string)\n",
    "print(e2.name)\n",
    "print(e2.salary)\n",
    "\n",
    "class Person:\n",
    "    def __init__(self, name, age):\n",
    "        self.name = name\n",
    "        self.age = age\n",
    "\n",
    "    @classmethod\n",
    "    def from_string(cls, string):\n",
    "        name, age = string.split(',')\n",
    "        return cls(name, int(age))\n",
    "\n",
    "person = Person.from_string(\"John Doe, 30\")\n",
    "print(person.name, person.age)"
   ]
  }
 ],
 "metadata": {
  "kernelspec": {
   "display_name": "Python 3 (ipykernel)",
   "language": "python",
   "name": "python3"
  },
  "language_info": {
   "codemirror_mode": {
    "name": "ipython",
    "version": 3
   },
   "file_extension": ".py",
   "mimetype": "text/x-python",
   "name": "python",
   "nbconvert_exporter": "python",
   "pygments_lexer": "ipython3",
   "version": "3.11.4"
  }
 },
 "nbformat": 4,
 "nbformat_minor": 5
}
