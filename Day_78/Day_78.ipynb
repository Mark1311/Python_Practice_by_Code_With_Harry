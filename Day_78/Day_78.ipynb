{
 "cells": [
  {
   "cell_type": "markdown",
   "id": "99cf08ec-bb9e-440e-ac68-c881ebd86110",
   "metadata": {},
   "source": [
    "# Single Inheritance in Python\n",
    "\n",
    "Single inheritance is a type of inheritance where a class inherits properties and behaviors from a single parent class. This is the simplest and most common form of inheritance.\n"
   ]
  },
  {
   "cell_type": "markdown",
   "id": "aa9c81b2-c622-4716-830c-864513966f85",
   "metadata": {},
   "source": [
    "### Syntax"
   ]
  },
  {
   "cell_type": "code",
   "execution_count": null,
   "id": "3df10334-7397-41d9-a88c-c87c7fdf8d3b",
   "metadata": {},
   "outputs": [],
   "source": [
    "class ChildClass(ParentClass):\n",
    "    # class body"
   ]
  },
  {
   "cell_type": "markdown",
   "id": "659192bd-1fc7-4f50-b632-be027c424d9b",
   "metadata": {},
   "source": [
    "The syntax for single inheritance in Python is straightforward and easy to understand. To create a new class that inherits from a parent class, simply specify the parent class in the class definition, inside the parentheses, like this:"
   ]
  },
  {
   "cell_type": "markdown",
   "id": "9136aa8a-cbb9-4a8f-9714-90a365d49690",
   "metadata": {},
   "source": [
    "### Example\n",
    "\n",
    "Let's consider a simple example of single inheritance in Python. Consider a class named \"Animal\" that contains the attributes and behaviors that are common to all animals.\n"
   ]
  },
  {
   "cell_type": "code",
   "execution_count": 1,
   "id": "0c2bcf78-9442-4269-beff-06da94d75c94",
   "metadata": {},
   "outputs": [],
   "source": [
    "class Animal:\n",
    "    def __init__(self, name, species):\n",
    "        self.name = name\n",
    "        self.species = species\n",
    "        \n",
    "    def make_sound(self):\n",
    "        print(\"Sound made by the animal\")"
   ]
  },
  {
   "cell_type": "markdown",
   "id": "208a86fb-acee-41f3-b5ea-560af44f8d6f",
   "metadata": {},
   "source": [
    "If we want to create a new class for a specific type of animal, such as a dog, we can create a new class named \"Dog\" that inherits from the Animal class."
   ]
  },
  {
   "cell_type": "code",
   "execution_count": null,
   "id": "63620918-52df-4438-aef2-f2995ee1d020",
   "metadata": {},
   "outputs": [],
   "source": [
    "class Dog(Animal):\n",
    "    def __init__(self, name, breed):\n",
    "        Animal.__init__(self, name, species=\"Dog\")\n",
    "        self.breed = breed\n",
    "        \n",
    "    def make_sound(self):\n",
    "        print(\"Bark!\")"
   ]
  },
  {
   "cell_type": "markdown",
   "id": "7b9cb3ec-5bed-4a58-a181-d395101439fb",
   "metadata": {},
   "source": [
    "\n",
    "The Dog class inherits all the attributes and behaviors of the Animal class, including the __init__ method and the make_sound method. Additionally, the Dog class has its own __init__ method that adds a new attribute for the breed of the dog, and it also overrides the make_sound method to specify the sound that a dog makes.\n",
    "\n",
    "Single inheritance is a powerful tool in Python that allows you to create new classes based on existing classes. It allows you to reuse code, extend it to fit your needs, and make it easier to manage complex systems. Understanding single inheritance is an important step in becoming proficient in object-oriented programming in Python."
   ]
  },
  {
   "cell_type": "markdown",
   "id": "762dae1a-5bea-4c8b-8fde-6d6ed47b7648",
   "metadata": {},
   "source": [
    "# Code"
   ]
  },
  {
   "cell_type": "code",
   "execution_count": 2,
   "id": "7536e758-2ba7-4a81-b671-0c8066724b78",
   "metadata": {},
   "outputs": [
    {
     "name": "stdout",
     "output_type": "stream",
     "text": [
      "Bark!\n",
      "Sound made by the animal\n"
     ]
    }
   ],
   "source": [
    "class Animal:\n",
    "    def __init__(self, name, species):\n",
    "        self.name = name\n",
    "        self.species = species\n",
    "        \n",
    "    def make_sound(self):\n",
    "        print(\"Sound made by the animal\")\n",
    "\n",
    "class Dog(Animal):\n",
    "    def __init__(self, name, breed):\n",
    "        Animal.__init__(self, name, species=\"Dog\")\n",
    "        self.breed = breed\n",
    "        \n",
    "    def make_sound(self):\n",
    "        print(\"Bark!\")\n",
    "\n",
    "d = Dog(\"Dog\", \"Doggerman\")\n",
    "d.make_sound()\n",
    "\n",
    "a = Animal(\"Dog\", \"Dog\")\n",
    "a.make_sound()"
   ]
  }
 ],
 "metadata": {
  "kernelspec": {
   "display_name": "Python 3 (ipykernel)",
   "language": "python",
   "name": "python3"
  },
  "language_info": {
   "codemirror_mode": {
    "name": "ipython",
    "version": 3
   },
   "file_extension": ".py",
   "mimetype": "text/x-python",
   "name": "python",
   "nbconvert_exporter": "python",
   "pygments_lexer": "ipython3",
   "version": "3.11.4"
  }
 },
 "nbformat": 4,
 "nbformat_minor": 5
}
