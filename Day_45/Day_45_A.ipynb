{
 "cells": [
  {
   "cell_type": "markdown",
   "id": "97a1c6a2-0408-439f-b2b5-5ad308dd1030",
   "metadata": {},
   "source": [
    "# if \"__name__ == \"__main__\" in Python"
   ]
  },
  {
   "cell_type": "markdown",
   "id": "3595e945-6b60-4eee-835d-a52964f63402",
   "metadata": {},
   "source": [
    "The if __name__ == \"__main__\" idiom is a common pattern used in Python scripts to determine whether the script is being run directly or being imported as a module into another script.\n",
    "\n",
    "In Python, the __name__ variable is a built-in variable that is automatically set to the name of the current module. When a Python script is run directly, the __name__ variable is set to the string __main__ When the script is imported as a module into another script, the __name__ variable is set to the name of the module."
   ]
  },
  {
   "cell_type": "code",
   "execution_count": 1,
   "id": "7bc18c7c-29df-4894-a512-81c1625034a7",
   "metadata": {},
   "outputs": [
    {
     "name": "stdout",
     "output_type": "stream",
     "text": [
      "Running script directly\n"
     ]
    }
   ],
   "source": [
    "def main():\n",
    "    # Code to be run when the script is run directly\n",
    "    print(\"Running script directly\")\n",
    "\n",
    "if __name__ == \"__main__\":\n",
    "    main()"
   ]
  },
  {
   "cell_type": "markdown",
   "id": "169f5a7e-0dc5-4481-bc0c-635ae3eaf0e5",
   "metadata": {},
   "source": [
    "# Why is it useful?\n"
   ]
  },
  {
   "cell_type": "markdown",
   "id": "77962181-1707-45ab-89bf-5cddd4bf1317",
   "metadata": {},
   "source": [
    "This idiom is useful because it allows you to reuse code from a script by importing it as a module into another script, without running the code in the original script. For example, consider the following script:"
   ]
  },
  {
   "cell_type": "code",
   "execution_count": 2,
   "id": "0e489644-768e-436b-8231-cac41b948732",
   "metadata": {},
   "outputs": [
    {
     "name": "stdout",
     "output_type": "stream",
     "text": [
      "Running script directly\n"
     ]
    }
   ],
   "source": [
    "def main():\n",
    "    print(\"Running script directly\")\n",
    "\n",
    "if __name__ == \"__main__\":\n",
    "    main()"
   ]
  },
  {
   "cell_type": "markdown",
   "id": "4d7a5c9f-8e7f-4a6c-a013-cae700d36e1c",
   "metadata": {},
   "source": [
    "If you run this script directly, it will output \"Running script directly\". However, if you import it as a module into another script and call the main function from the imported module, it will not output anything:"
   ]
  },
  {
   "cell_type": "raw",
   "id": "f001935c-5349-4fe4-a3c4-8d7e60a966e5",
   "metadata": {},
   "source": [
    "import script\n",
    "\n",
    "script.main()  # Output: \"Running script directly\""
   ]
  },
  {
   "cell_type": "markdown",
   "id": "5d661828-933f-43b3-b65b-139d5d27473f",
   "metadata": {},
   "source": [
    "# Is it a necessity?"
   ]
  },
  {
   "cell_type": "markdown",
   "id": "2dff11d4-2767-462d-9a90-96ca9c00ec1d",
   "metadata": {},
   "source": [
    "It's important to note that the if __name__ == \"__main__\" idiom is not required to run a Python script. You can still run a script without it by simply calling the functions or running the code you want to execute directly. However, the if __name__ == \"__main__\" idiom can be a useful tool for organizing and separating code that should be run directly from code that should be imported and used as a module.\n",
    "\n"
   ]
  },
  {
   "cell_type": "markdown",
   "id": "82551b49-f1b1-42fb-bc54-4c065b21f202",
   "metadata": {},
   "source": [
    "In summary, the if __name__ == \"__main__\" idiom is a common pattern used in Python scripts to determine whether the script is being run directly or being imported as a module into another script. It allows you to reuse code from a script by importing it as a module into another script, without running the code in the original script."
   ]
  },
  {
   "cell_type": "markdown",
   "id": "363fbea1-26ea-46df-b0a4-014b2aa48ac7",
   "metadata": {},
   "source": [
    "# Code"
   ]
  },
  {
   "cell_type": "code",
   "execution_count": 10,
   "id": "4f00d054-9620-4f41-966f-1eb7aea9cd0a",
   "metadata": {},
   "outputs": [
    {
     "name": "stdout",
     "output_type": "stream",
     "text": [
      "Hey you are welcome from harry\n"
     ]
    }
   ],
   "source": [
    "def welcome():\n",
    "  print(\"Hey you are welcome from harry\")\n",
    "\n",
    "# print(__name__)\n",
    "\n",
    "if __name__ == \"__main__\":\n",
    "  welcome()"
   ]
  }
 ],
 "metadata": {
  "kernelspec": {
   "display_name": "Python 3 (ipykernel)",
   "language": "python",
   "name": "python3"
  },
  "language_info": {
   "codemirror_mode": {
    "name": "ipython",
    "version": 3
   },
   "file_extension": ".py",
   "mimetype": "text/x-python",
   "name": "python",
   "nbconvert_exporter": "python",
   "pygments_lexer": "ipython3",
   "version": "3.11.4"
  }
 },
 "nbformat": 4,
 "nbformat_minor": 5
}
