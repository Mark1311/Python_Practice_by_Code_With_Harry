{
 "cells": [
  {
   "cell_type": "markdown",
   "id": "a79e82c5-efbd-48a9-83e5-9bbe62edd8d9",
   "metadata": {},
   "source": [
    "# If ... Else in One Line"
   ]
  },
  {
   "cell_type": "markdown",
   "id": "d9c26cd1-18b8-4729-a27c-900f867f6aed",
   "metadata": {},
   "source": [
    "There is also a shorthand syntax for the if-else statement that can be used when the condition being tested is simple and the code blocks to be executed are short. Here's an example:"
   ]
  },
  {
   "cell_type": "code",
   "execution_count": 1,
   "id": "54a9aeb8-091a-4197-9e4b-873d31c9d7a8",
   "metadata": {},
   "outputs": [
    {
     "name": "stdout",
     "output_type": "stream",
     "text": [
      "B\n"
     ]
    }
   ],
   "source": [
    "a = 2\n",
    "b = 330\n",
    "print(\"A\") if a > b else print(\"B\")"
   ]
  },
  {
   "cell_type": "markdown",
   "id": "cb977013-bc75-4e92-a84c-3040d85e08f6",
   "metadata": {},
   "source": [
    "# One line if else statement, with 3 conditions:\n"
   ]
  },
  {
   "cell_type": "code",
   "execution_count": 2,
   "id": "6f8e64e7-ebb2-4e2e-b074-ec2b2adea55f",
   "metadata": {},
   "outputs": [
    {
     "name": "stdout",
     "output_type": "stream",
     "text": [
      "=\n"
     ]
    }
   ],
   "source": [
    "a = 330\n",
    "b = 330\n",
    "print(\"A\") if a > b else print(\"=\") if a == b else print(\"B\")"
   ]
  },
  {
   "cell_type": "markdown",
   "id": "8113be06-cb09-432a-a353-4529c299d379",
   "metadata": {},
   "source": [
    "### Syntax"
   ]
  },
  {
   "cell_type": "raw",
   "id": "c1eaec14-c305-41b0-a657-31d9f2f5d994",
   "metadata": {},
   "source": [
    "result = value_if_true if condition else value_if_false"
   ]
  },
  {
   "cell_type": "raw",
   "id": "705f6c38-9d59-4c89-bec1-277265a05fcc",
   "metadata": {},
   "source": [
    "if condition:\n",
    "    result = value_if_true\n",
    "else:\n",
    "    result = value_if_false"
   ]
  },
  {
   "cell_type": "markdown",
   "id": "ac75d0ab-3be6-4fe6-9755-9c7b279c3104",
   "metadata": {},
   "source": [
    "# Conclusion"
   ]
  },
  {
   "cell_type": "markdown",
   "id": "69316072-b104-450c-b818-e76335b7c4d9",
   "metadata": {},
   "source": [
    "The shorthand syntax can be a convenient way to write simple if-else statements, especially when you want to assign a value to a variable based on a condition.\n",
    "However, it's not suitable for more complex situations where you need to execute multiple statements or perform more complex logic. In those cases, it's best to use the full if-else syntax."
   ]
  },
  {
   "cell_type": "markdown",
   "id": "54bd7cb0-6663-4e9c-9e2c-33eda16d22ab",
   "metadata": {},
   "source": [
    "# Code"
   ]
  },
  {
   "cell_type": "code",
   "execution_count": 4,
   "id": "861da124-f9e6-4b51-a971-0abbe233e10a",
   "metadata": {},
   "outputs": [
    {
     "name": "stdout",
     "output_type": "stream",
     "text": [
      "A\n",
      "9\n"
     ]
    }
   ],
   "source": [
    "a = 330000\n",
    "b = 3303\n",
    "print(\"A\") if a > b else print(\"=\") if a == b else print(\"B\")\n",
    "\n",
    "c = 9 if a>b else 0\n",
    "print(c)"
   ]
  }
 ],
 "metadata": {
  "kernelspec": {
   "display_name": "Python 3 (ipykernel)",
   "language": "python",
   "name": "python3"
  },
  "language_info": {
   "codemirror_mode": {
    "name": "ipython",
    "version": 3
   },
   "file_extension": ".py",
   "mimetype": "text/x-python",
   "name": "python",
   "nbconvert_exporter": "python",
   "pygments_lexer": "ipython3",
   "version": "3.11.4"
  }
 },
 "nbformat": 4,
 "nbformat_minor": 5
}
