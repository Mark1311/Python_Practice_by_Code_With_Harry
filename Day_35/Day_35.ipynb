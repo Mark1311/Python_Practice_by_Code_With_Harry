{
 "cells": [
  {
   "cell_type": "markdown",
   "id": "ba152a5d-9182-47bc-ad86-08c5c992ed31",
   "metadata": {},
   "source": [
    "# Python - else in Loop"
   ]
  },
  {
   "cell_type": "markdown",
   "id": "22ad667d-449a-4b74-a820-f3b97ee46860",
   "metadata": {},
   "source": [
    "As you have learned before, the else clause is used along with the if statement.\n",
    "\n",
    "Python allows the else keyword to be used with the for and while loops too. The else block appears after the body of the loop. The statements in the else block will be executed after all iterations are completed. The program exits the loop only after the else block is executed."
   ]
  },
  {
   "cell_type": "markdown",
   "id": "e690f17a-dc60-4d58-887e-7ddc0f99d5c3",
   "metadata": {},
   "source": [
    "# Syntax"
   ]
  },
  {
   "cell_type": "raw",
   "id": "f118341f-c36a-4000-aa05-4477cb562e6e",
   "metadata": {},
   "source": [
    "for counter in sequence:\n",
    "    #Statements inside for loop block\n",
    "else:\n",
    "    #Statements inside else block"
   ]
  },
  {
   "cell_type": "markdown",
   "id": "ae4bedb6-889a-4210-87e9-a451177c5831",
   "metadata": {},
   "source": [
    "# Example"
   ]
  },
  {
   "cell_type": "code",
   "execution_count": 1,
   "id": "bf671d62-fa77-47f8-aa57-36350e117d3d",
   "metadata": {},
   "outputs": [
    {
     "name": "stdout",
     "output_type": "stream",
     "text": [
      "iteration no 1 in for loop\n",
      "iteration no 2 in for loop\n",
      "iteration no 3 in for loop\n",
      "iteration no 4 in for loop\n",
      "iteration no 5 in for loop\n",
      "else block in loop\n",
      "Out of loop\n"
     ]
    }
   ],
   "source": [
    "for x in range(5):\n",
    "    print (\"iteration no {} in for loop\".format(x+1))\n",
    "else:\n",
    "    print (\"else block in loop\")\n",
    "print (\"Out of loop\")"
   ]
  },
  {
   "cell_type": "markdown",
   "id": "f0b414ca-107a-4938-94b2-e938aca734ce",
   "metadata": {},
   "source": [
    "# Code"
   ]
  },
  {
   "cell_type": "code",
   "execution_count": 5,
   "id": "fbef5815-f9c1-4b27-b52e-243d8b0d815f",
   "metadata": {},
   "outputs": [
    {
     "name": "stdout",
     "output_type": "stream",
     "text": [
      "0\n",
      "1\n",
      "2\n",
      "3\n",
      "4\n",
      "5\n",
      "6\n",
      "Sorry no i\n"
     ]
    }
   ],
   "source": [
    "i = 0\n",
    "while i<7:\n",
    "  print(i)\n",
    "  i = i + 1\n",
    "  # if i == 4:\n",
    "  #   break\n",
    "\n",
    "else:\n",
    "  print(\"Sorry no i\")"
   ]
  },
  {
   "cell_type": "code",
   "execution_count": 6,
   "id": "1ccc150a-af3c-4730-a343-116d06a3a4e9",
   "metadata": {},
   "outputs": [
    {
     "name": "stdout",
     "output_type": "stream",
     "text": [
      "iteration no 1 in for loop\n",
      "iteration no 2 in for loop\n",
      "iteration no 3 in for loop\n",
      "iteration no 4 in for loop\n",
      "iteration no 5 in for loop\n",
      "else block in loop\n",
      "Out of loop\n"
     ]
    }
   ],
   "source": [
    "for x in range(5):\n",
    "    print (\"iteration no {} in for loop\".format(x+1))\n",
    "else:\n",
    "    print (\"else block in loop\")\n",
    "print (\"Out of loop\")"
   ]
  }
 ],
 "metadata": {
  "kernelspec": {
   "display_name": "Python 3 (ipykernel)",
   "language": "python",
   "name": "python3"
  },
  "language_info": {
   "codemirror_mode": {
    "name": "ipython",
    "version": 3
   },
   "file_extension": ".py",
   "mimetype": "text/x-python",
   "name": "python",
   "nbconvert_exporter": "python",
   "pygments_lexer": "ipython3",
   "version": "3.11.4"
  }
 },
 "nbformat": 4,
 "nbformat_minor": 5
}
